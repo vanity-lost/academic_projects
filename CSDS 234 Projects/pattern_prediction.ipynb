{
 "cells": [
  {
   "cell_type": "code",
   "execution_count": 1,
   "metadata": {},
   "outputs": [],
   "source": [
    "import pandas as pd\n",
    "import seaborn as sns\n",
    "import matplotlib.pyplot as plt\n",
    "import numpy as np\n",
    "import datetime\n",
    "from tqdm import tqdm\n",
    "from sklearn.linear_model import LogisticRegression\n",
    "from sklearn.neighbors import KNeighborsClassifier\n",
    "from sklearn.metrics.pairwise import cosine_similarity\n",
    "from sklearn.preprocessing import OneHotEncoder\n",
    "from sklearn.preprocessing import MinMaxScaler\n",
    "from sklearn.model_selection import train_test_split\n",
    "from sklearn.model_selection import KFold\n",
    "from sklearn.feature_selection import RFECV\n",
    "from sklearn.model_selection import GridSearchCV\n",
    "from sklearn.model_selection import cross_val_score\n",
    "from tqdm.notebook import tqdm\n",
    "\n",
    "tqdm.pandas()"
   ]
  },
  {
   "cell_type": "code",
   "execution_count": 2,
   "metadata": {},
   "outputs": [
    {
     "data": {
      "text/plain": [
       "['encoder.joblib']"
      ]
     },
     "execution_count": 2,
     "metadata": {},
     "output_type": "execute_result"
    }
   ],
   "source": [
    "from joblib import dump, load\n",
    "\n",
    "encoder = OneHotEncoder(sparse=False)\n",
    "products = pd.read_feather('./Data/products.ftr')\n",
    "\n",
    "temp = products[['product_id', 'group']].set_index('product_id')\n",
    "temp = temp.join(temp, how='outer', lsuffix='1', rsuffix='2').reset_index(drop=True)\n",
    "encoder = encoder.fit(temp)\n",
    "dump(encoder, 'encoder.joblib') "
   ]
  },
  {
   "cell_type": "code",
   "execution_count": 3,
   "metadata": {},
   "outputs": [
    {
     "data": {
      "text/plain": [
       "Index(['title1', 'group1', 'salesrank1', 'co_purchased_num1', 'categories1',\n",
       "       'reviews_num1', 'avg_rate1', 'first_rating_time1', 'last_rating_time1',\n",
       "       'highest_rate1', 'lowest_rate1', 'title2', 'group2', 'salesrank2',\n",
       "       'co_purchased_num2', 'categories2', 'reviews_num2', 'avg_rate2',\n",
       "       'first_rating_time2', 'last_rating_time2', 'highest_rate2',\n",
       "       'lowest_rate2', 'label'],\n",
       "      dtype='object')"
      ]
     },
     "execution_count": 3,
     "metadata": {},
     "output_type": "execute_result"
    }
   ],
   "source": [
    "dataset = pd.read_feather('./Data/dataset.ftr')\n",
    "dataset.columns"
   ]
  },
  {
   "cell_type": "code",
   "execution_count": 4,
   "metadata": {},
   "outputs": [],
   "source": [
    "dataset['sales_diff'] = dataset['salesrank1'] - dataset['salesrank2']\n",
    "dataset['co_purchased_diff'] = dataset['co_purchased_num1'] - dataset['co_purchased_num2']\n",
    "\n",
    "dataset['reviews_num_diff'] = dataset['reviews_num1'] - dataset['reviews_num2']\n",
    "dataset['avg_rating_diff'] = dataset['avg_rate1'] - dataset['avg_rate2']\n",
    "dataset['first_time_diff'] = dataset['first_rating_time1'] - dataset['first_rating_time2']\n",
    "dataset['last_time_diff'] = dataset['last_rating_time1'] - dataset['last_rating_time2']\n",
    "dataset['highest_rating_diff'] = dataset['highest_rate1'] - dataset['highest_rate2']\n",
    "dataset['lowest_rating_diff'] = dataset['lowest_rate1'] - dataset['lowest_rate2']"
   ]
  },
  {
   "cell_type": "code",
   "execution_count": 5,
   "metadata": {},
   "outputs": [
    {
     "data": {
      "application/vnd.jupyter.widget-view+json": {
       "model_id": "e3cd07a833614caebbbc41f4d6c7e049",
       "version_major": 2,
       "version_minor": 0
      },
      "text/plain": [
       "  0%|          | 0/2013128 [00:00<?, ?it/s]"
      ]
     },
     "metadata": {},
     "output_type": "display_data"
    }
   ],
   "source": [
    "def calc_categ_simi(set1, set2):\n",
    "    join = set1 | set2\n",
    "    return len(set1 & set2) / len(join) if len(join) != 0 else 0\n",
    "dataset['categ_simi'] = dataset.progress_apply(lambda x: \n",
    "    calc_categ_simi(set(x['categories1']), set(x['categories2'])), axis=1)\n",
    "\n",
    "dataset.drop(columns=['categories1', 'categories2'], inplace=True)\n",
    "dataset.drop(columns=['title1', 'title2'], inplace=True)"
   ]
  },
  {
   "cell_type": "code",
   "execution_count": 6,
   "metadata": {},
   "outputs": [
    {
     "data": {
      "text/plain": [
       "(2013128, 28)"
      ]
     },
     "execution_count": 6,
     "metadata": {},
     "output_type": "execute_result"
    }
   ],
   "source": [
    "dataset.shape"
   ]
  },
  {
   "cell_type": "code",
   "execution_count": 7,
   "metadata": {},
   "outputs": [],
   "source": [
    "from joblib import dump, load\n",
    "encoder = load('encoder.joblib') \n",
    "\n",
    "X = pd.concat([pd.DataFrame(MinMaxScaler().fit_transform(dataset.drop(columns=['group1', 'group2', 'label']))), \n",
    "               pd.DataFrame(encoder.transform(dataset[['group1', 'group2']]))], axis=1)\n",
    "cols = list(dataset.drop(columns=['group1', 'group2', 'label']).columns)\n",
    "cols.extend(list(encoder.get_feature_names_out(['group1', 'group2'])))\n",
    "X.columns = cols\n",
    "\n",
    "y = dataset['label']"
   ]
  },
  {
   "cell_type": "code",
   "execution_count": 8,
   "metadata": {},
   "outputs": [
    {
     "data": {
      "text/plain": [
       "Index(['salesrank1', 'co_purchased_num1', 'reviews_num1', 'avg_rate1',\n",
       "       'first_rating_time1', 'last_rating_time1', 'highest_rate1',\n",
       "       'lowest_rate1', 'salesrank2', 'co_purchased_num2', 'reviews_num2',\n",
       "       'avg_rate2', 'first_rating_time2', 'last_rating_time2', 'highest_rate2',\n",
       "       'lowest_rate2', 'sales_diff', 'co_purchased_diff', 'reviews_num_diff',\n",
       "       'avg_rating_diff', 'first_time_diff', 'last_time_diff',\n",
       "       'highest_rating_diff', 'lowest_rating_diff', 'categ_simi',\n",
       "       'group1_Baby Product', 'group1_Book', 'group1_CE', 'group1_DVD',\n",
       "       'group1_Music', 'group1_Software', 'group1_Sports', 'group1_Toy',\n",
       "       'group1_Video', 'group1_Video Games', 'group2_Baby Product',\n",
       "       'group2_Book', 'group2_CE', 'group2_DVD', 'group2_Music',\n",
       "       'group2_Software', 'group2_Sports', 'group2_Toy', 'group2_Video',\n",
       "       'group2_Video Games'],\n",
       "      dtype='object')"
      ]
     },
     "execution_count": 8,
     "metadata": {},
     "output_type": "execute_result"
    }
   ],
   "source": [
    "X.columns"
   ]
  },
  {
   "cell_type": "code",
   "execution_count": 9,
   "metadata": {},
   "outputs": [],
   "source": [
    "kfold = KFold(n_splits=5, shuffle=True, random_state=12345)"
   ]
  },
  {
   "cell_type": "code",
   "execution_count": 10,
   "metadata": {},
   "outputs": [
    {
     "name": "stderr",
     "output_type": "stream",
     "text": [
      "C:\\Users\\rando\\AppData\\Roaming\\Python\\Python38\\site-packages\\sklearn\\base.py:441: UserWarning: X does not have valid feature names, but RFECV was fitted with feature names\n",
      "  warnings.warn(\n"
     ]
    },
    {
     "data": {
      "text/plain": [
       "RFECV(cv=KFold(n_splits=5, random_state=12345, shuffle=True),\n",
       "      estimator=LogisticRegression(random_state=12345, solver='sag'),\n",
       "      min_features_to_select=5, n_jobs=-1, scoring='accuracy')"
      ]
     },
     "execution_count": 10,
     "metadata": {},
     "output_type": "execute_result"
    }
   ],
   "source": [
    "reg = LogisticRegression(random_state=12345, solver='sag')\n",
    "\n",
    "rfecv = RFECV(\n",
    "    estimator=reg,\n",
    "    cv=kfold,\n",
    "    scoring=\"accuracy\",\n",
    "    min_features_to_select=5,\n",
    "    n_jobs=-1\n",
    ")\n",
    "rfecv.fit(X, y)"
   ]
  },
  {
   "cell_type": "code",
   "execution_count": 11,
   "metadata": {},
   "outputs": [
    {
     "data": {
      "image/png": "[encoded data removed]",
      "text/plain": [
       "<Figure size 432x288 with 1 Axes>"
      ]
     },
     "metadata": {
      "needs_background": "light"
     },
     "output_type": "display_data"
    }
   ],
   "source": [
    "plt.plot(range(5, len(X.columns)+1), rfecv.cv_results_['mean_test_score'])\n",
    "plt.title('RFE feature selection')\n",
    "plt.xlabel('number of used features')\n",
    "plt.ylabel('accuracy')\n",
    "plt.show()"
   ]
  },
  {
   "cell_type": "code",
   "execution_count": 12,
   "metadata": {},
   "outputs": [
    {
     "data": {
      "text/plain": [
       "array([ True,  True,  True, False, False, False, False, False,  True,\n",
       "        True,  True,  True,  True,  True, False, False,  True, False,\n",
       "        True,  True, False, False,  True,  True,  True, False,  True,\n",
       "       False, False,  True,  True, False, False, False, False, False,\n",
       "       False, False, False, False, False, False,  True,  True, False])"
      ]
     },
     "execution_count": 12,
     "metadata": {},
     "output_type": "execute_result"
    }
   ],
   "source": [
    "rfecv.support_"
   ]
  },
  {
   "cell_type": "code",
   "execution_count": 13,
   "metadata": {},
   "outputs": [
    {
     "data": {
      "text/html": [
       "<div>\n",
       "<style scoped>\n",
       "    .dataframe tbody tr th:only-of-type {\n",
       "        vertical-align: middle;\n",
       "    }\n",
       "\n",
       "    .dataframe tbody tr th {\n",
       "        vertical-align: top;\n",
       "    }\n",
       "\n",
       "    .dataframe thead th {\n",
       "        text-align: right;\n",
       "    }\n",
       "</style>\n",
       "<table border=\"1\" class=\"dataframe\">\n",
       "  <thead>\n",
       "    <tr style=\"text-align: right;\">\n",
       "      <th></th>\n",
       "      <th>salesrank1</th>\n",
       "      <th>co_purchased_num1</th>\n",
       "      <th>reviews_num1</th>\n",
       "      <th>salesrank2</th>\n",
       "      <th>co_purchased_num2</th>\n",
       "      <th>reviews_num2</th>\n",
       "      <th>avg_rate2</th>\n",
       "      <th>first_rating_time2</th>\n",
       "      <th>last_rating_time2</th>\n",
       "      <th>sales_diff</th>\n",
       "      <th>reviews_num_diff</th>\n",
       "      <th>avg_rating_diff</th>\n",
       "      <th>highest_rating_diff</th>\n",
       "      <th>lowest_rating_diff</th>\n",
       "      <th>categ_simi</th>\n",
       "      <th>group1_Book</th>\n",
       "      <th>group1_Music</th>\n",
       "      <th>group1_Software</th>\n",
       "      <th>group2_Toy</th>\n",
       "      <th>group2_Video</th>\n",
       "    </tr>\n",
       "  </thead>\n",
       "  <tbody>\n",
       "    <tr>\n",
       "      <th>0</th>\n",
       "      <td>0.126857</td>\n",
       "      <td>1.0</td>\n",
       "      <td>0.000200</td>\n",
       "      <td>0.027892</td>\n",
       "      <td>1.0</td>\n",
       "      <td>0.000400</td>\n",
       "      <td>0.875</td>\n",
       "      <td>0.838308</td>\n",
       "      <td>0.887106</td>\n",
       "      <td>0.565166</td>\n",
       "      <td>0.595846</td>\n",
       "      <td>0.5625</td>\n",
       "      <td>0.5</td>\n",
       "      <td>0.625</td>\n",
       "      <td>0.666667</td>\n",
       "      <td>1.0</td>\n",
       "      <td>0.0</td>\n",
       "      <td>0.0</td>\n",
       "      <td>0.0</td>\n",
       "      <td>0.0</td>\n",
       "    </tr>\n",
       "    <tr>\n",
       "      <th>1</th>\n",
       "      <td>0.126857</td>\n",
       "      <td>1.0</td>\n",
       "      <td>0.000200</td>\n",
       "      <td>0.027505</td>\n",
       "      <td>1.0</td>\n",
       "      <td>0.002603</td>\n",
       "      <td>0.875</td>\n",
       "      <td>0.809732</td>\n",
       "      <td>0.985888</td>\n",
       "      <td>0.565366</td>\n",
       "      <td>0.594533</td>\n",
       "      <td>0.5625</td>\n",
       "      <td>0.5</td>\n",
       "      <td>0.625</td>\n",
       "      <td>0.538462</td>\n",
       "      <td>1.0</td>\n",
       "      <td>0.0</td>\n",
       "      <td>0.0</td>\n",
       "      <td>0.0</td>\n",
       "      <td>0.0</td>\n",
       "    </tr>\n",
       "    <tr>\n",
       "      <th>2</th>\n",
       "      <td>0.126857</td>\n",
       "      <td>1.0</td>\n",
       "      <td>0.000200</td>\n",
       "      <td>0.019373</td>\n",
       "      <td>1.0</td>\n",
       "      <td>0.000601</td>\n",
       "      <td>0.875</td>\n",
       "      <td>0.841403</td>\n",
       "      <td>0.725235</td>\n",
       "      <td>0.569582</td>\n",
       "      <td>0.595727</td>\n",
       "      <td>0.5625</td>\n",
       "      <td>0.5</td>\n",
       "      <td>0.750</td>\n",
       "      <td>0.777778</td>\n",
       "      <td>1.0</td>\n",
       "      <td>0.0</td>\n",
       "      <td>0.0</td>\n",
       "      <td>0.0</td>\n",
       "      <td>0.0</td>\n",
       "    </tr>\n",
       "    <tr>\n",
       "      <th>3</th>\n",
       "      <td>0.126857</td>\n",
       "      <td>1.0</td>\n",
       "      <td>0.000200</td>\n",
       "      <td>0.212221</td>\n",
       "      <td>1.0</td>\n",
       "      <td>0.000400</td>\n",
       "      <td>0.500</td>\n",
       "      <td>0.863629</td>\n",
       "      <td>0.776148</td>\n",
       "      <td>0.469619</td>\n",
       "      <td>0.595846</td>\n",
       "      <td>0.7500</td>\n",
       "      <td>0.5</td>\n",
       "      <td>1.000</td>\n",
       "      <td>0.666667</td>\n",
       "      <td>1.0</td>\n",
       "      <td>0.0</td>\n",
       "      <td>0.0</td>\n",
       "      <td>0.0</td>\n",
       "      <td>0.0</td>\n",
       "    </tr>\n",
       "    <tr>\n",
       "      <th>4</th>\n",
       "      <td>0.053930</td>\n",
       "      <td>1.0</td>\n",
       "      <td>0.002203</td>\n",
       "      <td>0.092943</td>\n",
       "      <td>1.0</td>\n",
       "      <td>0.001802</td>\n",
       "      <td>0.750</td>\n",
       "      <td>0.900222</td>\n",
       "      <td>0.965412</td>\n",
       "      <td>0.496158</td>\n",
       "      <td>0.596204</td>\n",
       "      <td>0.5625</td>\n",
       "      <td>0.5</td>\n",
       "      <td>0.375</td>\n",
       "      <td>0.545455</td>\n",
       "      <td>1.0</td>\n",
       "      <td>0.0</td>\n",
       "      <td>0.0</td>\n",
       "      <td>0.0</td>\n",
       "      <td>0.0</td>\n",
       "    </tr>\n",
       "    <tr>\n",
       "      <th>...</th>\n",
       "      <td>...</td>\n",
       "      <td>...</td>\n",
       "      <td>...</td>\n",
       "      <td>...</td>\n",
       "      <td>...</td>\n",
       "      <td>...</td>\n",
       "      <td>...</td>\n",
       "      <td>...</td>\n",
       "      <td>...</td>\n",
       "      <td>...</td>\n",
       "      <td>...</td>\n",
       "      <td>...</td>\n",
       "      <td>...</td>\n",
       "      <td>...</td>\n",
       "      <td>...</td>\n",
       "      <td>...</td>\n",
       "      <td>...</td>\n",
       "      <td>...</td>\n",
       "      <td>...</td>\n",
       "      <td>...</td>\n",
       "    </tr>\n",
       "    <tr>\n",
       "      <th>2013123</th>\n",
       "      <td>0.001203</td>\n",
       "      <td>1.0</td>\n",
       "      <td>0.060873</td>\n",
       "      <td>0.028058</td>\n",
       "      <td>1.0</td>\n",
       "      <td>0.000000</td>\n",
       "      <td>1.000</td>\n",
       "      <td>0.958406</td>\n",
       "      <td>0.851688</td>\n",
       "      <td>0.504277</td>\n",
       "      <td>0.632251</td>\n",
       "      <td>0.4375</td>\n",
       "      <td>0.5</td>\n",
       "      <td>0.000</td>\n",
       "      <td>0.024691</td>\n",
       "      <td>0.0</td>\n",
       "      <td>0.0</td>\n",
       "      <td>0.0</td>\n",
       "      <td>0.0</td>\n",
       "      <td>0.0</td>\n",
       "    </tr>\n",
       "    <tr>\n",
       "      <th>2013124</th>\n",
       "      <td>0.001203</td>\n",
       "      <td>1.0</td>\n",
       "      <td>0.060873</td>\n",
       "      <td>0.038232</td>\n",
       "      <td>1.0</td>\n",
       "      <td>0.001001</td>\n",
       "      <td>0.750</td>\n",
       "      <td>0.825290</td>\n",
       "      <td>0.666851</td>\n",
       "      <td>0.499003</td>\n",
       "      <td>0.631654</td>\n",
       "      <td>0.5625</td>\n",
       "      <td>0.5</td>\n",
       "      <td>0.250</td>\n",
       "      <td>0.012658</td>\n",
       "      <td>0.0</td>\n",
       "      <td>0.0</td>\n",
       "      <td>0.0</td>\n",
       "      <td>0.0</td>\n",
       "      <td>0.0</td>\n",
       "    </tr>\n",
       "    <tr>\n",
       "      <th>2013125</th>\n",
       "      <td>0.001203</td>\n",
       "      <td>1.0</td>\n",
       "      <td>0.060873</td>\n",
       "      <td>0.230050</td>\n",
       "      <td>0.4</td>\n",
       "      <td>0.000000</td>\n",
       "      <td>1.000</td>\n",
       "      <td>0.986903</td>\n",
       "      <td>0.951024</td>\n",
       "      <td>0.399574</td>\n",
       "      <td>0.632251</td>\n",
       "      <td>0.4375</td>\n",
       "      <td>0.5</td>\n",
       "      <td>0.000</td>\n",
       "      <td>0.012658</td>\n",
       "      <td>0.0</td>\n",
       "      <td>0.0</td>\n",
       "      <td>0.0</td>\n",
       "      <td>0.0</td>\n",
       "      <td>0.0</td>\n",
       "    </tr>\n",
       "    <tr>\n",
       "      <th>2013126</th>\n",
       "      <td>0.001203</td>\n",
       "      <td>1.0</td>\n",
       "      <td>0.060873</td>\n",
       "      <td>0.052538</td>\n",
       "      <td>1.0</td>\n",
       "      <td>0.021025</td>\n",
       "      <td>1.000</td>\n",
       "      <td>0.756549</td>\n",
       "      <td>0.994189</td>\n",
       "      <td>0.491588</td>\n",
       "      <td>0.619718</td>\n",
       "      <td>0.4375</td>\n",
       "      <td>0.5</td>\n",
       "      <td>0.250</td>\n",
       "      <td>0.023256</td>\n",
       "      <td>0.0</td>\n",
       "      <td>0.0</td>\n",
       "      <td>0.0</td>\n",
       "      <td>0.0</td>\n",
       "      <td>0.0</td>\n",
       "    </tr>\n",
       "    <tr>\n",
       "      <th>2013127</th>\n",
       "      <td>0.001203</td>\n",
       "      <td>1.0</td>\n",
       "      <td>0.060873</td>\n",
       "      <td>0.291261</td>\n",
       "      <td>0.0</td>\n",
       "      <td>0.000801</td>\n",
       "      <td>0.625</td>\n",
       "      <td>0.853786</td>\n",
       "      <td>0.671278</td>\n",
       "      <td>0.367846</td>\n",
       "      <td>0.631774</td>\n",
       "      <td>0.6250</td>\n",
       "      <td>0.5</td>\n",
       "      <td>0.500</td>\n",
       "      <td>0.012195</td>\n",
       "      <td>0.0</td>\n",
       "      <td>0.0</td>\n",
       "      <td>0.0</td>\n",
       "      <td>0.0</td>\n",
       "      <td>0.0</td>\n",
       "    </tr>\n",
       "  </tbody>\n",
       "</table>\n",
       "<p>2013128 rows × 20 columns</p>\n",
       "</div>"
      ],
      "text/plain": [
       "         salesrank1  co_purchased_num1  reviews_num1  salesrank2  \\\n",
       "0          0.126857                1.0      0.000200    0.027892   \n",
       "1          0.126857                1.0      0.000200    0.027505   \n",
       "2          0.126857                1.0      0.000200    0.019373   \n",
       "3          0.126857                1.0      0.000200    0.212221   \n",
       "4          0.053930                1.0      0.002203    0.092943   \n",
       "...             ...                ...           ...         ...   \n",
       "2013123    0.001203                1.0      0.060873    0.028058   \n",
       "2013124    0.001203                1.0      0.060873    0.038232   \n",
       "2013125    0.001203                1.0      0.060873    0.230050   \n",
       "2013126    0.001203                1.0      0.060873    0.052538   \n",
       "2013127    0.001203                1.0      0.060873    0.291261   \n",
       "\n",
       "         co_purchased_num2  reviews_num2  avg_rate2  first_rating_time2  \\\n",
       "0                      1.0      0.000400      0.875            0.838308   \n",
       "1                      1.0      0.002603      0.875            0.809732   \n",
       "2                      1.0      0.000601      0.875            0.841403   \n",
       "3                      1.0      0.000400      0.500            0.863629   \n",
       "4                      1.0      0.001802      0.750            0.900222   \n",
       "...                    ...           ...        ...                 ...   \n",
       "2013123                1.0      0.000000      1.000            0.958406   \n",
       "2013124                1.0      0.001001      0.750            0.825290   \n",
       "2013125                0.4      0.000000      1.000            0.986903   \n",
       "2013126                1.0      0.021025      1.000            0.756549   \n",
       "2013127                0.0      0.000801      0.625            0.853786   \n",
       "\n",
       "         last_rating_time2  sales_diff  reviews_num_diff  avg_rating_diff  \\\n",
       "0                 0.887106    0.565166          0.595846           0.5625   \n",
       "1                 0.985888    0.565366          0.594533           0.5625   \n",
       "2                 0.725235    0.569582          0.595727           0.5625   \n",
       "3                 0.776148    0.469619          0.595846           0.7500   \n",
       "4                 0.965412    0.496158          0.596204           0.5625   \n",
       "...                    ...         ...               ...              ...   \n",
       "2013123           0.851688    0.504277          0.632251           0.4375   \n",
       "2013124           0.666851    0.499003          0.631654           0.5625   \n",
       "2013125           0.951024    0.399574          0.632251           0.4375   \n",
       "2013126           0.994189    0.491588          0.619718           0.4375   \n",
       "2013127           0.671278    0.367846          0.631774           0.6250   \n",
       "\n",
       "         highest_rating_diff  lowest_rating_diff  categ_simi  group1_Book  \\\n",
       "0                        0.5               0.625    0.666667          1.0   \n",
       "1                        0.5               0.625    0.538462          1.0   \n",
       "2                        0.5               0.750    0.777778          1.0   \n",
       "3                        0.5               1.000    0.666667          1.0   \n",
       "4                        0.5               0.375    0.545455          1.0   \n",
       "...                      ...                 ...         ...          ...   \n",
       "2013123                  0.5               0.000    0.024691          0.0   \n",
       "2013124                  0.5               0.250    0.012658          0.0   \n",
       "2013125                  0.5               0.000    0.012658          0.0   \n",
       "2013126                  0.5               0.250    0.023256          0.0   \n",
       "2013127                  0.5               0.500    0.012195          0.0   \n",
       "\n",
       "         group1_Music  group1_Software  group2_Toy  group2_Video  \n",
       "0                 0.0              0.0         0.0           0.0  \n",
       "1                 0.0              0.0         0.0           0.0  \n",
       "2                 0.0              0.0         0.0           0.0  \n",
       "3                 0.0              0.0         0.0           0.0  \n",
       "4                 0.0              0.0         0.0           0.0  \n",
       "...               ...              ...         ...           ...  \n",
       "2013123           0.0              0.0         0.0           0.0  \n",
       "2013124           0.0              0.0         0.0           0.0  \n",
       "2013125           0.0              0.0         0.0           0.0  \n",
       "2013126           0.0              0.0         0.0           0.0  \n",
       "2013127           0.0              0.0         0.0           0.0  \n",
       "\n",
       "[2013128 rows x 20 columns]"
      ]
     },
     "execution_count": 13,
     "metadata": {},
     "output_type": "execute_result"
    }
   ],
   "source": [
    "X[X.columns[rfecv.support_]]"
   ]
  },
  {
   "cell_type": "code",
   "execution_count": 14,
   "metadata": {},
   "outputs": [],
   "source": [
    "X = X[X.columns[rfecv.support_]]"
   ]
  },
  {
   "cell_type": "code",
   "execution_count": 15,
   "metadata": {},
   "outputs": [],
   "source": [
    "X.to_feather('./Data/X.ftr')\n",
    "pd.DataFrame(dataset['label']).to_feather('./Data/y.ftr')"
   ]
  },
  {
   "cell_type": "code",
   "execution_count": 16,
   "metadata": {},
   "outputs": [
    {
     "name": "stdout",
     "output_type": "stream",
     "text": [
      "Fitting 3 folds for each of 54 candidates, totalling 162 fits\n"
     ]
    },
    {
     "data": {
      "text/plain": [
       "{'C': 0.1, 'max_iter': 1000, 'solver': 'sag', 'tol': 1e-06}"
      ]
     },
     "execution_count": 16,
     "metadata": {},
     "output_type": "execute_result"
    }
   ],
   "source": [
    "base_model = LogisticRegression(random_state=12345, n_jobs=-1)\n",
    "kfold_gridsearchcv = KFold(n_splits=3, shuffle=True, random_state=12345)\n",
    "\n",
    "param_grid = {'tol': [1e-6, 1e-4, 1e-2],\n",
    "              'C': [0.01, 0.1, 1],\n",
    "              'max_iter': [1000, 10000, 100000],\n",
    "              'solver': ['sag', 'saga']}\n",
    "\n",
    "RSCV = GridSearchCV(base_model, param_grid, scoring='accuracy', \n",
    "                    n_jobs=-1, cv=kfold_gridsearchcv, verbose=10)\n",
    "RSCV.fit(X, y)\n",
    "RSCV.best_params_"
   ]
  },
  {
   "cell_type": "code",
   "execution_count": 17,
   "metadata": {},
   "outputs": [
    {
     "data": {
      "text/plain": [
       "0.9281318146369087"
      ]
     },
     "execution_count": 17,
     "metadata": {},
     "output_type": "execute_result"
    }
   ],
   "source": [
    "X_train, X_test, y_train, y_test = train_test_split(X, y, test_size=0.1, random_state=12345)\n",
    "\n",
    "logreg = LogisticRegression(random_state=12345, n_jobs=-1, C=0.1,\n",
    "                            solver='sag', max_iter=1000, tol=1e-06).fit(X_train, y_train)\n",
    "logreg.score(X_test, y_test)"
   ]
  },
  {
   "cell_type": "code",
   "execution_count": 18,
   "metadata": {},
   "outputs": [
    {
     "name": "stdout",
     "output_type": "stream",
     "text": [
      "Result: mean = 0.9270682240091007 with std = 0.00031719938097937413\n"
     ]
    }
   ],
   "source": [
    "model = LogisticRegression(random_state=12345, n_jobs=-1, C=0.1,\n",
    "                            solver='sag', max_iter=1000, tol=1e-06)\n",
    "cv_scores = cross_val_score(model, X, y, cv=kfold, scoring='accuracy', n_jobs=-1)\n",
    "\n",
    "print(f'Result: mean = {cv_scores.mean()} with std = {cv_scores.std()}')"
   ]
  },
  {
   "cell_type": "code",
   "execution_count": 19,
   "metadata": {},
   "outputs": [
    {
     "data": {
      "image/png": "[encoded data removed]",
      "text/plain": [
       "<Figure size 432x288 with 1 Axes>"
      ]
     },
     "metadata": {
      "needs_background": "light"
     },
     "output_type": "display_data"
    }
   ],
   "source": [
    "plt.boxplot(cv_scores)\n",
    "plt.ylabel('Accuracy')\n",
    "plt.title('5-fold cross validation Accuracy')\n",
    "plt.show()"
   ]
  },
  {
   "cell_type": "code",
   "execution_count": 20,
   "metadata": {},
   "outputs": [
    {
     "data": {
      "text/plain": [
       "array([0.92763011, 0.92707873, 0.92683284, 0.92709345, 0.92670599])"
      ]
     },
     "execution_count": 20,
     "metadata": {},
     "output_type": "execute_result"
    }
   ],
   "source": [
    "cv_scores"
   ]
  },
  {
   "cell_type": "code",
   "execution_count": 21,
   "metadata": {},
   "outputs": [
    {
     "data": {
      "text/plain": [
       "['logreg.joblib']"
      ]
     },
     "execution_count": 21,
     "metadata": {},
     "output_type": "execute_result"
    }
   ],
   "source": [
    "from joblib import dump, load\n",
    "logreg = LogisticRegression(random_state=12345, n_jobs=-1, C=0.1,\n",
    "                            solver='sag', max_iter=1000, tol=1e-06).fit(X, y)\n",
    "dump(logreg, 'logreg.joblib') "
   ]
  },
  {
   "cell_type": "code",
   "execution_count": 22,
   "metadata": {},
   "outputs": [
    {
     "data": {
      "text/plain": [
       "array([[ -1.3623693 ,   3.67828072,   1.37244854, -11.83102994,\n",
       "          3.59763324,   2.91956781,   0.82770438,  -1.44733947,\n",
       "          0.82812586,   5.47337824,  -0.92221608,  -1.16119417,\n",
       "          1.24265184,   0.85586039,  16.5706092 ,  -1.46278336,\n",
       "         -1.43705309,   0.09353643,   0.23652191,  -0.86215144]])"
      ]
     },
     "execution_count": 22,
     "metadata": {},
     "output_type": "execute_result"
    }
   ],
   "source": [
    "logreg.coef_"
   ]
  },
  {
   "cell_type": "code",
   "execution_count": 23,
   "metadata": {},
   "outputs": [
    {
     "data": {
      "image/png": "[encoded data removed]",
      "text/plain": [
       "<Figure size 864x576 with 1 Axes>"
      ]
     },
     "metadata": {
      "needs_background": "light"
     },
     "output_type": "display_data"
    }
   ],
   "source": [
    "plt.figure(figsize=(12, 8))\n",
    "plt.plot(X.columns, logreg.coef_[0])\n",
    "plt.xticks(rotation=90)\n",
    "plt.title('Feature Importance')\n",
    "plt.show()"
   ]
  },
  {
   "cell_type": "code",
   "execution_count": null,
   "metadata": {},
   "outputs": [],
   "source": []
  }
 ],
 "metadata": {
  "interpreter": {
   "hash": "078e819792ca5cdae3762db6ba1f302036aec0f1d18acf7453e0ff85755b57b2"
  },
  "kernelspec": {
   "display_name": "Python 3.8.8 64-bit ('base': conda)",
   "language": "python",
   "name": "python3"
  },
  "language_info": {
   "codemirror_mode": {
    "name": "ipython",
    "version": 3
   },
   "file_extension": ".py",
   "mimetype": "text/x-python",
   "name": "python",
   "nbconvert_exporter": "python",
   "pygments_lexer": "ipython3",
   "version": "3.8.8"
  },
  "orig_nbformat": 4
 },
 "nbformat": 4,
 "nbformat_minor": 2
}
