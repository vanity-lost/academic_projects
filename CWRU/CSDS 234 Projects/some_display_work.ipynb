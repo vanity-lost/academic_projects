{
 "cells": [
  {
   "cell_type": "code",
   "execution_count": 1,
   "metadata": {},
   "outputs": [],
   "source": [
    "import pandas as pd\n",
    "import seaborn as sns\n",
    "import matplotlib.pyplot as plt\n",
    "import numpy as np\n",
    "import datetime\n",
    "from tqdm import tqdm"
   ]
  },
  {
   "cell_type": "code",
   "execution_count": 2,
   "metadata": {},
   "outputs": [],
   "source": [
    "# read organized/preprocessed dataframes\n",
    "co_purchased = pd.read_feather('./Data/co_purchased.ftr')\n",
    "products = pd.read_feather('./Data/products.ftr')\n",
    "reviews = pd.read_feather('./Data/reviews.ftr')\n",
    "dataset = pd.read_feather('./Data/dataset.ftr')"
   ]
  },
  {
   "cell_type": "code",
   "execution_count": 3,
   "metadata": {},
   "outputs": [
    {
     "data": {
      "text/plain": [
       "Index(['product_id', 'title', 'group', 'salesrank', 'co_purchased_num',\n",
       "       'categories', 'reviews_num', 'avg_rate', 'first_rating_time',\n",
       "       'last_rating_time', 'highest_rate', 'lowest_rate'],\n",
       "      dtype='object')"
      ]
     },
     "execution_count": 3,
     "metadata": {},
     "output_type": "execute_result"
    }
   ],
   "source": [
    "products.columns"
   ]
  },
  {
   "cell_type": "code",
   "execution_count": 4,
   "metadata": {},
   "outputs": [
    {
     "data": {
      "text/plain": [
       "Index(['product_id', 'customer_id', 'votes_num', 'helpful_num', 'time',\n",
       "       'rating'],\n",
       "      dtype='object')"
      ]
     },
     "execution_count": 4,
     "metadata": {},
     "output_type": "execute_result"
    }
   ],
   "source": [
    "reviews.columns"
   ]
  },
  {
   "cell_type": "code",
   "execution_count": 5,
   "metadata": {},
   "outputs": [
    {
     "data": {
      "text/plain": [
       "Index(['first', 'second'], dtype='object')"
      ]
     },
     "execution_count": 5,
     "metadata": {},
     "output_type": "execute_result"
    }
   ],
   "source": [
    "co_purchased.columns"
   ]
  },
  {
   "cell_type": "code",
   "execution_count": 6,
   "metadata": {},
   "outputs": [
    {
     "data": {
      "text/plain": [
       "0         0827229534\n",
       "2         0486287785\n",
       "5         B00000AU3R\n",
       "8         0871318237\n",
       "15        3895780812\n",
       "             ...    \n",
       "402716    B000065AHM\n",
       "402718    1930519206\n",
       "402719    B000059TOC\n",
       "402722    B00008DDST\n",
       "402723    B00005MHUG\n",
       "Name: product_id, Length: 175092, dtype: object"
      ]
     },
     "execution_count": 6,
     "metadata": {},
     "output_type": "execute_result"
    }
   ],
   "source": [
    "# select products ID where avg_rate > 4 and lowest_rate > 3\n",
    "products.loc[(products['avg_rate']>4) & (products['lowest_rate']>3), 'product_id']"
   ]
  },
  {
   "cell_type": "code",
   "execution_count": 7,
   "metadata": {},
   "outputs": [
    {
     "data": {
      "text/plain": [
       "1         Book\n",
       "29010     Book\n",
       "94978     Book\n",
       "102197    Book\n",
       "127105    Book\n",
       "171963    Book\n",
       "Name: group, dtype: object"
      ]
     },
     "execution_count": 7,
     "metadata": {},
     "output_type": "execute_result"
    }
   ],
   "source": [
    "# select groups of the products that are bought by the customer 'A11NCO6YTE4BTJ'\n",
    "products.loc[products['product_id'].isin(reviews.loc[reviews['customer_id']=='A11NCO6YTE4BTJ', 'product_id']), 'group']"
   ]
  },
  {
   "cell_type": "code",
   "execution_count": 17,
   "metadata": {},
   "outputs": [
    {
     "name": "stdout",
     "output_type": "stream",
     "text": [
      "Wall time: 262 ms\n",
      "Wall time: 2.77 s\n",
      "Wall time: 530 ms\n",
      "Wall time: 14.5 s\n",
      "Wall time: 1.03 s\n",
      "Wall time: 17.5 s\n"
     ]
    }
   ],
   "source": [
    "# calculate the time of writing three tables with feather and csv\n",
    "%time co_purchased.to_feather('./Data/co_purchased.ftr')\n",
    "%time co_purchased.to_csv('./Data/co_purchased.csv')\n",
    "\n",
    "%time products.to_feather('./Data/products.ftr')\n",
    "%time products.to_csv('./Data/products.csv')\n",
    "\n",
    "%time reviews.to_feather('./Data/reviews.ftr')\n",
    "%time reviews.to_csv('./Data/reviews.csv')"
   ]
  },
  {
   "cell_type": "code",
   "execution_count": 19,
   "metadata": {},
   "outputs": [
    {
     "name": "stdout",
     "output_type": "stream",
     "text": [
      "Wall time: 442 ms\n",
      "Wall time: 918 ms\n",
      "Wall time: 530 ms\n",
      "Wall time: 1.3 s\n",
      "Wall time: 1.37 s\n",
      "Wall time: 4.42 s\n"
     ]
    }
   ],
   "source": [
    "# calculate the time of reading three tables with feather and csv files\n",
    "%time co_purchased = pd.read_feather('./Data/co_purchased.ftr')\n",
    "%time co_purchased = pd.read_csv('./Data/co_purchased.csv')\n",
    "\n",
    "%time products = pd.read_feather('./Data/products.ftr')\n",
    "%time products = pd.read_csv('./Data/products.csv')\n",
    "\n",
    "%time reviews = pd.read_feather('./Data/reviews.ftr')\n",
    "%time reviews = pd.read_csv('./Data/reviews.csv')"
   ]
  },
  {
   "cell_type": "code",
   "execution_count": 62,
   "metadata": {},
   "outputs": [
    {
     "data": {
      "image/png": "[encoded data removed]",
      "text/plain": [
       "<Figure size 432x576 with 2 Axes>"
      ]
     },
     "metadata": {
      "needs_background": "light"
     },
     "output_type": "display_data"
    }
   ],
   "source": [
    "# plot the time comparison\n",
    "fig, (ax1, ax2) = plt.subplots(2, figsize=(6, 8))\n",
    "\n",
    "df = pd.DataFrame()\n",
    "df['table'] = ['co_purchased', 'products', 'reviews']\n",
    "df['feather'] = [442, 530, 1370]\n",
    "df['csv'] = [918, 1300, 4420]\n",
    "df.plot.bar(ax=ax1)\n",
    "ax1.set_ylabel('time (ms)')\n",
    "ax1.set_xticklabels(df['table'], rotation=0)\n",
    "ax1.set_title('Read time comparison')\n",
    "\n",
    "df = pd.DataFrame()\n",
    "df['table'] = ['co_purchased', 'products', 'reviews']\n",
    "df['feather'] = [262, 530, 1030]\n",
    "df['csv'] = [2770, 14500, 17500]\n",
    "df.plot.bar(ax=ax2)\n",
    "ax2.set_ylabel('time (ms)')\n",
    "ax2.set_xticklabels(df['table'], rotation=0)\n",
    "ax2.set_title('Write time comparison')\n",
    "\n",
    "plt.show()"
   ]
  },
  {
   "cell_type": "code",
   "execution_count": 66,
   "metadata": {},
   "outputs": [
    {
     "data": {
      "image/png": "[encoded data removed]",
      "text/plain": [
       "<Figure size 432x288 with 1 Axes>"
      ]
     },
     "metadata": {
      "needs_background": "light"
     },
     "output_type": "display_data"
    }
   ],
   "source": [
    "# plot the space comparison\n",
    "fig, (ax1) = plt.subplots(1, figsize=(6, 4))\n",
    "\n",
    "df = pd.DataFrame()\n",
    "df['table'] = ['co_purchased', 'products', 'reviews']\n",
    "df['feather'] = [34511, 71275, 217300]\n",
    "df['csv'] = [56421, 114921, 361551]\n",
    "df.plot.bar(ax=ax1)\n",
    "ax1.set_ylabel('Space (KB)')\n",
    "ax1.set_xticklabels(df['table'], rotation=0)\n",
    "ax1.set_title('Space comparison')\n",
    "\n",
    "plt.show()"
   ]
  },
  {
   "cell_type": "code",
   "execution_count": null,
   "metadata": {},
   "outputs": [],
   "source": []
  }
 ],
 "metadata": {
  "interpreter": {
   "hash": "078e819792ca5cdae3762db6ba1f302036aec0f1d18acf7453e0ff85755b57b2"
  },
  "kernelspec": {
   "display_name": "Python 3.8.8 64-bit ('base': conda)",
   "language": "python",
   "name": "python3"
  },
  "language_info": {
   "codemirror_mode": {
    "name": "ipython",
    "version": 3
   },
   "file_extension": ".py",
   "mimetype": "text/x-python",
   "name": "python",
   "nbconvert_exporter": "python",
   "pygments_lexer": "ipython3",
   "version": "3.8.8"
  },
  "orig_nbformat": 4
 },
 "nbformat": 4,
 "nbformat_minor": 2
}
