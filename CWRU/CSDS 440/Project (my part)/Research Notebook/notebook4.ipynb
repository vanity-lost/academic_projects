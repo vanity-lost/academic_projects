{
 "metadata": {
  "language_info": {
   "codemirror_mode": {
    "name": "ipython",
    "version": 3
   },
   "file_extension": ".py",
   "mimetype": "text/x-python",
   "name": "python",
   "nbconvert_exporter": "python",
   "pygments_lexer": "ipython3",
   "version": "3.8.6-final"
  },
  "orig_nbformat": 2,
  "kernelspec": {
   "name": "python3",
   "display_name": "Python 3"
  }
 },
 "nbformat": 4,
 "nbformat_minor": 2,
 "cells": [
  {
   "cell_type": "code",
   "execution_count": 1,
   "metadata": {
    "tags": []
   },
   "outputs": [
    {
     "output_type": "stream",
     "name": "stdout",
     "text": [
      "Pre-model is built\n",
      "Target-model is built\n",
      "accuracy(no_transfer):  0.894\n",
      "accuracy(directly_transfer):  0.498\n",
      "Retraining start...\n",
      "Retraining end...\n",
      "accuracy_relevant_transfer:  0.944\n"
     ]
    },
    {
     "output_type": "execute_result",
     "data": {
      "text/plain": [
       "(0.894, 0.498, 0.944)"
      ]
     },
     "metadata": {},
     "execution_count": 1
    }
   ],
   "source": [
    "from NB_Relevance import NB_relevant_NB_retraining_v2\n",
    "NB_relevant_NB_retraining_v2(\"./20news-18828/comp.os.ms-windows.misc\", \"./20news-18828/comp.sys.ibm.pc.hardware\", 1200, 0, \"./20news-18828/talk.politics.guns\", \"./20news-18828/misc.forsale\", 50, 500)"
   ]
  },
  {
   "cell_type": "code",
   "execution_count": 2,
   "metadata": {
    "tags": []
   },
   "outputs": [
    {
     "output_type": "stream",
     "name": "stdout",
     "text": [
      "Pre-model is built\n",
      "Target-model is built\n",
      "accuracy(no_transfer):  0.928\n",
      "accuracy(directly_transfer):  0.448\n",
      "Retraining start...\n",
      "Retraining end...\n",
      "accuracy_relevant_transfer:  0.928\n"
     ]
    },
    {
     "output_type": "execute_result",
     "data": {
      "text/plain": [
       "(0.928, 0.448, 0.928)"
      ]
     },
     "metadata": {},
     "execution_count": 2
    }
   ],
   "source": [
    "from NB_Relevance import NB_relevant_NB_retraining_v2\n",
    "NB_relevant_NB_retraining_v2(\"./20news-18828/comp.sys.ibm.pc.hardware\", \"./20news-18828/comp.sys.mac.hardware\", 1200, 0, \"./20news-18828/rec.motorcycles\", \"./20news-18828/rec.sport.baseball\", 50, 500)"
   ]
  },
  {
   "cell_type": "code",
   "execution_count": null,
   "metadata": {},
   "outputs": [],
   "source": [
    "from NB_Relevance import NB_relevant_NB_retraining\n",
    "import random\n",
    "\n",
    "top_folder_path = \"./20news-18828\"\n",
    "folder_list = os.listdir(top_folder_path)\n",
    "\n",
    "accuracy_original_list = []\n",
    "accuracy_transfer_list = []\n",
    "accuracy_relevant_transfer_list = []\n",
    "\n",
    "random.seed(12345)\n",
    "folder1 = random.sample(folder_list, 20)\n",
    "folder2 = random.sample(folder_list, 20)\n",
    "folder3 = random.sample(folder_list, 20)\n",
    "folder4 = random.sample(folder_list, 20)"
   ]
  },
  {
   "cell_type": "code",
   "execution_count": null,
   "metadata": {},
   "outputs": [],
   "source": [
    "i = 0\n",
    "while len(accuracy_original_list) <= 20:\n",
    "    folders = [folder1[i], folder2[i], folder3[i], folder4[i]]\n",
    "    if len(folders) != len(set(folders)):\n",
    "        folder1.extend(random.choice(folder_list))\n",
    "        folder2.extend(random.choice(folder_list))\n",
    "        folder3.extend(random.choice(folder_list))\n",
    "        folder4.extend(random.choice(folder_list))\n",
    "        i += 1\n",
    "        continue\n",
    "    file_path1 = os.path.join(top_folder_path, folder1[i])\n",
    "    file_path2 = os.path.join(top_folder_path, folder2[i])\n",
    "    file_path3 = os.path.join(top_folder_path, folder3[i])\n",
    "    file_path4 = os.path.join(top_folder_path, folder4[i])\n",
    "    accuracy_original, accuracy_transfer, accuracy_relevant_transfer = NB_relevant_NB_retraining(file_path1, file_path2, 800, 400, file_path3, file_path4, 100, 500)\n",
    "    accuracy_original_list.append(accuracy_original)\n",
    "    accuracy_transfer_list.append(accuracy_transfer)\n",
    "    accuracy_relevant_transfer_list.append(accuracy_relevant_transfer)\n",
    "    i += 1"
   ]
  },
  {
   "cell_type": "code",
   "execution_count": null,
   "metadata": {},
   "outputs": [],
   "source": [
    "from matplotlib import pyplot as plt\n",
    "plt.plot(range(len(accuracy_original_list)), accuracy_original_list, label='accuracy_original')\n",
    "plt.plot(range(len(accuracy_transfer_list)), accuracy_transfer_list, label='accuracy_directly_transfer')\n",
    "plt.plot(range(len(accuracy_relevant_transfer_list)), accuracy_relevant_transfer_list, label='accuracy_relevant_transfer')\n",
    "\n",
    "plt.title('Accuracy Comparasion in 20News dataset ')\n",
    "plt.xlabel('Different Datasets')\n",
    "plt.ylabel('Accuracy')\n",
    "plt.legend()\n",
    "plt.show()"
   ]
  },
  {
   "cell_type": "code",
   "execution_count": null,
   "metadata": {},
   "outputs": [],
   "source": []
  },
  {
   "cell_type": "code",
   "execution_count": 3,
   "metadata": {},
   "outputs": [
    {
     "output_type": "stream",
     "name": "stdout",
     "text": [
      "Retraining start...\n",
      "accuracy_relevant_transfer:  0.926\n",
      "accuracy_relevant_transfer:  0.934\n",
      "accuracy_relevant_transfer:  0.938\n",
      "accuracy_relevant_transfer:  0.938\n",
      "accuracy_relevant_transfer:  0.938\n",
      "accuracy_relevant_transfer:  0.938\n",
      "accuracy_relevant_transfer:  0.938\n",
      "accuracy_relevant_transfer:  0.938\n",
      "accuracy_relevant_transfer:  0.94\n",
      "accuracy_relevant_transfer:  0.938\n",
      "accuracy_relevant_transfer:  0.94\n",
      "accuracy_relevant_transfer:  0.94\n",
      "accuracy_relevant_transfer:  0.94\n",
      "accuracy_relevant_transfer:  0.94\n",
      "accuracy_relevant_transfer:  0.942\n",
      "accuracy_relevant_transfer:  0.942\n",
      "accuracy_relevant_transfer:  0.942\n",
      "accuracy_relevant_transfer:  0.942\n",
      "accuracy_relevant_transfer:  0.942\n",
      "accuracy_relevant_transfer:  0.942\n",
      "accuracy_relevant_transfer:  0.942\n",
      "accuracy_relevant_transfer:  0.942\n",
      "accuracy_relevant_transfer:  0.942\n",
      "accuracy_relevant_transfer:  0.942\n",
      "accuracy_relevant_transfer:  0.942\n",
      "accuracy_relevant_transfer:  0.946\n",
      "accuracy_relevant_transfer:  0.946\n",
      "accuracy_relevant_transfer:  0.944\n",
      "accuracy_relevant_transfer:  0.944\n",
      "accuracy_relevant_transfer:  0.944\n",
      "accuracy_relevant_transfer:  0.944\n",
      "accuracy_relevant_transfer:  0.944\n",
      "accuracy_relevant_transfer:  0.944\n",
      "accuracy_relevant_transfer:  0.942\n",
      "accuracy_relevant_transfer:  0.942\n",
      "accuracy_relevant_transfer:  0.94\n",
      "accuracy_relevant_transfer:  0.942\n",
      "accuracy_relevant_transfer:  0.942\n",
      "accuracy_relevant_transfer:  0.942\n",
      "accuracy_relevant_transfer:  0.942\n",
      "accuracy_relevant_transfer:  0.942\n"
     ]
    }
   ],
   "source": [
    "from NB_Relevance import NB_relevant_NB_retraining_v2_progress\n",
    "accuracy_original_list, accuracy_transfer_list, accuracy_progress_list = NB_relevant_NB_retraining_v2_progress(\"./20news-18828/comp.os.ms-windows.misc\", \"./20news-18828/comp.sys.ibm.pc.hardware\", 1200, 0, \"./20news-18828/talk.politics.guns\", \"./20news-18828/misc.forsale\", 50, 500)"
   ]
  },
  {
   "cell_type": "code",
   "execution_count": 4,
   "metadata": {},
   "outputs": [
    {
     "output_type": "display_data",
     "data": {
      "text/plain": "<Figure size 432x288 with 1 Axes>",
      "image/svg+xml": "<?xml version=\"1.0\" encoding=\"utf-8\" standalone=\"no\"?>\r\n<!DOCTYPE svg PUBLIC \"-//W3C//DTD SVG 1.1//EN\"\r\n  \"http://www.w3.org/Graphics/SVG/1.1/DTD/svg11.dtd\">\r\n<!-- Created with matplotlib (https://matplotlib.org/) -->\r\n<svg height=\"277.314375pt\" version=\"1.1\" viewBox=\"0 0 385.78125 277.314375\" width=\"385.78125pt\" xmlns=\"http://www.w3.org/2000/svg\" xmlns:xlink=\"http://www.w3.org/1999/xlink\">\r\n <metadata>\r\n  <rdf:RDF xmlns:cc=\"http://creativecommons.org/ns#\" xmlns:dc=\"http://purl.org/dc/elements/1.1/\" xmlns:rdf=\"http://www.w3.org/1999/02/22-rdf-syntax-ns#\">\r\n   <cc:Work>\r\n    <dc:type rdf:resource=\"http://purl.org/dc/dcmitype/StillImage\"/>\r\n    <dc:date>2020-11-28T22:20:15.826866</dc:date>\r\n    <dc:format>image/svg+xml</dc:format>\r\n    <dc:creator>\r\n     <cc:Agent>\r\n      <dc:title>Matplotlib v3.3.2, https://matplotlib.org/</dc:title>\r\n     </cc:Agent>\r\n    </dc:creator>\r\n   </cc:Work>\r\n  </rdf:RDF>\r\n </metadata>\r\n <defs>\r\n  <style type=\"text/css\">*{stroke-linecap:butt;stroke-linejoin:round;}</style>\r\n </defs>\r\n <g id=\"figure_1\">\r\n  <g id=\"patch_1\">\r\n   <path d=\"M 0 277.314375 \r\nL 385.78125 277.314375 \r\nL 385.78125 0 \r\nL 0 0 \r\nz\r\n\" style=\"fill:none;\"/>\r\n  </g>\r\n  <g id=\"axes_1\">\r\n   <g id=\"patch_2\">\r\n    <path d=\"M 43.78125 239.758125 \r\nL 378.58125 239.758125 \r\nL 378.58125 22.318125 \r\nL 43.78125 22.318125 \r\nz\r\n\" style=\"fill:#ffffff;\"/>\r\n   </g>\r\n   <g id=\"matplotlib.axis_1\">\r\n    <g id=\"xtick_1\">\r\n     <g id=\"line2d_1\">\r\n      <defs>\r\n       <path d=\"M 0 0 \r\nL 0 3.5 \r\n\" id=\"m98bbcd487d\" style=\"stroke:#000000;stroke-width:0.8;\"/>\r\n      </defs>\r\n      <g>\r\n       <use style=\"stroke:#000000;stroke-width:0.8;\" x=\"58.999432\" xlink:href=\"#m98bbcd487d\" y=\"239.758125\"/>\r\n      </g>\r\n     </g>\r\n     <g id=\"text_1\">\r\n      <!-- 0 -->\r\n      <g transform=\"translate(55.818182 254.356562)scale(0.1 -0.1)\">\r\n       <defs>\r\n        <path d=\"M 31.78125 66.40625 \r\nQ 24.171875 66.40625 20.328125 58.90625 \r\nQ 16.5 51.421875 16.5 36.375 \r\nQ 16.5 21.390625 20.328125 13.890625 \r\nQ 24.171875 6.390625 31.78125 6.390625 \r\nQ 39.453125 6.390625 43.28125 13.890625 \r\nQ 47.125 21.390625 47.125 36.375 \r\nQ 47.125 51.421875 43.28125 58.90625 \r\nQ 39.453125 66.40625 31.78125 66.40625 \r\nz\r\nM 31.78125 74.21875 \r\nQ 44.046875 74.21875 50.515625 64.515625 \r\nQ 56.984375 54.828125 56.984375 36.375 \r\nQ 56.984375 17.96875 50.515625 8.265625 \r\nQ 44.046875 -1.421875 31.78125 -1.421875 \r\nQ 19.53125 -1.421875 13.0625 8.265625 \r\nQ 6.59375 17.96875 6.59375 36.375 \r\nQ 6.59375 54.828125 13.0625 64.515625 \r\nQ 19.53125 74.21875 31.78125 74.21875 \r\nz\r\n\" id=\"DejaVuSans-48\"/>\r\n       </defs>\r\n       <use xlink:href=\"#DejaVuSans-48\"/>\r\n      </g>\r\n     </g>\r\n    </g>\r\n    <g id=\"xtick_2\">\r\n     <g id=\"line2d_2\">\r\n      <g>\r\n       <use style=\"stroke:#000000;stroke-width:0.8;\" x=\"133.234465\" xlink:href=\"#m98bbcd487d\" y=\"239.758125\"/>\r\n      </g>\r\n     </g>\r\n     <g id=\"text_2\">\r\n      <!-- 10 -->\r\n      <g transform=\"translate(126.871965 254.356562)scale(0.1 -0.1)\">\r\n       <defs>\r\n        <path d=\"M 12.40625 8.296875 \r\nL 28.515625 8.296875 \r\nL 28.515625 63.921875 \r\nL 10.984375 60.40625 \r\nL 10.984375 69.390625 \r\nL 28.421875 72.90625 \r\nL 38.28125 72.90625 \r\nL 38.28125 8.296875 \r\nL 54.390625 8.296875 \r\nL 54.390625 0 \r\nL 12.40625 0 \r\nz\r\n\" id=\"DejaVuSans-49\"/>\r\n       </defs>\r\n       <use xlink:href=\"#DejaVuSans-49\"/>\r\n       <use x=\"63.623047\" xlink:href=\"#DejaVuSans-48\"/>\r\n      </g>\r\n     </g>\r\n    </g>\r\n    <g id=\"xtick_3\">\r\n     <g id=\"line2d_3\">\r\n      <g>\r\n       <use style=\"stroke:#000000;stroke-width:0.8;\" x=\"207.469498\" xlink:href=\"#m98bbcd487d\" y=\"239.758125\"/>\r\n      </g>\r\n     </g>\r\n     <g id=\"text_3\">\r\n      <!-- 20 -->\r\n      <g transform=\"translate(201.106998 254.356562)scale(0.1 -0.1)\">\r\n       <defs>\r\n        <path d=\"M 19.1875 8.296875 \r\nL 53.609375 8.296875 \r\nL 53.609375 0 \r\nL 7.328125 0 \r\nL 7.328125 8.296875 \r\nQ 12.9375 14.109375 22.625 23.890625 \r\nQ 32.328125 33.6875 34.8125 36.53125 \r\nQ 39.546875 41.84375 41.421875 45.53125 \r\nQ 43.3125 49.21875 43.3125 52.78125 \r\nQ 43.3125 58.59375 39.234375 62.25 \r\nQ 35.15625 65.921875 28.609375 65.921875 \r\nQ 23.96875 65.921875 18.8125 64.3125 \r\nQ 13.671875 62.703125 7.8125 59.421875 \r\nL 7.8125 69.390625 \r\nQ 13.765625 71.78125 18.9375 73 \r\nQ 24.125 74.21875 28.421875 74.21875 \r\nQ 39.75 74.21875 46.484375 68.546875 \r\nQ 53.21875 62.890625 53.21875 53.421875 \r\nQ 53.21875 48.921875 51.53125 44.890625 \r\nQ 49.859375 40.875 45.40625 35.40625 \r\nQ 44.1875 33.984375 37.640625 27.21875 \r\nQ 31.109375 20.453125 19.1875 8.296875 \r\nz\r\n\" id=\"DejaVuSans-50\"/>\r\n       </defs>\r\n       <use xlink:href=\"#DejaVuSans-50\"/>\r\n       <use x=\"63.623047\" xlink:href=\"#DejaVuSans-48\"/>\r\n      </g>\r\n     </g>\r\n    </g>\r\n    <g id=\"xtick_4\">\r\n     <g id=\"line2d_4\">\r\n      <g>\r\n       <use style=\"stroke:#000000;stroke-width:0.8;\" x=\"281.704532\" xlink:href=\"#m98bbcd487d\" y=\"239.758125\"/>\r\n      </g>\r\n     </g>\r\n     <g id=\"text_4\">\r\n      <!-- 30 -->\r\n      <g transform=\"translate(275.342032 254.356562)scale(0.1 -0.1)\">\r\n       <defs>\r\n        <path d=\"M 40.578125 39.3125 \r\nQ 47.65625 37.796875 51.625 33 \r\nQ 55.609375 28.21875 55.609375 21.1875 \r\nQ 55.609375 10.40625 48.1875 4.484375 \r\nQ 40.765625 -1.421875 27.09375 -1.421875 \r\nQ 22.515625 -1.421875 17.65625 -0.515625 \r\nQ 12.796875 0.390625 7.625 2.203125 \r\nL 7.625 11.71875 \r\nQ 11.71875 9.328125 16.59375 8.109375 \r\nQ 21.484375 6.890625 26.8125 6.890625 \r\nQ 36.078125 6.890625 40.9375 10.546875 \r\nQ 45.796875 14.203125 45.796875 21.1875 \r\nQ 45.796875 27.640625 41.28125 31.265625 \r\nQ 36.765625 34.90625 28.71875 34.90625 \r\nL 20.21875 34.90625 \r\nL 20.21875 43.015625 \r\nL 29.109375 43.015625 \r\nQ 36.375 43.015625 40.234375 45.921875 \r\nQ 44.09375 48.828125 44.09375 54.296875 \r\nQ 44.09375 59.90625 40.109375 62.90625 \r\nQ 36.140625 65.921875 28.71875 65.921875 \r\nQ 24.65625 65.921875 20.015625 65.03125 \r\nQ 15.375 64.15625 9.8125 62.3125 \r\nL 9.8125 71.09375 \r\nQ 15.4375 72.65625 20.34375 73.4375 \r\nQ 25.25 74.21875 29.59375 74.21875 \r\nQ 40.828125 74.21875 47.359375 69.109375 \r\nQ 53.90625 64.015625 53.90625 55.328125 \r\nQ 53.90625 49.265625 50.4375 45.09375 \r\nQ 46.96875 40.921875 40.578125 39.3125 \r\nz\r\n\" id=\"DejaVuSans-51\"/>\r\n       </defs>\r\n       <use xlink:href=\"#DejaVuSans-51\"/>\r\n       <use x=\"63.623047\" xlink:href=\"#DejaVuSans-48\"/>\r\n      </g>\r\n     </g>\r\n    </g>\r\n    <g id=\"xtick_5\">\r\n     <g id=\"line2d_5\">\r\n      <g>\r\n       <use style=\"stroke:#000000;stroke-width:0.8;\" x=\"355.939565\" xlink:href=\"#m98bbcd487d\" y=\"239.758125\"/>\r\n      </g>\r\n     </g>\r\n     <g id=\"text_5\">\r\n      <!-- 40 -->\r\n      <g transform=\"translate(349.577065 254.356562)scale(0.1 -0.1)\">\r\n       <defs>\r\n        <path d=\"M 37.796875 64.3125 \r\nL 12.890625 25.390625 \r\nL 37.796875 25.390625 \r\nz\r\nM 35.203125 72.90625 \r\nL 47.609375 72.90625 \r\nL 47.609375 25.390625 \r\nL 58.015625 25.390625 \r\nL 58.015625 17.1875 \r\nL 47.609375 17.1875 \r\nL 47.609375 0 \r\nL 37.796875 0 \r\nL 37.796875 17.1875 \r\nL 4.890625 17.1875 \r\nL 4.890625 26.703125 \r\nz\r\n\" id=\"DejaVuSans-52\"/>\r\n       </defs>\r\n       <use xlink:href=\"#DejaVuSans-52\"/>\r\n       <use x=\"63.623047\" xlink:href=\"#DejaVuSans-48\"/>\r\n      </g>\r\n     </g>\r\n    </g>\r\n    <g id=\"text_6\">\r\n     <!-- Different Datasets -->\r\n     <g transform=\"translate(165.423438 268.034687)scale(0.1 -0.1)\">\r\n      <defs>\r\n       <path d=\"M 19.671875 64.796875 \r\nL 19.671875 8.109375 \r\nL 31.59375 8.109375 \r\nQ 46.6875 8.109375 53.6875 14.9375 \r\nQ 60.6875 21.78125 60.6875 36.53125 \r\nQ 60.6875 51.171875 53.6875 57.984375 \r\nQ 46.6875 64.796875 31.59375 64.796875 \r\nz\r\nM 9.8125 72.90625 \r\nL 30.078125 72.90625 \r\nQ 51.265625 72.90625 61.171875 64.09375 \r\nQ 71.09375 55.28125 71.09375 36.53125 \r\nQ 71.09375 17.671875 61.125 8.828125 \r\nQ 51.171875 0 30.078125 0 \r\nL 9.8125 0 \r\nz\r\n\" id=\"DejaVuSans-68\"/>\r\n       <path d=\"M 9.421875 54.6875 \r\nL 18.40625 54.6875 \r\nL 18.40625 0 \r\nL 9.421875 0 \r\nz\r\nM 9.421875 75.984375 \r\nL 18.40625 75.984375 \r\nL 18.40625 64.59375 \r\nL 9.421875 64.59375 \r\nz\r\n\" id=\"DejaVuSans-105\"/>\r\n       <path d=\"M 37.109375 75.984375 \r\nL 37.109375 68.5 \r\nL 28.515625 68.5 \r\nQ 23.6875 68.5 21.796875 66.546875 \r\nQ 19.921875 64.59375 19.921875 59.515625 \r\nL 19.921875 54.6875 \r\nL 34.71875 54.6875 \r\nL 34.71875 47.703125 \r\nL 19.921875 47.703125 \r\nL 19.921875 0 \r\nL 10.890625 0 \r\nL 10.890625 47.703125 \r\nL 2.296875 47.703125 \r\nL 2.296875 54.6875 \r\nL 10.890625 54.6875 \r\nL 10.890625 58.5 \r\nQ 10.890625 67.625 15.140625 71.796875 \r\nQ 19.390625 75.984375 28.609375 75.984375 \r\nz\r\n\" id=\"DejaVuSans-102\"/>\r\n       <path d=\"M 56.203125 29.59375 \r\nL 56.203125 25.203125 \r\nL 14.890625 25.203125 \r\nQ 15.484375 15.921875 20.484375 11.0625 \r\nQ 25.484375 6.203125 34.421875 6.203125 \r\nQ 39.59375 6.203125 44.453125 7.46875 \r\nQ 49.3125 8.734375 54.109375 11.28125 \r\nL 54.109375 2.78125 \r\nQ 49.265625 0.734375 44.1875 -0.34375 \r\nQ 39.109375 -1.421875 33.890625 -1.421875 \r\nQ 20.796875 -1.421875 13.15625 6.1875 \r\nQ 5.515625 13.8125 5.515625 26.8125 \r\nQ 5.515625 40.234375 12.765625 48.109375 \r\nQ 20.015625 56 32.328125 56 \r\nQ 43.359375 56 49.78125 48.890625 \r\nQ 56.203125 41.796875 56.203125 29.59375 \r\nz\r\nM 47.21875 32.234375 \r\nQ 47.125 39.59375 43.09375 43.984375 \r\nQ 39.0625 48.390625 32.421875 48.390625 \r\nQ 24.90625 48.390625 20.390625 44.140625 \r\nQ 15.875 39.890625 15.1875 32.171875 \r\nz\r\n\" id=\"DejaVuSans-101\"/>\r\n       <path d=\"M 41.109375 46.296875 \r\nQ 39.59375 47.171875 37.8125 47.578125 \r\nQ 36.03125 48 33.890625 48 \r\nQ 26.265625 48 22.1875 43.046875 \r\nQ 18.109375 38.09375 18.109375 28.8125 \r\nL 18.109375 0 \r\nL 9.078125 0 \r\nL 9.078125 54.6875 \r\nL 18.109375 54.6875 \r\nL 18.109375 46.1875 \r\nQ 20.953125 51.171875 25.484375 53.578125 \r\nQ 30.03125 56 36.53125 56 \r\nQ 37.453125 56 38.578125 55.875 \r\nQ 39.703125 55.765625 41.0625 55.515625 \r\nz\r\n\" id=\"DejaVuSans-114\"/>\r\n       <path d=\"M 54.890625 33.015625 \r\nL 54.890625 0 \r\nL 45.90625 0 \r\nL 45.90625 32.71875 \r\nQ 45.90625 40.484375 42.875 44.328125 \r\nQ 39.84375 48.1875 33.796875 48.1875 \r\nQ 26.515625 48.1875 22.3125 43.546875 \r\nQ 18.109375 38.921875 18.109375 30.90625 \r\nL 18.109375 0 \r\nL 9.078125 0 \r\nL 9.078125 54.6875 \r\nL 18.109375 54.6875 \r\nL 18.109375 46.1875 \r\nQ 21.34375 51.125 25.703125 53.5625 \r\nQ 30.078125 56 35.796875 56 \r\nQ 45.21875 56 50.046875 50.171875 \r\nQ 54.890625 44.34375 54.890625 33.015625 \r\nz\r\n\" id=\"DejaVuSans-110\"/>\r\n       <path d=\"M 18.3125 70.21875 \r\nL 18.3125 54.6875 \r\nL 36.8125 54.6875 \r\nL 36.8125 47.703125 \r\nL 18.3125 47.703125 \r\nL 18.3125 18.015625 \r\nQ 18.3125 11.328125 20.140625 9.421875 \r\nQ 21.96875 7.515625 27.59375 7.515625 \r\nL 36.8125 7.515625 \r\nL 36.8125 0 \r\nL 27.59375 0 \r\nQ 17.1875 0 13.234375 3.875 \r\nQ 9.28125 7.765625 9.28125 18.015625 \r\nL 9.28125 47.703125 \r\nL 2.6875 47.703125 \r\nL 2.6875 54.6875 \r\nL 9.28125 54.6875 \r\nL 9.28125 70.21875 \r\nz\r\n\" id=\"DejaVuSans-116\"/>\r\n       <path id=\"DejaVuSans-32\"/>\r\n       <path d=\"M 34.28125 27.484375 \r\nQ 23.390625 27.484375 19.1875 25 \r\nQ 14.984375 22.515625 14.984375 16.5 \r\nQ 14.984375 11.71875 18.140625 8.90625 \r\nQ 21.296875 6.109375 26.703125 6.109375 \r\nQ 34.1875 6.109375 38.703125 11.40625 \r\nQ 43.21875 16.703125 43.21875 25.484375 \r\nL 43.21875 27.484375 \r\nz\r\nM 52.203125 31.203125 \r\nL 52.203125 0 \r\nL 43.21875 0 \r\nL 43.21875 8.296875 \r\nQ 40.140625 3.328125 35.546875 0.953125 \r\nQ 30.953125 -1.421875 24.3125 -1.421875 \r\nQ 15.921875 -1.421875 10.953125 3.296875 \r\nQ 6 8.015625 6 15.921875 \r\nQ 6 25.140625 12.171875 29.828125 \r\nQ 18.359375 34.515625 30.609375 34.515625 \r\nL 43.21875 34.515625 \r\nL 43.21875 35.40625 \r\nQ 43.21875 41.609375 39.140625 45 \r\nQ 35.0625 48.390625 27.6875 48.390625 \r\nQ 23 48.390625 18.546875 47.265625 \r\nQ 14.109375 46.140625 10.015625 43.890625 \r\nL 10.015625 52.203125 \r\nQ 14.9375 54.109375 19.578125 55.046875 \r\nQ 24.21875 56 28.609375 56 \r\nQ 40.484375 56 46.34375 49.84375 \r\nQ 52.203125 43.703125 52.203125 31.203125 \r\nz\r\n\" id=\"DejaVuSans-97\"/>\r\n       <path d=\"M 44.28125 53.078125 \r\nL 44.28125 44.578125 \r\nQ 40.484375 46.53125 36.375 47.5 \r\nQ 32.28125 48.484375 27.875 48.484375 \r\nQ 21.1875 48.484375 17.84375 46.4375 \r\nQ 14.5 44.390625 14.5 40.28125 \r\nQ 14.5 37.15625 16.890625 35.375 \r\nQ 19.28125 33.59375 26.515625 31.984375 \r\nL 29.59375 31.296875 \r\nQ 39.15625 29.25 43.1875 25.515625 \r\nQ 47.21875 21.78125 47.21875 15.09375 \r\nQ 47.21875 7.46875 41.1875 3.015625 \r\nQ 35.15625 -1.421875 24.609375 -1.421875 \r\nQ 20.21875 -1.421875 15.453125 -0.5625 \r\nQ 10.6875 0.296875 5.421875 2 \r\nL 5.421875 11.28125 \r\nQ 10.40625 8.6875 15.234375 7.390625 \r\nQ 20.0625 6.109375 24.8125 6.109375 \r\nQ 31.15625 6.109375 34.5625 8.28125 \r\nQ 37.984375 10.453125 37.984375 14.40625 \r\nQ 37.984375 18.0625 35.515625 20.015625 \r\nQ 33.0625 21.96875 24.703125 23.78125 \r\nL 21.578125 24.515625 \r\nQ 13.234375 26.265625 9.515625 29.90625 \r\nQ 5.8125 33.546875 5.8125 39.890625 \r\nQ 5.8125 47.609375 11.28125 51.796875 \r\nQ 16.75 56 26.8125 56 \r\nQ 31.78125 56 36.171875 55.265625 \r\nQ 40.578125 54.546875 44.28125 53.078125 \r\nz\r\n\" id=\"DejaVuSans-115\"/>\r\n      </defs>\r\n      <use xlink:href=\"#DejaVuSans-68\"/>\r\n      <use x=\"77.001953\" xlink:href=\"#DejaVuSans-105\"/>\r\n      <use x=\"104.785156\" xlink:href=\"#DejaVuSans-102\"/>\r\n      <use x=\"139.990234\" xlink:href=\"#DejaVuSans-102\"/>\r\n      <use x=\"175.195312\" xlink:href=\"#DejaVuSans-101\"/>\r\n      <use x=\"236.71875\" xlink:href=\"#DejaVuSans-114\"/>\r\n      <use x=\"275.582031\" xlink:href=\"#DejaVuSans-101\"/>\r\n      <use x=\"337.105469\" xlink:href=\"#DejaVuSans-110\"/>\r\n      <use x=\"400.484375\" xlink:href=\"#DejaVuSans-116\"/>\r\n      <use x=\"439.693359\" xlink:href=\"#DejaVuSans-32\"/>\r\n      <use x=\"471.480469\" xlink:href=\"#DejaVuSans-68\"/>\r\n      <use x=\"548.482422\" xlink:href=\"#DejaVuSans-97\"/>\r\n      <use x=\"609.761719\" xlink:href=\"#DejaVuSans-116\"/>\r\n      <use x=\"648.970703\" xlink:href=\"#DejaVuSans-97\"/>\r\n      <use x=\"710.25\" xlink:href=\"#DejaVuSans-115\"/>\r\n      <use x=\"762.349609\" xlink:href=\"#DejaVuSans-101\"/>\r\n      <use x=\"823.873047\" xlink:href=\"#DejaVuSans-116\"/>\r\n      <use x=\"863.082031\" xlink:href=\"#DejaVuSans-115\"/>\r\n     </g>\r\n    </g>\r\n   </g>\r\n   <g id=\"matplotlib.axis_2\">\r\n    <g id=\"ytick_1\">\r\n     <g id=\"line2d_6\">\r\n      <defs>\r\n       <path d=\"M 0 0 \r\nL -3.5 0 \r\n\" id=\"m00c4a756b9\" style=\"stroke:#000000;stroke-width:0.8;\"/>\r\n      </defs>\r\n      <g>\r\n       <use style=\"stroke:#000000;stroke-width:0.8;\" x=\"43.78125\" xlink:href=\"#m00c4a756b9\" y=\"228.992021\"/>\r\n      </g>\r\n     </g>\r\n     <g id=\"text_7\">\r\n      <!-- 0.5 -->\r\n      <g transform=\"translate(20.878125 232.79124)scale(0.1 -0.1)\">\r\n       <defs>\r\n        <path d=\"M 10.6875 12.40625 \r\nL 21 12.40625 \r\nL 21 0 \r\nL 10.6875 0 \r\nz\r\n\" id=\"DejaVuSans-46\"/>\r\n        <path d=\"M 10.796875 72.90625 \r\nL 49.515625 72.90625 \r\nL 49.515625 64.59375 \r\nL 19.828125 64.59375 \r\nL 19.828125 46.734375 \r\nQ 21.96875 47.46875 24.109375 47.828125 \r\nQ 26.265625 48.1875 28.421875 48.1875 \r\nQ 40.625 48.1875 47.75 41.5 \r\nQ 54.890625 34.8125 54.890625 23.390625 \r\nQ 54.890625 11.625 47.5625 5.09375 \r\nQ 40.234375 -1.421875 26.90625 -1.421875 \r\nQ 22.3125 -1.421875 17.546875 -0.640625 \r\nQ 12.796875 0.140625 7.71875 1.703125 \r\nL 7.71875 11.625 \r\nQ 12.109375 9.234375 16.796875 8.0625 \r\nQ 21.484375 6.890625 26.703125 6.890625 \r\nQ 35.15625 6.890625 40.078125 11.328125 \r\nQ 45.015625 15.765625 45.015625 23.390625 \r\nQ 45.015625 31 40.078125 35.4375 \r\nQ 35.15625 39.890625 26.703125 39.890625 \r\nQ 22.75 39.890625 18.8125 39.015625 \r\nQ 14.890625 38.140625 10.796875 36.28125 \r\nz\r\n\" id=\"DejaVuSans-53\"/>\r\n       </defs>\r\n       <use xlink:href=\"#DejaVuSans-48\"/>\r\n       <use x=\"63.623047\" xlink:href=\"#DejaVuSans-46\"/>\r\n       <use x=\"95.410156\" xlink:href=\"#DejaVuSans-53\"/>\r\n      </g>\r\n     </g>\r\n    </g>\r\n    <g id=\"ytick_2\">\r\n     <g id=\"line2d_7\">\r\n      <g>\r\n       <use style=\"stroke:#000000;stroke-width:0.8;\" x=\"43.78125\" xlink:href=\"#m00c4a756b9\" y=\"184.868644\"/>\r\n      </g>\r\n     </g>\r\n     <g id=\"text_8\">\r\n      <!-- 0.6 -->\r\n      <g transform=\"translate(20.878125 188.667863)scale(0.1 -0.1)\">\r\n       <defs>\r\n        <path d=\"M 33.015625 40.375 \r\nQ 26.375 40.375 22.484375 35.828125 \r\nQ 18.609375 31.296875 18.609375 23.390625 \r\nQ 18.609375 15.53125 22.484375 10.953125 \r\nQ 26.375 6.390625 33.015625 6.390625 \r\nQ 39.65625 6.390625 43.53125 10.953125 \r\nQ 47.40625 15.53125 47.40625 23.390625 \r\nQ 47.40625 31.296875 43.53125 35.828125 \r\nQ 39.65625 40.375 33.015625 40.375 \r\nz\r\nM 52.59375 71.296875 \r\nL 52.59375 62.3125 \r\nQ 48.875 64.0625 45.09375 64.984375 \r\nQ 41.3125 65.921875 37.59375 65.921875 \r\nQ 27.828125 65.921875 22.671875 59.328125 \r\nQ 17.53125 52.734375 16.796875 39.40625 \r\nQ 19.671875 43.65625 24.015625 45.921875 \r\nQ 28.375 48.1875 33.59375 48.1875 \r\nQ 44.578125 48.1875 50.953125 41.515625 \r\nQ 57.328125 34.859375 57.328125 23.390625 \r\nQ 57.328125 12.15625 50.6875 5.359375 \r\nQ 44.046875 -1.421875 33.015625 -1.421875 \r\nQ 20.359375 -1.421875 13.671875 8.265625 \r\nQ 6.984375 17.96875 6.984375 36.375 \r\nQ 6.984375 53.65625 15.1875 63.9375 \r\nQ 23.390625 74.21875 37.203125 74.21875 \r\nQ 40.921875 74.21875 44.703125 73.484375 \r\nQ 48.484375 72.75 52.59375 71.296875 \r\nz\r\n\" id=\"DejaVuSans-54\"/>\r\n       </defs>\r\n       <use xlink:href=\"#DejaVuSans-48\"/>\r\n       <use x=\"63.623047\" xlink:href=\"#DejaVuSans-46\"/>\r\n       <use x=\"95.410156\" xlink:href=\"#DejaVuSans-54\"/>\r\n      </g>\r\n     </g>\r\n    </g>\r\n    <g id=\"ytick_3\">\r\n     <g id=\"line2d_8\">\r\n      <g>\r\n       <use style=\"stroke:#000000;stroke-width:0.8;\" x=\"43.78125\" xlink:href=\"#m00c4a756b9\" y=\"140.745268\"/>\r\n      </g>\r\n     </g>\r\n     <g id=\"text_9\">\r\n      <!-- 0.7 -->\r\n      <g transform=\"translate(20.878125 144.544487)scale(0.1 -0.1)\">\r\n       <defs>\r\n        <path d=\"M 8.203125 72.90625 \r\nL 55.078125 72.90625 \r\nL 55.078125 68.703125 \r\nL 28.609375 0 \r\nL 18.3125 0 \r\nL 43.21875 64.59375 \r\nL 8.203125 64.59375 \r\nz\r\n\" id=\"DejaVuSans-55\"/>\r\n       </defs>\r\n       <use xlink:href=\"#DejaVuSans-48\"/>\r\n       <use x=\"63.623047\" xlink:href=\"#DejaVuSans-46\"/>\r\n       <use x=\"95.410156\" xlink:href=\"#DejaVuSans-55\"/>\r\n      </g>\r\n     </g>\r\n    </g>\r\n    <g id=\"ytick_4\">\r\n     <g id=\"line2d_9\">\r\n      <g>\r\n       <use style=\"stroke:#000000;stroke-width:0.8;\" x=\"43.78125\" xlink:href=\"#m00c4a756b9\" y=\"96.621891\"/>\r\n      </g>\r\n     </g>\r\n     <g id=\"text_10\">\r\n      <!-- 0.8 -->\r\n      <g transform=\"translate(20.878125 100.42111)scale(0.1 -0.1)\">\r\n       <defs>\r\n        <path d=\"M 31.78125 34.625 \r\nQ 24.75 34.625 20.71875 30.859375 \r\nQ 16.703125 27.09375 16.703125 20.515625 \r\nQ 16.703125 13.921875 20.71875 10.15625 \r\nQ 24.75 6.390625 31.78125 6.390625 \r\nQ 38.8125 6.390625 42.859375 10.171875 \r\nQ 46.921875 13.96875 46.921875 20.515625 \r\nQ 46.921875 27.09375 42.890625 30.859375 \r\nQ 38.875 34.625 31.78125 34.625 \r\nz\r\nM 21.921875 38.8125 \r\nQ 15.578125 40.375 12.03125 44.71875 \r\nQ 8.5 49.078125 8.5 55.328125 \r\nQ 8.5 64.0625 14.71875 69.140625 \r\nQ 20.953125 74.21875 31.78125 74.21875 \r\nQ 42.671875 74.21875 48.875 69.140625 \r\nQ 55.078125 64.0625 55.078125 55.328125 \r\nQ 55.078125 49.078125 51.53125 44.71875 \r\nQ 48 40.375 41.703125 38.8125 \r\nQ 48.828125 37.15625 52.796875 32.3125 \r\nQ 56.78125 27.484375 56.78125 20.515625 \r\nQ 56.78125 9.90625 50.3125 4.234375 \r\nQ 43.84375 -1.421875 31.78125 -1.421875 \r\nQ 19.734375 -1.421875 13.25 4.234375 \r\nQ 6.78125 9.90625 6.78125 20.515625 \r\nQ 6.78125 27.484375 10.78125 32.3125 \r\nQ 14.796875 37.15625 21.921875 38.8125 \r\nz\r\nM 18.3125 54.390625 \r\nQ 18.3125 48.734375 21.84375 45.5625 \r\nQ 25.390625 42.390625 31.78125 42.390625 \r\nQ 38.140625 42.390625 41.71875 45.5625 \r\nQ 45.3125 48.734375 45.3125 54.390625 \r\nQ 45.3125 60.0625 41.71875 63.234375 \r\nQ 38.140625 66.40625 31.78125 66.40625 \r\nQ 25.390625 66.40625 21.84375 63.234375 \r\nQ 18.3125 60.0625 18.3125 54.390625 \r\nz\r\n\" id=\"DejaVuSans-56\"/>\r\n       </defs>\r\n       <use xlink:href=\"#DejaVuSans-48\"/>\r\n       <use x=\"63.623047\" xlink:href=\"#DejaVuSans-46\"/>\r\n       <use x=\"95.410156\" xlink:href=\"#DejaVuSans-56\"/>\r\n      </g>\r\n     </g>\r\n    </g>\r\n    <g id=\"ytick_5\">\r\n     <g id=\"line2d_10\">\r\n      <g>\r\n       <use style=\"stroke:#000000;stroke-width:0.8;\" x=\"43.78125\" xlink:href=\"#m00c4a756b9\" y=\"52.498515\"/>\r\n      </g>\r\n     </g>\r\n     <g id=\"text_11\">\r\n      <!-- 0.9 -->\r\n      <g transform=\"translate(20.878125 56.297733)scale(0.1 -0.1)\">\r\n       <defs>\r\n        <path d=\"M 10.984375 1.515625 \r\nL 10.984375 10.5 \r\nQ 14.703125 8.734375 18.5 7.8125 \r\nQ 22.3125 6.890625 25.984375 6.890625 \r\nQ 35.75 6.890625 40.890625 13.453125 \r\nQ 46.046875 20.015625 46.78125 33.40625 \r\nQ 43.953125 29.203125 39.59375 26.953125 \r\nQ 35.25 24.703125 29.984375 24.703125 \r\nQ 19.046875 24.703125 12.671875 31.3125 \r\nQ 6.296875 37.9375 6.296875 49.421875 \r\nQ 6.296875 60.640625 12.9375 67.421875 \r\nQ 19.578125 74.21875 30.609375 74.21875 \r\nQ 43.265625 74.21875 49.921875 64.515625 \r\nQ 56.59375 54.828125 56.59375 36.375 \r\nQ 56.59375 19.140625 48.40625 8.859375 \r\nQ 40.234375 -1.421875 26.421875 -1.421875 \r\nQ 22.703125 -1.421875 18.890625 -0.6875 \r\nQ 15.09375 0.046875 10.984375 1.515625 \r\nz\r\nM 30.609375 32.421875 \r\nQ 37.25 32.421875 41.125 36.953125 \r\nQ 45.015625 41.5 45.015625 49.421875 \r\nQ 45.015625 57.28125 41.125 61.84375 \r\nQ 37.25 66.40625 30.609375 66.40625 \r\nQ 23.96875 66.40625 20.09375 61.84375 \r\nQ 16.21875 57.28125 16.21875 49.421875 \r\nQ 16.21875 41.5 20.09375 36.953125 \r\nQ 23.96875 32.421875 30.609375 32.421875 \r\nz\r\n\" id=\"DejaVuSans-57\"/>\r\n       </defs>\r\n       <use xlink:href=\"#DejaVuSans-48\"/>\r\n       <use x=\"63.623047\" xlink:href=\"#DejaVuSans-46\"/>\r\n       <use x=\"95.410156\" xlink:href=\"#DejaVuSans-57\"/>\r\n      </g>\r\n     </g>\r\n    </g>\r\n    <g id=\"text_12\">\r\n     <!-- Accuracy -->\r\n     <g transform=\"translate(14.798438 153.86625)rotate(-90)scale(0.1 -0.1)\">\r\n      <defs>\r\n       <path d=\"M 34.1875 63.1875 \r\nL 20.796875 26.90625 \r\nL 47.609375 26.90625 \r\nz\r\nM 28.609375 72.90625 \r\nL 39.796875 72.90625 \r\nL 67.578125 0 \r\nL 57.328125 0 \r\nL 50.6875 18.703125 \r\nL 17.828125 18.703125 \r\nL 11.1875 0 \r\nL 0.78125 0 \r\nz\r\n\" id=\"DejaVuSans-65\"/>\r\n       <path d=\"M 48.78125 52.59375 \r\nL 48.78125 44.1875 \r\nQ 44.96875 46.296875 41.140625 47.34375 \r\nQ 37.3125 48.390625 33.40625 48.390625 \r\nQ 24.65625 48.390625 19.8125 42.84375 \r\nQ 14.984375 37.3125 14.984375 27.296875 \r\nQ 14.984375 17.28125 19.8125 11.734375 \r\nQ 24.65625 6.203125 33.40625 6.203125 \r\nQ 37.3125 6.203125 41.140625 7.25 \r\nQ 44.96875 8.296875 48.78125 10.40625 \r\nL 48.78125 2.09375 \r\nQ 45.015625 0.34375 40.984375 -0.53125 \r\nQ 36.96875 -1.421875 32.421875 -1.421875 \r\nQ 20.0625 -1.421875 12.78125 6.34375 \r\nQ 5.515625 14.109375 5.515625 27.296875 \r\nQ 5.515625 40.671875 12.859375 48.328125 \r\nQ 20.21875 56 33.015625 56 \r\nQ 37.15625 56 41.109375 55.140625 \r\nQ 45.0625 54.296875 48.78125 52.59375 \r\nz\r\n\" id=\"DejaVuSans-99\"/>\r\n       <path d=\"M 8.5 21.578125 \r\nL 8.5 54.6875 \r\nL 17.484375 54.6875 \r\nL 17.484375 21.921875 \r\nQ 17.484375 14.15625 20.5 10.265625 \r\nQ 23.53125 6.390625 29.59375 6.390625 \r\nQ 36.859375 6.390625 41.078125 11.03125 \r\nQ 45.3125 15.671875 45.3125 23.6875 \r\nL 45.3125 54.6875 \r\nL 54.296875 54.6875 \r\nL 54.296875 0 \r\nL 45.3125 0 \r\nL 45.3125 8.40625 \r\nQ 42.046875 3.421875 37.71875 1 \r\nQ 33.40625 -1.421875 27.6875 -1.421875 \r\nQ 18.265625 -1.421875 13.375 4.4375 \r\nQ 8.5 10.296875 8.5 21.578125 \r\nz\r\nM 31.109375 56 \r\nz\r\n\" id=\"DejaVuSans-117\"/>\r\n       <path d=\"M 32.171875 -5.078125 \r\nQ 28.375 -14.84375 24.75 -17.8125 \r\nQ 21.140625 -20.796875 15.09375 -20.796875 \r\nL 7.90625 -20.796875 \r\nL 7.90625 -13.28125 \r\nL 13.1875 -13.28125 \r\nQ 16.890625 -13.28125 18.9375 -11.515625 \r\nQ 21 -9.765625 23.484375 -3.21875 \r\nL 25.09375 0.875 \r\nL 2.984375 54.6875 \r\nL 12.5 54.6875 \r\nL 29.59375 11.921875 \r\nL 46.6875 54.6875 \r\nL 56.203125 54.6875 \r\nz\r\n\" id=\"DejaVuSans-121\"/>\r\n      </defs>\r\n      <use xlink:href=\"#DejaVuSans-65\"/>\r\n      <use x=\"66.658203\" xlink:href=\"#DejaVuSans-99\"/>\r\n      <use x=\"121.638672\" xlink:href=\"#DejaVuSans-99\"/>\r\n      <use x=\"176.619141\" xlink:href=\"#DejaVuSans-117\"/>\r\n      <use x=\"239.998047\" xlink:href=\"#DejaVuSans-114\"/>\r\n      <use x=\"281.111328\" xlink:href=\"#DejaVuSans-97\"/>\r\n      <use x=\"342.390625\" xlink:href=\"#DejaVuSans-99\"/>\r\n      <use x=\"397.371094\" xlink:href=\"#DejaVuSans-121\"/>\r\n     </g>\r\n    </g>\r\n   </g>\r\n   <g id=\"line2d_11\">\r\n    <path clip-path=\"url(#p13b8e83eb6)\" d=\"M 58.999432 55.145917 \r\nL 66.422935 55.145917 \r\nL 73.846438 55.145917 \r\nL 81.269942 55.145917 \r\nL 88.693445 55.145917 \r\nL 96.116948 55.145917 \r\nL 103.540452 55.145917 \r\nL 110.963955 55.145917 \r\nL 118.387458 55.145917 \r\nL 125.810962 55.145917 \r\nL 133.234465 55.145917 \r\nL 140.657968 55.145917 \r\nL 148.081472 55.145917 \r\nL 155.504975 55.145917 \r\nL 162.928478 55.145917 \r\nL 170.351982 55.145917 \r\nL 177.775485 55.145917 \r\nL 185.198988 55.145917 \r\nL 192.622492 55.145917 \r\nL 200.045995 55.145917 \r\nL 207.469498 55.145917 \r\nL 214.893002 55.145917 \r\nL 222.316505 55.145917 \r\nL 229.740008 55.145917 \r\nL 237.163512 55.145917 \r\nL 244.587015 55.145917 \r\nL 252.010518 55.145917 \r\nL 259.434022 55.145917 \r\nL 266.857525 55.145917 \r\nL 274.281028 55.145917 \r\nL 281.704532 55.145917 \r\nL 289.128035 55.145917 \r\nL 296.551538 55.145917 \r\nL 303.975042 55.145917 \r\nL 311.398545 55.145917 \r\nL 318.822048 55.145917 \r\nL 326.245552 55.145917 \r\nL 333.669055 55.145917 \r\nL 341.092558 55.145917 \r\nL 348.516062 55.145917 \r\nL 355.939565 55.145917 \r\nL 363.363068 55.145917 \r\n\" style=\"fill:none;stroke:#1f77b4;stroke-linecap:square;stroke-width:1.5;\"/>\r\n   </g>\r\n   <g id=\"line2d_12\">\r\n    <path clip-path=\"url(#p13b8e83eb6)\" d=\"M 58.999432 229.874489 \r\nL 66.422935 229.874489 \r\nL 73.846438 229.874489 \r\nL 81.269942 229.874489 \r\nL 88.693445 229.874489 \r\nL 96.116948 229.874489 \r\nL 103.540452 229.874489 \r\nL 110.963955 229.874489 \r\nL 118.387458 229.874489 \r\nL 125.810962 229.874489 \r\nL 133.234465 229.874489 \r\nL 140.657968 229.874489 \r\nL 148.081472 229.874489 \r\nL 155.504975 229.874489 \r\nL 162.928478 229.874489 \r\nL 170.351982 229.874489 \r\nL 177.775485 229.874489 \r\nL 185.198988 229.874489 \r\nL 192.622492 229.874489 \r\nL 200.045995 229.874489 \r\nL 207.469498 229.874489 \r\nL 214.893002 229.874489 \r\nL 222.316505 229.874489 \r\nL 229.740008 229.874489 \r\nL 237.163512 229.874489 \r\nL 244.587015 229.874489 \r\nL 252.010518 229.874489 \r\nL 259.434022 229.874489 \r\nL 266.857525 229.874489 \r\nL 274.281028 229.874489 \r\nL 281.704532 229.874489 \r\nL 289.128035 229.874489 \r\nL 296.551538 229.874489 \r\nL 303.975042 229.874489 \r\nL 311.398545 229.874489 \r\nL 318.822048 229.874489 \r\nL 326.245552 229.874489 \r\nL 333.669055 229.874489 \r\nL 341.092558 229.874489 \r\nL 348.516062 229.874489 \r\nL 355.939565 229.874489 \r\nL 363.363068 229.874489 \r\n\" style=\"fill:none;stroke:#ff7f0e;stroke-linecap:square;stroke-width:1.5;\"/>\r\n   </g>\r\n   <g id=\"line2d_13\">\r\n    <path clip-path=\"url(#p13b8e83eb6)\" d=\"M 58.999432 229.874489 \r\nL 66.422935 229.874489 \r\nL 73.846438 41.026437 \r\nL 81.269942 37.496567 \r\nL 88.693445 35.731631 \r\nL 96.116948 35.731631 \r\nL 103.540452 35.731631 \r\nL 110.963955 35.731631 \r\nL 118.387458 35.731631 \r\nL 125.810962 35.731631 \r\nL 133.234465 34.849164 \r\nL 140.657968 35.731631 \r\nL 148.081472 34.849164 \r\nL 155.504975 34.849164 \r\nL 162.928478 34.849164 \r\nL 170.351982 34.849164 \r\nL 177.775485 33.966696 \r\nL 185.198988 33.966696 \r\nL 192.622492 33.966696 \r\nL 200.045995 33.966696 \r\nL 207.469498 33.966696 \r\nL 214.893002 33.966696 \r\nL 222.316505 33.966696 \r\nL 229.740008 33.966696 \r\nL 237.163512 33.966696 \r\nL 244.587015 33.966696 \r\nL 252.010518 33.966696 \r\nL 259.434022 32.201761 \r\nL 266.857525 32.201761 \r\nL 274.281028 33.084229 \r\nL 281.704532 33.084229 \r\nL 289.128035 33.084229 \r\nL 296.551538 33.084229 \r\nL 303.975042 33.084229 \r\nL 311.398545 33.084229 \r\nL 318.822048 33.966696 \r\nL 326.245552 33.966696 \r\nL 333.669055 34.849164 \r\nL 341.092558 33.966696 \r\nL 348.516062 33.966696 \r\nL 355.939565 33.966696 \r\nL 363.363068 33.966696 \r\n\" style=\"fill:none;stroke:#2ca02c;stroke-linecap:square;stroke-width:1.5;\"/>\r\n   </g>\r\n   <g id=\"patch_3\">\r\n    <path d=\"M 43.78125 239.758125 \r\nL 43.78125 22.318125 \r\n\" style=\"fill:none;stroke:#000000;stroke-linecap:square;stroke-linejoin:miter;stroke-width:0.8;\"/>\r\n   </g>\r\n   <g id=\"patch_4\">\r\n    <path d=\"M 378.58125 239.758125 \r\nL 378.58125 22.318125 \r\n\" style=\"fill:none;stroke:#000000;stroke-linecap:square;stroke-linejoin:miter;stroke-width:0.8;\"/>\r\n   </g>\r\n   <g id=\"patch_5\">\r\n    <path d=\"M 43.78125 239.758125 \r\nL 378.58125 239.758125 \r\n\" style=\"fill:none;stroke:#000000;stroke-linecap:square;stroke-linejoin:miter;stroke-width:0.8;\"/>\r\n   </g>\r\n   <g id=\"patch_6\">\r\n    <path d=\"M 43.78125 22.318125 \r\nL 378.58125 22.318125 \r\n\" style=\"fill:none;stroke:#000000;stroke-linecap:square;stroke-linejoin:miter;stroke-width:0.8;\"/>\r\n   </g>\r\n   <g id=\"text_13\">\r\n    <!-- Accuracy Progress in 20News dataset  -->\r\n    <g transform=\"translate(96.651563 16.318125)scale(0.12 -0.12)\">\r\n     <defs>\r\n      <path d=\"M 19.671875 64.796875 \r\nL 19.671875 37.40625 \r\nL 32.078125 37.40625 \r\nQ 38.96875 37.40625 42.71875 40.96875 \r\nQ 46.484375 44.53125 46.484375 51.125 \r\nQ 46.484375 57.671875 42.71875 61.234375 \r\nQ 38.96875 64.796875 32.078125 64.796875 \r\nz\r\nM 9.8125 72.90625 \r\nL 32.078125 72.90625 \r\nQ 44.34375 72.90625 50.609375 67.359375 \r\nQ 56.890625 61.8125 56.890625 51.125 \r\nQ 56.890625 40.328125 50.609375 34.8125 \r\nQ 44.34375 29.296875 32.078125 29.296875 \r\nL 19.671875 29.296875 \r\nL 19.671875 0 \r\nL 9.8125 0 \r\nz\r\n\" id=\"DejaVuSans-80\"/>\r\n      <path d=\"M 30.609375 48.390625 \r\nQ 23.390625 48.390625 19.1875 42.75 \r\nQ 14.984375 37.109375 14.984375 27.296875 \r\nQ 14.984375 17.484375 19.15625 11.84375 \r\nQ 23.34375 6.203125 30.609375 6.203125 \r\nQ 37.796875 6.203125 41.984375 11.859375 \r\nQ 46.1875 17.53125 46.1875 27.296875 \r\nQ 46.1875 37.015625 41.984375 42.703125 \r\nQ 37.796875 48.390625 30.609375 48.390625 \r\nz\r\nM 30.609375 56 \r\nQ 42.328125 56 49.015625 48.375 \r\nQ 55.71875 40.765625 55.71875 27.296875 \r\nQ 55.71875 13.875 49.015625 6.21875 \r\nQ 42.328125 -1.421875 30.609375 -1.421875 \r\nQ 18.84375 -1.421875 12.171875 6.21875 \r\nQ 5.515625 13.875 5.515625 27.296875 \r\nQ 5.515625 40.765625 12.171875 48.375 \r\nQ 18.84375 56 30.609375 56 \r\nz\r\n\" id=\"DejaVuSans-111\"/>\r\n      <path d=\"M 45.40625 27.984375 \r\nQ 45.40625 37.75 41.375 43.109375 \r\nQ 37.359375 48.484375 30.078125 48.484375 \r\nQ 22.859375 48.484375 18.828125 43.109375 \r\nQ 14.796875 37.75 14.796875 27.984375 \r\nQ 14.796875 18.265625 18.828125 12.890625 \r\nQ 22.859375 7.515625 30.078125 7.515625 \r\nQ 37.359375 7.515625 41.375 12.890625 \r\nQ 45.40625 18.265625 45.40625 27.984375 \r\nz\r\nM 54.390625 6.78125 \r\nQ 54.390625 -7.171875 48.1875 -13.984375 \r\nQ 42 -20.796875 29.203125 -20.796875 \r\nQ 24.46875 -20.796875 20.265625 -20.09375 \r\nQ 16.0625 -19.390625 12.109375 -17.921875 \r\nL 12.109375 -9.1875 \r\nQ 16.0625 -11.328125 19.921875 -12.34375 \r\nQ 23.78125 -13.375 27.78125 -13.375 \r\nQ 36.625 -13.375 41.015625 -8.765625 \r\nQ 45.40625 -4.15625 45.40625 5.171875 \r\nL 45.40625 9.625 \r\nQ 42.625 4.78125 38.28125 2.390625 \r\nQ 33.9375 0 27.875 0 \r\nQ 17.828125 0 11.671875 7.65625 \r\nQ 5.515625 15.328125 5.515625 27.984375 \r\nQ 5.515625 40.671875 11.671875 48.328125 \r\nQ 17.828125 56 27.875 56 \r\nQ 33.9375 56 38.28125 53.609375 \r\nQ 42.625 51.21875 45.40625 46.390625 \r\nL 45.40625 54.6875 \r\nL 54.390625 54.6875 \r\nz\r\n\" id=\"DejaVuSans-103\"/>\r\n      <path d=\"M 9.8125 72.90625 \r\nL 23.09375 72.90625 \r\nL 55.421875 11.921875 \r\nL 55.421875 72.90625 \r\nL 64.984375 72.90625 \r\nL 64.984375 0 \r\nL 51.703125 0 \r\nL 19.390625 60.984375 \r\nL 19.390625 0 \r\nL 9.8125 0 \r\nz\r\n\" id=\"DejaVuSans-78\"/>\r\n      <path d=\"M 4.203125 54.6875 \r\nL 13.1875 54.6875 \r\nL 24.421875 12.015625 \r\nL 35.59375 54.6875 \r\nL 46.1875 54.6875 \r\nL 57.421875 12.015625 \r\nL 68.609375 54.6875 \r\nL 77.59375 54.6875 \r\nL 63.28125 0 \r\nL 52.6875 0 \r\nL 40.921875 44.828125 \r\nL 29.109375 0 \r\nL 18.5 0 \r\nz\r\n\" id=\"DejaVuSans-119\"/>\r\n      <path d=\"M 45.40625 46.390625 \r\nL 45.40625 75.984375 \r\nL 54.390625 75.984375 \r\nL 54.390625 0 \r\nL 45.40625 0 \r\nL 45.40625 8.203125 \r\nQ 42.578125 3.328125 38.25 0.953125 \r\nQ 33.9375 -1.421875 27.875 -1.421875 \r\nQ 17.96875 -1.421875 11.734375 6.484375 \r\nQ 5.515625 14.40625 5.515625 27.296875 \r\nQ 5.515625 40.1875 11.734375 48.09375 \r\nQ 17.96875 56 27.875 56 \r\nQ 33.9375 56 38.25 53.625 \r\nQ 42.578125 51.265625 45.40625 46.390625 \r\nz\r\nM 14.796875 27.296875 \r\nQ 14.796875 17.390625 18.875 11.75 \r\nQ 22.953125 6.109375 30.078125 6.109375 \r\nQ 37.203125 6.109375 41.296875 11.75 \r\nQ 45.40625 17.390625 45.40625 27.296875 \r\nQ 45.40625 37.203125 41.296875 42.84375 \r\nQ 37.203125 48.484375 30.078125 48.484375 \r\nQ 22.953125 48.484375 18.875 42.84375 \r\nQ 14.796875 37.203125 14.796875 27.296875 \r\nz\r\n\" id=\"DejaVuSans-100\"/>\r\n     </defs>\r\n     <use xlink:href=\"#DejaVuSans-65\"/>\r\n     <use x=\"66.658203\" xlink:href=\"#DejaVuSans-99\"/>\r\n     <use x=\"121.638672\" xlink:href=\"#DejaVuSans-99\"/>\r\n     <use x=\"176.619141\" xlink:href=\"#DejaVuSans-117\"/>\r\n     <use x=\"239.998047\" xlink:href=\"#DejaVuSans-114\"/>\r\n     <use x=\"281.111328\" xlink:href=\"#DejaVuSans-97\"/>\r\n     <use x=\"342.390625\" xlink:href=\"#DejaVuSans-99\"/>\r\n     <use x=\"397.371094\" xlink:href=\"#DejaVuSans-121\"/>\r\n     <use x=\"456.550781\" xlink:href=\"#DejaVuSans-32\"/>\r\n     <use x=\"488.337891\" xlink:href=\"#DejaVuSans-80\"/>\r\n     <use x=\"546.890625\" xlink:href=\"#DejaVuSans-114\"/>\r\n     <use x=\"585.753906\" xlink:href=\"#DejaVuSans-111\"/>\r\n     <use x=\"646.935547\" xlink:href=\"#DejaVuSans-103\"/>\r\n     <use x=\"710.412109\" xlink:href=\"#DejaVuSans-114\"/>\r\n     <use x=\"749.275391\" xlink:href=\"#DejaVuSans-101\"/>\r\n     <use x=\"810.798828\" xlink:href=\"#DejaVuSans-115\"/>\r\n     <use x=\"862.898438\" xlink:href=\"#DejaVuSans-115\"/>\r\n     <use x=\"914.998047\" xlink:href=\"#DejaVuSans-32\"/>\r\n     <use x=\"946.785156\" xlink:href=\"#DejaVuSans-105\"/>\r\n     <use x=\"974.568359\" xlink:href=\"#DejaVuSans-110\"/>\r\n     <use x=\"1037.947266\" xlink:href=\"#DejaVuSans-32\"/>\r\n     <use x=\"1069.734375\" xlink:href=\"#DejaVuSans-50\"/>\r\n     <use x=\"1133.357422\" xlink:href=\"#DejaVuSans-48\"/>\r\n     <use x=\"1196.980469\" xlink:href=\"#DejaVuSans-78\"/>\r\n     <use x=\"1271.785156\" xlink:href=\"#DejaVuSans-101\"/>\r\n     <use x=\"1333.308594\" xlink:href=\"#DejaVuSans-119\"/>\r\n     <use x=\"1415.095703\" xlink:href=\"#DejaVuSans-115\"/>\r\n     <use x=\"1467.195312\" xlink:href=\"#DejaVuSans-32\"/>\r\n     <use x=\"1498.982422\" xlink:href=\"#DejaVuSans-100\"/>\r\n     <use x=\"1562.458984\" xlink:href=\"#DejaVuSans-97\"/>\r\n     <use x=\"1623.738281\" xlink:href=\"#DejaVuSans-116\"/>\r\n     <use x=\"1662.947266\" xlink:href=\"#DejaVuSans-97\"/>\r\n     <use x=\"1724.226562\" xlink:href=\"#DejaVuSans-115\"/>\r\n     <use x=\"1776.326172\" xlink:href=\"#DejaVuSans-101\"/>\r\n     <use x=\"1837.849609\" xlink:href=\"#DejaVuSans-116\"/>\r\n     <use x=\"1877.058594\" xlink:href=\"#DejaVuSans-32\"/>\r\n    </g>\r\n   </g>\r\n   <g id=\"legend_1\">\r\n    <g id=\"patch_7\">\r\n     <path d=\"M 203.696875 154.9725 \r\nL 371.58125 154.9725 \r\nQ 373.58125 154.9725 373.58125 152.9725 \r\nL 373.58125 109.10375 \r\nQ 373.58125 107.10375 371.58125 107.10375 \r\nL 203.696875 107.10375 \r\nQ 201.696875 107.10375 201.696875 109.10375 \r\nL 201.696875 152.9725 \r\nQ 201.696875 154.9725 203.696875 154.9725 \r\nz\r\n\" style=\"fill:#ffffff;opacity:0.8;stroke:#cccccc;stroke-linejoin:miter;\"/>\r\n    </g>\r\n    <g id=\"line2d_14\">\r\n     <path d=\"M 205.696875 115.202187 \r\nL 225.696875 115.202187 \r\n\" style=\"fill:none;stroke:#1f77b4;stroke-linecap:square;stroke-width:1.5;\"/>\r\n    </g>\r\n    <g id=\"line2d_15\"/>\r\n    <g id=\"text_14\">\r\n     <!-- accuracy_original -->\r\n     <g transform=\"translate(233.696875 118.702187)scale(0.1 -0.1)\">\r\n      <defs>\r\n       <path d=\"M 50.984375 -16.609375 \r\nL 50.984375 -23.578125 \r\nL -0.984375 -23.578125 \r\nL -0.984375 -16.609375 \r\nz\r\n\" id=\"DejaVuSans-95\"/>\r\n       <path d=\"M 9.421875 75.984375 \r\nL 18.40625 75.984375 \r\nL 18.40625 0 \r\nL 9.421875 0 \r\nz\r\n\" id=\"DejaVuSans-108\"/>\r\n      </defs>\r\n      <use xlink:href=\"#DejaVuSans-97\"/>\r\n      <use x=\"61.279297\" xlink:href=\"#DejaVuSans-99\"/>\r\n      <use x=\"116.259766\" xlink:href=\"#DejaVuSans-99\"/>\r\n      <use x=\"171.240234\" xlink:href=\"#DejaVuSans-117\"/>\r\n      <use x=\"234.619141\" xlink:href=\"#DejaVuSans-114\"/>\r\n      <use x=\"275.732422\" xlink:href=\"#DejaVuSans-97\"/>\r\n      <use x=\"337.011719\" xlink:href=\"#DejaVuSans-99\"/>\r\n      <use x=\"391.992188\" xlink:href=\"#DejaVuSans-121\"/>\r\n      <use x=\"451.171875\" xlink:href=\"#DejaVuSans-95\"/>\r\n      <use x=\"501.171875\" xlink:href=\"#DejaVuSans-111\"/>\r\n      <use x=\"562.353516\" xlink:href=\"#DejaVuSans-114\"/>\r\n      <use x=\"603.466797\" xlink:href=\"#DejaVuSans-105\"/>\r\n      <use x=\"631.25\" xlink:href=\"#DejaVuSans-103\"/>\r\n      <use x=\"694.726562\" xlink:href=\"#DejaVuSans-105\"/>\r\n      <use x=\"722.509766\" xlink:href=\"#DejaVuSans-110\"/>\r\n      <use x=\"785.888672\" xlink:href=\"#DejaVuSans-97\"/>\r\n      <use x=\"847.167969\" xlink:href=\"#DejaVuSans-108\"/>\r\n     </g>\r\n    </g>\r\n    <g id=\"line2d_16\">\r\n     <path d=\"M 205.696875 130.158437 \r\nL 225.696875 130.158437 \r\n\" style=\"fill:none;stroke:#ff7f0e;stroke-linecap:square;stroke-width:1.5;\"/>\r\n    </g>\r\n    <g id=\"line2d_17\"/>\r\n    <g id=\"text_15\">\r\n     <!-- accuracy_directly_transfer -->\r\n     <g transform=\"translate(233.696875 133.658437)scale(0.1 -0.1)\">\r\n      <use xlink:href=\"#DejaVuSans-97\"/>\r\n      <use x=\"61.279297\" xlink:href=\"#DejaVuSans-99\"/>\r\n      <use x=\"116.259766\" xlink:href=\"#DejaVuSans-99\"/>\r\n      <use x=\"171.240234\" xlink:href=\"#DejaVuSans-117\"/>\r\n      <use x=\"234.619141\" xlink:href=\"#DejaVuSans-114\"/>\r\n      <use x=\"275.732422\" xlink:href=\"#DejaVuSans-97\"/>\r\n      <use x=\"337.011719\" xlink:href=\"#DejaVuSans-99\"/>\r\n      <use x=\"391.992188\" xlink:href=\"#DejaVuSans-121\"/>\r\n      <use x=\"451.171875\" xlink:href=\"#DejaVuSans-95\"/>\r\n      <use x=\"501.171875\" xlink:href=\"#DejaVuSans-100\"/>\r\n      <use x=\"564.648438\" xlink:href=\"#DejaVuSans-105\"/>\r\n      <use x=\"592.431641\" xlink:href=\"#DejaVuSans-114\"/>\r\n      <use x=\"631.294922\" xlink:href=\"#DejaVuSans-101\"/>\r\n      <use x=\"692.818359\" xlink:href=\"#DejaVuSans-99\"/>\r\n      <use x=\"747.798828\" xlink:href=\"#DejaVuSans-116\"/>\r\n      <use x=\"787.007812\" xlink:href=\"#DejaVuSans-108\"/>\r\n      <use x=\"814.791016\" xlink:href=\"#DejaVuSans-121\"/>\r\n      <use x=\"873.970703\" xlink:href=\"#DejaVuSans-95\"/>\r\n      <use x=\"923.970703\" xlink:href=\"#DejaVuSans-116\"/>\r\n      <use x=\"963.179688\" xlink:href=\"#DejaVuSans-114\"/>\r\n      <use x=\"1004.292969\" xlink:href=\"#DejaVuSans-97\"/>\r\n      <use x=\"1065.572266\" xlink:href=\"#DejaVuSans-110\"/>\r\n      <use x=\"1128.951172\" xlink:href=\"#DejaVuSans-115\"/>\r\n      <use x=\"1181.050781\" xlink:href=\"#DejaVuSans-102\"/>\r\n      <use x=\"1216.255859\" xlink:href=\"#DejaVuSans-101\"/>\r\n      <use x=\"1277.779297\" xlink:href=\"#DejaVuSans-114\"/>\r\n     </g>\r\n    </g>\r\n    <g id=\"line2d_18\">\r\n     <path d=\"M 205.696875 145.114687 \r\nL 225.696875 145.114687 \r\n\" style=\"fill:none;stroke:#2ca02c;stroke-linecap:square;stroke-width:1.5;\"/>\r\n    </g>\r\n    <g id=\"line2d_19\"/>\r\n    <g id=\"text_16\">\r\n     <!-- accuracy_relevant_transfer -->\r\n     <g transform=\"translate(233.696875 148.614687)scale(0.1 -0.1)\">\r\n      <defs>\r\n       <path d=\"M 2.984375 54.6875 \r\nL 12.5 54.6875 \r\nL 29.59375 8.796875 \r\nL 46.6875 54.6875 \r\nL 56.203125 54.6875 \r\nL 35.6875 0 \r\nL 23.484375 0 \r\nz\r\n\" id=\"DejaVuSans-118\"/>\r\n      </defs>\r\n      <use xlink:href=\"#DejaVuSans-97\"/>\r\n      <use x=\"61.279297\" xlink:href=\"#DejaVuSans-99\"/>\r\n      <use x=\"116.259766\" xlink:href=\"#DejaVuSans-99\"/>\r\n      <use x=\"171.240234\" xlink:href=\"#DejaVuSans-117\"/>\r\n      <use x=\"234.619141\" xlink:href=\"#DejaVuSans-114\"/>\r\n      <use x=\"275.732422\" xlink:href=\"#DejaVuSans-97\"/>\r\n      <use x=\"337.011719\" xlink:href=\"#DejaVuSans-99\"/>\r\n      <use x=\"391.992188\" xlink:href=\"#DejaVuSans-121\"/>\r\n      <use x=\"451.171875\" xlink:href=\"#DejaVuSans-95\"/>\r\n      <use x=\"501.171875\" xlink:href=\"#DejaVuSans-114\"/>\r\n      <use x=\"540.035156\" xlink:href=\"#DejaVuSans-101\"/>\r\n      <use x=\"601.558594\" xlink:href=\"#DejaVuSans-108\"/>\r\n      <use x=\"629.341797\" xlink:href=\"#DejaVuSans-101\"/>\r\n      <use x=\"690.865234\" xlink:href=\"#DejaVuSans-118\"/>\r\n      <use x=\"750.044922\" xlink:href=\"#DejaVuSans-97\"/>\r\n      <use x=\"811.324219\" xlink:href=\"#DejaVuSans-110\"/>\r\n      <use x=\"874.703125\" xlink:href=\"#DejaVuSans-116\"/>\r\n      <use x=\"913.912109\" xlink:href=\"#DejaVuSans-95\"/>\r\n      <use x=\"963.912109\" xlink:href=\"#DejaVuSans-116\"/>\r\n      <use x=\"1003.121094\" xlink:href=\"#DejaVuSans-114\"/>\r\n      <use x=\"1044.234375\" xlink:href=\"#DejaVuSans-97\"/>\r\n      <use x=\"1105.513672\" xlink:href=\"#DejaVuSans-110\"/>\r\n      <use x=\"1168.892578\" xlink:href=\"#DejaVuSans-115\"/>\r\n      <use x=\"1220.992188\" xlink:href=\"#DejaVuSans-102\"/>\r\n      <use x=\"1256.197266\" xlink:href=\"#DejaVuSans-101\"/>\r\n      <use x=\"1317.720703\" xlink:href=\"#DejaVuSans-114\"/>\r\n     </g>\r\n    </g>\r\n   </g>\r\n  </g>\r\n </g>\r\n <defs>\r\n  <clipPath id=\"p13b8e83eb6\">\r\n   <rect height=\"217.44\" width=\"334.8\" x=\"43.78125\" y=\"22.318125\"/>\r\n  </clipPath>\r\n </defs>\r\n</svg>\r\n",
      "image/png": "[encoded data removed]"
     },
     "metadata": {
      "needs_background": "light"
     }
    }
   ],
   "source": [
    "from matplotlib import pyplot as plt\n",
    "plt.plot(range(len(accuracy_original_list)), accuracy_original_list, label='accuracy_original')\n",
    "plt.plot(range(len(accuracy_transfer_list)), accuracy_transfer_list, label='accuracy_directly_transfer')\n",
    "plt.plot(range(len(accuracy_progress_list)), accuracy_progress_list, label='accuracy_relevant_transfer')\n",
    "\n",
    "plt.title('Accuracy Progress in 20News dataset ')\n",
    "plt.xlabel('Different Datasets')\n",
    "plt.ylabel('Accuracy')\n",
    "plt.legend()\n",
    "plt.show()"
   ]
  },
  {
   "cell_type": "code",
   "execution_count": 1,
   "metadata": {},
   "outputs": [
    {
     "output_type": "stream",
     "name": "stdout",
     "text": [
      "Retraining start...\n",
      "accuracy_relevant_transfer:  0.64\n",
      "accuracy_relevant_transfer:  0.728\n",
      "accuracy_relevant_transfer:  0.754\n",
      "accuracy_relevant_transfer:  0.76\n",
      "accuracy_relevant_transfer:  0.764\n",
      "accuracy_relevant_transfer:  0.76\n",
      "accuracy_relevant_transfer:  0.754\n",
      "accuracy_relevant_transfer:  0.754\n",
      "accuracy_relevant_transfer:  0.754\n",
      "accuracy_relevant_transfer:  0.762\n",
      "accuracy_relevant_transfer:  0.776\n",
      "accuracy_relevant_transfer:  0.782\n",
      "accuracy_relevant_transfer:  0.78\n",
      "accuracy_relevant_transfer:  0.782\n",
      "accuracy_relevant_transfer:  0.782\n",
      "accuracy_relevant_transfer:  0.782\n",
      "accuracy_relevant_transfer:  0.782\n",
      "accuracy_relevant_transfer:  0.79\n",
      "accuracy_relevant_transfer:  0.79\n",
      "accuracy_relevant_transfer:  0.79\n",
      "accuracy_relevant_transfer:  0.79\n",
      "accuracy_relevant_transfer:  0.79\n",
      "accuracy_relevant_transfer:  0.79\n",
      "accuracy_relevant_transfer:  0.79\n",
      "accuracy_relevant_transfer:  0.79\n",
      "accuracy_relevant_transfer:  0.79\n",
      "accuracy_relevant_transfer:  0.79\n",
      "accuracy_relevant_transfer:  0.79\n",
      "accuracy_relevant_transfer:  0.79\n",
      "accuracy_relevant_transfer:  0.79\n",
      "accuracy_relevant_transfer:  0.79\n",
      "accuracy_relevant_transfer:  0.794\n",
      "accuracy_relevant_transfer:  0.8\n",
      "accuracy_relevant_transfer:  0.802\n",
      "accuracy_relevant_transfer:  0.802\n",
      "accuracy_relevant_transfer:  0.802\n",
      "accuracy_relevant_transfer:  0.806\n",
      "accuracy_relevant_transfer:  0.806\n",
      "accuracy_relevant_transfer:  0.816\n",
      "accuracy_relevant_transfer:  0.816\n",
      "accuracy_relevant_transfer:  0.816\n"
     ]
    }
   ],
   "source": [
    "from NB_Relevance import NB_relevant_NB_retraining_v2_progress\n",
    "accuracy_original_list2, accuracy_transfer_list2, accuracy_progress_list2 = NB_relevant_NB_retraining_v2_progress(\"./20news-18828/comp.os.ms-windows.misc\", \"./20news-18828/comp.sys.ibm.pc.hardware\", 1200, 0, \"./20news-18828/comp.windows.x\", \"./20news-18828/comp.sys.mac.hardware\", 50, 500)"
   ]
  },
  {
   "cell_type": "code",
   "execution_count": 2,
   "metadata": {},
   "outputs": [
    {
     "output_type": "display_data",
     "data": {
      "text/plain": "<Figure size 432x288 with 1 Axes>",
      "image/svg+xml": "<?xml version=\"1.0\" encoding=\"utf-8\" standalone=\"no\"?>\r\n<!DOCTYPE svg PUBLIC \"-//W3C//DTD SVG 1.1//EN\"\r\n  \"http://www.w3.org/Graphics/SVG/1.1/DTD/svg11.dtd\">\r\n<!-- Created with matplotlib (https://matplotlib.org/) -->\r\n<svg height=\"277.314375pt\" version=\"1.1\" viewBox=\"0 0 385.78125 277.314375\" width=\"385.78125pt\" xmlns=\"http://www.w3.org/2000/svg\" xmlns:xlink=\"http://www.w3.org/1999/xlink\">\r\n <metadata>\r\n  <rdf:RDF xmlns:cc=\"http://creativecommons.org/ns#\" xmlns:dc=\"http://purl.org/dc/elements/1.1/\" xmlns:rdf=\"http://www.w3.org/1999/02/22-rdf-syntax-ns#\">\r\n   <cc:Work>\r\n    <dc:type rdf:resource=\"http://purl.org/dc/dcmitype/StillImage\"/>\r\n    <dc:date>2020-11-28T21:54:40.754848</dc:date>\r\n    <dc:format>image/svg+xml</dc:format>\r\n    <dc:creator>\r\n     <cc:Agent>\r\n      <dc:title>Matplotlib v3.3.2, https://matplotlib.org/</dc:title>\r\n     </cc:Agent>\r\n    </dc:creator>\r\n   </cc:Work>\r\n  </rdf:RDF>\r\n </metadata>\r\n <defs>\r\n  <style type=\"text/css\">*{stroke-linecap:butt;stroke-linejoin:round;}</style>\r\n </defs>\r\n <g id=\"figure_1\">\r\n  <g id=\"patch_1\">\r\n   <path d=\"M 0 277.314375 \r\nL 385.78125 277.314375 \r\nL 385.78125 0 \r\nL 0 0 \r\nz\r\n\" style=\"fill:none;\"/>\r\n  </g>\r\n  <g id=\"axes_1\">\r\n   <g id=\"patch_2\">\r\n    <path d=\"M 43.78125 239.758125 \r\nL 378.58125 239.758125 \r\nL 378.58125 22.318125 \r\nL 43.78125 22.318125 \r\nz\r\n\" style=\"fill:#ffffff;\"/>\r\n   </g>\r\n   <g id=\"matplotlib.axis_1\">\r\n    <g id=\"xtick_1\">\r\n     <g id=\"line2d_1\">\r\n      <defs>\r\n       <path d=\"M 0 0 \r\nL 0 3.5 \r\n\" id=\"md64225e15a\" style=\"stroke:#000000;stroke-width:0.8;\"/>\r\n      </defs>\r\n      <g>\r\n       <use style=\"stroke:#000000;stroke-width:0.8;\" x=\"58.999432\" xlink:href=\"#md64225e15a\" y=\"239.758125\"/>\r\n      </g>\r\n     </g>\r\n     <g id=\"text_1\">\r\n      <!-- 0 -->\r\n      <g transform=\"translate(55.818182 254.356562)scale(0.1 -0.1)\">\r\n       <defs>\r\n        <path d=\"M 31.78125 66.40625 \r\nQ 24.171875 66.40625 20.328125 58.90625 \r\nQ 16.5 51.421875 16.5 36.375 \r\nQ 16.5 21.390625 20.328125 13.890625 \r\nQ 24.171875 6.390625 31.78125 6.390625 \r\nQ 39.453125 6.390625 43.28125 13.890625 \r\nQ 47.125 21.390625 47.125 36.375 \r\nQ 47.125 51.421875 43.28125 58.90625 \r\nQ 39.453125 66.40625 31.78125 66.40625 \r\nz\r\nM 31.78125 74.21875 \r\nQ 44.046875 74.21875 50.515625 64.515625 \r\nQ 56.984375 54.828125 56.984375 36.375 \r\nQ 56.984375 17.96875 50.515625 8.265625 \r\nQ 44.046875 -1.421875 31.78125 -1.421875 \r\nQ 19.53125 -1.421875 13.0625 8.265625 \r\nQ 6.59375 17.96875 6.59375 36.375 \r\nQ 6.59375 54.828125 13.0625 64.515625 \r\nQ 19.53125 74.21875 31.78125 74.21875 \r\nz\r\n\" id=\"DejaVuSans-48\"/>\r\n       </defs>\r\n       <use xlink:href=\"#DejaVuSans-48\"/>\r\n      </g>\r\n     </g>\r\n    </g>\r\n    <g id=\"xtick_2\">\r\n     <g id=\"line2d_2\">\r\n      <g>\r\n       <use style=\"stroke:#000000;stroke-width:0.8;\" x=\"133.234465\" xlink:href=\"#md64225e15a\" y=\"239.758125\"/>\r\n      </g>\r\n     </g>\r\n     <g id=\"text_2\">\r\n      <!-- 10 -->\r\n      <g transform=\"translate(126.871965 254.356562)scale(0.1 -0.1)\">\r\n       <defs>\r\n        <path d=\"M 12.40625 8.296875 \r\nL 28.515625 8.296875 \r\nL 28.515625 63.921875 \r\nL 10.984375 60.40625 \r\nL 10.984375 69.390625 \r\nL 28.421875 72.90625 \r\nL 38.28125 72.90625 \r\nL 38.28125 8.296875 \r\nL 54.390625 8.296875 \r\nL 54.390625 0 \r\nL 12.40625 0 \r\nz\r\n\" id=\"DejaVuSans-49\"/>\r\n       </defs>\r\n       <use xlink:href=\"#DejaVuSans-49\"/>\r\n       <use x=\"63.623047\" xlink:href=\"#DejaVuSans-48\"/>\r\n      </g>\r\n     </g>\r\n    </g>\r\n    <g id=\"xtick_3\">\r\n     <g id=\"line2d_3\">\r\n      <g>\r\n       <use style=\"stroke:#000000;stroke-width:0.8;\" x=\"207.469498\" xlink:href=\"#md64225e15a\" y=\"239.758125\"/>\r\n      </g>\r\n     </g>\r\n     <g id=\"text_3\">\r\n      <!-- 20 -->\r\n      <g transform=\"translate(201.106998 254.356562)scale(0.1 -0.1)\">\r\n       <defs>\r\n        <path d=\"M 19.1875 8.296875 \r\nL 53.609375 8.296875 \r\nL 53.609375 0 \r\nL 7.328125 0 \r\nL 7.328125 8.296875 \r\nQ 12.9375 14.109375 22.625 23.890625 \r\nQ 32.328125 33.6875 34.8125 36.53125 \r\nQ 39.546875 41.84375 41.421875 45.53125 \r\nQ 43.3125 49.21875 43.3125 52.78125 \r\nQ 43.3125 58.59375 39.234375 62.25 \r\nQ 35.15625 65.921875 28.609375 65.921875 \r\nQ 23.96875 65.921875 18.8125 64.3125 \r\nQ 13.671875 62.703125 7.8125 59.421875 \r\nL 7.8125 69.390625 \r\nQ 13.765625 71.78125 18.9375 73 \r\nQ 24.125 74.21875 28.421875 74.21875 \r\nQ 39.75 74.21875 46.484375 68.546875 \r\nQ 53.21875 62.890625 53.21875 53.421875 \r\nQ 53.21875 48.921875 51.53125 44.890625 \r\nQ 49.859375 40.875 45.40625 35.40625 \r\nQ 44.1875 33.984375 37.640625 27.21875 \r\nQ 31.109375 20.453125 19.1875 8.296875 \r\nz\r\n\" id=\"DejaVuSans-50\"/>\r\n       </defs>\r\n       <use xlink:href=\"#DejaVuSans-50\"/>\r\n       <use x=\"63.623047\" xlink:href=\"#DejaVuSans-48\"/>\r\n      </g>\r\n     </g>\r\n    </g>\r\n    <g id=\"xtick_4\">\r\n     <g id=\"line2d_4\">\r\n      <g>\r\n       <use style=\"stroke:#000000;stroke-width:0.8;\" x=\"281.704532\" xlink:href=\"#md64225e15a\" y=\"239.758125\"/>\r\n      </g>\r\n     </g>\r\n     <g id=\"text_4\">\r\n      <!-- 30 -->\r\n      <g transform=\"translate(275.342032 254.356562)scale(0.1 -0.1)\">\r\n       <defs>\r\n        <path d=\"M 40.578125 39.3125 \r\nQ 47.65625 37.796875 51.625 33 \r\nQ 55.609375 28.21875 55.609375 21.1875 \r\nQ 55.609375 10.40625 48.1875 4.484375 \r\nQ 40.765625 -1.421875 27.09375 -1.421875 \r\nQ 22.515625 -1.421875 17.65625 -0.515625 \r\nQ 12.796875 0.390625 7.625 2.203125 \r\nL 7.625 11.71875 \r\nQ 11.71875 9.328125 16.59375 8.109375 \r\nQ 21.484375 6.890625 26.8125 6.890625 \r\nQ 36.078125 6.890625 40.9375 10.546875 \r\nQ 45.796875 14.203125 45.796875 21.1875 \r\nQ 45.796875 27.640625 41.28125 31.265625 \r\nQ 36.765625 34.90625 28.71875 34.90625 \r\nL 20.21875 34.90625 \r\nL 20.21875 43.015625 \r\nL 29.109375 43.015625 \r\nQ 36.375 43.015625 40.234375 45.921875 \r\nQ 44.09375 48.828125 44.09375 54.296875 \r\nQ 44.09375 59.90625 40.109375 62.90625 \r\nQ 36.140625 65.921875 28.71875 65.921875 \r\nQ 24.65625 65.921875 20.015625 65.03125 \r\nQ 15.375 64.15625 9.8125 62.3125 \r\nL 9.8125 71.09375 \r\nQ 15.4375 72.65625 20.34375 73.4375 \r\nQ 25.25 74.21875 29.59375 74.21875 \r\nQ 40.828125 74.21875 47.359375 69.109375 \r\nQ 53.90625 64.015625 53.90625 55.328125 \r\nQ 53.90625 49.265625 50.4375 45.09375 \r\nQ 46.96875 40.921875 40.578125 39.3125 \r\nz\r\n\" id=\"DejaVuSans-51\"/>\r\n       </defs>\r\n       <use xlink:href=\"#DejaVuSans-51\"/>\r\n       <use x=\"63.623047\" xlink:href=\"#DejaVuSans-48\"/>\r\n      </g>\r\n     </g>\r\n    </g>\r\n    <g id=\"xtick_5\">\r\n     <g id=\"line2d_5\">\r\n      <g>\r\n       <use style=\"stroke:#000000;stroke-width:0.8;\" x=\"355.939565\" xlink:href=\"#md64225e15a\" y=\"239.758125\"/>\r\n      </g>\r\n     </g>\r\n     <g id=\"text_5\">\r\n      <!-- 40 -->\r\n      <g transform=\"translate(349.577065 254.356562)scale(0.1 -0.1)\">\r\n       <defs>\r\n        <path d=\"M 37.796875 64.3125 \r\nL 12.890625 25.390625 \r\nL 37.796875 25.390625 \r\nz\r\nM 35.203125 72.90625 \r\nL 47.609375 72.90625 \r\nL 47.609375 25.390625 \r\nL 58.015625 25.390625 \r\nL 58.015625 17.1875 \r\nL 47.609375 17.1875 \r\nL 47.609375 0 \r\nL 37.796875 0 \r\nL 37.796875 17.1875 \r\nL 4.890625 17.1875 \r\nL 4.890625 26.703125 \r\nz\r\n\" id=\"DejaVuSans-52\"/>\r\n       </defs>\r\n       <use xlink:href=\"#DejaVuSans-52\"/>\r\n       <use x=\"63.623047\" xlink:href=\"#DejaVuSans-48\"/>\r\n      </g>\r\n     </g>\r\n    </g>\r\n    <g id=\"text_6\">\r\n     <!-- Different Datasets -->\r\n     <g transform=\"translate(165.423438 268.034687)scale(0.1 -0.1)\">\r\n      <defs>\r\n       <path d=\"M 19.671875 64.796875 \r\nL 19.671875 8.109375 \r\nL 31.59375 8.109375 \r\nQ 46.6875 8.109375 53.6875 14.9375 \r\nQ 60.6875 21.78125 60.6875 36.53125 \r\nQ 60.6875 51.171875 53.6875 57.984375 \r\nQ 46.6875 64.796875 31.59375 64.796875 \r\nz\r\nM 9.8125 72.90625 \r\nL 30.078125 72.90625 \r\nQ 51.265625 72.90625 61.171875 64.09375 \r\nQ 71.09375 55.28125 71.09375 36.53125 \r\nQ 71.09375 17.671875 61.125 8.828125 \r\nQ 51.171875 0 30.078125 0 \r\nL 9.8125 0 \r\nz\r\n\" id=\"DejaVuSans-68\"/>\r\n       <path d=\"M 9.421875 54.6875 \r\nL 18.40625 54.6875 \r\nL 18.40625 0 \r\nL 9.421875 0 \r\nz\r\nM 9.421875 75.984375 \r\nL 18.40625 75.984375 \r\nL 18.40625 64.59375 \r\nL 9.421875 64.59375 \r\nz\r\n\" id=\"DejaVuSans-105\"/>\r\n       <path d=\"M 37.109375 75.984375 \r\nL 37.109375 68.5 \r\nL 28.515625 68.5 \r\nQ 23.6875 68.5 21.796875 66.546875 \r\nQ 19.921875 64.59375 19.921875 59.515625 \r\nL 19.921875 54.6875 \r\nL 34.71875 54.6875 \r\nL 34.71875 47.703125 \r\nL 19.921875 47.703125 \r\nL 19.921875 0 \r\nL 10.890625 0 \r\nL 10.890625 47.703125 \r\nL 2.296875 47.703125 \r\nL 2.296875 54.6875 \r\nL 10.890625 54.6875 \r\nL 10.890625 58.5 \r\nQ 10.890625 67.625 15.140625 71.796875 \r\nQ 19.390625 75.984375 28.609375 75.984375 \r\nz\r\n\" id=\"DejaVuSans-102\"/>\r\n       <path d=\"M 56.203125 29.59375 \r\nL 56.203125 25.203125 \r\nL 14.890625 25.203125 \r\nQ 15.484375 15.921875 20.484375 11.0625 \r\nQ 25.484375 6.203125 34.421875 6.203125 \r\nQ 39.59375 6.203125 44.453125 7.46875 \r\nQ 49.3125 8.734375 54.109375 11.28125 \r\nL 54.109375 2.78125 \r\nQ 49.265625 0.734375 44.1875 -0.34375 \r\nQ 39.109375 -1.421875 33.890625 -1.421875 \r\nQ 20.796875 -1.421875 13.15625 6.1875 \r\nQ 5.515625 13.8125 5.515625 26.8125 \r\nQ 5.515625 40.234375 12.765625 48.109375 \r\nQ 20.015625 56 32.328125 56 \r\nQ 43.359375 56 49.78125 48.890625 \r\nQ 56.203125 41.796875 56.203125 29.59375 \r\nz\r\nM 47.21875 32.234375 \r\nQ 47.125 39.59375 43.09375 43.984375 \r\nQ 39.0625 48.390625 32.421875 48.390625 \r\nQ 24.90625 48.390625 20.390625 44.140625 \r\nQ 15.875 39.890625 15.1875 32.171875 \r\nz\r\n\" id=\"DejaVuSans-101\"/>\r\n       <path d=\"M 41.109375 46.296875 \r\nQ 39.59375 47.171875 37.8125 47.578125 \r\nQ 36.03125 48 33.890625 48 \r\nQ 26.265625 48 22.1875 43.046875 \r\nQ 18.109375 38.09375 18.109375 28.8125 \r\nL 18.109375 0 \r\nL 9.078125 0 \r\nL 9.078125 54.6875 \r\nL 18.109375 54.6875 \r\nL 18.109375 46.1875 \r\nQ 20.953125 51.171875 25.484375 53.578125 \r\nQ 30.03125 56 36.53125 56 \r\nQ 37.453125 56 38.578125 55.875 \r\nQ 39.703125 55.765625 41.0625 55.515625 \r\nz\r\n\" id=\"DejaVuSans-114\"/>\r\n       <path d=\"M 54.890625 33.015625 \r\nL 54.890625 0 \r\nL 45.90625 0 \r\nL 45.90625 32.71875 \r\nQ 45.90625 40.484375 42.875 44.328125 \r\nQ 39.84375 48.1875 33.796875 48.1875 \r\nQ 26.515625 48.1875 22.3125 43.546875 \r\nQ 18.109375 38.921875 18.109375 30.90625 \r\nL 18.109375 0 \r\nL 9.078125 0 \r\nL 9.078125 54.6875 \r\nL 18.109375 54.6875 \r\nL 18.109375 46.1875 \r\nQ 21.34375 51.125 25.703125 53.5625 \r\nQ 30.078125 56 35.796875 56 \r\nQ 45.21875 56 50.046875 50.171875 \r\nQ 54.890625 44.34375 54.890625 33.015625 \r\nz\r\n\" id=\"DejaVuSans-110\"/>\r\n       <path d=\"M 18.3125 70.21875 \r\nL 18.3125 54.6875 \r\nL 36.8125 54.6875 \r\nL 36.8125 47.703125 \r\nL 18.3125 47.703125 \r\nL 18.3125 18.015625 \r\nQ 18.3125 11.328125 20.140625 9.421875 \r\nQ 21.96875 7.515625 27.59375 7.515625 \r\nL 36.8125 7.515625 \r\nL 36.8125 0 \r\nL 27.59375 0 \r\nQ 17.1875 0 13.234375 3.875 \r\nQ 9.28125 7.765625 9.28125 18.015625 \r\nL 9.28125 47.703125 \r\nL 2.6875 47.703125 \r\nL 2.6875 54.6875 \r\nL 9.28125 54.6875 \r\nL 9.28125 70.21875 \r\nz\r\n\" id=\"DejaVuSans-116\"/>\r\n       <path id=\"DejaVuSans-32\"/>\r\n       <path d=\"M 34.28125 27.484375 \r\nQ 23.390625 27.484375 19.1875 25 \r\nQ 14.984375 22.515625 14.984375 16.5 \r\nQ 14.984375 11.71875 18.140625 8.90625 \r\nQ 21.296875 6.109375 26.703125 6.109375 \r\nQ 34.1875 6.109375 38.703125 11.40625 \r\nQ 43.21875 16.703125 43.21875 25.484375 \r\nL 43.21875 27.484375 \r\nz\r\nM 52.203125 31.203125 \r\nL 52.203125 0 \r\nL 43.21875 0 \r\nL 43.21875 8.296875 \r\nQ 40.140625 3.328125 35.546875 0.953125 \r\nQ 30.953125 -1.421875 24.3125 -1.421875 \r\nQ 15.921875 -1.421875 10.953125 3.296875 \r\nQ 6 8.015625 6 15.921875 \r\nQ 6 25.140625 12.171875 29.828125 \r\nQ 18.359375 34.515625 30.609375 34.515625 \r\nL 43.21875 34.515625 \r\nL 43.21875 35.40625 \r\nQ 43.21875 41.609375 39.140625 45 \r\nQ 35.0625 48.390625 27.6875 48.390625 \r\nQ 23 48.390625 18.546875 47.265625 \r\nQ 14.109375 46.140625 10.015625 43.890625 \r\nL 10.015625 52.203125 \r\nQ 14.9375 54.109375 19.578125 55.046875 \r\nQ 24.21875 56 28.609375 56 \r\nQ 40.484375 56 46.34375 49.84375 \r\nQ 52.203125 43.703125 52.203125 31.203125 \r\nz\r\n\" id=\"DejaVuSans-97\"/>\r\n       <path d=\"M 44.28125 53.078125 \r\nL 44.28125 44.578125 \r\nQ 40.484375 46.53125 36.375 47.5 \r\nQ 32.28125 48.484375 27.875 48.484375 \r\nQ 21.1875 48.484375 17.84375 46.4375 \r\nQ 14.5 44.390625 14.5 40.28125 \r\nQ 14.5 37.15625 16.890625 35.375 \r\nQ 19.28125 33.59375 26.515625 31.984375 \r\nL 29.59375 31.296875 \r\nQ 39.15625 29.25 43.1875 25.515625 \r\nQ 47.21875 21.78125 47.21875 15.09375 \r\nQ 47.21875 7.46875 41.1875 3.015625 \r\nQ 35.15625 -1.421875 24.609375 -1.421875 \r\nQ 20.21875 -1.421875 15.453125 -0.5625 \r\nQ 10.6875 0.296875 5.421875 2 \r\nL 5.421875 11.28125 \r\nQ 10.40625 8.6875 15.234375 7.390625 \r\nQ 20.0625 6.109375 24.8125 6.109375 \r\nQ 31.15625 6.109375 34.5625 8.28125 \r\nQ 37.984375 10.453125 37.984375 14.40625 \r\nQ 37.984375 18.0625 35.515625 20.015625 \r\nQ 33.0625 21.96875 24.703125 23.78125 \r\nL 21.578125 24.515625 \r\nQ 13.234375 26.265625 9.515625 29.90625 \r\nQ 5.8125 33.546875 5.8125 39.890625 \r\nQ 5.8125 47.609375 11.28125 51.796875 \r\nQ 16.75 56 26.8125 56 \r\nQ 31.78125 56 36.171875 55.265625 \r\nQ 40.578125 54.546875 44.28125 53.078125 \r\nz\r\n\" id=\"DejaVuSans-115\"/>\r\n      </defs>\r\n      <use xlink:href=\"#DejaVuSans-68\"/>\r\n      <use x=\"77.001953\" xlink:href=\"#DejaVuSans-105\"/>\r\n      <use x=\"104.785156\" xlink:href=\"#DejaVuSans-102\"/>\r\n      <use x=\"139.990234\" xlink:href=\"#DejaVuSans-102\"/>\r\n      <use x=\"175.195312\" xlink:href=\"#DejaVuSans-101\"/>\r\n      <use x=\"236.71875\" xlink:href=\"#DejaVuSans-114\"/>\r\n      <use x=\"275.582031\" xlink:href=\"#DejaVuSans-101\"/>\r\n      <use x=\"337.105469\" xlink:href=\"#DejaVuSans-110\"/>\r\n      <use x=\"400.484375\" xlink:href=\"#DejaVuSans-116\"/>\r\n      <use x=\"439.693359\" xlink:href=\"#DejaVuSans-32\"/>\r\n      <use x=\"471.480469\" xlink:href=\"#DejaVuSans-68\"/>\r\n      <use x=\"548.482422\" xlink:href=\"#DejaVuSans-97\"/>\r\n      <use x=\"609.761719\" xlink:href=\"#DejaVuSans-116\"/>\r\n      <use x=\"648.970703\" xlink:href=\"#DejaVuSans-97\"/>\r\n      <use x=\"710.25\" xlink:href=\"#DejaVuSans-115\"/>\r\n      <use x=\"762.349609\" xlink:href=\"#DejaVuSans-101\"/>\r\n      <use x=\"823.873047\" xlink:href=\"#DejaVuSans-116\"/>\r\n      <use x=\"863.082031\" xlink:href=\"#DejaVuSans-115\"/>\r\n     </g>\r\n    </g>\r\n   </g>\r\n   <g id=\"matplotlib.axis_2\">\r\n    <g id=\"ytick_1\">\r\n     <g id=\"line2d_6\">\r\n      <defs>\r\n       <path d=\"M 0 0 \r\nL -3.5 0 \r\n\" id=\"m5ab43cc588\" style=\"stroke:#000000;stroke-width:0.8;\"/>\r\n      </defs>\r\n      <g>\r\n       <use style=\"stroke:#000000;stroke-width:0.8;\" x=\"43.78125\" xlink:href=\"#m5ab43cc588\" y=\"194.370164\"/>\r\n      </g>\r\n     </g>\r\n     <g id=\"text_7\">\r\n      <!-- 0.6 -->\r\n      <g transform=\"translate(20.878125 198.169383)scale(0.1 -0.1)\">\r\n       <defs>\r\n        <path d=\"M 10.6875 12.40625 \r\nL 21 12.40625 \r\nL 21 0 \r\nL 10.6875 0 \r\nz\r\n\" id=\"DejaVuSans-46\"/>\r\n        <path d=\"M 33.015625 40.375 \r\nQ 26.375 40.375 22.484375 35.828125 \r\nQ 18.609375 31.296875 18.609375 23.390625 \r\nQ 18.609375 15.53125 22.484375 10.953125 \r\nQ 26.375 6.390625 33.015625 6.390625 \r\nQ 39.65625 6.390625 43.53125 10.953125 \r\nQ 47.40625 15.53125 47.40625 23.390625 \r\nQ 47.40625 31.296875 43.53125 35.828125 \r\nQ 39.65625 40.375 33.015625 40.375 \r\nz\r\nM 52.59375 71.296875 \r\nL 52.59375 62.3125 \r\nQ 48.875 64.0625 45.09375 64.984375 \r\nQ 41.3125 65.921875 37.59375 65.921875 \r\nQ 27.828125 65.921875 22.671875 59.328125 \r\nQ 17.53125 52.734375 16.796875 39.40625 \r\nQ 19.671875 43.65625 24.015625 45.921875 \r\nQ 28.375 48.1875 33.59375 48.1875 \r\nQ 44.578125 48.1875 50.953125 41.515625 \r\nQ 57.328125 34.859375 57.328125 23.390625 \r\nQ 57.328125 12.15625 50.6875 5.359375 \r\nQ 44.046875 -1.421875 33.015625 -1.421875 \r\nQ 20.359375 -1.421875 13.671875 8.265625 \r\nQ 6.984375 17.96875 6.984375 36.375 \r\nQ 6.984375 53.65625 15.1875 63.9375 \r\nQ 23.390625 74.21875 37.203125 74.21875 \r\nQ 40.921875 74.21875 44.703125 73.484375 \r\nQ 48.484375 72.75 52.59375 71.296875 \r\nz\r\n\" id=\"DejaVuSans-54\"/>\r\n       </defs>\r\n       <use xlink:href=\"#DejaVuSans-48\"/>\r\n       <use x=\"63.623047\" xlink:href=\"#DejaVuSans-46\"/>\r\n       <use x=\"95.410156\" xlink:href=\"#DejaVuSans-54\"/>\r\n      </g>\r\n     </g>\r\n    </g>\r\n    <g id=\"ytick_2\">\r\n     <g id=\"line2d_7\">\r\n      <g>\r\n       <use style=\"stroke:#000000;stroke-width:0.8;\" x=\"43.78125\" xlink:href=\"#m5ab43cc588\" y=\"146.391347\"/>\r\n      </g>\r\n     </g>\r\n     <g id=\"text_8\">\r\n      <!-- 0.7 -->\r\n      <g transform=\"translate(20.878125 150.190565)scale(0.1 -0.1)\">\r\n       <defs>\r\n        <path d=\"M 8.203125 72.90625 \r\nL 55.078125 72.90625 \r\nL 55.078125 68.703125 \r\nL 28.609375 0 \r\nL 18.3125 0 \r\nL 43.21875 64.59375 \r\nL 8.203125 64.59375 \r\nz\r\n\" id=\"DejaVuSans-55\"/>\r\n       </defs>\r\n       <use xlink:href=\"#DejaVuSans-48\"/>\r\n       <use x=\"63.623047\" xlink:href=\"#DejaVuSans-46\"/>\r\n       <use x=\"95.410156\" xlink:href=\"#DejaVuSans-55\"/>\r\n      </g>\r\n     </g>\r\n    </g>\r\n    <g id=\"ytick_3\">\r\n     <g id=\"line2d_8\">\r\n      <g>\r\n       <use style=\"stroke:#000000;stroke-width:0.8;\" x=\"43.78125\" xlink:href=\"#m5ab43cc588\" y=\"98.412529\"/>\r\n      </g>\r\n     </g>\r\n     <g id=\"text_9\">\r\n      <!-- 0.8 -->\r\n      <g transform=\"translate(20.878125 102.211748)scale(0.1 -0.1)\">\r\n       <defs>\r\n        <path d=\"M 31.78125 34.625 \r\nQ 24.75 34.625 20.71875 30.859375 \r\nQ 16.703125 27.09375 16.703125 20.515625 \r\nQ 16.703125 13.921875 20.71875 10.15625 \r\nQ 24.75 6.390625 31.78125 6.390625 \r\nQ 38.8125 6.390625 42.859375 10.171875 \r\nQ 46.921875 13.96875 46.921875 20.515625 \r\nQ 46.921875 27.09375 42.890625 30.859375 \r\nQ 38.875 34.625 31.78125 34.625 \r\nz\r\nM 21.921875 38.8125 \r\nQ 15.578125 40.375 12.03125 44.71875 \r\nQ 8.5 49.078125 8.5 55.328125 \r\nQ 8.5 64.0625 14.71875 69.140625 \r\nQ 20.953125 74.21875 31.78125 74.21875 \r\nQ 42.671875 74.21875 48.875 69.140625 \r\nQ 55.078125 64.0625 55.078125 55.328125 \r\nQ 55.078125 49.078125 51.53125 44.71875 \r\nQ 48 40.375 41.703125 38.8125 \r\nQ 48.828125 37.15625 52.796875 32.3125 \r\nQ 56.78125 27.484375 56.78125 20.515625 \r\nQ 56.78125 9.90625 50.3125 4.234375 \r\nQ 43.84375 -1.421875 31.78125 -1.421875 \r\nQ 19.734375 -1.421875 13.25 4.234375 \r\nQ 6.78125 9.90625 6.78125 20.515625 \r\nQ 6.78125 27.484375 10.78125 32.3125 \r\nQ 14.796875 37.15625 21.921875 38.8125 \r\nz\r\nM 18.3125 54.390625 \r\nQ 18.3125 48.734375 21.84375 45.5625 \r\nQ 25.390625 42.390625 31.78125 42.390625 \r\nQ 38.140625 42.390625 41.71875 45.5625 \r\nQ 45.3125 48.734375 45.3125 54.390625 \r\nQ 45.3125 60.0625 41.71875 63.234375 \r\nQ 38.140625 66.40625 31.78125 66.40625 \r\nQ 25.390625 66.40625 21.84375 63.234375 \r\nQ 18.3125 60.0625 18.3125 54.390625 \r\nz\r\n\" id=\"DejaVuSans-56\"/>\r\n       </defs>\r\n       <use xlink:href=\"#DejaVuSans-48\"/>\r\n       <use x=\"63.623047\" xlink:href=\"#DejaVuSans-46\"/>\r\n       <use x=\"95.410156\" xlink:href=\"#DejaVuSans-56\"/>\r\n      </g>\r\n     </g>\r\n    </g>\r\n    <g id=\"ytick_4\">\r\n     <g id=\"line2d_9\">\r\n      <g>\r\n       <use style=\"stroke:#000000;stroke-width:0.8;\" x=\"43.78125\" xlink:href=\"#m5ab43cc588\" y=\"50.433712\"/>\r\n      </g>\r\n     </g>\r\n     <g id=\"text_10\">\r\n      <!-- 0.9 -->\r\n      <g transform=\"translate(20.878125 54.232931)scale(0.1 -0.1)\">\r\n       <defs>\r\n        <path d=\"M 10.984375 1.515625 \r\nL 10.984375 10.5 \r\nQ 14.703125 8.734375 18.5 7.8125 \r\nQ 22.3125 6.890625 25.984375 6.890625 \r\nQ 35.75 6.890625 40.890625 13.453125 \r\nQ 46.046875 20.015625 46.78125 33.40625 \r\nQ 43.953125 29.203125 39.59375 26.953125 \r\nQ 35.25 24.703125 29.984375 24.703125 \r\nQ 19.046875 24.703125 12.671875 31.3125 \r\nQ 6.296875 37.9375 6.296875 49.421875 \r\nQ 6.296875 60.640625 12.9375 67.421875 \r\nQ 19.578125 74.21875 30.609375 74.21875 \r\nQ 43.265625 74.21875 49.921875 64.515625 \r\nQ 56.59375 54.828125 56.59375 36.375 \r\nQ 56.59375 19.140625 48.40625 8.859375 \r\nQ 40.234375 -1.421875 26.421875 -1.421875 \r\nQ 22.703125 -1.421875 18.890625 -0.6875 \r\nQ 15.09375 0.046875 10.984375 1.515625 \r\nz\r\nM 30.609375 32.421875 \r\nQ 37.25 32.421875 41.125 36.953125 \r\nQ 45.015625 41.5 45.015625 49.421875 \r\nQ 45.015625 57.28125 41.125 61.84375 \r\nQ 37.25 66.40625 30.609375 66.40625 \r\nQ 23.96875 66.40625 20.09375 61.84375 \r\nQ 16.21875 57.28125 16.21875 49.421875 \r\nQ 16.21875 41.5 20.09375 36.953125 \r\nQ 23.96875 32.421875 30.609375 32.421875 \r\nz\r\n\" id=\"DejaVuSans-57\"/>\r\n       </defs>\r\n       <use xlink:href=\"#DejaVuSans-48\"/>\r\n       <use x=\"63.623047\" xlink:href=\"#DejaVuSans-46\"/>\r\n       <use x=\"95.410156\" xlink:href=\"#DejaVuSans-57\"/>\r\n      </g>\r\n     </g>\r\n    </g>\r\n    <g id=\"text_11\">\r\n     <!-- Accuracy -->\r\n     <g transform=\"translate(14.798438 153.86625)rotate(-90)scale(0.1 -0.1)\">\r\n      <defs>\r\n       <path d=\"M 34.1875 63.1875 \r\nL 20.796875 26.90625 \r\nL 47.609375 26.90625 \r\nz\r\nM 28.609375 72.90625 \r\nL 39.796875 72.90625 \r\nL 67.578125 0 \r\nL 57.328125 0 \r\nL 50.6875 18.703125 \r\nL 17.828125 18.703125 \r\nL 11.1875 0 \r\nL 0.78125 0 \r\nz\r\n\" id=\"DejaVuSans-65\"/>\r\n       <path d=\"M 48.78125 52.59375 \r\nL 48.78125 44.1875 \r\nQ 44.96875 46.296875 41.140625 47.34375 \r\nQ 37.3125 48.390625 33.40625 48.390625 \r\nQ 24.65625 48.390625 19.8125 42.84375 \r\nQ 14.984375 37.3125 14.984375 27.296875 \r\nQ 14.984375 17.28125 19.8125 11.734375 \r\nQ 24.65625 6.203125 33.40625 6.203125 \r\nQ 37.3125 6.203125 41.140625 7.25 \r\nQ 44.96875 8.296875 48.78125 10.40625 \r\nL 48.78125 2.09375 \r\nQ 45.015625 0.34375 40.984375 -0.53125 \r\nQ 36.96875 -1.421875 32.421875 -1.421875 \r\nQ 20.0625 -1.421875 12.78125 6.34375 \r\nQ 5.515625 14.109375 5.515625 27.296875 \r\nQ 5.515625 40.671875 12.859375 48.328125 \r\nQ 20.21875 56 33.015625 56 \r\nQ 37.15625 56 41.109375 55.140625 \r\nQ 45.0625 54.296875 48.78125 52.59375 \r\nz\r\n\" id=\"DejaVuSans-99\"/>\r\n       <path d=\"M 8.5 21.578125 \r\nL 8.5 54.6875 \r\nL 17.484375 54.6875 \r\nL 17.484375 21.921875 \r\nQ 17.484375 14.15625 20.5 10.265625 \r\nQ 23.53125 6.390625 29.59375 6.390625 \r\nQ 36.859375 6.390625 41.078125 11.03125 \r\nQ 45.3125 15.671875 45.3125 23.6875 \r\nL 45.3125 54.6875 \r\nL 54.296875 54.6875 \r\nL 54.296875 0 \r\nL 45.3125 0 \r\nL 45.3125 8.40625 \r\nQ 42.046875 3.421875 37.71875 1 \r\nQ 33.40625 -1.421875 27.6875 -1.421875 \r\nQ 18.265625 -1.421875 13.375 4.4375 \r\nQ 8.5 10.296875 8.5 21.578125 \r\nz\r\nM 31.109375 56 \r\nz\r\n\" id=\"DejaVuSans-117\"/>\r\n       <path d=\"M 32.171875 -5.078125 \r\nQ 28.375 -14.84375 24.75 -17.8125 \r\nQ 21.140625 -20.796875 15.09375 -20.796875 \r\nL 7.90625 -20.796875 \r\nL 7.90625 -13.28125 \r\nL 13.1875 -13.28125 \r\nQ 16.890625 -13.28125 18.9375 -11.515625 \r\nQ 21 -9.765625 23.484375 -3.21875 \r\nL 25.09375 0.875 \r\nL 2.984375 54.6875 \r\nL 12.5 54.6875 \r\nL 29.59375 11.921875 \r\nL 46.6875 54.6875 \r\nL 56.203125 54.6875 \r\nz\r\n\" id=\"DejaVuSans-121\"/>\r\n      </defs>\r\n      <use xlink:href=\"#DejaVuSans-65\"/>\r\n      <use x=\"66.658203\" xlink:href=\"#DejaVuSans-99\"/>\r\n      <use x=\"121.638672\" xlink:href=\"#DejaVuSans-99\"/>\r\n      <use x=\"176.619141\" xlink:href=\"#DejaVuSans-117\"/>\r\n      <use x=\"239.998047\" xlink:href=\"#DejaVuSans-114\"/>\r\n      <use x=\"281.111328\" xlink:href=\"#DejaVuSans-97\"/>\r\n      <use x=\"342.390625\" xlink:href=\"#DejaVuSans-99\"/>\r\n      <use x=\"397.371094\" xlink:href=\"#DejaVuSans-121\"/>\r\n     </g>\r\n    </g>\r\n   </g>\r\n   <g id=\"line2d_10\">\r\n    <path clip-path=\"url(#p7d70f706a0)\" d=\"M 58.999432 32.201761 \r\nL 66.422935 32.201761 \r\nL 73.846438 32.201761 \r\nL 81.269942 32.201761 \r\nL 88.693445 32.201761 \r\nL 96.116948 32.201761 \r\nL 103.540452 32.201761 \r\nL 110.963955 32.201761 \r\nL 118.387458 32.201761 \r\nL 125.810962 32.201761 \r\nL 133.234465 32.201761 \r\nL 140.657968 32.201761 \r\nL 148.081472 32.201761 \r\nL 155.504975 32.201761 \r\nL 162.928478 32.201761 \r\nL 170.351982 32.201761 \r\nL 177.775485 32.201761 \r\nL 185.198988 32.201761 \r\nL 192.622492 32.201761 \r\nL 200.045995 32.201761 \r\nL 207.469498 32.201761 \r\nL 214.893002 32.201761 \r\nL 222.316505 32.201761 \r\nL 229.740008 32.201761 \r\nL 237.163512 32.201761 \r\nL 244.587015 32.201761 \r\nL 252.010518 32.201761 \r\nL 259.434022 32.201761 \r\nL 266.857525 32.201761 \r\nL 274.281028 32.201761 \r\nL 281.704532 32.201761 \r\nL 289.128035 32.201761 \r\nL 296.551538 32.201761 \r\nL 303.975042 32.201761 \r\nL 311.398545 32.201761 \r\nL 318.822048 32.201761 \r\nL 326.245552 32.201761 \r\nL 333.669055 32.201761 \r\nL 341.092558 32.201761 \r\nL 348.516062 32.201761 \r\nL 355.939565 32.201761 \r\nL 363.363068 32.201761 \r\n\" style=\"fill:none;stroke:#1f77b4;stroke-linecap:square;stroke-width:1.5;\"/>\r\n   </g>\r\n   <g id=\"line2d_11\">\r\n    <path clip-path=\"url(#p7d70f706a0)\" d=\"M 58.999432 229.874489 \r\nL 66.422935 229.874489 \r\nL 73.846438 229.874489 \r\nL 81.269942 229.874489 \r\nL 88.693445 229.874489 \r\nL 96.116948 229.874489 \r\nL 103.540452 229.874489 \r\nL 110.963955 229.874489 \r\nL 118.387458 229.874489 \r\nL 125.810962 229.874489 \r\nL 133.234465 229.874489 \r\nL 140.657968 229.874489 \r\nL 148.081472 229.874489 \r\nL 155.504975 229.874489 \r\nL 162.928478 229.874489 \r\nL 170.351982 229.874489 \r\nL 177.775485 229.874489 \r\nL 185.198988 229.874489 \r\nL 192.622492 229.874489 \r\nL 200.045995 229.874489 \r\nL 207.469498 229.874489 \r\nL 214.893002 229.874489 \r\nL 222.316505 229.874489 \r\nL 229.740008 229.874489 \r\nL 237.163512 229.874489 \r\nL 244.587015 229.874489 \r\nL 252.010518 229.874489 \r\nL 259.434022 229.874489 \r\nL 266.857525 229.874489 \r\nL 274.281028 229.874489 \r\nL 281.704532 229.874489 \r\nL 289.128035 229.874489 \r\nL 296.551538 229.874489 \r\nL 303.975042 229.874489 \r\nL 311.398545 229.874489 \r\nL 318.822048 229.874489 \r\nL 326.245552 229.874489 \r\nL 333.669055 229.874489 \r\nL 341.092558 229.874489 \r\nL 348.516062 229.874489 \r\nL 355.939565 229.874489 \r\nL 363.363068 229.874489 \r\n\" style=\"fill:none;stroke:#ff7f0e;stroke-linecap:square;stroke-width:1.5;\"/>\r\n   </g>\r\n   <g id=\"line2d_12\">\r\n    <path clip-path=\"url(#p7d70f706a0)\" d=\"M 58.999432 229.874489 \r\nL 66.422935 228.914912 \r\nL 73.846438 175.178637 \r\nL 81.269942 132.957278 \r\nL 88.693445 120.482785 \r\nL 96.116948 117.604056 \r\nL 103.540452 115.684903 \r\nL 110.963955 117.604056 \r\nL 118.387458 120.482785 \r\nL 125.810962 120.482785 \r\nL 133.234465 120.482785 \r\nL 140.657968 116.64448 \r\nL 148.081472 109.927445 \r\nL 155.504975 107.048716 \r\nL 162.928478 108.008293 \r\nL 170.351982 107.048716 \r\nL 177.775485 107.048716 \r\nL 185.198988 107.048716 \r\nL 192.622492 107.048716 \r\nL 200.045995 103.210411 \r\nL 207.469498 103.210411 \r\nL 214.893002 103.210411 \r\nL 222.316505 103.210411 \r\nL 229.740008 103.210411 \r\nL 237.163512 103.210411 \r\nL 244.587015 103.210411 \r\nL 252.010518 103.210411 \r\nL 259.434022 103.210411 \r\nL 266.857525 103.210411 \r\nL 274.281028 103.210411 \r\nL 281.704532 103.210411 \r\nL 289.128035 103.210411 \r\nL 296.551538 103.210411 \r\nL 303.975042 101.291258 \r\nL 311.398545 98.412529 \r\nL 318.822048 97.452953 \r\nL 326.245552 97.452953 \r\nL 333.669055 97.452953 \r\nL 341.092558 95.5338 \r\nL 348.516062 95.5338 \r\nL 355.939565 90.735918 \r\nL 363.363068 90.735918 \r\n\" style=\"fill:none;stroke:#2ca02c;stroke-linecap:square;stroke-width:1.5;\"/>\r\n   </g>\r\n   <g id=\"patch_3\">\r\n    <path d=\"M 43.78125 239.758125 \r\nL 43.78125 22.318125 \r\n\" style=\"fill:none;stroke:#000000;stroke-linecap:square;stroke-linejoin:miter;stroke-width:0.8;\"/>\r\n   </g>\r\n   <g id=\"patch_4\">\r\n    <path d=\"M 378.58125 239.758125 \r\nL 378.58125 22.318125 \r\n\" style=\"fill:none;stroke:#000000;stroke-linecap:square;stroke-linejoin:miter;stroke-width:0.8;\"/>\r\n   </g>\r\n   <g id=\"patch_5\">\r\n    <path d=\"M 43.78125 239.758125 \r\nL 378.58125 239.758125 \r\n\" style=\"fill:none;stroke:#000000;stroke-linecap:square;stroke-linejoin:miter;stroke-width:0.8;\"/>\r\n   </g>\r\n   <g id=\"patch_6\">\r\n    <path d=\"M 43.78125 22.318125 \r\nL 378.58125 22.318125 \r\n\" style=\"fill:none;stroke:#000000;stroke-linecap:square;stroke-linejoin:miter;stroke-width:0.8;\"/>\r\n   </g>\r\n   <g id=\"text_12\">\r\n    <!-- Accuracy Progress in 20News dataset  -->\r\n    <g transform=\"translate(96.651563 16.318125)scale(0.12 -0.12)\">\r\n     <defs>\r\n      <path d=\"M 19.671875 64.796875 \r\nL 19.671875 37.40625 \r\nL 32.078125 37.40625 \r\nQ 38.96875 37.40625 42.71875 40.96875 \r\nQ 46.484375 44.53125 46.484375 51.125 \r\nQ 46.484375 57.671875 42.71875 61.234375 \r\nQ 38.96875 64.796875 32.078125 64.796875 \r\nz\r\nM 9.8125 72.90625 \r\nL 32.078125 72.90625 \r\nQ 44.34375 72.90625 50.609375 67.359375 \r\nQ 56.890625 61.8125 56.890625 51.125 \r\nQ 56.890625 40.328125 50.609375 34.8125 \r\nQ 44.34375 29.296875 32.078125 29.296875 \r\nL 19.671875 29.296875 \r\nL 19.671875 0 \r\nL 9.8125 0 \r\nz\r\n\" id=\"DejaVuSans-80\"/>\r\n      <path d=\"M 30.609375 48.390625 \r\nQ 23.390625 48.390625 19.1875 42.75 \r\nQ 14.984375 37.109375 14.984375 27.296875 \r\nQ 14.984375 17.484375 19.15625 11.84375 \r\nQ 23.34375 6.203125 30.609375 6.203125 \r\nQ 37.796875 6.203125 41.984375 11.859375 \r\nQ 46.1875 17.53125 46.1875 27.296875 \r\nQ 46.1875 37.015625 41.984375 42.703125 \r\nQ 37.796875 48.390625 30.609375 48.390625 \r\nz\r\nM 30.609375 56 \r\nQ 42.328125 56 49.015625 48.375 \r\nQ 55.71875 40.765625 55.71875 27.296875 \r\nQ 55.71875 13.875 49.015625 6.21875 \r\nQ 42.328125 -1.421875 30.609375 -1.421875 \r\nQ 18.84375 -1.421875 12.171875 6.21875 \r\nQ 5.515625 13.875 5.515625 27.296875 \r\nQ 5.515625 40.765625 12.171875 48.375 \r\nQ 18.84375 56 30.609375 56 \r\nz\r\n\" id=\"DejaVuSans-111\"/>\r\n      <path d=\"M 45.40625 27.984375 \r\nQ 45.40625 37.75 41.375 43.109375 \r\nQ 37.359375 48.484375 30.078125 48.484375 \r\nQ 22.859375 48.484375 18.828125 43.109375 \r\nQ 14.796875 37.75 14.796875 27.984375 \r\nQ 14.796875 18.265625 18.828125 12.890625 \r\nQ 22.859375 7.515625 30.078125 7.515625 \r\nQ 37.359375 7.515625 41.375 12.890625 \r\nQ 45.40625 18.265625 45.40625 27.984375 \r\nz\r\nM 54.390625 6.78125 \r\nQ 54.390625 -7.171875 48.1875 -13.984375 \r\nQ 42 -20.796875 29.203125 -20.796875 \r\nQ 24.46875 -20.796875 20.265625 -20.09375 \r\nQ 16.0625 -19.390625 12.109375 -17.921875 \r\nL 12.109375 -9.1875 \r\nQ 16.0625 -11.328125 19.921875 -12.34375 \r\nQ 23.78125 -13.375 27.78125 -13.375 \r\nQ 36.625 -13.375 41.015625 -8.765625 \r\nQ 45.40625 -4.15625 45.40625 5.171875 \r\nL 45.40625 9.625 \r\nQ 42.625 4.78125 38.28125 2.390625 \r\nQ 33.9375 0 27.875 0 \r\nQ 17.828125 0 11.671875 7.65625 \r\nQ 5.515625 15.328125 5.515625 27.984375 \r\nQ 5.515625 40.671875 11.671875 48.328125 \r\nQ 17.828125 56 27.875 56 \r\nQ 33.9375 56 38.28125 53.609375 \r\nQ 42.625 51.21875 45.40625 46.390625 \r\nL 45.40625 54.6875 \r\nL 54.390625 54.6875 \r\nz\r\n\" id=\"DejaVuSans-103\"/>\r\n      <path d=\"M 9.8125 72.90625 \r\nL 23.09375 72.90625 \r\nL 55.421875 11.921875 \r\nL 55.421875 72.90625 \r\nL 64.984375 72.90625 \r\nL 64.984375 0 \r\nL 51.703125 0 \r\nL 19.390625 60.984375 \r\nL 19.390625 0 \r\nL 9.8125 0 \r\nz\r\n\" id=\"DejaVuSans-78\"/>\r\n      <path d=\"M 4.203125 54.6875 \r\nL 13.1875 54.6875 \r\nL 24.421875 12.015625 \r\nL 35.59375 54.6875 \r\nL 46.1875 54.6875 \r\nL 57.421875 12.015625 \r\nL 68.609375 54.6875 \r\nL 77.59375 54.6875 \r\nL 63.28125 0 \r\nL 52.6875 0 \r\nL 40.921875 44.828125 \r\nL 29.109375 0 \r\nL 18.5 0 \r\nz\r\n\" id=\"DejaVuSans-119\"/>\r\n      <path d=\"M 45.40625 46.390625 \r\nL 45.40625 75.984375 \r\nL 54.390625 75.984375 \r\nL 54.390625 0 \r\nL 45.40625 0 \r\nL 45.40625 8.203125 \r\nQ 42.578125 3.328125 38.25 0.953125 \r\nQ 33.9375 -1.421875 27.875 -1.421875 \r\nQ 17.96875 -1.421875 11.734375 6.484375 \r\nQ 5.515625 14.40625 5.515625 27.296875 \r\nQ 5.515625 40.1875 11.734375 48.09375 \r\nQ 17.96875 56 27.875 56 \r\nQ 33.9375 56 38.25 53.625 \r\nQ 42.578125 51.265625 45.40625 46.390625 \r\nz\r\nM 14.796875 27.296875 \r\nQ 14.796875 17.390625 18.875 11.75 \r\nQ 22.953125 6.109375 30.078125 6.109375 \r\nQ 37.203125 6.109375 41.296875 11.75 \r\nQ 45.40625 17.390625 45.40625 27.296875 \r\nQ 45.40625 37.203125 41.296875 42.84375 \r\nQ 37.203125 48.484375 30.078125 48.484375 \r\nQ 22.953125 48.484375 18.875 42.84375 \r\nQ 14.796875 37.203125 14.796875 27.296875 \r\nz\r\n\" id=\"DejaVuSans-100\"/>\r\n     </defs>\r\n     <use xlink:href=\"#DejaVuSans-65\"/>\r\n     <use x=\"66.658203\" xlink:href=\"#DejaVuSans-99\"/>\r\n     <use x=\"121.638672\" xlink:href=\"#DejaVuSans-99\"/>\r\n     <use x=\"176.619141\" xlink:href=\"#DejaVuSans-117\"/>\r\n     <use x=\"239.998047\" xlink:href=\"#DejaVuSans-114\"/>\r\n     <use x=\"281.111328\" xlink:href=\"#DejaVuSans-97\"/>\r\n     <use x=\"342.390625\" xlink:href=\"#DejaVuSans-99\"/>\r\n     <use x=\"397.371094\" xlink:href=\"#DejaVuSans-121\"/>\r\n     <use x=\"456.550781\" xlink:href=\"#DejaVuSans-32\"/>\r\n     <use x=\"488.337891\" xlink:href=\"#DejaVuSans-80\"/>\r\n     <use x=\"546.890625\" xlink:href=\"#DejaVuSans-114\"/>\r\n     <use x=\"585.753906\" xlink:href=\"#DejaVuSans-111\"/>\r\n     <use x=\"646.935547\" xlink:href=\"#DejaVuSans-103\"/>\r\n     <use x=\"710.412109\" xlink:href=\"#DejaVuSans-114\"/>\r\n     <use x=\"749.275391\" xlink:href=\"#DejaVuSans-101\"/>\r\n     <use x=\"810.798828\" xlink:href=\"#DejaVuSans-115\"/>\r\n     <use x=\"862.898438\" xlink:href=\"#DejaVuSans-115\"/>\r\n     <use x=\"914.998047\" xlink:href=\"#DejaVuSans-32\"/>\r\n     <use x=\"946.785156\" xlink:href=\"#DejaVuSans-105\"/>\r\n     <use x=\"974.568359\" xlink:href=\"#DejaVuSans-110\"/>\r\n     <use x=\"1037.947266\" xlink:href=\"#DejaVuSans-32\"/>\r\n     <use x=\"1069.734375\" xlink:href=\"#DejaVuSans-50\"/>\r\n     <use x=\"1133.357422\" xlink:href=\"#DejaVuSans-48\"/>\r\n     <use x=\"1196.980469\" xlink:href=\"#DejaVuSans-78\"/>\r\n     <use x=\"1271.785156\" xlink:href=\"#DejaVuSans-101\"/>\r\n     <use x=\"1333.308594\" xlink:href=\"#DejaVuSans-119\"/>\r\n     <use x=\"1415.095703\" xlink:href=\"#DejaVuSans-115\"/>\r\n     <use x=\"1467.195312\" xlink:href=\"#DejaVuSans-32\"/>\r\n     <use x=\"1498.982422\" xlink:href=\"#DejaVuSans-100\"/>\r\n     <use x=\"1562.458984\" xlink:href=\"#DejaVuSans-97\"/>\r\n     <use x=\"1623.738281\" xlink:href=\"#DejaVuSans-116\"/>\r\n     <use x=\"1662.947266\" xlink:href=\"#DejaVuSans-97\"/>\r\n     <use x=\"1724.226562\" xlink:href=\"#DejaVuSans-115\"/>\r\n     <use x=\"1776.326172\" xlink:href=\"#DejaVuSans-101\"/>\r\n     <use x=\"1837.849609\" xlink:href=\"#DejaVuSans-116\"/>\r\n     <use x=\"1877.058594\" xlink:href=\"#DejaVuSans-32\"/>\r\n    </g>\r\n   </g>\r\n   <g id=\"legend_1\">\r\n    <g id=\"patch_7\">\r\n     <path d=\"M 203.696875 154.9725 \r\nL 371.58125 154.9725 \r\nQ 373.58125 154.9725 373.58125 152.9725 \r\nL 373.58125 109.10375 \r\nQ 373.58125 107.10375 371.58125 107.10375 \r\nL 203.696875 107.10375 \r\nQ 201.696875 107.10375 201.696875 109.10375 \r\nL 201.696875 152.9725 \r\nQ 201.696875 154.9725 203.696875 154.9725 \r\nz\r\n\" style=\"fill:#ffffff;opacity:0.8;stroke:#cccccc;stroke-linejoin:miter;\"/>\r\n    </g>\r\n    <g id=\"line2d_13\">\r\n     <path d=\"M 205.696875 115.202187 \r\nL 225.696875 115.202187 \r\n\" style=\"fill:none;stroke:#1f77b4;stroke-linecap:square;stroke-width:1.5;\"/>\r\n    </g>\r\n    <g id=\"line2d_14\"/>\r\n    <g id=\"text_13\">\r\n     <!-- accuracy_original -->\r\n     <g transform=\"translate(233.696875 118.702187)scale(0.1 -0.1)\">\r\n      <defs>\r\n       <path d=\"M 50.984375 -16.609375 \r\nL 50.984375 -23.578125 \r\nL -0.984375 -23.578125 \r\nL -0.984375 -16.609375 \r\nz\r\n\" id=\"DejaVuSans-95\"/>\r\n       <path d=\"M 9.421875 75.984375 \r\nL 18.40625 75.984375 \r\nL 18.40625 0 \r\nL 9.421875 0 \r\nz\r\n\" id=\"DejaVuSans-108\"/>\r\n      </defs>\r\n      <use xlink:href=\"#DejaVuSans-97\"/>\r\n      <use x=\"61.279297\" xlink:href=\"#DejaVuSans-99\"/>\r\n      <use x=\"116.259766\" xlink:href=\"#DejaVuSans-99\"/>\r\n      <use x=\"171.240234\" xlink:href=\"#DejaVuSans-117\"/>\r\n      <use x=\"234.619141\" xlink:href=\"#DejaVuSans-114\"/>\r\n      <use x=\"275.732422\" xlink:href=\"#DejaVuSans-97\"/>\r\n      <use x=\"337.011719\" xlink:href=\"#DejaVuSans-99\"/>\r\n      <use x=\"391.992188\" xlink:href=\"#DejaVuSans-121\"/>\r\n      <use x=\"451.171875\" xlink:href=\"#DejaVuSans-95\"/>\r\n      <use x=\"501.171875\" xlink:href=\"#DejaVuSans-111\"/>\r\n      <use x=\"562.353516\" xlink:href=\"#DejaVuSans-114\"/>\r\n      <use x=\"603.466797\" xlink:href=\"#DejaVuSans-105\"/>\r\n      <use x=\"631.25\" xlink:href=\"#DejaVuSans-103\"/>\r\n      <use x=\"694.726562\" xlink:href=\"#DejaVuSans-105\"/>\r\n      <use x=\"722.509766\" xlink:href=\"#DejaVuSans-110\"/>\r\n      <use x=\"785.888672\" xlink:href=\"#DejaVuSans-97\"/>\r\n      <use x=\"847.167969\" xlink:href=\"#DejaVuSans-108\"/>\r\n     </g>\r\n    </g>\r\n    <g id=\"line2d_15\">\r\n     <path d=\"M 205.696875 130.158437 \r\nL 225.696875 130.158437 \r\n\" style=\"fill:none;stroke:#ff7f0e;stroke-linecap:square;stroke-width:1.5;\"/>\r\n    </g>\r\n    <g id=\"line2d_16\"/>\r\n    <g id=\"text_14\">\r\n     <!-- accuracy_directly_transfer -->\r\n     <g transform=\"translate(233.696875 133.658437)scale(0.1 -0.1)\">\r\n      <use xlink:href=\"#DejaVuSans-97\"/>\r\n      <use x=\"61.279297\" xlink:href=\"#DejaVuSans-99\"/>\r\n      <use x=\"116.259766\" xlink:href=\"#DejaVuSans-99\"/>\r\n      <use x=\"171.240234\" xlink:href=\"#DejaVuSans-117\"/>\r\n      <use x=\"234.619141\" xlink:href=\"#DejaVuSans-114\"/>\r\n      <use x=\"275.732422\" xlink:href=\"#DejaVuSans-97\"/>\r\n      <use x=\"337.011719\" xlink:href=\"#DejaVuSans-99\"/>\r\n      <use x=\"391.992188\" xlink:href=\"#DejaVuSans-121\"/>\r\n      <use x=\"451.171875\" xlink:href=\"#DejaVuSans-95\"/>\r\n      <use x=\"501.171875\" xlink:href=\"#DejaVuSans-100\"/>\r\n      <use x=\"564.648438\" xlink:href=\"#DejaVuSans-105\"/>\r\n      <use x=\"592.431641\" xlink:href=\"#DejaVuSans-114\"/>\r\n      <use x=\"631.294922\" xlink:href=\"#DejaVuSans-101\"/>\r\n      <use x=\"692.818359\" xlink:href=\"#DejaVuSans-99\"/>\r\n      <use x=\"747.798828\" xlink:href=\"#DejaVuSans-116\"/>\r\n      <use x=\"787.007812\" xlink:href=\"#DejaVuSans-108\"/>\r\n      <use x=\"814.791016\" xlink:href=\"#DejaVuSans-121\"/>\r\n      <use x=\"873.970703\" xlink:href=\"#DejaVuSans-95\"/>\r\n      <use x=\"923.970703\" xlink:href=\"#DejaVuSans-116\"/>\r\n      <use x=\"963.179688\" xlink:href=\"#DejaVuSans-114\"/>\r\n      <use x=\"1004.292969\" xlink:href=\"#DejaVuSans-97\"/>\r\n      <use x=\"1065.572266\" xlink:href=\"#DejaVuSans-110\"/>\r\n      <use x=\"1128.951172\" xlink:href=\"#DejaVuSans-115\"/>\r\n      <use x=\"1181.050781\" xlink:href=\"#DejaVuSans-102\"/>\r\n      <use x=\"1216.255859\" xlink:href=\"#DejaVuSans-101\"/>\r\n      <use x=\"1277.779297\" xlink:href=\"#DejaVuSans-114\"/>\r\n     </g>\r\n    </g>\r\n    <g id=\"line2d_17\">\r\n     <path d=\"M 205.696875 145.114687 \r\nL 225.696875 145.114687 \r\n\" style=\"fill:none;stroke:#2ca02c;stroke-linecap:square;stroke-width:1.5;\"/>\r\n    </g>\r\n    <g id=\"line2d_18\"/>\r\n    <g id=\"text_15\">\r\n     <!-- accuracy_relevant_transfer -->\r\n     <g transform=\"translate(233.696875 148.614687)scale(0.1 -0.1)\">\r\n      <defs>\r\n       <path d=\"M 2.984375 54.6875 \r\nL 12.5 54.6875 \r\nL 29.59375 8.796875 \r\nL 46.6875 54.6875 \r\nL 56.203125 54.6875 \r\nL 35.6875 0 \r\nL 23.484375 0 \r\nz\r\n\" id=\"DejaVuSans-118\"/>\r\n      </defs>\r\n      <use xlink:href=\"#DejaVuSans-97\"/>\r\n      <use x=\"61.279297\" xlink:href=\"#DejaVuSans-99\"/>\r\n      <use x=\"116.259766\" xlink:href=\"#DejaVuSans-99\"/>\r\n      <use x=\"171.240234\" xlink:href=\"#DejaVuSans-117\"/>\r\n      <use x=\"234.619141\" xlink:href=\"#DejaVuSans-114\"/>\r\n      <use x=\"275.732422\" xlink:href=\"#DejaVuSans-97\"/>\r\n      <use x=\"337.011719\" xlink:href=\"#DejaVuSans-99\"/>\r\n      <use x=\"391.992188\" xlink:href=\"#DejaVuSans-121\"/>\r\n      <use x=\"451.171875\" xlink:href=\"#DejaVuSans-95\"/>\r\n      <use x=\"501.171875\" xlink:href=\"#DejaVuSans-114\"/>\r\n      <use x=\"540.035156\" xlink:href=\"#DejaVuSans-101\"/>\r\n      <use x=\"601.558594\" xlink:href=\"#DejaVuSans-108\"/>\r\n      <use x=\"629.341797\" xlink:href=\"#DejaVuSans-101\"/>\r\n      <use x=\"690.865234\" xlink:href=\"#DejaVuSans-118\"/>\r\n      <use x=\"750.044922\" xlink:href=\"#DejaVuSans-97\"/>\r\n      <use x=\"811.324219\" xlink:href=\"#DejaVuSans-110\"/>\r\n      <use x=\"874.703125\" xlink:href=\"#DejaVuSans-116\"/>\r\n      <use x=\"913.912109\" xlink:href=\"#DejaVuSans-95\"/>\r\n      <use x=\"963.912109\" xlink:href=\"#DejaVuSans-116\"/>\r\n      <use x=\"1003.121094\" xlink:href=\"#DejaVuSans-114\"/>\r\n      <use x=\"1044.234375\" xlink:href=\"#DejaVuSans-97\"/>\r\n      <use x=\"1105.513672\" xlink:href=\"#DejaVuSans-110\"/>\r\n      <use x=\"1168.892578\" xlink:href=\"#DejaVuSans-115\"/>\r\n      <use x=\"1220.992188\" xlink:href=\"#DejaVuSans-102\"/>\r\n      <use x=\"1256.197266\" xlink:href=\"#DejaVuSans-101\"/>\r\n      <use x=\"1317.720703\" xlink:href=\"#DejaVuSans-114\"/>\r\n     </g>\r\n    </g>\r\n   </g>\r\n  </g>\r\n </g>\r\n <defs>\r\n  <clipPath id=\"p7d70f706a0\">\r\n   <rect height=\"217.44\" width=\"334.8\" x=\"43.78125\" y=\"22.318125\"/>\r\n  </clipPath>\r\n </defs>\r\n</svg>\r\n",
      "image/png": "[encoded data removed]"
     },
     "metadata": {
      "needs_background": "light"
     }
    }
   ],
   "source": [
    "from matplotlib import pyplot as plt\n",
    "plt.plot(range(len(accuracy_original_list2)), accuracy_original_list2, label='accuracy_original')\n",
    "plt.plot(range(len(accuracy_transfer_list2)), accuracy_transfer_list2, label='accuracy_directly_transfer')\n",
    "plt.plot(range(len(accuracy_progress_list2)), accuracy_progress_list2, label='accuracy_relevant_transfer')\n",
    "\n",
    "plt.title('Accuracy Progress in 20News dataset ')\n",
    "plt.xlabel('Different Datasets')\n",
    "plt.ylabel('Accuracy')\n",
    "plt.legend()\n",
    "plt.show()"
   ]
  },
  {
   "cell_type": "code",
   "execution_count": 1,
   "metadata": {},
   "outputs": [
    {
     "output_type": "error",
     "ename": "KeyboardInterrupt",
     "evalue": "",
     "traceback": [
      "\u001b[1;31m---------------------------------------------------------------------------\u001b[0m",
      "\u001b[1;31mKeyboardInterrupt\u001b[0m                         Traceback (most recent call last)",
      "\u001b[1;32m<ipython-input-1-b9494d34f42c>\u001b[0m in \u001b[0;36m<module>\u001b[1;34m\u001b[0m\n\u001b[0;32m      3\u001b[0m \u001b[0mtesting_paths\u001b[0m \u001b[1;33m=\u001b[0m \u001b[1;33m[\u001b[0m\u001b[1;34m'./20news-18828/comp.windows.x'\u001b[0m\u001b[1;33m,\u001b[0m \u001b[1;34m'./20news-18828/rec.sport.hockey'\u001b[0m\u001b[1;33m,\u001b[0m \u001b[1;34m'./20news-18828/sci.space'\u001b[0m\u001b[1;33m,\u001b[0m \u001b[1;34m'./20news-18828/talk.religion.misc'\u001b[0m\u001b[1;33m]\u001b[0m\u001b[1;33m\u001b[0m\u001b[1;33m\u001b[0m\u001b[0m\n\u001b[0;32m      4\u001b[0m \u001b[1;33m\u001b[0m\u001b[0m\n\u001b[1;32m----> 5\u001b[1;33m \u001b[0maccuracy_original_list\u001b[0m\u001b[1;33m,\u001b[0m \u001b[0maccuracy_transfer_list\u001b[0m\u001b[1;33m,\u001b[0m \u001b[0maccuracy_relevant_transfer_list\u001b[0m \u001b[1;33m=\u001b[0m \u001b[0mNB_relevant_NB_retraining_v2_model\u001b[0m\u001b[1;33m(\u001b[0m\u001b[1;34m'./20news-18828/alt.atheism'\u001b[0m\u001b[1;33m,\u001b[0m \u001b[1;34m'./20news-18828/comp.graphics'\u001b[0m\u001b[1;33m,\u001b[0m \u001b[0mtraining_paths\u001b[0m\u001b[1;33m,\u001b[0m \u001b[0mtesting_paths\u001b[0m\u001b[1;33m)\u001b[0m\u001b[1;33m\u001b[0m\u001b[1;33m\u001b[0m\u001b[0m\n\u001b[0m",
      "\u001b[1;32mc:\\Users\\rando\\OneDrive\\Working\\transfer learning\\NB_Relevance.py\u001b[0m in \u001b[0;36mNB_relevant_NB_retraining_v2_model\u001b[1;34m(postive_folder_path, negative_folder_path, training_paths, testing_paths)\u001b[0m\n\u001b[0;32m    376\u001b[0m         \u001b[1;31m# merge new words of current model into pre-model\u001b[0m\u001b[1;33m\u001b[0m\u001b[1;33m\u001b[0m\u001b[1;33m\u001b[0m\u001b[0m\n\u001b[0;32m    377\u001b[0m         \u001b[1;32mfor\u001b[0m \u001b[0mword\u001b[0m \u001b[1;32min\u001b[0m \u001b[0mprior_knowledge_transfer\u001b[0m\u001b[1;33m.\u001b[0m\u001b[0mkeys\u001b[0m\u001b[1;33m(\u001b[0m\u001b[1;33m)\u001b[0m\u001b[1;33m:\u001b[0m\u001b[1;33m\u001b[0m\u001b[1;33m\u001b[0m\u001b[0m\n\u001b[1;32m--> 378\u001b[1;33m             \u001b[1;32mif\u001b[0m \u001b[0mword\u001b[0m \u001b[1;32mnot\u001b[0m \u001b[1;32min\u001b[0m \u001b[0mprior_knowledge\u001b[0m\u001b[1;33m.\u001b[0m\u001b[0mkeys\u001b[0m\u001b[1;33m(\u001b[0m\u001b[1;33m)\u001b[0m\u001b[1;33m:\u001b[0m\u001b[1;33m\u001b[0m\u001b[1;33m\u001b[0m\u001b[0m\n\u001b[0m\u001b[0;32m    379\u001b[0m                 \u001b[0mprior_knowledge\u001b[0m\u001b[1;33m[\u001b[0m\u001b[0mword\u001b[0m\u001b[1;33m]\u001b[0m \u001b[1;33m=\u001b[0m \u001b[0mprior_knowledge_transfer\u001b[0m\u001b[1;33m[\u001b[0m\u001b[0mword\u001b[0m\u001b[1;33m]\u001b[0m\u001b[1;33m\u001b[0m\u001b[1;33m\u001b[0m\u001b[0m\n\u001b[0;32m    380\u001b[0m \u001b[1;33m\u001b[0m\u001b[0m\n",
      "\u001b[1;32mc:\\Users\\rando\\OneDrive\\Working\\transfer learning\\NB_Relevance.py\u001b[0m in \u001b[0;36mcal_relevance\u001b[1;34m(prior_knowledge, prior_knowledge_transfer)\u001b[0m\n\u001b[0;32m     19\u001b[0m             \u001b[0mpositive_common_prob_transfer\u001b[0m \u001b[1;33m+=\u001b[0m \u001b[0mprior_knowledge_transfer\u001b[0m\u001b[1;33m[\u001b[0m\u001b[0mword\u001b[0m\u001b[1;33m]\u001b[0m\u001b[1;33m[\u001b[0m\u001b[1;36m0\u001b[0m\u001b[1;33m]\u001b[0m\u001b[1;33m\u001b[0m\u001b[1;33m\u001b[0m\u001b[0m\n\u001b[0;32m     20\u001b[0m             \u001b[0mnegative_common_prob\u001b[0m \u001b[1;33m+=\u001b[0m \u001b[0mprior_knowledge\u001b[0m\u001b[1;33m[\u001b[0m\u001b[0mword\u001b[0m\u001b[1;33m]\u001b[0m\u001b[1;33m[\u001b[0m\u001b[1;36m1\u001b[0m\u001b[1;33m]\u001b[0m\u001b[1;33m\u001b[0m\u001b[1;33m\u001b[0m\u001b[0m\n\u001b[1;32m---> 21\u001b[1;33m             \u001b[0mnegative_common_prob_transfer\u001b[0m \u001b[1;33m+=\u001b[0m \u001b[0mprior_knowledge_transfer\u001b[0m\u001b[1;33m[\u001b[0m\u001b[0mword\u001b[0m\u001b[1;33m]\u001b[0m\u001b[1;33m[\u001b[0m\u001b[1;36m1\u001b[0m\u001b[1;33m]\u001b[0m\u001b[1;33m\u001b[0m\u001b[1;33m\u001b[0m\u001b[0m\n\u001b[0m\u001b[0;32m     22\u001b[0m             \u001b[1;32mif\u001b[0m \u001b[0mprior_knowledge\u001b[0m\u001b[1;33m[\u001b[0m\u001b[0mword\u001b[0m\u001b[1;33m]\u001b[0m\u001b[1;33m[\u001b[0m\u001b[1;36m0\u001b[0m\u001b[1;33m]\u001b[0m \u001b[1;33m>\u001b[0m \u001b[0mpositive_common_max_prob\u001b[0m\u001b[1;33m:\u001b[0m\u001b[1;33m\u001b[0m\u001b[1;33m\u001b[0m\u001b[0m\n\u001b[0;32m     23\u001b[0m                 \u001b[0mpositive_common_max_prob\u001b[0m \u001b[1;33m=\u001b[0m \u001b[0mprior_knowledge\u001b[0m\u001b[1;33m[\u001b[0m\u001b[0mword\u001b[0m\u001b[1;33m]\u001b[0m\u001b[1;33m[\u001b[0m\u001b[1;36m0\u001b[0m\u001b[1;33m]\u001b[0m\u001b[1;33m\u001b[0m\u001b[1;33m\u001b[0m\u001b[0m\n",
      "\u001b[1;31mKeyboardInterrupt\u001b[0m: "
     ]
    }
   ],
   "source": [
    "from NB_Relevance import NB_relevant_NB_retraining_v2_model\n",
    "training_paths = ['./20news-18828/comp.os.ms-windows.misc', './20news-18828/comp.sys.ibm.pc.hardware', './20news-18828/comp.sys.mac.hardware', './20news-18828/misc.forsale', './20news-18828/rec.autos', './20news-18828/rec.motorcycles', './20news-18828/rec.sport.baseball', './20news-18828/sci.crypt', './20news-18828/sci.electronics', './20news-18828/sci.med', './20news-18828/soc.religion.christian', './20news-18828/talk.politics.guns', './20news-18828/talk.politics.mideast', './20news-18828/talk.politics.misc']\n",
    "testing_paths = ['./20news-18828/comp.windows.x', './20news-18828/rec.sport.hockey', './20news-18828/sci.space', './20news-18828/talk.religion.misc']\n",
    "\n",
    "accuracy_original_list, accuracy_transfer_list, accuracy_relevant_transfer_list = NB_relevant_NB_retraining_v2_model('./20news-18828/alt.atheism', './20news-18828/comp.graphics', training_paths, testing_paths)"
   ]
  },
  {
   "cell_type": "code",
   "execution_count": null,
   "metadata": {},
   "outputs": [],
   "source": [
    "from matplotlib import pyplot as plt\n",
    "plt.plot(range(len(accuracy_original_list)), accuracy_original_list, label='accuracy_original')\n",
    "plt.plot(range(len(accuracy_transfer_list)), accuracy_transfer_list, label='accuracy_directly_transfer')\n",
    "plt.plot(range(len(accuracy_progress_list)), accuracy_progress_list, label='accuracy_relevant_transfer')\n",
    "\n",
    "plt.title('Accuracy Comparasion of a Comprehensive Model on New Datasets')\n",
    "plt.xlabel('Different Datasets')\n",
    "plt.ylabel('Accuracy')\n",
    "plt.legend()\n",
    "plt.show()"
   ]
  },
  {
   "cell_type": "code",
   "execution_count": 1,
   "metadata": {},
   "outputs": [],
   "source": [
    "from NB_Relevance import NB_relevant_NB_retraining_v3\n",
    "\n",
    "comp_list = ['./20news-18828/comp.os.ms-windows.misc', './20news-18828/comp.sys.ibm.pc.hardware', './20news-18828/comp.sys.mac.hardware', './20news-18828/comp.windows.x']\n",
    "rec_list = ['./20news-18828/rec.autos', './20news-18828/rec.motorcycles', './20news-18828/rec.sport.baseball', './20news-18828/rec.sport.hockey']\n",
    "sci_list = ['./20news-18828/sci.crypt', './20news-18828/sci.electronics', './20news-18828/sci.med', './20news-18828/sci.med']\n",
    "talk_list = ['./20news-18828/talk.politics.guns', './20news-18828/talk.politics.mideast', './20news-18828/talk.politics.misc', './20news-18828/talk.religion.misc']\n",
    "\n"
   ]
  },
  {
   "cell_type": "code",
   "execution_count": 5,
   "metadata": {},
   "outputs": [
    {
     "output_type": "stream",
     "name": "stdout",
     "text": [
      "Pre-model is built\n",
      "Target-model is built\n",
      "accuracy(no_transfer):  0.916\n",
      "accuracy(directly_transfer):  0.482\n",
      "Retraining start...\n",
      "Retraining end...\n",
      "accuracy_relevant_transfer:  0.826\n",
      "Pre-model is built\n",
      "Target-model is built\n",
      "accuracy(no_transfer):  0.902\n",
      "accuracy(directly_transfer):  0.474\n",
      "Retraining start...\n",
      "Retraining end...\n",
      "accuracy_relevant_transfer:  0.788\n"
     ]
    },
    {
     "output_type": "error",
     "ename": "KeyboardInterrupt",
     "evalue": "",
     "traceback": [
      "\u001b[1;31m---------------------------------------------------------------------------\u001b[0m",
      "\u001b[1;31mKeyboardInterrupt\u001b[0m                         Traceback (most recent call last)",
      "\u001b[1;32m<ipython-input-5-11b2a657378f>\u001b[0m in \u001b[0;36m<module>\u001b[1;34m\u001b[0m\n\u001b[0;32m     11\u001b[0m \u001b[0maccuracy_transfer_list\u001b[0m\u001b[1;33m.\u001b[0m\u001b[0mappend\u001b[0m\u001b[1;33m(\u001b[0m\u001b[0maccuracy_transfer\u001b[0m\u001b[1;33m)\u001b[0m\u001b[1;33m\u001b[0m\u001b[1;33m\u001b[0m\u001b[0m\n\u001b[0;32m     12\u001b[0m \u001b[0maccuracy_relevant_transfer_list\u001b[0m\u001b[1;33m.\u001b[0m\u001b[0mappend\u001b[0m\u001b[1;33m(\u001b[0m\u001b[0maccuracy_relevant_transfer\u001b[0m\u001b[1;33m)\u001b[0m\u001b[1;33m\u001b[0m\u001b[1;33m\u001b[0m\u001b[0m\n\u001b[1;32m---> 13\u001b[1;33m \u001b[0maccuracy_original\u001b[0m\u001b[1;33m,\u001b[0m \u001b[0maccuracy_transfer\u001b[0m\u001b[1;33m,\u001b[0m \u001b[0maccuracy_relevant_transfer\u001b[0m \u001b[1;33m=\u001b[0m \u001b[0mNB_relevant_NB_retraining_v3\u001b[0m\u001b[1;33m(\u001b[0m\u001b[0mcomp_list\u001b[0m\u001b[1;33m[\u001b[0m\u001b[1;36m0\u001b[0m\u001b[1;33m]\u001b[0m\u001b[1;33m,\u001b[0m \u001b[0mcomp_list\u001b[0m\u001b[1;33m[\u001b[0m\u001b[1;36m3\u001b[0m\u001b[1;33m]\u001b[0m\u001b[1;33m,\u001b[0m \u001b[1;36m1200\u001b[0m\u001b[1;33m,\u001b[0m \u001b[1;36m0\u001b[0m\u001b[1;33m,\u001b[0m \u001b[0mcomp_list\u001b[0m\u001b[1;33m[\u001b[0m\u001b[1;36m1\u001b[0m\u001b[1;33m]\u001b[0m\u001b[1;33m,\u001b[0m \u001b[0mcomp_list\u001b[0m\u001b[1;33m[\u001b[0m\u001b[1;36m2\u001b[0m\u001b[1;33m]\u001b[0m\u001b[1;33m,\u001b[0m \u001b[1;36m50\u001b[0m\u001b[1;33m,\u001b[0m \u001b[1;36m500\u001b[0m\u001b[1;33m)\u001b[0m\u001b[1;33m\u001b[0m\u001b[1;33m\u001b[0m\u001b[0m\n\u001b[0m\u001b[0;32m     14\u001b[0m \u001b[0maccuracy_original_list\u001b[0m\u001b[1;33m.\u001b[0m\u001b[0mappend\u001b[0m\u001b[1;33m(\u001b[0m\u001b[0maccuracy_original\u001b[0m\u001b[1;33m)\u001b[0m\u001b[1;33m\u001b[0m\u001b[1;33m\u001b[0m\u001b[0m\n\u001b[0;32m     15\u001b[0m \u001b[0maccuracy_transfer_list\u001b[0m\u001b[1;33m.\u001b[0m\u001b[0mappend\u001b[0m\u001b[1;33m(\u001b[0m\u001b[0maccuracy_transfer\u001b[0m\u001b[1;33m)\u001b[0m\u001b[1;33m\u001b[0m\u001b[1;33m\u001b[0m\u001b[0m\n",
      "\u001b[1;32mc:\\Users\\rando\\OneDrive\\Working\\transfer learning\\NB_Relevance.py\u001b[0m in \u001b[0;36mNB_relevant_NB_retraining_v3\u001b[1;34m(postive_folder_path, negative_folder_path, training_size, testing_size, postive_folder_path_transfer, negative_folder_path_transfer, training_size_transfer, testing_size_transfer)\u001b[0m\n\u001b[0;32m    475\u001b[0m \u001b[1;32mdef\u001b[0m \u001b[0mNB_relevant_NB_retraining_v3\u001b[0m\u001b[1;33m(\u001b[0m\u001b[0mpostive_folder_path\u001b[0m\u001b[1;33m,\u001b[0m \u001b[0mnegative_folder_path\u001b[0m\u001b[1;33m,\u001b[0m \u001b[0mtraining_size\u001b[0m\u001b[1;33m,\u001b[0m \u001b[0mtesting_size\u001b[0m\u001b[1;33m,\u001b[0m \u001b[0mpostive_folder_path_transfer\u001b[0m\u001b[1;33m,\u001b[0m \u001b[0mnegative_folder_path_transfer\u001b[0m\u001b[1;33m,\u001b[0m \u001b[0mtraining_size_transfer\u001b[0m\u001b[1;33m,\u001b[0m \u001b[0mtesting_size_transfer\u001b[0m\u001b[1;33m)\u001b[0m\u001b[1;33m:\u001b[0m\u001b[1;33m\u001b[0m\u001b[1;33m\u001b[0m\u001b[0m\n\u001b[0;32m    476\u001b[0m     \u001b[1;31m# pre-trained model\u001b[0m\u001b[1;33m\u001b[0m\u001b[1;33m\u001b[0m\u001b[1;33m\u001b[0m\u001b[0m\n\u001b[1;32m--> 477\u001b[1;33m     \u001b[0my1_prob\u001b[0m\u001b[1;33m,\u001b[0m \u001b[0my0_prob\u001b[0m\u001b[1;33m,\u001b[0m \u001b[0mprior_knowledge\u001b[0m\u001b[1;33m,\u001b[0m \u001b[0mtraining_data_table\u001b[0m\u001b[1;33m,\u001b[0m \u001b[0mtesting_data_table\u001b[0m \u001b[1;33m=\u001b[0m \u001b[0mcal_model\u001b[0m\u001b[1;33m(\u001b[0m\u001b[0mpostive_folder_path\u001b[0m\u001b[1;33m,\u001b[0m \u001b[0mnegative_folder_path\u001b[0m\u001b[1;33m,\u001b[0m \u001b[0mtraining_size\u001b[0m\u001b[1;33m,\u001b[0m \u001b[0mtesting_size\u001b[0m\u001b[1;33m)\u001b[0m\u001b[1;33m\u001b[0m\u001b[1;33m\u001b[0m\u001b[0m\n\u001b[0m\u001b[0;32m    478\u001b[0m     \u001b[0mprint\u001b[0m\u001b[1;33m(\u001b[0m\u001b[1;34m'Pre-model is built'\u001b[0m\u001b[1;33m)\u001b[0m\u001b[1;33m\u001b[0m\u001b[1;33m\u001b[0m\u001b[0m\n\u001b[0;32m    479\u001b[0m \u001b[1;33m\u001b[0m\u001b[0m\n",
      "\u001b[1;32mc:\\Users\\rando\\OneDrive\\Working\\transfer learning\\NB_Relevance.py\u001b[0m in \u001b[0;36mcal_model\u001b[1;34m(postive_folder_path, negative_folder_path, training_size, testing_size)\u001b[0m\n\u001b[0;32m     83\u001b[0m \u001b[1;33m\u001b[0m\u001b[0m\n\u001b[0;32m     84\u001b[0m \u001b[1;32mdef\u001b[0m \u001b[0mcal_model\u001b[0m\u001b[1;33m(\u001b[0m\u001b[0mpostive_folder_path\u001b[0m\u001b[1;33m,\u001b[0m \u001b[0mnegative_folder_path\u001b[0m\u001b[1;33m,\u001b[0m \u001b[0mtraining_size\u001b[0m\u001b[1;33m,\u001b[0m \u001b[0mtesting_size\u001b[0m\u001b[1;33m)\u001b[0m\u001b[1;33m:\u001b[0m\u001b[1;33m\u001b[0m\u001b[1;33m\u001b[0m\u001b[0m\n\u001b[1;32m---> 85\u001b[1;33m     \u001b[0mtraining_data_table\u001b[0m\u001b[1;33m,\u001b[0m \u001b[0mtesting_data_table\u001b[0m \u001b[1;33m=\u001b[0m \u001b[0mcreate_dataset\u001b[0m\u001b[1;33m(\u001b[0m\u001b[0mpostive_folder_path\u001b[0m\u001b[1;33m,\u001b[0m \u001b[0mnegative_folder_path\u001b[0m\u001b[1;33m,\u001b[0m \u001b[0mtraining_size\u001b[0m\u001b[1;33m,\u001b[0m \u001b[0mtesting_size\u001b[0m\u001b[1;33m)\u001b[0m\u001b[1;33m\u001b[0m\u001b[1;33m\u001b[0m\u001b[0m\n\u001b[0m\u001b[0;32m     86\u001b[0m     \u001b[0my1_count\u001b[0m \u001b[1;33m=\u001b[0m \u001b[1;36m0\u001b[0m\u001b[1;33m\u001b[0m\u001b[1;33m\u001b[0m\u001b[0m\n\u001b[0;32m     87\u001b[0m     \u001b[0my0_count\u001b[0m \u001b[1;33m=\u001b[0m \u001b[1;36m0\u001b[0m\u001b[1;33m\u001b[0m\u001b[1;33m\u001b[0m\u001b[0m\n",
      "\u001b[1;32mc:\\Users\\rando\\OneDrive\\Working\\transfer learning\\parseData.py\u001b[0m in \u001b[0;36mcreate_dataset\u001b[1;34m(postive_folder_path, negative_folder_path, training_size, testing_size)\u001b[0m\n\u001b[0;32m     81\u001b[0m     \u001b[1;32mfor\u001b[0m \u001b[0mi\u001b[0m \u001b[1;32min\u001b[0m \u001b[0mrange\u001b[0m\u001b[1;33m(\u001b[0m\u001b[0mtraining_half\u001b[0m\u001b[1;33m)\u001b[0m\u001b[1;33m:\u001b[0m\u001b[1;33m\u001b[0m\u001b[1;33m\u001b[0m\u001b[0m\n\u001b[0;32m     82\u001b[0m         \u001b[0mfile_path\u001b[0m \u001b[1;33m=\u001b[0m \u001b[0mos\u001b[0m\u001b[1;33m.\u001b[0m\u001b[0mpath\u001b[0m\u001b[1;33m.\u001b[0m\u001b[0mjoin\u001b[0m\u001b[1;33m(\u001b[0m\u001b[0mnegative_folder_path\u001b[0m\u001b[1;33m,\u001b[0m \u001b[0mfilenames\u001b[0m\u001b[1;33m[\u001b[0m\u001b[0mi\u001b[0m\u001b[1;33m]\u001b[0m\u001b[1;33m)\u001b[0m\u001b[1;33m\u001b[0m\u001b[1;33m\u001b[0m\u001b[0m\n\u001b[1;32m---> 83\u001b[1;33m         \u001b[0mtraining_bags\u001b[0m\u001b[1;33m[\u001b[0m\u001b[0mtraining_half\u001b[0m\u001b[1;33m+\u001b[0m\u001b[0mi\u001b[0m\u001b[1;33m]\u001b[0m \u001b[1;33m=\u001b[0m \u001b[0mopen_file\u001b[0m\u001b[1;33m(\u001b[0m\u001b[0mfile_path\u001b[0m\u001b[1;33m)\u001b[0m\u001b[1;33m\u001b[0m\u001b[1;33m\u001b[0m\u001b[0m\n\u001b[0m\u001b[0;32m     84\u001b[0m     \u001b[1;32mfor\u001b[0m \u001b[0mi\u001b[0m \u001b[1;32min\u001b[0m \u001b[0mrange\u001b[0m\u001b[1;33m(\u001b[0m\u001b[0mtesting_half\u001b[0m\u001b[1;33m)\u001b[0m\u001b[1;33m:\u001b[0m\u001b[1;33m\u001b[0m\u001b[1;33m\u001b[0m\u001b[0m\n\u001b[0;32m     85\u001b[0m         \u001b[0mfile_path\u001b[0m \u001b[1;33m=\u001b[0m \u001b[0mos\u001b[0m\u001b[1;33m.\u001b[0m\u001b[0mpath\u001b[0m\u001b[1;33m.\u001b[0m\u001b[0mjoin\u001b[0m\u001b[1;33m(\u001b[0m\u001b[0mnegative_folder_path\u001b[0m\u001b[1;33m,\u001b[0m \u001b[0mfilenames\u001b[0m\u001b[1;33m[\u001b[0m\u001b[0mtraining_half\u001b[0m \u001b[1;33m+\u001b[0m \u001b[0mi\u001b[0m\u001b[1;33m]\u001b[0m\u001b[1;33m)\u001b[0m\u001b[1;33m\u001b[0m\u001b[1;33m\u001b[0m\u001b[0m\n",
      "\u001b[1;32mc:\\Users\\rando\\OneDrive\\Working\\transfer learning\\parseData.py\u001b[0m in \u001b[0;36mopen_file\u001b[1;34m(filepath)\u001b[0m\n\u001b[0;32m     41\u001b[0m     \u001b[1;32mwith\u001b[0m \u001b[0mopen\u001b[0m\u001b[1;33m(\u001b[0m\u001b[0mfilepath\u001b[0m\u001b[1;33m)\u001b[0m \u001b[1;32mas\u001b[0m \u001b[0mfp\u001b[0m\u001b[1;33m:\u001b[0m\u001b[1;33m\u001b[0m\u001b[1;33m\u001b[0m\u001b[0m\n\u001b[0;32m     42\u001b[0m         \u001b[1;32mfor\u001b[0m \u001b[0mline\u001b[0m \u001b[1;32min\u001b[0m \u001b[0mfp\u001b[0m\u001b[1;33m:\u001b[0m\u001b[1;33m\u001b[0m\u001b[1;33m\u001b[0m\u001b[0m\n\u001b[1;32m---> 43\u001b[1;33m             \u001b[0mupdate_bags\u001b[0m\u001b[1;33m(\u001b[0m\u001b[0mline\u001b[0m\u001b[1;33m.\u001b[0m\u001b[0mstrip\u001b[0m\u001b[1;33m(\u001b[0m\u001b[1;33m)\u001b[0m\u001b[1;33m,\u001b[0m \u001b[0mbag_of_words\u001b[0m\u001b[1;33m)\u001b[0m\u001b[1;33m\u001b[0m\u001b[1;33m\u001b[0m\u001b[0m\n\u001b[0m\u001b[0;32m     44\u001b[0m \u001b[1;33m\u001b[0m\u001b[0m\n\u001b[0;32m     45\u001b[0m     \u001b[1;32mreturn\u001b[0m \u001b[0mbag_of_words\u001b[0m\u001b[1;33m\u001b[0m\u001b[1;33m\u001b[0m\u001b[0m\n",
      "\u001b[1;32mc:\\Users\\rando\\OneDrive\\Working\\transfer learning\\parseData.py\u001b[0m in \u001b[0;36mupdate_bags\u001b[1;34m(text, bag_of_words)\u001b[0m\n\u001b[0;32m     21\u001b[0m \u001b[1;33m\u001b[0m\u001b[0m\n\u001b[0;32m     22\u001b[0m \u001b[1;32mdef\u001b[0m \u001b[0mupdate_bags\u001b[0m\u001b[1;33m(\u001b[0m\u001b[0mtext\u001b[0m\u001b[1;33m,\u001b[0m \u001b[0mbag_of_words\u001b[0m\u001b[1;33m)\u001b[0m\u001b[1;33m:\u001b[0m\u001b[1;33m\u001b[0m\u001b[1;33m\u001b[0m\u001b[0m\n\u001b[1;32m---> 23\u001b[1;33m     \u001b[0mwords\u001b[0m \u001b[1;33m=\u001b[0m \u001b[0mtext_cleaner\u001b[0m\u001b[1;33m(\u001b[0m\u001b[0mtext\u001b[0m\u001b[1;33m)\u001b[0m\u001b[1;33m\u001b[0m\u001b[1;33m\u001b[0m\u001b[0m\n\u001b[0m\u001b[0;32m     24\u001b[0m     \u001b[1;32mif\u001b[0m \u001b[0mwords\u001b[0m \u001b[1;32mis\u001b[0m \u001b[1;32mNone\u001b[0m\u001b[1;33m:\u001b[0m\u001b[1;33m\u001b[0m\u001b[1;33m\u001b[0m\u001b[0m\n\u001b[0;32m     25\u001b[0m         \u001b[1;32mreturn\u001b[0m\u001b[1;33m\u001b[0m\u001b[1;33m\u001b[0m\u001b[0m\n",
      "\u001b[1;32mc:\\Users\\rando\\OneDrive\\Working\\transfer learning\\parseData.py\u001b[0m in \u001b[0;36mtext_cleaner\u001b[1;34m(text)\u001b[0m\n\u001b[0;32m     16\u001b[0m             \u001b[0mstop_list\u001b[0m\u001b[1;33m.\u001b[0m\u001b[0mappend\u001b[0m\u001b[1;33m(\u001b[0m\u001b[0mword\u001b[0m\u001b[1;33m)\u001b[0m\u001b[1;33m\u001b[0m\u001b[1;33m\u001b[0m\u001b[0m\n\u001b[0;32m     17\u001b[0m     \u001b[1;32mfor\u001b[0m \u001b[0mword\u001b[0m \u001b[1;32min\u001b[0m \u001b[0mwords\u001b[0m\u001b[1;33m:\u001b[0m\u001b[1;33m\u001b[0m\u001b[1;33m\u001b[0m\u001b[0m\n\u001b[1;32m---> 18\u001b[1;33m         \u001b[1;32mif\u001b[0m \u001b[0mword\u001b[0m\u001b[1;33m.\u001b[0m\u001b[0mlower\u001b[0m\u001b[1;33m(\u001b[0m\u001b[1;33m)\u001b[0m \u001b[1;32min\u001b[0m \u001b[0mstop_list\u001b[0m\u001b[1;33m:\u001b[0m\u001b[1;33m\u001b[0m\u001b[1;33m\u001b[0m\u001b[0m\n\u001b[0m\u001b[0;32m     19\u001b[0m             \u001b[1;32mdel\u001b[0m \u001b[0mword\u001b[0m\u001b[1;33m\u001b[0m\u001b[1;33m\u001b[0m\u001b[0m\n\u001b[0;32m     20\u001b[0m     \u001b[1;32mreturn\u001b[0m \u001b[0mwords\u001b[0m\u001b[1;33m\u001b[0m\u001b[1;33m\u001b[0m\u001b[0m\n",
      "\u001b[1;31mKeyboardInterrupt\u001b[0m: "
     ]
    }
   ],
   "source": [
    "accuracy_original_list = []\n",
    "accuracy_transfer_list = []\n",
    "accuracy_relevant_transfer_list = []\n",
    "\n",
    "accuracy_original, accuracy_transfer, accuracy_relevant_transfer = NB_relevant_NB_retraining_v3(comp_list[0], comp_list[0], 1200, 0, comp_list[0], comp_list[0], 50, 500)\n",
    "accuracy_original_list.append(accuracy_original)\n",
    "accuracy_transfer_list.append(accuracy_transfer)\n",
    "accuracy_relevant_transfer_list.append(accuracy_relevant_transfer)\n",
    "accuracy_original, accuracy_transfer, accuracy_relevant_transfer = NB_relevant_NB_retraining_v3(comp_list[0], comp_list[2], 1200, 0, comp_list[1], comp_list[3], 50, 500)\n",
    "accuracy_original_list.append(accuracy_original)\n",
    "accuracy_transfer_list.append(accuracy_transfer)\n",
    "accuracy_relevant_transfer_list.append(accuracy_relevant_transfer)\n",
    "accuracy_original, accuracy_transfer, accuracy_relevant_transfer = NB_relevant_NB_retraining_v3(comp_list[0], comp_list[3], 1200, 0, comp_list[1], comp_list[2], 50, 500)\n",
    "accuracy_original_list.append(accuracy_original)\n",
    "accuracy_transfer_list.append(accuracy_transfer)\n",
    "accuracy_relevant_transfer_list.append(accuracy_relevant_transfer)\n",
    "accuracy_original, accuracy_transfer, accuracy_relevant_transfer = NB_relevant_NB_retraining_v3(comp_list[1], comp_list[2], 1200, 0, comp_list[0], comp_list[3], 50, 500)\n",
    "accuracy_original_list.append(accuracy_original)\n",
    "accuracy_transfer_list.append(accuracy_transfer)\n",
    "accuracy_relevant_transfer_list.append(accuracy_relevant_transfer)\n",
    "accuracy_original, accuracy_transfer, accuracy_relevant_transfer = NB_relevant_NB_retraining_v3(comp_list[1], comp_list[3], 1200, 0, comp_list[0], comp_list[2], 50, 500)\n",
    "accuracy_original_list.append(accuracy_original)\n",
    "accuracy_transfer_list.append(accuracy_transfer)\n",
    "accuracy_relevant_transfer_list.append(accuracy_relevant_transfer)\n",
    "accuracy_original, accuracy_transfer, accuracy_relevant_transfer = NB_relevant_NB_retraining_v3(comp_list[2], comp_list[3], 1200, 0, comp_list[1], comp_list[0], 50, 500)\n",
    "accuracy_original_list.append(accuracy_original)\n",
    "accuracy_transfer_list.append(accuracy_transfer)\n",
    "accuracy_relevant_transfer_list.append(accuracy_relevant_transfer)"
   ]
  },
  {
   "cell_type": "code",
   "execution_count": null,
   "metadata": {},
   "outputs": [],
   "source": [
    "from matplotlib import pyplot as plt\n",
    "plt.plot(range(len(accuracy_original_list)), accuracy_original_list, label='accuracy_original')\n",
    "plt.plot(range(len(accuracy_transfer_list)), accuracy_transfer_list, label='accuracy_directly_transfer')\n",
    "plt.plot(range(len(accuracy_relevant_transfer_list)), accuracy_relevant_transfer_list, label='accuracy_relevant_transfer')\n",
    "\n",
    "plt.title('Similar Dataset Transfer Accuracy (Comp)')\n",
    "plt.xlabel('Different Datasets')\n",
    "plt.ylabel('Accuracy')\n",
    "plt.legend()\n",
    "plt.show()"
   ]
  },
  {
   "cell_type": "code",
   "execution_count": null,
   "metadata": {},
   "outputs": [],
   "source": [
    "accuracy_original_list = []\n",
    "accuracy_transfer_list = []\n",
    "accuracy_relevant_transfer_list = []\n",
    "\n",
    "accuracy_original, accuracy_transfer, accuracy_relevant_transfer = NB_relevant_NB_retraining_v3(comp_list[0], comp_list[1], 1200, 0, comp_list[2], comp_list[3], 50, 500)\n",
    "accuracy_original_list.append(accuracy_original)\n",
    "accuracy_transfer_list.append(accuracy_transfer)\n",
    "accuracy_relevant_transfer_list.append(accuracy_relevant_transfer)\n",
    "accuracy_original, accuracy_transfer, accuracy_relevant_transfer = NB_relevant_NB_retraining_v3(comp_list[0], comp_list[2], 1200, 0, comp_list[1], comp_list[3], 50, 500)\n",
    "accuracy_original_list.append(accuracy_original)\n",
    "accuracy_transfer_list.append(accuracy_transfer)\n",
    "accuracy_relevant_transfer_list.append(accuracy_relevant_transfer)\n",
    "accuracy_original, accuracy_transfer, accuracy_relevant_transfer = NB_relevant_NB_retraining_v3(comp_list[0], comp_list[3], 1200, 0, comp_list[1], comp_list[2], 50, 500)\n",
    "accuracy_original_list.append(accuracy_original)\n",
    "accuracy_transfer_list.append(accuracy_transfer)\n",
    "accuracy_relevant_transfer_list.append(accuracy_relevant_transfer)\n",
    "accuracy_original, accuracy_transfer, accuracy_relevant_transfer = NB_relevant_NB_retraining_v3(comp_list[1], comp_list[2], 1200, 0, comp_list[0], comp_list[3], 50, 500)\n",
    "accuracy_original_list.append(accuracy_original)\n",
    "accuracy_transfer_list.append(accuracy_transfer)\n",
    "accuracy_relevant_transfer_list.append(accuracy_relevant_transfer)\n",
    "accuracy_original, accuracy_transfer, accuracy_relevant_transfer = NB_relevant_NB_retraining_v3(comp_list[1], comp_list[3], 1200, 0, comp_list[0], comp_list[2], 50, 500)\n",
    "accuracy_original_list.append(accuracy_original)\n",
    "accuracy_transfer_list.append(accuracy_transfer)\n",
    "accuracy_relevant_transfer_list.append(accuracy_relevant_transfer)\n",
    "accuracy_original, accuracy_transfer, accuracy_relevant_transfer = NB_relevant_NB_retraining_v3(comp_list[2], comp_list[3], 1200, 0, comp_list[1], comp_list[0], 50, 500)\n",
    "accuracy_original_list.append(accuracy_original)\n",
    "accuracy_transfer_list.append(accuracy_transfer)\n",
    "accuracy_relevant_transfer_list.append(accuracy_relevant_transfer)"
   ]
  },
  {
   "cell_type": "code",
   "execution_count": null,
   "metadata": {},
   "outputs": [],
   "source": [
    "accuracy_original_list = []\n",
    "accuracy_transfer_list = []\n",
    "accuracy_relevant_transfer_list = []\n",
    "\n",
    "accuracy_original, accuracy_transfer, accuracy_relevant_transfer = NB_relevant_NB_retraining_v3(rec_list[0], rec_list[1], 1200, 0, rec_list[2], rec_list[3], 50, 500)\n",
    "accuracy_original_list.append(accuracy_original)\n",
    "accuracy_transfer_list.append(accuracy_transfer)\n",
    "accuracy_relevant_transfer_list.append(accuracy_relevant_transfer)\n",
    "accuracy_original, accuracy_transfer, accuracy_relevant_transfer = NB_relevant_NB_retraining_v3(rec_list[0], rec_list[2], 1200, 0, rec_list[1], rec_list[3], 50, 500)\n",
    "accuracy_original_list.append(accuracy_original)\n",
    "accuracy_transfer_list.append(accuracy_transfer)\n",
    "accuracy_relevant_transfer_list.append(accuracy_relevant_transfer)\n",
    "accuracy_original, accuracy_transfer, accuracy_relevant_transfer = NB_relevant_NB_retraining_v3(rec_list[0], rec_list[3], 1200, 0, rec_list[1], rec_list[2], 50, 500)\n",
    "accuracy_original_list.append(accuracy_original)\n",
    "accuracy_transfer_list.append(accuracy_transfer)\n",
    "accuracy_relevant_transfer_list.append(accuracy_relevant_transfer)\n",
    "accuracy_original, accuracy_transfer, accuracy_relevant_transfer = NB_relevant_NB_retraining_v3(rec_list[1], rec_list[2], 1200, 0, rec_list[0], rec_list[3], 50, 500)\n",
    "accuracy_original_list.append(accuracy_original)\n",
    "accuracy_transfer_list.append(accuracy_transfer)\n",
    "accuracy_relevant_transfer_list.append(accuracy_relevant_transfer)\n",
    "accuracy_original, accuracy_transfer, accuracy_relevant_transfer = NB_relevant_NB_retraining_v3(rec_list[1], rec_list[3], 1200, 0, rec_list[0], rec_list[2], 50, 500)\n",
    "accuracy_original_list.append(accuracy_original)\n",
    "accuracy_transfer_list.append(accuracy_transfer)\n",
    "accuracy_relevant_transfer_list.append(accuracy_relevant_transfer)\n",
    "accuracy_original, accuracy_transfer, accuracy_relevant_transfer = NB_relevant_NB_retraining_v3(rec_list[2], rec_list[3], 1200, 0, rec_list[1], rec_list[0], 50, 500)\n",
    "accuracy_original_list.append(accuracy_original)\n",
    "accuracy_transfer_list.append(accuracy_transfer)\n",
    "accuracy_relevant_transfer_list.append(accuracy_relevant_transfer)\n",
    "\n"
   ]
  },
  {
   "cell_type": "code",
   "execution_count": null,
   "metadata": {},
   "outputs": [],
   "source": [
    "from matplotlib import pyplot as plt\n",
    "plt.plot(range(len(accuracy_original_list)), accuracy_original_list, label='accuracy_original')\n",
    "plt.plot(range(len(accuracy_transfer_list)), accuracy_transfer_list, label='accuracy_directly_transfer')\n",
    "plt.plot(range(len(accuracy_relevant_transfer_list)), accuracy_relevant_transfer_list, label='accuracy_relevant_transfer')\n",
    "\n",
    "plt.title('Similar Dataset Transfer Accuracy (Comp)')\n",
    "plt.xlabel('Different Datasets')\n",
    "plt.ylabel('Accuracy')\n",
    "plt.legend()\n",
    "plt.show()"
   ]
  },
  {
   "cell_type": "code",
   "execution_count": 1,
   "metadata": {},
   "outputs": [
    {
     "output_type": "stream",
     "name": "stdout",
     "text": [
      "Pre-model is built\n",
      "Target-model is built\n",
      "Retraining start...\n",
      "0.495\n",
      "0.49\n",
      "0.48250000000000004\n",
      "0.48250000000000004\n",
      "0.48250000000000004\n",
      "0.475\n",
      "0.47\n",
      "0.47\n",
      "0.46499999999999997\n",
      "0.46499999999999997\n",
      "0.46499999999999997\n",
      "0.46499999999999997\n",
      "0.46499999999999997\n",
      "0.46499999999999997\n",
      "0.4625\n",
      "0.4625\n",
      "0.45499999999999996\n",
      "0.44499999999999995\n",
      "0.43999999999999995\n",
      "0.42500000000000004\n",
      "0.42500000000000004\n",
      "0.42500000000000004\n",
      "0.42500000000000004\n",
      "0.42500000000000004\n",
      "Retraining end...\n"
     ]
    }
   ],
   "source": [
    "from NB_Relevance import NB_relevant_NB_retraining_v5_progress\n",
    "error_rate_list = NB_relevant_NB_retraining_v5_progress(\"./20news-18828/comp.os.ms-windows.misc\", \"./20news-18828/comp.sys.ibm.pc.hardware\", 1200, 0, \"./20news-18828/talk.politics.guns\", \"./20news-18828/misc.forsale\", 800, 400)"
   ]
  },
  {
   "cell_type": "code",
   "execution_count": 2,
   "metadata": {},
   "outputs": [
    {
     "output_type": "stream",
     "name": "stdout",
     "text": [
      "Pre-model is built\n",
      "Target-model is built\n",
      "Retraining start...\n",
      "0.43000000000000005\n",
      "0.4\n",
      "0.4075\n",
      "0.4125\n",
      "0.40249999999999997\n",
      "0.39249999999999996\n",
      "0.39\n",
      "0.38749999999999996\n",
      "0.38\n",
      "0.38\n",
      "0.38\n",
      "0.38\n",
      "0.38\n",
      "0.38\n",
      "0.37749999999999995\n",
      "0.375\n",
      "0.36250000000000004\n",
      "0.35250000000000004\n",
      "0.35250000000000004\n",
      "0.3325\n",
      "0.3325\n",
      "0.3325\n",
      "0.3325\n",
      "0.3325\n",
      "0.3325\n",
      "Retraining end...\n"
     ]
    }
   ],
   "source": [
    "from NB_Relevance import NB_relevant_NB_retraining_v5_progress\n",
    "error_rate_list2 = NB_relevant_NB_retraining_v5_progress(\"./20news-18828/comp.os.ms-windows.misc\", \"./20news-18828/comp.sys.ibm.pc.hardware\", 1200, 0, \"./20news-18828/comp.windows.x\", \"./20news-18828/comp.sys.mac.hardware\", 800, 400)"
   ]
  },
  {
   "cell_type": "code",
   "execution_count": 3,
   "metadata": {},
   "outputs": [
    {
     "output_type": "stream",
     "name": "stdout",
     "text": [
      "Pre-model is built\n",
      "Target-model is built\n",
      "Retraining start...\n",
      "0.13249999999999995\n",
      "0.14249999999999996\n",
      "0.14249999999999996\n",
      "0.125\n",
      "0.12\n",
      "0.10499999999999998\n",
      "0.09250000000000003\n",
      "0.06499999999999995\n",
      "0.06000000000000005\n",
      "0.05500000000000005\n",
      "0.05500000000000005\n",
      "0.05500000000000005\n",
      "0.05500000000000005\n",
      "0.05500000000000005\n",
      "0.05500000000000005\n",
      "0.05500000000000005\n",
      "Retraining end...\n"
     ]
    }
   ],
   "source": [
    "from NB_Relevance import NB_relevant_NB_retraining_v5_progress\n",
    "error_rate_list3 = NB_relevant_NB_retraining_v5_progress(\"./20news-18828/sci.crypt\", \"./20news-18828/sci.electronics\", 1200, 0, \"./20news-18828/sci.med\", \"./20news-18828/sci.space\", 800, 400)"
   ]
  },
  {
   "cell_type": "code",
   "execution_count": 4,
   "metadata": {},
   "outputs": [
    {
     "output_type": "stream",
     "name": "stdout",
     "text": [
      "Pre-model is built\n",
      "Target-model is built\n",
      "Retraining start...\n",
      "0.0675\n",
      "0.06499999999999995\n",
      "0.06499999999999995\n",
      "0.06499999999999995\n",
      "0.06499999999999995\n",
      "0.06000000000000005\n",
      "0.05500000000000005\n",
      "0.04749999999999999\n",
      "0.04249999999999998\n",
      "0.04249999999999998\n",
      "0.04249999999999998\n",
      "0.04249999999999998\n",
      "0.04249999999999998\n",
      "0.04249999999999998\n",
      "Retraining end...\n"
     ]
    }
   ],
   "source": [
    "from NB_Relevance import NB_relevant_NB_retraining_v5_progress\n",
    "error_rate_list4 = NB_relevant_NB_retraining_v5_progress(\"./20news-18828/rec.sport.hockey\", \"./20news-18828/rec.motorcycles\", 1200, 0, \"./20news-18828/rec.sport.baseball\", \"./20news-18828/rec.autos\", 800, 400)"
   ]
  },
  {
   "cell_type": "code",
   "execution_count": 5,
   "metadata": {},
   "outputs": [
    {
     "output_type": "error",
     "ename": "NameError",
     "evalue": "name 'NB_relevant_NB_retraining_v3_progress' is not defined",
     "traceback": [
      "\u001b[1;31m---------------------------------------------------------------------------\u001b[0m",
      "\u001b[1;31mNameError\u001b[0m                                 Traceback (most recent call last)",
      "\u001b[1;32m<ipython-input-5-f1e978d6084f>\u001b[0m in \u001b[0;36m<module>\u001b[1;34m\u001b[0m\n\u001b[0;32m      1\u001b[0m \u001b[1;32mfrom\u001b[0m \u001b[0mNB_Relevance\u001b[0m \u001b[1;32mimport\u001b[0m \u001b[0mNB_relevant_NB_retraining_v5_progress\u001b[0m\u001b[1;33m\u001b[0m\u001b[1;33m\u001b[0m\u001b[0m\n\u001b[1;32m----> 2\u001b[1;33m \u001b[0merror_rate_list5\u001b[0m \u001b[1;33m=\u001b[0m \u001b[0mNB_relevant_NB_retraining_v3_progress\u001b[0m\u001b[1;33m(\u001b[0m\u001b[1;34m\"./20news-18828/talk.politics.guns\"\u001b[0m\u001b[1;33m,\u001b[0m \u001b[1;34m\"./20news-18828/talk.politics.mideast\"\u001b[0m\u001b[1;33m,\u001b[0m \u001b[1;36m1200\u001b[0m\u001b[1;33m,\u001b[0m \u001b[1;36m0\u001b[0m\u001b[1;33m,\u001b[0m \u001b[1;34m\"./20news-18828/talk.politics.misc\"\u001b[0m\u001b[1;33m,\u001b[0m \u001b[1;34m\"./20news-18828/talk.religion.misc\"\u001b[0m\u001b[1;33m,\u001b[0m \u001b[1;36m800\u001b[0m\u001b[1;33m,\u001b[0m \u001b[1;36m400\u001b[0m\u001b[1;33m)\u001b[0m\u001b[1;33m\u001b[0m\u001b[1;33m\u001b[0m\u001b[0m\n\u001b[0m",
      "\u001b[1;31mNameError\u001b[0m: name 'NB_relevant_NB_retraining_v3_progress' is not defined"
     ]
    }
   ],
   "source": [
    "from NB_Relevance import NB_relevant_NB_retraining_v5_progress\n",
    "error_rate_list5 = NB_relevant_NB_retraining_v3_progress(\"./20news-18828/talk.politics.guns\", \"./20news-18828/talk.politics.mideast\", 1200, 0, \"./20news-18828/talk.politics.misc\", \"./20news-18828/talk.religion.misc\", 800, 400)"
   ]
  },
  {
   "cell_type": "code",
   "execution_count": null,
   "metadata": {},
   "outputs": [],
   "source": [
    "from NB_Relevance import NB_relevant_NB_retraining_v5_progress\n",
    "error_rate_list6 = NB_relevant_NB_retraining_v3_progress(\"./20news-18828/comp.graphics\", \"./20news-18828/comp.sys.ibm.pc.hardware\", 1200, 0, \"./20news-18828/rec.sport.baseball\", \"./20news-18828/rec.motorcycles\", 800, 400)"
   ]
  },
  {
   "cell_type": "code",
   "execution_count": null,
   "metadata": {},
   "outputs": [],
   "source": [
    "from NB_Relevance import NB_relevant_NB_retraining_v5_progress\n",
    "error_rate_list7 = NB_relevant_NB_retraining_v5_progress(\"./20news-18828/rec.autos\", \"./20news-18828/rec.motorcycles\", 1200, 0, \"./20news-18828/sci.electronics\", \"./20news-18828/sci.med\", 800, 400)"
   ]
  },
  {
   "cell_type": "code",
   "execution_count": null,
   "metadata": {},
   "outputs": [],
   "source": [
    "from NB_Relevance import NB_relevant_NB_retraining_v5_progress\n",
    "error_rate_list8 = NB_relevant_NB_retraining_v5_progress(\"./20news-18828/sci.electronics\", \"./20news-18828/sci.med\", 1200, 0, \"./20news-18828/talk.politics.guns\", \"./20news-18828/talk.religion.misc\", 800, 400)"
   ]
  },
  {
   "cell_type": "code",
   "execution_count": null,
   "metadata": {},
   "outputs": [],
   "source": [
    "from NB_Relevance import NB_relevant_NB_retraining_v5_progress\n",
    "error_rate_list9 = NB_relevant_NB_retraining_v5_progress(\"./20news-18828/talk.politics.guns\", \"./20news-18828/talk.politics.mideast\", 1200, 0, \"./20news-18828/comp.graphics\", \"./20news-18828/comp.sys.ibm.pc.hardware\", 800, 400)"
   ]
  },
  {
   "cell_type": "code",
   "execution_count": null,
   "metadata": {},
   "outputs": [],
   "source": [
    "from NB_Relevance import NB_relevant_NB_retraining_v5_progress\n",
    "error_rate_list10 = NB_relevant_NB_retraining_v5_progress(\"./20news-18828/alt.atheism\", \"./20news-18828/comp.sys.ibm.pc.hardware\", 1200, 0, \"./20news-18828/rec.sport.hockey\", \"./20news-18828/soc.religion.christian\", 800, 400)"
   ]
  },
  {
   "cell_type": "code",
   "execution_count": null,
   "metadata": {},
   "outputs": [],
   "source": [
    "from matplotlib import pyplot as plt\n",
    "plt.plot(range(0, len(error_rate_list2)*2000, 2000), error_rate_list2, label='comp vs comp')\n",
    "plt.plot(range(0, len(error_rate_list3)*2000, 2000), error_rate_list3, label='sci vs sci')\n",
    "plt.plot(range(0, len(error_rate_list4)*2000, 2000), error_rate_list4, label='rec vs rec')\n",
    "plt.plot(range(0, len(error_rate_list5)*2000, 2000), error_rate_list5, label='talk vs talk')\n",
    "\n",
    "plt.title('Error Rate in 20News dataset (Similar distribution)')\n",
    "plt.xlabel('Fine tuning words')\n",
    "plt.ylabel('Error Rate')\n",
    "plt.legend()\n",
    "plt.show()"
   ]
  },
  {
   "cell_type": "code",
   "execution_count": null,
   "metadata": {},
   "outputs": [],
   "source": [
    "plt.plot(range(0, len(error_rate_list6)*2000, 2000), error_rate_list6, label='comp vs rec')\n",
    "plt.plot(range(0, len(error_rate_list7)*2000, 2000), error_rate_list7, label='rec vs sci')\n",
    "plt.plot(range(0, len(error_rate_list8)*2000, 2000), error_rate_list8, label='sci vs talk')\n",
    "plt.plot(range(0, len(error_rate_list9)*2000, 2000), error_rate_list9, label='talk vs comp')\n",
    "plt.plot(range(0, len(error_rate_list)*2000, 2000), error_rate_list, label='comp vs mixed')\n",
    "plt.plot(range(0, len(error_rate_list10)*2000, 2000), error_rate_list10, label='mixed vs mixed')\n",
    "\n",
    "plt.title('Error Rate in 20News dataset (Different distribution)')\n",
    "plt.xlabel('Fine tuning words')\n",
    "plt.ylabel('Error Rate')\n",
    "plt.legend()\n",
    "plt.show()"
   ]
  },
  {
   "cell_type": "code",
   "execution_count": 1,
   "metadata": {},
   "outputs": [
    {
     "output_type": "stream",
     "name": "stdout",
     "text": [
      "Pre-model is built\n",
      "Target-model is built\n",
      "accuracy(no_transfer):  0.985\n",
      "accuracy(directly_transfer):  0.3125\n",
      "Retraining start...\n",
      "Retraining end...\n",
      "accuracy_relevant_transfer:  0.985\n"
     ]
    }
   ],
   "source": [
    "from NB_Relevance import NB_relevant_NB_retraining_v3_analysis\n",
    "NB_relevant_NB_retraining_v3_analysis(\"./20news-18828/alt.atheism\", \"./20news-18828/comp.sys.ibm.pc.hardware\", 1200, 0, \"./20news-18828/rec.sport.hockey\", \"./20news-18828/soc.religion.christian\", 800, 400)"
   ]
  },
  {
   "cell_type": "code",
   "execution_count": 1,
   "metadata": {},
   "outputs": [
    {
     "output_type": "stream",
     "name": "stdout",
     "text": [
      "[['israel', 0.45040199266370606], ['gun', 0.3960546280663069], ['israeli', 0.3429168507501646], ['armenian', 0.32973468070091144], ['turkish', 0.30696652748749936], ['armenians', 0.3063866861351554], ['jews', 0.3041220784014379], ['arab', 0.27276055855450343], ['fbi', 0.2514353607622541], ['jewish', 0.25064231627547673], ['armenia', 0.242933437540706], ['muslim', 0.24008039901734535], ['guns', 0.220108397002251], ['turks', 0.21916432574739786], ['muslims', 0.19648980686069195], ['batf', 0.1835667923195455], ['waco', 0.18303095762847926], ['atf', 0.1826207260030305], ['firearms', 0.17969451931716082], ['arabs', 0.1787952291840904], ['genocide', 0.17875623596784404], ['soviet', 0.16145162139472924], ['soldiers', 0.16123575272815324], ['azerbaijan', 0.15809268821317013], ['war', 0.15539583672374793], ['serdar', 0.15406518533584176], ['turkey', 0.1528051501942103], ['koresh', 0.1480777804991291], ['argic', 0.14784014784014785], ['peace', 0.14704610371323973], ['russian', 0.13596050870147255], ['fire', 0.1358146394714696], ['compound', 0.13124077282722885], ['policy', 0.1285616123847402], ['palestinian', 0.12779876765474046], ['occupied', 0.12115314092242124], ['stratus', 0.12096787853367502], ['cdt', 0.12080619017035202], ['palestinians', 0.11701273373867156], ['its', 0.11476748189862188], ['greek', 0.1146411395858018], ['world', 0.11183615076018276], ['jake', 0.11093136402331683], ['gaza', 0.10810219758099589], ['human', 0.10759082205226014], ['com', 0.10706805649520391], ['land', 0.10665071354823309], ['israelis', 0.10641383772543851], ['villages', 0.10525651542878778], ['palestine', 0.10270155511915503], ['center', 0.10251912081384124], ['ottoman', 0.09959845586043616], ['org', 0.09879453834563813], ['sdpa', 0.0982287393716504], ['adam', 0.0976581254550665], ['bosnia', 0.09701933935139466], ['her', 0.0968256896362617], ['kuwait', 0.09669621273166801], ['history', 0.09596349828000258], ['firearm', 0.09580583351075155], ['texas', 0.09558694675558048], ['1920', 0.09459445233425758], ['weapons', 0.09398770782432499], ['extermination', 0.09376984617482961], ['sw', 0.09308250048990789], ['gas', 0.09251834413248951], ['ranch', 0.09124318844252946], ['weapon', 0.09114582044110003], ['during', 0.09051437575166785], ['bill', 0.08753655696690271], ['serbs', 0.08634974730257214], ['ed', 0.08481063327459218], ['troops', 0.08419120857456272], ['bd', 0.08365995574388341], ['village', 0.08346631784033649], ['iran', 0.08267890085648447], ['burns', 0.08205590622182146], ['bosnian', 0.08193887705430161], ['greeks', 0.08168822328114364], ['she', 0.08150840029367276], ['amendment', 0.08107590681914618], ['zuma', 0.0809407900524942], ['1919', 0.07985803016858918], ['jerusalem', 0.07909572600594832], ['said', 0.0790918215665661], ['population', 0.07908461989373743], ['igc', 0.07886338151393048], ['cpr', 0.07835546989912764], ['w', 0.07798420960477163], ['m', 0.07796449384869215], ['urartu', 0.0767314005458213], ['closed', 0.07663717712641965], ['territories', 0.07619890371899811], ['university', 0.07572900015021608], ['baku', 0.07506447369398964], ['handgun', 0.07455507455507455], ['militia', 0.07448209508463487], ['dividian', 0.07431381366990807], ['assault', 0.07412417295564974], ['greece', 0.07326007326007326]]\n",
      "Pre-model is built\n",
      "Target-model is built\n",
      "accuracy(no_transfer):  0.945\n",
      "accuracy(directly_transfer):  0.4775\n",
      "Retraining start...\n",
      "Retraining end...\n",
      "accuracy_relevant_transfer:  0.94\n"
     ]
    }
   ],
   "source": [
    "from NB_Relevance import NB_relevant_NB_retraining_v3_analysis\n",
    "NB_relevant_NB_retraining_v3_analysis(\"./20news-18828/talk.politics.guns\", \"./20news-18828/talk.politics.mideast\", 1200, 0, \"./20news-18828/comp.graphics\", \"./20news-18828/comp.sys.ibm.pc.hardware\", 800, 400)"
   ]
  },
  {
   "cell_type": "code",
   "execution_count": 2,
   "metadata": {},
   "outputs": [
    {
     "output_type": "stream",
     "name": "stdout",
     "text": [
      "Pre-model is built\n",
      "Target-model is built\n",
      "accuracy(no_transfer):  0.945\n",
      "accuracy(directly_transfer):  0.475\n",
      "Retraining start...\n",
      "Retraining end...\n",
      "accuracy_relevant_transfer:  0.9425\n"
     ]
    }
   ],
   "source": [
    "from NB_Relevance import NB_relevant_NB_retraining_v3_analysis\n",
    "NB_relevant_NB_retraining_v3_analysis(\"./20news-18828/talk.politics.guns\", \"./20news-18828/talk.politics.mideast\", 1200, 0, \"./20news-18828/comp.graphics\", \"./20news-18828/comp.sys.ibm.pc.hardware\", 800, 400)"
   ]
  },
  {
   "cell_type": "code",
   "execution_count": 3,
   "metadata": {},
   "outputs": [
    {
     "output_type": "stream",
     "name": "stdout",
     "text": [
      "Pre-model is built\n",
      "Target-model is built\n",
      "accuracy(no_transfer):  0.945\n",
      "accuracy(directly_transfer):  0.4775\n",
      "Retraining start...\n",
      "Retraining end...\n",
      "accuracy_relevant_transfer:  0.94\n"
     ]
    },
    {
     "output_type": "execute_result",
     "data": {
      "text/plain": [
       "(0.945, 0.4775, 0.94)"
      ]
     },
     "metadata": {},
     "execution_count": 3
    }
   ],
   "source": [
    "from NB_Relevance import NB_relevant_NB_retraining_v3\n",
    "NB_relevant_NB_retraining_v3(\"./20news-18828/talk.politics.guns\", \"./20news-18828/talk.politics.mideast\", 1200, 0, \"./20news-18828/comp.graphics\", \"./20news-18828/comp.sys.ibm.pc.hardware\", 800, 400)"
   ]
  },
  {
   "cell_type": "code",
   "execution_count": 4,
   "metadata": {},
   "outputs": [
    {
     "output_type": "stream",
     "name": "stdout",
     "text": [
      "Pre-model is built\n",
      "Target-model is built\n",
      "accuracy(no_transfer):  0.9775\n",
      "accuracy(directly_transfer):  0.5475\n",
      "Retraining start...\n",
      "Retraining end...\n",
      "accuracy_relevant_transfer:  0.97\n"
     ]
    }
   ],
   "source": [
    "from NB_Relevance import NB_relevant_NB_retraining_v3_analysis\n",
    "NB_relevant_NB_retraining_v3_analysis(\"./20news-18828/comp.os.ms-windows.misc\", \"./20news-18828/comp.sys.ibm.pc.hardware\", 1200, 0, \"./20news-18828/comp.windows.x\", \"./20news-18828/comp.sys.mac.hardware\", 800, 400)"
   ]
  },
  {
   "cell_type": "code",
   "execution_count": 5,
   "metadata": {},
   "outputs": [
    {
     "output_type": "stream",
     "name": "stdout",
     "text": [
      "Pre-model is built\n",
      "Target-model is built\n",
      "accuracy(no_transfer):  0.9775\n",
      "accuracy(directly_transfer):  0.5075\n",
      "Retraining start...\n",
      "Retraining end...\n",
      "accuracy_relevant_transfer:  0.965\n"
     ]
    },
    {
     "output_type": "execute_result",
     "data": {
      "text/plain": [
       "(0.9775, 0.5075, 0.965)"
      ]
     },
     "metadata": {},
     "execution_count": 5
    }
   ],
   "source": [
    "from NB_Relevance import NB_relevant_NB_retraining_v3\n",
    "NB_relevant_NB_retraining_v3(\"./20news-18828/comp.os.ms-windows.misc\", \"./20news-18828/comp.sys.ibm.pc.hardware\", 1200, 0, \"./20news-18828/comp.windows.x\", \"./20news-18828/comp.sys.mac.hardware\", 800, 400)"
   ]
  },
  {
   "cell_type": "code",
   "execution_count": 6,
   "metadata": {},
   "outputs": [
    {
     "output_type": "stream",
     "name": "stdout",
     "text": [
      "Pre-model is built\n",
      "Target-model is built\n",
      "accuracy(no_transfer):  0.985\n",
      "accuracy(directly_transfer):  0.3825\n",
      "Retraining start...\n",
      "Retraining end...\n",
      "accuracy_relevant_transfer:  0.985\n"
     ]
    }
   ],
   "source": [
    "from NB_Relevance import NB_relevant_NB_retraining_v3_analysis\n",
    "NB_relevant_NB_retraining_v3_analysis(\"./20news-18828/alt.atheism\", \"./20news-18828/comp.sys.ibm.pc.hardware\", 1200, 0, \"./20news-18828/rec.sport.hockey\", \"./20news-18828/soc.religion.christian\", 800, 400)"
   ]
  },
  {
   "cell_type": "code",
   "execution_count": 7,
   "metadata": {},
   "outputs": [
    {
     "output_type": "stream",
     "name": "stdout",
     "text": [
      "Pre-model is built\n",
      "Target-model is built\n",
      "accuracy(no_transfer):  0.985\n",
      "accuracy(directly_transfer):  0.3525\n",
      "Retraining start...\n",
      "Retraining end...\n",
      "accuracy_relevant_transfer:  0.985\n"
     ]
    },
    {
     "output_type": "execute_result",
     "data": {
      "text/plain": [
       "(0.985, 0.3525, 0.985)"
      ]
     },
     "metadata": {},
     "execution_count": 7
    }
   ],
   "source": [
    "from NB_Relevance import NB_relevant_NB_retraining_v3\n",
    "NB_relevant_NB_retraining_v3(\"./20news-18828/alt.atheism\", \"./20news-18828/comp.sys.ibm.pc.hardware\", 1200, 0, \"./20news-18828/rec.sport.hockey\", \"./20news-18828/soc.religion.christian\", 800, 400)"
   ]
  },
  {
   "cell_type": "code",
   "execution_count": 8,
   "metadata": {},
   "outputs": [
    {
     "output_type": "stream",
     "name": "stdout",
     "text": [
      "Pre-model is built\n",
      "Target-model is built\n",
      "accuracy(no_transfer):  0.8075\n",
      "accuracy(directly_transfer):  0.455\n",
      "Retraining start...\n",
      "Retraining end...\n",
      "accuracy_relevant_transfer:  0.735\n"
     ]
    }
   ],
   "source": [
    "from NB_Relevance import NB_relevant_NB_retraining_v3_analysis\n",
    "NB_relevant_NB_retraining_v3_analysis(\"./20news-18828/talk.politics.guns\", \"./20news-18828/talk.politics.mideast\", 1200, 0, \"./20news-18828/comp.graphics\", \"./20news-18828/comp.sys.ibm.pc.hardware\", 50, 400)"
   ]
  },
  {
   "cell_type": "code",
   "execution_count": 9,
   "metadata": {},
   "outputs": [
    {
     "output_type": "stream",
     "name": "stdout",
     "text": [
      "Pre-model is built\n",
      "Target-model is built\n",
      "accuracy(no_transfer):  0.8075\n",
      "accuracy(directly_transfer):  0.4775\n",
      "Retraining start...\n",
      "Retraining end...\n",
      "accuracy_relevant_transfer:  0.7525\n"
     ]
    },
    {
     "output_type": "execute_result",
     "data": {
      "text/plain": [
       "(0.8075, 0.4775, 0.7525)"
      ]
     },
     "metadata": {},
     "execution_count": 9
    }
   ],
   "source": [
    "from NB_Relevance import NB_relevant_NB_retraining_v3\n",
    "NB_relevant_NB_retraining_v3(\"./20news-18828/talk.politics.guns\", \"./20news-18828/talk.politics.mideast\", 1200, 0, \"./20news-18828/comp.graphics\", \"./20news-18828/comp.sys.ibm.pc.hardware\", 50, 400)"
   ]
  },
  {
   "cell_type": "code",
   "execution_count": 10,
   "metadata": {},
   "outputs": [
    {
     "output_type": "stream",
     "name": "stdout",
     "text": [
      "Pre-model is built\n",
      "Target-model is built\n",
      "accuracy(no_transfer):  0.8\n",
      "accuracy(directly_transfer):  0.57\n",
      "Retraining start...\n",
      "Retraining end...\n",
      "accuracy_relevant_transfer:  0.835\n"
     ]
    }
   ],
   "source": [
    "from NB_Relevance import NB_relevant_NB_retraining_v3_analysis\n",
    "NB_relevant_NB_retraining_v3_analysis(\"./20news-18828/comp.os.ms-windows.misc\", \"./20news-18828/comp.sys.ibm.pc.hardware\", 1200, 0, \"./20news-18828/comp.windows.x\", \"./20news-18828/comp.sys.mac.hardware\", 50, 400)"
   ]
  },
  {
   "cell_type": "code",
   "execution_count": 11,
   "metadata": {},
   "outputs": [
    {
     "output_type": "stream",
     "name": "stdout",
     "text": [
      "Pre-model is built\n",
      "Target-model is built\n",
      "accuracy(no_transfer):  0.8\n",
      "accuracy(directly_transfer):  0.535\n",
      "Retraining start...\n",
      "Retraining end...\n",
      "accuracy_relevant_transfer:  0.8875\n"
     ]
    },
    {
     "output_type": "execute_result",
     "data": {
      "text/plain": [
       "(0.8, 0.535, 0.8875)"
      ]
     },
     "metadata": {},
     "execution_count": 11
    }
   ],
   "source": [
    "from NB_Relevance import NB_relevant_NB_retraining_v3\n",
    "NB_relevant_NB_retraining_v3(\"./20news-18828/comp.os.ms-windows.misc\", \"./20news-18828/comp.sys.ibm.pc.hardware\", 1200, 0, \"./20news-18828/comp.windows.x\", \"./20news-18828/comp.sys.mac.hardware\", 50, 400)"
   ]
  },
  {
   "cell_type": "code",
   "execution_count": 8,
   "metadata": {},
   "outputs": [],
   "source": [
    "from NB_Relevance import NB_relevant_NB_retraining_v3_model\n",
    "training_paths = ['./20news-18828/comp.os.ms-windows.misc', './20news-18828/comp.sys.ibm.pc.hardware', './20news-18828/comp.sys.mac.hardware', './20news-18828/misc.forsale', './20news-18828/rec.autos', './20news-18828/rec.motorcycles', './20news-18828/rec.sport.baseball', './20news-18828/sci.crypt', './20news-18828/sci.electronics', './20news-18828/sci.med', './20news-18828/soc.religion.christian', './20news-18828/talk.politics.guns', './20news-18828/talk.politics.mideast', './20news-18828/talk.politics.misc']\n",
    "testing_paths = ['./20news-18828/soc.religion.christian', './20news-18828/comp.windows.x', './20news-18828/rec.sport.hockey', './20news-18828/talk.politics.guns', './20news-18828/sci.space', './20news-18828/misc.forsale', './20news-18828/alt.atheism', './20news-18828/talk.religion.misc']\n"
   ]
  },
  {
   "cell_type": "code",
   "execution_count": 9,
   "metadata": {},
   "outputs": [
    {
     "output_type": "error",
     "ename": "KeyboardInterrupt",
     "evalue": "",
     "traceback": [
      "\u001b[1;31m---------------------------------------------------------------------------\u001b[0m",
      "\u001b[1;31mKeyboardInterrupt\u001b[0m                         Traceback (most recent call last)",
      "\u001b[1;32m<ipython-input-9-a2ce9c9e1af9>\u001b[0m in \u001b[0;36m<module>\u001b[1;34m\u001b[0m\n\u001b[1;32m----> 1\u001b[1;33m \u001b[0maccuracy_original_list\u001b[0m\u001b[1;33m,\u001b[0m \u001b[0maccuracy_transfer_list\u001b[0m\u001b[1;33m,\u001b[0m \u001b[0maccuracy_relevant_transfer_list\u001b[0m \u001b[1;33m=\u001b[0m \u001b[0mNB_relevant_NB_retraining_v3_model\u001b[0m\u001b[1;33m(\u001b[0m\u001b[1;34m\"./20news-18828/alt.atheism\"\u001b[0m\u001b[1;33m,\u001b[0m \u001b[1;34m\"./20news-18828/comp.graphics\"\u001b[0m\u001b[1;33m,\u001b[0m \u001b[0mtraining_paths\u001b[0m\u001b[1;33m,\u001b[0m \u001b[0mtesting_paths\u001b[0m\u001b[1;33m)\u001b[0m\u001b[1;33m\u001b[0m\u001b[1;33m\u001b[0m\u001b[0m\n\u001b[0m",
      "\u001b[1;32mc:\\Users\\rando\\OneDrive\\Working\\transfer learning\\NB_Relevance.py\u001b[0m in \u001b[0;36mNB_relevant_NB_retraining_v3_model\u001b[1;34m(postive_folder_path, negative_folder_path, training_paths, testing_paths)\u001b[0m\n\u001b[0;32m    694\u001b[0m     \u001b[1;32mwhile\u001b[0m \u001b[0mi\u001b[0m \u001b[1;33m<\u001b[0m \u001b[0mlen\u001b[0m\u001b[1;33m(\u001b[0m\u001b[0mtraining_paths\u001b[0m\u001b[1;33m)\u001b[0m\u001b[1;33m:\u001b[0m\u001b[1;33m\u001b[0m\u001b[1;33m\u001b[0m\u001b[0m\n\u001b[0;32m    695\u001b[0m         \u001b[1;31m# the current small model\u001b[0m\u001b[1;33m\u001b[0m\u001b[1;33m\u001b[0m\u001b[1;33m\u001b[0m\u001b[0m\n\u001b[1;32m--> 696\u001b[1;33m         \u001b[0my1_prob_transfer\u001b[0m\u001b[1;33m,\u001b[0m \u001b[0my0_prob_transfer\u001b[0m\u001b[1;33m,\u001b[0m \u001b[0mprior_knowledge_transfer\u001b[0m\u001b[1;33m,\u001b[0m \u001b[0mtraining_data_table_transfer\u001b[0m\u001b[1;33m,\u001b[0m \u001b[0mtesting_data_table_transfer\u001b[0m \u001b[1;33m=\u001b[0m \u001b[0mcal_model\u001b[0m\u001b[1;33m(\u001b[0m\u001b[0mtraining_paths\u001b[0m\u001b[1;33m[\u001b[0m\u001b[0mi\u001b[0m\u001b[1;33m]\u001b[0m\u001b[1;33m,\u001b[0m \u001b[0mtraining_paths\u001b[0m\u001b[1;33m[\u001b[0m\u001b[0mi\u001b[0m\u001b[1;33m+\u001b[0m\u001b[1;36m1\u001b[0m\u001b[1;33m]\u001b[0m\u001b[1;33m,\u001b[0m \u001b[1;36m1200\u001b[0m\u001b[1;33m,\u001b[0m \u001b[1;36m0\u001b[0m\u001b[1;33m)\u001b[0m\u001b[1;33m\u001b[0m\u001b[1;33m\u001b[0m\u001b[0m\n\u001b[0m\u001b[0;32m    697\u001b[0m         \u001b[1;31m# print('Target-model is built')\u001b[0m\u001b[1;33m\u001b[0m\u001b[1;33m\u001b[0m\u001b[1;33m\u001b[0m\u001b[0m\n\u001b[0;32m    698\u001b[0m \u001b[1;33m\u001b[0m\u001b[0m\n",
      "\u001b[1;32mc:\\Users\\rando\\OneDrive\\Working\\transfer learning\\NB_Relevance.py\u001b[0m in \u001b[0;36mcal_model\u001b[1;34m(postive_folder_path, negative_folder_path, training_size, testing_size)\u001b[0m\n\u001b[0;32m     86\u001b[0m \u001b[1;33m\u001b[0m\u001b[0m\n\u001b[0;32m     87\u001b[0m \u001b[1;32mdef\u001b[0m \u001b[0mcal_model\u001b[0m\u001b[1;33m(\u001b[0m\u001b[0mpostive_folder_path\u001b[0m\u001b[1;33m,\u001b[0m \u001b[0mnegative_folder_path\u001b[0m\u001b[1;33m,\u001b[0m \u001b[0mtraining_size\u001b[0m\u001b[1;33m,\u001b[0m \u001b[0mtesting_size\u001b[0m\u001b[1;33m)\u001b[0m\u001b[1;33m:\u001b[0m\u001b[1;33m\u001b[0m\u001b[1;33m\u001b[0m\u001b[0m\n\u001b[1;32m---> 88\u001b[1;33m     \u001b[0mtraining_data_table\u001b[0m\u001b[1;33m,\u001b[0m \u001b[0mtesting_data_table\u001b[0m \u001b[1;33m=\u001b[0m \u001b[0mcreate_dataset\u001b[0m\u001b[1;33m(\u001b[0m\u001b[0mpostive_folder_path\u001b[0m\u001b[1;33m,\u001b[0m \u001b[0mnegative_folder_path\u001b[0m\u001b[1;33m,\u001b[0m \u001b[0mtraining_size\u001b[0m\u001b[1;33m,\u001b[0m \u001b[0mtesting_size\u001b[0m\u001b[1;33m)\u001b[0m\u001b[1;33m\u001b[0m\u001b[1;33m\u001b[0m\u001b[0m\n\u001b[0m\u001b[0;32m     89\u001b[0m     \u001b[0my1_count\u001b[0m \u001b[1;33m=\u001b[0m \u001b[1;36m0\u001b[0m\u001b[1;33m\u001b[0m\u001b[1;33m\u001b[0m\u001b[0m\n\u001b[0;32m     90\u001b[0m     \u001b[0my0_count\u001b[0m \u001b[1;33m=\u001b[0m \u001b[1;36m0\u001b[0m\u001b[1;33m\u001b[0m\u001b[1;33m\u001b[0m\u001b[0m\n",
      "\u001b[1;32mc:\\Users\\rando\\OneDrive\\Working\\transfer learning\\parseData.py\u001b[0m in \u001b[0;36mcreate_dataset\u001b[1;34m(postive_folder_path, negative_folder_path, training_size, testing_size)\u001b[0m\n\u001b[0;32m     89\u001b[0m     \u001b[0mtesting_label\u001b[0m \u001b[1;33m=\u001b[0m \u001b[1;33m[\u001b[0m\u001b[1;36m1\u001b[0m\u001b[1;33m]\u001b[0m \u001b[1;33m*\u001b[0m \u001b[0mtesting_half\u001b[0m \u001b[1;33m+\u001b[0m \u001b[1;33m[\u001b[0m\u001b[1;36m0\u001b[0m\u001b[1;33m]\u001b[0m \u001b[1;33m*\u001b[0m \u001b[0mtesting_half\u001b[0m\u001b[1;33m\u001b[0m\u001b[1;33m\u001b[0m\u001b[0m\n\u001b[0;32m     90\u001b[0m \u001b[1;33m\u001b[0m\u001b[0m\n\u001b[1;32m---> 91\u001b[1;33m     \u001b[0mtraining_data_table\u001b[0m \u001b[1;33m=\u001b[0m \u001b[0mcreate_data_table\u001b[0m\u001b[1;33m(\u001b[0m\u001b[0mtraining_bags\u001b[0m\u001b[1;33m,\u001b[0m \u001b[0mtraining_label\u001b[0m\u001b[1;33m)\u001b[0m\u001b[1;33m\u001b[0m\u001b[1;33m\u001b[0m\u001b[0m\n\u001b[0m\u001b[0;32m     92\u001b[0m     \u001b[0mtesting_data_table\u001b[0m \u001b[1;33m=\u001b[0m \u001b[0mcreate_data_table\u001b[0m\u001b[1;33m(\u001b[0m\u001b[0mtesting_bags\u001b[0m\u001b[1;33m,\u001b[0m \u001b[0mtesting_label\u001b[0m\u001b[1;33m)\u001b[0m\u001b[1;33m\u001b[0m\u001b[1;33m\u001b[0m\u001b[0m\n\u001b[0;32m     93\u001b[0m \u001b[1;33m\u001b[0m\u001b[0m\n",
      "\u001b[1;32mc:\\Users\\rando\\OneDrive\\Working\\transfer learning\\parseData.py\u001b[0m in \u001b[0;36mcreate_data_table\u001b[1;34m(bags, class_labels)\u001b[0m\n\u001b[0;32m     56\u001b[0m                 \u001b[0mdata_table\u001b[0m\u001b[1;33m[\u001b[0m\u001b[0mi\u001b[0m\u001b[1;33m+\u001b[0m\u001b[1;36m1\u001b[0m\u001b[1;33m]\u001b[0m\u001b[1;33m[\u001b[0m\u001b[0mdata_table\u001b[0m\u001b[1;33m[\u001b[0m\u001b[1;36m0\u001b[0m\u001b[1;33m]\u001b[0m\u001b[1;33m.\u001b[0m\u001b[0mindex\u001b[0m\u001b[1;33m(\u001b[0m\u001b[0mword\u001b[0m\u001b[1;33m)\u001b[0m\u001b[1;33m]\u001b[0m \u001b[1;33m+=\u001b[0m \u001b[0mbags\u001b[0m\u001b[1;33m[\u001b[0m\u001b[0mi\u001b[0m\u001b[1;33m]\u001b[0m\u001b[1;33m[\u001b[0m\u001b[0mword\u001b[0m\u001b[1;33m]\u001b[0m\u001b[1;33m\u001b[0m\u001b[1;33m\u001b[0m\u001b[0m\n\u001b[0;32m     57\u001b[0m             \u001b[1;32melse\u001b[0m\u001b[1;33m:\u001b[0m\u001b[1;33m\u001b[0m\u001b[1;33m\u001b[0m\u001b[0m\n\u001b[1;32m---> 58\u001b[1;33m                 \u001b[0mdata_table\u001b[0m\u001b[1;33m[\u001b[0m\u001b[1;36m0\u001b[0m\u001b[1;33m]\u001b[0m\u001b[1;33m.\u001b[0m\u001b[0mappend\u001b[0m\u001b[1;33m(\u001b[0m\u001b[0mword\u001b[0m\u001b[1;33m)\u001b[0m\u001b[1;33m\u001b[0m\u001b[1;33m\u001b[0m\u001b[0m\n\u001b[0m\u001b[0;32m     59\u001b[0m                 \u001b[1;32mfor\u001b[0m \u001b[0mj\u001b[0m \u001b[1;32min\u001b[0m \u001b[0mrange\u001b[0m\u001b[1;33m(\u001b[0m\u001b[0mlen\u001b[0m\u001b[1;33m(\u001b[0m\u001b[0mbags\u001b[0m\u001b[1;33m)\u001b[0m\u001b[1;33m)\u001b[0m\u001b[1;33m:\u001b[0m\u001b[1;33m\u001b[0m\u001b[1;33m\u001b[0m\u001b[0m\n\u001b[0;32m     60\u001b[0m                     \u001b[0mdata_table\u001b[0m\u001b[1;33m[\u001b[0m\u001b[0mj\u001b[0m\u001b[1;33m+\u001b[0m\u001b[1;36m1\u001b[0m\u001b[1;33m]\u001b[0m\u001b[1;33m.\u001b[0m\u001b[0mappend\u001b[0m\u001b[1;33m(\u001b[0m\u001b[1;36m0\u001b[0m\u001b[1;33m)\u001b[0m\u001b[1;33m\u001b[0m\u001b[1;33m\u001b[0m\u001b[0m\n",
      "\u001b[1;31mKeyboardInterrupt\u001b[0m: "
     ]
    }
   ],
   "source": [
    "accuracy_original_list, accuracy_transfer_list, accuracy_relevant_transfer_list = NB_relevant_NB_retraining_v3_model(\"./20news-18828/alt.atheism\", \"./20news-18828/comp.graphics\", training_paths, testing_paths)"
   ]
  },
  {
   "cell_type": "code",
   "execution_count": null,
   "metadata": {},
   "outputs": [],
   "source": [
    "from matplotlib import pyplot as plt\n",
    "# x = ['sci,sci', 'comp,comp', 'sci,talk', 'talk,comp', 'comp,mixed', 'rec,sci']\n",
    "plt.plot(range(1, len(accuracy_original_list)+1), accuracy_original_list, label='no transfer')\n",
    "plt.plot(range(1, len(accuracy_transfer_list)+1), accuracy_transfer_list, label='directly transfer')\n",
    "plt.plot(range(1, len(accuracy_relevant_transfer_list)+1), accuracy_relevant_transfer_list, label='NBTL transfer')\n",
    "\n",
    "plt.title('Comparasion of whether use feature selection (20News)')\n",
    "plt.xlabel('Datasets')\n",
    "plt.ylabel('Accuracy')\n",
    "plt.legend()\n",
    "plt.show()"
   ]
  },
  {
   "cell_type": "code",
   "execution_count": 1,
   "metadata": {},
   "outputs": [
    {
     "output_type": "stream",
     "name": "stdout",
     "text": [
      "Pre-model is built\n",
      "Target-model is built\n",
      "5223\n",
      "42161\n",
      "accuracy(no_transfer):  0.914\n",
      "accuracy(directly_transfer):  0.452\n",
      "Retraining start...\n"
     ]
    },
    {
     "output_type": "error",
     "ename": "KeyboardInterrupt",
     "evalue": "",
     "traceback": [
      "\u001b[1;31m---------------------------------------------------------------------------\u001b[0m",
      "\u001b[1;31mKeyboardInterrupt\u001b[0m                         Traceback (most recent call last)",
      "\u001b[1;32m<ipython-input-1-f6484ec68572>\u001b[0m in \u001b[0;36m<module>\u001b[1;34m\u001b[0m\n\u001b[0;32m      1\u001b[0m \u001b[1;32mfrom\u001b[0m \u001b[0mNB_Relevance_spam\u001b[0m \u001b[1;32mimport\u001b[0m \u001b[0mNB_relevant_NB_retraining_v3\u001b[0m\u001b[1;33m\u001b[0m\u001b[1;33m\u001b[0m\u001b[0m\n\u001b[0;32m      2\u001b[0m \u001b[1;33m\u001b[0m\u001b[0m\n\u001b[1;32m----> 3\u001b[1;33m \u001b[0mNB_relevant_NB_retraining_v3\u001b[0m\u001b[1;33m(\u001b[0m\u001b[1;34m'task_a_labeled_train.tf'\u001b[0m\u001b[1;33m,\u001b[0m \u001b[1;36m1000\u001b[0m\u001b[1;33m,\u001b[0m \u001b[1;36m0\u001b[0m\u001b[1;33m,\u001b[0m \u001b[1;34m'task_a_labeled_tune.tf'\u001b[0m\u001b[1;33m,\u001b[0m \u001b[1;36m500\u001b[0m\u001b[1;33m,\u001b[0m \u001b[1;36m500\u001b[0m\u001b[1;33m)\u001b[0m\u001b[1;33m\u001b[0m\u001b[1;33m\u001b[0m\u001b[0m\n\u001b[0m",
      "\u001b[1;32mc:\\Users\\rando\\OneDrive\\Working\\transfer learning\\NB_Relevance_spam.py\u001b[0m in \u001b[0;36mNB_relevant_NB_retraining_v3\u001b[1;34m(training_filename, training_size, testing_size, training_filename_transfer, training_size_transfer, testing_size_transfer)\u001b[0m\n\u001b[0;32m    897\u001b[0m                 \u001b[0mpositive_chi2\u001b[0m\u001b[1;33m,\u001b[0m \u001b[0mnegative_chi2\u001b[0m \u001b[1;33m=\u001b[0m \u001b[0mcal_chi2\u001b[0m\u001b[1;33m(\u001b[0m\u001b[0mprobX_Y1\u001b[0m\u001b[1;33m,\u001b[0m \u001b[0mprobX_Y0\u001b[0m\u001b[1;33m,\u001b[0m \u001b[0mprobX_Y1_transfer\u001b[0m\u001b[1;33m,\u001b[0m \u001b[0mprobX_Y0_transfer\u001b[0m\u001b[1;33m)\u001b[0m\u001b[1;33m\u001b[0m\u001b[1;33m\u001b[0m\u001b[0m\n\u001b[0;32m    898\u001b[0m                 \u001b[0mprior_overall_chi2\u001b[0m \u001b[1;33m=\u001b[0m \u001b[0moverall_chi2\u001b[0m\u001b[1;33m\u001b[0m\u001b[1;33m\u001b[0m\u001b[0m\n\u001b[1;32m--> 899\u001b[1;33m                 \u001b[0moverall_chi2\u001b[0m \u001b[1;33m=\u001b[0m \u001b[0mmax\u001b[0m\u001b[1;33m(\u001b[0m\u001b[1;33m[\u001b[0m\u001b[0mpositive_chi2\u001b[0m\u001b[1;33m,\u001b[0m \u001b[0mnegative_chi2\u001b[0m\u001b[1;33m]\u001b[0m\u001b[1;33m)\u001b[0m\u001b[1;33m\u001b[0m\u001b[1;33m\u001b[0m\u001b[0m\n\u001b[0m\u001b[0;32m    900\u001b[0m \u001b[1;33m\u001b[0m\u001b[0m\n\u001b[0;32m    901\u001b[0m             \u001b[0mchange1\u001b[0m \u001b[1;33m=\u001b[0m \u001b[0mprobX_Y1\u001b[0m \u001b[1;33m-\u001b[0m \u001b[0moriginal_probX_Y1\u001b[0m\u001b[1;33m\u001b[0m\u001b[1;33m\u001b[0m\u001b[0m\n",
      "\u001b[1;31mKeyboardInterrupt\u001b[0m: "
     ]
    }
   ],
   "source": [
    "from NB_Relevance_spam import NB_relevant_NB_retraining_v3\n",
    "\n",
    "NB_relevant_NB_retraining_v3('task_a_labeled_train.tf', 1000, 0, 'task_a_labeled_tune.tf', 500, 500)"
   ]
  },
  {
   "cell_type": "code",
   "execution_count": 1,
   "metadata": {},
   "outputs": [
    {
     "output_type": "stream",
     "name": "stdout",
     "text": [
      "Pre-model is built\n",
      "Target-model is built\n",
      "6173\n",
      "46429\n",
      "accuracy(no_transfer):  0.96\n",
      "accuracy(directly_transfer):  0.53\n",
      "Retraining start...\n",
      "Retraining end...\n",
      "accuracy_relevant_transfer:  0.96\n"
     ]
    },
    {
     "output_type": "execute_result",
     "data": {
      "text/plain": [
       "(0.96, 0.53, 0.96)"
      ]
     },
     "metadata": {},
     "execution_count": 1
    }
   ],
   "source": [
    "from NB_Relevance_spam import NB_relevant_NB_retraining_v5\n",
    "\n",
    "NB_relevant_NB_retraining_v5('task_a_labeled_train.tf', 1000, 0, 'task_a_labeled_tune.tf', 1000, 100)"
   ]
  },
  {
   "cell_type": "code",
   "execution_count": 1,
   "metadata": {},
   "outputs": [
    {
     "output_type": "stream",
     "name": "stdout",
     "text": [
      "Pre-model is built\n",
      "Target-model is built\n",
      "Retraining start...\n",
      "0.33340000000000003\n",
      "0.33399999999999996\n",
      "0.3426\n",
      "0.34019999999999995\n",
      "0.33199999999999996\n",
      "0.3076\n",
      "0.3052\n",
      "0.30400000000000005\n",
      "0.30400000000000005\n",
      "0.30400000000000005\n",
      "0.30400000000000005\n",
      "Retraining end...\n"
     ]
    }
   ],
   "source": [
    "from NB_Relevance_amazon import NB_relevant_NB_retraining_v5_progress\n",
    "error_rate_list5 = NB_relevant_NB_retraining_v5_progress('Toys_and_Games.json.gz', 10000, 0, 'Software.json.gz', 5000, 5000)"
   ]
  },
  {
   "cell_type": "code",
   "execution_count": 2,
   "metadata": {},
   "outputs": [
    {
     "output_type": "execute_result",
     "data": {
      "text/plain": [
       "[0.31579999999999997,\n",
       " 0.3336,\n",
       " 0.33340000000000003,\n",
       " 0.33399999999999996,\n",
       " 0.3426,\n",
       " 0.34019999999999995,\n",
       " 0.33199999999999996,\n",
       " 0.3076,\n",
       " 0.3052,\n",
       " 0.30400000000000005,\n",
       " 0.30400000000000005,\n",
       " 0.30400000000000005,\n",
       " 0.30400000000000005]"
      ]
     },
     "metadata": {},
     "execution_count": 2
    }
   ],
   "source": [
    "error_rate_list5"
   ]
  },
  {
   "cell_type": "code",
   "execution_count": 1,
   "metadata": {},
   "outputs": [
    {
     "output_type": "stream",
     "name": "stdout",
     "text": [
      "Pre-model is built\n",
      "Target-model is built\n",
      "Retraining start...\n",
      "0.16249999999999998\n",
      "0.1825\n",
      "0.1775\n",
      "0.15749999999999997\n",
      "0.14249999999999996\n",
      "0.125\n",
      "0.10250000000000004\n",
      "0.08499999999999996\n",
      "0.0675\n",
      "0.04749999999999999\n",
      "0.04749999999999999\n",
      "0.04749999999999999\n",
      "0.04749999999999999\n",
      "0.04749999999999999\n",
      "0.04749999999999999\n",
      "0.04749999999999999\n",
      "Retraining end...\n"
     ]
    }
   ],
   "source": [
    "from NB_Relevance import NB_relevant_NB_retraining_v5_progress\n",
    "error_rate_list3 = NB_relevant_NB_retraining_v5_progress(\"./20news-18828/sci.crypt\", \"./20news-18828/sci.electronics\", 1200, 0, \"./20news-18828/sci.med\", \"./20news-18828/sci.space\", 800, 400)"
   ]
  },
  {
   "cell_type": "code",
   "execution_count": 2,
   "metadata": {},
   "outputs": [
    {
     "output_type": "execute_result",
     "data": {
      "text/plain": [
       "[0.44499999999999995,\n",
       " 0.17500000000000004,\n",
       " 0.16249999999999998,\n",
       " 0.1825,\n",
       " 0.1775,\n",
       " 0.15749999999999997,\n",
       " 0.14249999999999996,\n",
       " 0.125,\n",
       " 0.10250000000000004,\n",
       " 0.08499999999999996,\n",
       " 0.0675,\n",
       " 0.04749999999999999,\n",
       " 0.04749999999999999,\n",
       " 0.04749999999999999,\n",
       " 0.04749999999999999,\n",
       " 0.04749999999999999,\n",
       " 0.04749999999999999,\n",
       " 0.04749999999999999]"
      ]
     },
     "metadata": {},
     "execution_count": 2
    }
   ],
   "source": [
    "error_rate_list3"
   ]
  },
  {
   "cell_type": "code",
   "execution_count": null,
   "metadata": {},
   "outputs": [],
   "source": []
  }
 ]
}