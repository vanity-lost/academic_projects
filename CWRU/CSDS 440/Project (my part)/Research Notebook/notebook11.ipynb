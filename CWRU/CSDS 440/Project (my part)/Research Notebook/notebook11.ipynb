{
 "metadata": {
  "language_info": {
   "codemirror_mode": {
    "name": "ipython",
    "version": 3
   },
   "file_extension": ".py",
   "mimetype": "text/x-python",
   "name": "python",
   "nbconvert_exporter": "python",
   "pygments_lexer": "ipython3",
   "version": "3.8.6-final"
  },
  "orig_nbformat": 2,
  "kernelspec": {
   "name": "python3",
   "display_name": "Python 3"
  }
 },
 "nbformat": 4,
 "nbformat_minor": 2,
 "cells": [
  {
   "cell_type": "code",
   "execution_count": 18,
   "metadata": {},
   "outputs": [],
   "source": [
    "import os\n",
    "\n",
    "def update_bags(line):\n",
    "    bag_of_word = dict()\n",
    "    split = line.split(\" \")\n",
    "    for word_count in split[1:]:\n",
    "        word, count_str = word_count.split(\":\")\n",
    "        count = int(count_str)\n",
    "        bag_of_word[word] = count\n",
    "    label = int(split[0])\n",
    "    bool_label = 1 if label == 1 else 0\n",
    "    return bag_of_word, bool_label\n",
    "\n",
    "def open_file(filepath):    \n",
    "    bags_of_words = []\n",
    "    class_labels = []\n",
    "    with open(filepath) as fp:\n",
    "        for line in fp:\n",
    "            bag_of_words, bool_label = update_bags(line)\n",
    "            bags_of_words.append(bag_of_words)\n",
    "            class_labels.append(bool_label)\n",
    "    return bags_of_words, class_labels\n",
    "\n",
    "def create_data_table(bags, class_labels):\n",
    "    data_table = list()\n",
    "    for i in range(len(bags) + 1):\n",
    "        row = list()\n",
    "        data_table.append(row)\n",
    "    \n",
    "    for i in range(len(bags)):\n",
    "        for word in bags[i]:\n",
    "            if word in data_table[0]:\n",
    "                data_table[i+1][data_table[0].index(word)] += bags[i][word]\n",
    "            else:\n",
    "                data_table[0].append(word)\n",
    "                for j in range(len(bags)):\n",
    "                    data_table[j+1].append(0)\n",
    "                data_table[i+1][-1] += bags[i][word]\n",
    "    for i in range(len(bags)):\n",
    "        data_table[i+1].append(class_labels[i])\n",
    "    return data_table\n",
    "\n",
    "def create_dataset(file_name, training_size, testing_size):\n",
    "    bags_of_words, class_labels = open_file(file_name)\n",
    "    data_table = create_data_table(bags_of_words, class_labels)\n",
    "    training_data_table = data_table[0] + data_table[1:training_size+1]\n",
    "    if testing_size != 0:\n",
    "        testing_data_table = data_table[0] + data_table[training_size+1:]\n",
    "    else:\n",
    "        testing_data_table = []\n",
    "    return training_data_table, testing_data_table\n",
    "    "
   ]
  },
  {
   "cell_type": "code",
   "execution_count": 2,
   "metadata": {},
   "outputs": [],
   "source": [
    "def cal_model(file_name, training_size, testing_size):\n",
    "    training_data_table, testing_data_table = create_dataset(file_name, training_size, testing_size)\n",
    "    y1_count = 0\n",
    "    y0_count = 0\n",
    "    for i in range(len(training_data_table)-1):\n",
    "        if training_data_table[i + 1][-1] == 1:\n",
    "            y1_count += 1\n",
    "        else:\n",
    "            y0_count += 1\n",
    "    y1_prob = y1_count/(len(training_data_table)-1)\n",
    "    y0_prob = y0_count/(len(training_data_table)-1)\n",
    "\n",
    "    prior_knowledge = dict()\n",
    "    vocabulary = len(training_data_table[0])\n",
    "    word_num_y1 = 0\n",
    "    word_num_y0 = 0\n",
    "    for i in range(len(training_data_table)-1):\n",
    "        if training_data_table[i+1][-1] == 1:\n",
    "            word_num_y1 += sum(training_data_table[i+1])-1\n",
    "        else:\n",
    "            print(training_data_table[i+1])\n",
    "            word_num_y0 += sum(training_data_table[i+1])\n",
    "\n",
    "\n",
    "    for i in range(len(training_data_table[0])):\n",
    "        x1_count = 0\n",
    "        x0_count = 0\n",
    "        for j in range(len(training_data_table)-1):\n",
    "            if training_data_table[j+1][-1] == 1:\n",
    "                x1_count += training_data_table[j+1][i]\n",
    "            else:\n",
    "                x0_count += training_data_table[j+1][i]\n",
    "        prob_x = [(x1_count+1)/(word_num_y1+vocabulary), (x0_count+1)/(word_num_y0+vocabulary)]\n",
    "        prior_knowledge[training_data_table[0][i]] = prob_x\n",
    "    return y1_prob, y0_prob, prior_knowledge, training_data_table, testing_data_table"
   ]
  },
  {
   "cell_type": "code",
   "execution_count": 3,
   "metadata": {},
   "outputs": [],
   "source": [
    "def NB_relevant_NB_retraining_v3():\n",
    "    # pre-trained model\n",
    "    y1_prob, y0_prob, prior_knowledge, training_data_table, testing_data_table = cal_model('task_a_labeled_train.tf', 1000, 0)\n",
    "    print('Pre-model is built')\n",
    "    \n",
    "    # the current small model\n",
    "    y1_prob_transfer, y0_prob_transfer, prior_knowledge_transfer, training_data_table_transfer, testing_data_table_transfer = cal_model('task_a_labeled_tune.tf', 1000, 500)\n",
    "    print('Target-model is built')\n",
    "    \n",
    "    accuracy_original = cal_direct_accuracy(testing_data_table_transfer, y1_prob_transfer, y0_prob_transfer, prior_knowledge_transfer)\n",
    "    print('accuracy(no_transfer): ', accuracy_original)\n",
    "    \n",
    "    accuracy_transfer = cal_direct_accuracy(testing_data_table_transfer, y1_prob_transfer, y0_prob_transfer, prior_knowledge)\n",
    "    print('accuracy(directly_transfer): ', accuracy_transfer)\n",
    "    \n",
    "    print('Retraining start...')\n",
    "    for word in prior_knowledge.keys():\n",
    "        if word in prior_knowledge_transfer.keys():\n",
    "            prior_overall_chi2 = 0\n",
    "            [probX_Y1, probX_Y0] = prior_knowledge[word]\n",
    "            [probX_Y1_transfer, probX_Y0_transfer] = prior_knowledge_transfer[word]\n",
    "            positive_chi2, negative_chi2 = cal_chi2(probX_Y1, probX_Y0, probX_Y1_transfer, probX_Y0_transfer)\n",
    "            positive_learning_rate = 0.05 if positive_chi2 > negative_chi2 else 0.01\n",
    "            negative_learning_rate = 0.05 if positive_chi2 < negative_chi2 else 0.01\n",
    "            overall_chi2 = max([positive_chi2, negative_chi2])\n",
    "            while abs(prior_overall_chi2 - overall_chi2) >= 0.0000001: \n",
    "                probX_Y1 += (probX_Y1_transfer - probX_Y1) * positive_learning_rate\n",
    "                probX_Y0 += (probX_Y0_transfer - probX_Y0) * negative_learning_rate\n",
    "                prior_knowledge[word] = [probX_Y1, probX_Y0]\n",
    "                positive_chi2, negative_chi2 = cal_chi2(probX_Y1, probX_Y0, probX_Y1_transfer, probX_Y0_transfer)\n",
    "                prior_overall_chi2 = overall_chi2\n",
    "                overall_chi2 = max([positive_chi2, negative_chi2])\n",
    "        else:\n",
    "            [probX_Y1, probX_Y0] = prior_knowledge[word]\n",
    "            prior_knowledge[word] = [probX_Y1 * 0.9, probX_Y0 * 0.9]\n",
    "    print('Retraining end...')\n",
    "    \n",
    "    # merge new words of current model into pre-model\n",
    "    for word in prior_knowledge_transfer.keys():\n",
    "        if word not in prior_knowledge.keys():\n",
    "            prior_knowledge[word] = prior_knowledge_transfer[word]\n",
    "    \n",
    "    accuracy_relevant_transfer = cal_direct_accuracy(testing_data_table_transfer, y1_prob_transfer, y0_prob_transfer, prior_knowledge)\n",
    "    print('accuracy_relevant_transfer: ', accuracy_relevant_transfer)\n",
    "    return accuracy_original, accuracy_transfer, accuracy_relevant_transfer"
   ]
  },
  {
   "cell_type": "code",
   "execution_count": 4,
   "metadata": {},
   "outputs": [
    {
     "output_type": "stream",
     "name": "stdout",
     "text": [
      "94\n"
     ]
    },
    {
     "output_type": "error",
     "ename": "TypeError",
     "evalue": "unsupported operand type(s) for +: 'int' and 'str'",
     "traceback": [
      "\u001b[1;31m---------------------------------------------------------------------------\u001b[0m",
      "\u001b[1;31mTypeError\u001b[0m                                 Traceback (most recent call last)",
      "\u001b[1;32m<ipython-input-4-411604de0f4f>\u001b[0m in \u001b[0;36m<module>\u001b[1;34m\u001b[0m\n\u001b[1;32m----> 1\u001b[1;33m \u001b[0mNB_relevant_NB_retraining_v3\u001b[0m\u001b[1;33m(\u001b[0m\u001b[1;33m)\u001b[0m\u001b[1;33m\u001b[0m\u001b[1;33m\u001b[0m\u001b[0m\n\u001b[0m",
      "\u001b[1;32m<ipython-input-3-9eea20b3c26c>\u001b[0m in \u001b[0;36mNB_relevant_NB_retraining_v3\u001b[1;34m()\u001b[0m\n\u001b[0;32m      1\u001b[0m \u001b[1;32mdef\u001b[0m \u001b[0mNB_relevant_NB_retraining_v3\u001b[0m\u001b[1;33m(\u001b[0m\u001b[1;33m)\u001b[0m\u001b[1;33m:\u001b[0m\u001b[1;33m\u001b[0m\u001b[1;33m\u001b[0m\u001b[0m\n\u001b[0;32m      2\u001b[0m     \u001b[1;31m# pre-trained model\u001b[0m\u001b[1;33m\u001b[0m\u001b[1;33m\u001b[0m\u001b[1;33m\u001b[0m\u001b[0m\n\u001b[1;32m----> 3\u001b[1;33m     \u001b[0my1_prob\u001b[0m\u001b[1;33m,\u001b[0m \u001b[0my0_prob\u001b[0m\u001b[1;33m,\u001b[0m \u001b[0mprior_knowledge\u001b[0m\u001b[1;33m,\u001b[0m \u001b[0mtraining_data_table\u001b[0m\u001b[1;33m,\u001b[0m \u001b[0mtesting_data_table\u001b[0m \u001b[1;33m=\u001b[0m \u001b[0mcal_model\u001b[0m\u001b[1;33m(\u001b[0m\u001b[1;34m'task_a_labeled_train.tf'\u001b[0m\u001b[1;33m,\u001b[0m \u001b[1;36m1000\u001b[0m\u001b[1;33m,\u001b[0m \u001b[1;36m0\u001b[0m\u001b[1;33m)\u001b[0m\u001b[1;33m\u001b[0m\u001b[1;33m\u001b[0m\u001b[0m\n\u001b[0m\u001b[0;32m      4\u001b[0m     \u001b[0mprint\u001b[0m\u001b[1;33m(\u001b[0m\u001b[1;34m'Pre-model is built'\u001b[0m\u001b[1;33m)\u001b[0m\u001b[1;33m\u001b[0m\u001b[1;33m\u001b[0m\u001b[0m\n\u001b[0;32m      5\u001b[0m \u001b[1;33m\u001b[0m\u001b[0m\n",
      "\u001b[1;32m<ipython-input-2-e8c246d3927b>\u001b[0m in \u001b[0;36mcal_model\u001b[1;34m(file_name, training_size, testing_size)\u001b[0m\n\u001b[0;32m     49\u001b[0m         \u001b[1;32melse\u001b[0m\u001b[1;33m:\u001b[0m\u001b[1;33m\u001b[0m\u001b[1;33m\u001b[0m\u001b[0m\n\u001b[0;32m     50\u001b[0m             \u001b[0mprint\u001b[0m\u001b[1;33m(\u001b[0m\u001b[0mtraining_data_table\u001b[0m\u001b[1;33m[\u001b[0m\u001b[0mi\u001b[0m\u001b[1;33m+\u001b[0m\u001b[1;36m1\u001b[0m\u001b[1;33m]\u001b[0m\u001b[1;33m)\u001b[0m\u001b[1;33m\u001b[0m\u001b[1;33m\u001b[0m\u001b[0m\n\u001b[1;32m---> 51\u001b[1;33m             \u001b[0mword_num_y0\u001b[0m \u001b[1;33m+=\u001b[0m \u001b[0msum\u001b[0m\u001b[1;33m(\u001b[0m\u001b[0mtraining_data_table\u001b[0m\u001b[1;33m[\u001b[0m\u001b[0mi\u001b[0m\u001b[1;33m+\u001b[0m\u001b[1;36m1\u001b[0m\u001b[1;33m]\u001b[0m\u001b[1;33m)\u001b[0m\u001b[1;33m\u001b[0m\u001b[1;33m\u001b[0m\u001b[0m\n\u001b[0m\u001b[0;32m     52\u001b[0m \u001b[1;33m\u001b[0m\u001b[0m\n\u001b[0;32m     53\u001b[0m \u001b[1;33m\u001b[0m\u001b[0m\n",
      "\u001b[1;31mTypeError\u001b[0m: unsupported operand type(s) for +: 'int' and 'str'"
     ]
    }
   ],
   "source": [
    "NB_relevant_NB_retraining_v3()"
   ]
  },
  {
   "cell_type": "code",
   "execution_count": 1,
   "metadata": {},
   "outputs": [
    {
     "output_type": "stream",
     "name": "stdout",
     "text": [
      "Pre-model is built\n",
      "Target-model is built\n",
      "Retraining start...\n",
      "0.1331\n",
      "0.12209999999999999\n",
      "0.11929999999999996\n",
      "0.11950000000000005\n"
     ]
    },
    {
     "output_type": "error",
     "ename": "KeyboardInterrupt",
     "evalue": "",
     "traceback": [
      "\u001b[1;31m---------------------------------------------------------------------------\u001b[0m",
      "\u001b[1;31mKeyboardInterrupt\u001b[0m                         Traceback (most recent call last)",
      "\u001b[1;32m<ipython-input-1-fbeaa5824182>\u001b[0m in \u001b[0;36m<module>\u001b[1;34m\u001b[0m\n\u001b[0;32m      1\u001b[0m \u001b[1;32mfrom\u001b[0m \u001b[0mNB_Relevance_amazon\u001b[0m \u001b[1;32mimport\u001b[0m \u001b[0mNB_relevant_NB_retraining_v3_progress\u001b[0m\u001b[1;33m\u001b[0m\u001b[1;33m\u001b[0m\u001b[0m\n\u001b[0;32m      2\u001b[0m \u001b[1;33m\u001b[0m\u001b[0m\n\u001b[1;32m----> 3\u001b[1;33m \u001b[0merror_rate_list\u001b[0m \u001b[1;33m=\u001b[0m \u001b[0mNB_relevant_NB_retraining_v3_progress\u001b[0m\u001b[1;33m(\u001b[0m\u001b[1;36m10000\u001b[0m\u001b[1;33m,\u001b[0m \u001b[1;36m0\u001b[0m\u001b[1;33m,\u001b[0m \u001b[1;36m5000\u001b[0m\u001b[1;33m,\u001b[0m \u001b[1;36m10000\u001b[0m\u001b[1;33m)\u001b[0m\u001b[1;33m\u001b[0m\u001b[1;33m\u001b[0m\u001b[0m\n\u001b[0m",
      "\u001b[1;32mc:\\Users\\rando\\OneDrive\\Working\\transfer learning\\NB_Relevance_amazon.py\u001b[0m in \u001b[0;36mNB_relevant_NB_retraining_v3_progress\u001b[1;34m(training_size, testing_size, training_size_transfer, testing_size_transfer)\u001b[0m\n\u001b[0;32m    601\u001b[0m             \u001b[0mprior_knowledge\u001b[0m\u001b[1;33m[\u001b[0m\u001b[0mword\u001b[0m\u001b[1;33m]\u001b[0m \u001b[1;33m=\u001b[0m \u001b[1;33m[\u001b[0m\u001b[0mprobX_Y1\u001b[0m \u001b[1;33m*\u001b[0m \u001b[1;36m0.9\u001b[0m\u001b[1;33m,\u001b[0m \u001b[0mprobX_Y0\u001b[0m \u001b[1;33m*\u001b[0m \u001b[1;36m0.9\u001b[0m\u001b[1;33m]\u001b[0m\u001b[1;33m\u001b[0m\u001b[1;33m\u001b[0m\u001b[0m\n\u001b[0;32m    602\u001b[0m         \u001b[1;32mif\u001b[0m \u001b[0mcount\u001b[0m \u001b[1;33m%\u001b[0m \u001b[1;36m2000\u001b[0m \u001b[1;33m==\u001b[0m \u001b[1;36m0\u001b[0m\u001b[1;33m:\u001b[0m\u001b[1;33m\u001b[0m\u001b[1;33m\u001b[0m\u001b[0m\n\u001b[1;32m--> 603\u001b[1;33m             \u001b[0maccuracy_relevant_transfer\u001b[0m \u001b[1;33m=\u001b[0m \u001b[0mcal_direct_accuracy\u001b[0m\u001b[1;33m(\u001b[0m\u001b[0mtesting_data_table_transfer\u001b[0m\u001b[1;33m,\u001b[0m \u001b[0my1_prob_transfer\u001b[0m\u001b[1;33m,\u001b[0m \u001b[0my0_prob_transfer\u001b[0m\u001b[1;33m,\u001b[0m \u001b[0mprior_knowledge\u001b[0m\u001b[1;33m)\u001b[0m\u001b[1;33m\u001b[0m\u001b[1;33m\u001b[0m\u001b[0m\n\u001b[0m\u001b[0;32m    604\u001b[0m             \u001b[0merror_rate_list\u001b[0m\u001b[1;33m.\u001b[0m\u001b[0mappend\u001b[0m\u001b[1;33m(\u001b[0m\u001b[1;36m1\u001b[0m\u001b[1;33m-\u001b[0m\u001b[0maccuracy_relevant_transfer\u001b[0m\u001b[1;33m)\u001b[0m\u001b[1;33m\u001b[0m\u001b[1;33m\u001b[0m\u001b[0m\n\u001b[0;32m    605\u001b[0m             \u001b[0mcount\u001b[0m \u001b[1;33m=\u001b[0m \u001b[1;36m0\u001b[0m\u001b[1;33m\u001b[0m\u001b[1;33m\u001b[0m\u001b[0m\n",
      "\u001b[1;32mc:\\Users\\rando\\OneDrive\\Working\\transfer learning\\NB_Relevance_amazon.py\u001b[0m in \u001b[0;36mcal_direct_accuracy\u001b[1;34m(testing_data_table_transfer, y1_prob, y0_prob, prior_knowledge)\u001b[0m\n\u001b[0;32m    128\u001b[0m             \u001b[1;32mif\u001b[0m \u001b[0mtesting_data_table_transfer\u001b[0m\u001b[1;33m[\u001b[0m\u001b[1;36m0\u001b[0m\u001b[1;33m]\u001b[0m\u001b[1;33m[\u001b[0m\u001b[0mj\u001b[0m\u001b[1;33m]\u001b[0m \u001b[1;32min\u001b[0m \u001b[0mprior_knowledge\u001b[0m\u001b[1;33m.\u001b[0m\u001b[0mkeys\u001b[0m\u001b[1;33m(\u001b[0m\u001b[1;33m)\u001b[0m\u001b[1;33m:\u001b[0m\u001b[1;33m\u001b[0m\u001b[1;33m\u001b[0m\u001b[0m\n\u001b[0;32m    129\u001b[0m                 \u001b[1;33m[\u001b[0m\u001b[0mprobX_Y1\u001b[0m\u001b[1;33m,\u001b[0m \u001b[0mprobX_Y0\u001b[0m\u001b[1;33m]\u001b[0m \u001b[1;33m=\u001b[0m \u001b[0mprior_knowledge\u001b[0m\u001b[1;33m[\u001b[0m\u001b[0mtesting_data_table_transfer\u001b[0m\u001b[1;33m[\u001b[0m\u001b[1;36m0\u001b[0m\u001b[1;33m]\u001b[0m\u001b[1;33m[\u001b[0m\u001b[0mj\u001b[0m\u001b[1;33m]\u001b[0m\u001b[1;33m]\u001b[0m\u001b[1;33m\u001b[0m\u001b[1;33m\u001b[0m\u001b[0m\n\u001b[1;32m--> 130\u001b[1;33m                 \u001b[0mprob_Y1\u001b[0m \u001b[1;33m+=\u001b[0m \u001b[0mnp\u001b[0m\u001b[1;33m.\u001b[0m\u001b[0mlog\u001b[0m\u001b[1;33m(\u001b[0m\u001b[0mprobX_Y1\u001b[0m\u001b[1;33m)\u001b[0m \u001b[1;33m*\u001b[0m \u001b[0mtesting_data_table_transfer\u001b[0m\u001b[1;33m[\u001b[0m\u001b[0mi\u001b[0m\u001b[1;33m]\u001b[0m\u001b[1;33m[\u001b[0m\u001b[0mj\u001b[0m\u001b[1;33m]\u001b[0m\u001b[1;33m\u001b[0m\u001b[1;33m\u001b[0m\u001b[0m\n\u001b[0m\u001b[0;32m    131\u001b[0m                 \u001b[0mprob_Y0\u001b[0m \u001b[1;33m+=\u001b[0m \u001b[0mnp\u001b[0m\u001b[1;33m.\u001b[0m\u001b[0mlog\u001b[0m\u001b[1;33m(\u001b[0m\u001b[0mprobX_Y0\u001b[0m\u001b[1;33m)\u001b[0m \u001b[1;33m*\u001b[0m \u001b[0mtesting_data_table_transfer\u001b[0m\u001b[1;33m[\u001b[0m\u001b[0mi\u001b[0m\u001b[1;33m]\u001b[0m\u001b[1;33m[\u001b[0m\u001b[0mj\u001b[0m\u001b[1;33m]\u001b[0m\u001b[1;33m\u001b[0m\u001b[1;33m\u001b[0m\u001b[0m\n\u001b[0;32m    132\u001b[0m         \u001b[0mpredicted_class_label\u001b[0m \u001b[1;33m=\u001b[0m \u001b[1;36m1\u001b[0m \u001b[1;32mif\u001b[0m \u001b[0mprob_Y1\u001b[0m \u001b[1;33m>=\u001b[0m \u001b[0mprob_Y0\u001b[0m \u001b[1;32melse\u001b[0m \u001b[1;36m0\u001b[0m\u001b[1;33m\u001b[0m\u001b[1;33m\u001b[0m\u001b[0m\n",
      "\u001b[1;31mKeyboardInterrupt\u001b[0m: "
     ]
    }
   ],
   "source": [
    "from NB_Relevance_amazon import NB_relevant_NB_retraining_v3_progress\n",
    "\n",
    "error_rate_list = NB_relevant_NB_retraining_v3_progress(10000, 0, 5000, 10000)"
   ]
  },
  {
   "cell_type": "code",
   "execution_count": null,
   "metadata": {},
   "outputs": [],
   "source": [
    "from matplotlib import pyplot as plt\n",
    "plt.plot(range(0, len(error_rate_list)*2000, 2000), error_rate_list, label='toy to garden')\n",
    "\n",
    "plt.title('Error Rate in Amazon Reviews dataset')\n",
    "plt.xlabel('Fine tuning words')\n",
    "plt.ylabel('Error Rate')\n",
    "plt.legend()\n",
    "plt.show()"
   ]
  },
  {
   "cell_type": "code",
   "execution_count": 1,
   "metadata": {},
   "outputs": [
    {
     "output_type": "stream",
     "name": "stdout",
     "text": [
      "Pre-model is built\n",
      "Target-model is built\n",
      "4962\n",
      "9987\n",
      "accuracy(no_transfer):  0.288\n",
      "accuracy(directly_transfer):  0.815\n",
      "Retraining start...\n",
      "Retraining end...\n",
      "accuracy_relevant_transfer:  0.8345\n"
     ]
    },
    {
     "output_type": "execute_result",
     "data": {
      "text/plain": [
       "(0.288, 0.815, 0.8345)"
      ]
     },
     "metadata": {},
     "execution_count": 1
    }
   ],
   "source": [
    "from NB_Relevance_amazon import NB_relevant_NB_retraining_v3\n",
    "NB_relevant_NB_retraining_v3('Toys_and_Games.json.gz', 5000, 0, 'Patio_Lawn_and_Garden.json.gz', 1000, 2000)"
   ]
  },
  {
   "cell_type": "code",
   "execution_count": 1,
   "metadata": {},
   "outputs": [
    {
     "output_type": "stream",
     "name": "stdout",
     "text": [
      "Pre-model is built\n",
      "Target-model is built\n",
      "4962\n",
      "9987\n",
      "accuracy(no_transfer):  0.288\n",
      "accuracy(directly_transfer):  0.815\n",
      "Retraining start...\n",
      "Retraining end...\n",
      "accuracy_relevant_transfer:  0.6655\n"
     ]
    },
    {
     "output_type": "execute_result",
     "data": {
      "text/plain": [
       "(0.288, 0.815, 0.6655)"
      ]
     },
     "metadata": {},
     "execution_count": 1
    }
   ],
   "source": [
    "from NB_Relevance_amazon import NB_relevant_NB_retraining_v3\n",
    "NB_relevant_NB_retraining_v3('Toys_and_Games.json.gz', 5000, 0, 'Patio_Lawn_and_Garden.json.gz', 1000, 2000)"
   ]
  },
  {
   "cell_type": "code",
   "execution_count": 2,
   "metadata": {},
   "outputs": [
    {
     "output_type": "stream",
     "name": "stdout",
     "text": [
      "Pre-model is built\n",
      "Target-model is built\n",
      "6106\n",
      "11399\n",
      "accuracy(no_transfer):  0.713\n",
      "accuracy(directly_transfer):  0.9355\n",
      "Retraining start...\n",
      "Retraining end...\n",
      "accuracy_relevant_transfer:  0.9385\n"
     ]
    },
    {
     "output_type": "execute_result",
     "data": {
      "text/plain": [
       "(0.713, 0.9355, 0.9385)"
      ]
     },
     "metadata": {},
     "execution_count": 2
    }
   ],
   "source": [
    "from NB_Relevance_amazon import NB_relevant_NB_retraining_v3\n",
    "NB_relevant_NB_retraining_v3('Toys_and_Games.json.gz', 5000, 0, 'Patio_Lawn_and_Garden.json.gz', 5000, 2000)"
   ]
  },
  {
   "cell_type": "code",
   "execution_count": 3,
   "metadata": {},
   "outputs": [
    {
     "output_type": "stream",
     "name": "stdout",
     "text": [
      "Pre-model is built\n",
      "Target-model is built\n",
      "7090\n",
      "12979\n",
      "accuracy(no_transfer):  0.713\n",
      "accuracy(directly_transfer):  0.962\n",
      "Retraining start...\n",
      "Retraining end...\n",
      "accuracy_relevant_transfer:  0.964\n"
     ]
    },
    {
     "output_type": "execute_result",
     "data": {
      "text/plain": [
       "(0.713, 0.962, 0.964)"
      ]
     },
     "metadata": {},
     "execution_count": 3
    }
   ],
   "source": [
    "from NB_Relevance_amazon import NB_relevant_NB_retraining_v3\n",
    "NB_relevant_NB_retraining_v3('Toys_and_Games.json.gz', 10000, 0, 'Patio_Lawn_and_Garden.json.gz', 5000, 2000)"
   ]
  },
  {
   "cell_type": "code",
   "execution_count": 1,
   "metadata": {},
   "outputs": [
    {
     "output_type": "stream",
     "name": "stdout",
     "text": [
      "Pre-model is built\n",
      "Target-model is built\n",
      "6559\n",
      "12532\n",
      "accuracy(no_transfer):  0.769\n",
      "accuracy(directly_transfer):  0.6876\n",
      "Retraining start...\n",
      "Retraining end...\n",
      "accuracy_relevant_transfer:  0.6658\n",
      "Pre-model is built\n",
      "Target-model is built\n",
      "8159\n",
      "18769\n",
      "accuracy(no_transfer):  0.9192\n",
      "accuracy(directly_transfer):  0.8804\n",
      "Retraining start...\n",
      "Retraining end...\n",
      "accuracy_relevant_transfer:  0.8942\n",
      "Pre-model is built\n",
      "Target-model is built\n",
      "7946\n",
      "14735\n",
      "accuracy(no_transfer):  0.737\n",
      "accuracy(directly_transfer):  0.8678\n",
      "Retraining start...\n",
      "Retraining end...\n",
      "accuracy_relevant_transfer:  0.8416\n",
      "Pre-model is built\n",
      "Target-model is built\n",
      "7687\n",
      "15149\n",
      "accuracy(no_transfer):  0.9192\n",
      "accuracy(directly_transfer):  0.8546\n",
      "Retraining start...\n",
      "Retraining end...\n",
      "accuracy_relevant_transfer:  0.8548\n",
      "Pre-model is built\n",
      "Target-model is built\n",
      "7062\n",
      "13840\n",
      "accuracy(no_transfer):  0.737\n",
      "accuracy(directly_transfer):  0.8288\n",
      "Retraining start...\n",
      "Retraining end...\n",
      "accuracy_relevant_transfer:  0.8104\n"
     ]
    }
   ],
   "source": [
    "from NB_Relevance_amazon import NB_relevant_NB_retraining_v3\n",
    "\n",
    "no_transfer = [0] * 5\n",
    "transfered = [0] * 5\n",
    "no_transfer[0], acc, transfered[0] = NB_relevant_NB_retraining_v3('Toys_and_Games.json.gz', 10000, 0, 'Patio_Lawn_and_Garden.json.gz', 5000, 5000)\n",
    "no_transfer[1], acc, transfered[1] = NB_relevant_NB_retraining_v3('Video_Games.json.gz', 10000, 0, 'Toys_and_Games.json.gz', 5000, 5000)\n",
    "no_transfer[2], acc, transfered[2] = NB_relevant_NB_retraining_v3('Cell_Phones_and_Accessories.json.gz', 10000, 0, 'Electronics.json.gz', 5000, 5000)\n",
    "no_transfer[3], acc, transfered[3] = NB_relevant_NB_retraining_v3('Electronics.json.gz', 10000, 0, 'Toys_and_Games.json.gz', 5000, 5000)\n",
    "no_transfer[4], acc, transfered[4] = NB_relevant_NB_retraining_v3('Patio_Lawn_and_Garden.json.gz', 10000, 0, 'Electronics.json.gz', 5000, 5000)"
   ]
  },
  {
   "cell_type": "code",
   "execution_count": 2,
   "metadata": {},
   "outputs": [
    {
     "output_type": "display_data",
     "data": {
      "text/plain": "<Figure size 432x288 with 1 Axes>",
      "image/svg+xml": "<?xml version=\"1.0\" encoding=\"utf-8\" standalone=\"no\"?>\r\n<!DOCTYPE svg PUBLIC \"-//W3C//DTD SVG 1.1//EN\"\r\n  \"http://www.w3.org/Graphics/SVG/1.1/DTD/svg11.dtd\">\r\n<!-- Created with matplotlib (https://matplotlib.org/) -->\r\n<svg height=\"277.314375pt\" version=\"1.1\" viewBox=\"0 0 392.14375 277.314375\" width=\"392.14375pt\" xmlns=\"http://www.w3.org/2000/svg\" xmlns:xlink=\"http://www.w3.org/1999/xlink\">\r\n <metadata>\r\n  <rdf:RDF xmlns:cc=\"http://creativecommons.org/ns#\" xmlns:dc=\"http://purl.org/dc/elements/1.1/\" xmlns:rdf=\"http://www.w3.org/1999/02/22-rdf-syntax-ns#\">\r\n   <cc:Work>\r\n    <dc:type rdf:resource=\"http://purl.org/dc/dcmitype/StillImage\"/>\r\n    <dc:date>2020-12-01T21:23:15.633298</dc:date>\r\n    <dc:format>image/svg+xml</dc:format>\r\n    <dc:creator>\r\n     <cc:Agent>\r\n      <dc:title>Matplotlib v3.3.2, https://matplotlib.org/</dc:title>\r\n     </cc:Agent>\r\n    </dc:creator>\r\n   </cc:Work>\r\n  </rdf:RDF>\r\n </metadata>\r\n <defs>\r\n  <style type=\"text/css\">*{stroke-linecap:butt;stroke-linejoin:round;}</style>\r\n </defs>\r\n <g id=\"figure_1\">\r\n  <g id=\"patch_1\">\r\n   <path d=\"M 0 277.314375 \r\nL 392.14375 277.314375 \r\nL 392.14375 0 \r\nL 0 0 \r\nz\r\n\" style=\"fill:none;\"/>\r\n  </g>\r\n  <g id=\"axes_1\">\r\n   <g id=\"patch_2\">\r\n    <path d=\"M 50.14375 239.758125 \r\nL 384.94375 239.758125 \r\nL 384.94375 22.318125 \r\nL 50.14375 22.318125 \r\nz\r\n\" style=\"fill:#ffffff;\"/>\r\n   </g>\r\n   <g id=\"matplotlib.axis_1\">\r\n    <g id=\"xtick_1\">\r\n     <g id=\"line2d_1\">\r\n      <defs>\r\n       <path d=\"M 0 0 \r\nL 0 3.5 \r\n\" id=\"m570e44f490\" style=\"stroke:#000000;stroke-width:0.8;\"/>\r\n      </defs>\r\n      <g>\r\n       <use style=\"stroke:#000000;stroke-width:0.8;\" x=\"65.361932\" xlink:href=\"#m570e44f490\" y=\"239.758125\"/>\r\n      </g>\r\n     </g>\r\n     <g id=\"text_1\">\r\n      <!-- pair1 -->\r\n      <g transform=\"translate(52.497869 254.356562)scale(0.1 -0.1)\">\r\n       <defs>\r\n        <path d=\"M 18.109375 8.203125 \r\nL 18.109375 -20.796875 \r\nL 9.078125 -20.796875 \r\nL 9.078125 54.6875 \r\nL 18.109375 54.6875 \r\nL 18.109375 46.390625 \r\nQ 20.953125 51.265625 25.265625 53.625 \r\nQ 29.59375 56 35.59375 56 \r\nQ 45.5625 56 51.78125 48.09375 \r\nQ 58.015625 40.1875 58.015625 27.296875 \r\nQ 58.015625 14.40625 51.78125 6.484375 \r\nQ 45.5625 -1.421875 35.59375 -1.421875 \r\nQ 29.59375 -1.421875 25.265625 0.953125 \r\nQ 20.953125 3.328125 18.109375 8.203125 \r\nz\r\nM 48.6875 27.296875 \r\nQ 48.6875 37.203125 44.609375 42.84375 \r\nQ 40.53125 48.484375 33.40625 48.484375 \r\nQ 26.265625 48.484375 22.1875 42.84375 \r\nQ 18.109375 37.203125 18.109375 27.296875 \r\nQ 18.109375 17.390625 22.1875 11.75 \r\nQ 26.265625 6.109375 33.40625 6.109375 \r\nQ 40.53125 6.109375 44.609375 11.75 \r\nQ 48.6875 17.390625 48.6875 27.296875 \r\nz\r\n\" id=\"DejaVuSans-112\"/>\r\n        <path d=\"M 34.28125 27.484375 \r\nQ 23.390625 27.484375 19.1875 25 \r\nQ 14.984375 22.515625 14.984375 16.5 \r\nQ 14.984375 11.71875 18.140625 8.90625 \r\nQ 21.296875 6.109375 26.703125 6.109375 \r\nQ 34.1875 6.109375 38.703125 11.40625 \r\nQ 43.21875 16.703125 43.21875 25.484375 \r\nL 43.21875 27.484375 \r\nz\r\nM 52.203125 31.203125 \r\nL 52.203125 0 \r\nL 43.21875 0 \r\nL 43.21875 8.296875 \r\nQ 40.140625 3.328125 35.546875 0.953125 \r\nQ 30.953125 -1.421875 24.3125 -1.421875 \r\nQ 15.921875 -1.421875 10.953125 3.296875 \r\nQ 6 8.015625 6 15.921875 \r\nQ 6 25.140625 12.171875 29.828125 \r\nQ 18.359375 34.515625 30.609375 34.515625 \r\nL 43.21875 34.515625 \r\nL 43.21875 35.40625 \r\nQ 43.21875 41.609375 39.140625 45 \r\nQ 35.0625 48.390625 27.6875 48.390625 \r\nQ 23 48.390625 18.546875 47.265625 \r\nQ 14.109375 46.140625 10.015625 43.890625 \r\nL 10.015625 52.203125 \r\nQ 14.9375 54.109375 19.578125 55.046875 \r\nQ 24.21875 56 28.609375 56 \r\nQ 40.484375 56 46.34375 49.84375 \r\nQ 52.203125 43.703125 52.203125 31.203125 \r\nz\r\n\" id=\"DejaVuSans-97\"/>\r\n        <path d=\"M 9.421875 54.6875 \r\nL 18.40625 54.6875 \r\nL 18.40625 0 \r\nL 9.421875 0 \r\nz\r\nM 9.421875 75.984375 \r\nL 18.40625 75.984375 \r\nL 18.40625 64.59375 \r\nL 9.421875 64.59375 \r\nz\r\n\" id=\"DejaVuSans-105\"/>\r\n        <path d=\"M 41.109375 46.296875 \r\nQ 39.59375 47.171875 37.8125 47.578125 \r\nQ 36.03125 48 33.890625 48 \r\nQ 26.265625 48 22.1875 43.046875 \r\nQ 18.109375 38.09375 18.109375 28.8125 \r\nL 18.109375 0 \r\nL 9.078125 0 \r\nL 9.078125 54.6875 \r\nL 18.109375 54.6875 \r\nL 18.109375 46.1875 \r\nQ 20.953125 51.171875 25.484375 53.578125 \r\nQ 30.03125 56 36.53125 56 \r\nQ 37.453125 56 38.578125 55.875 \r\nQ 39.703125 55.765625 41.0625 55.515625 \r\nz\r\n\" id=\"DejaVuSans-114\"/>\r\n        <path d=\"M 12.40625 8.296875 \r\nL 28.515625 8.296875 \r\nL 28.515625 63.921875 \r\nL 10.984375 60.40625 \r\nL 10.984375 69.390625 \r\nL 28.421875 72.90625 \r\nL 38.28125 72.90625 \r\nL 38.28125 8.296875 \r\nL 54.390625 8.296875 \r\nL 54.390625 0 \r\nL 12.40625 0 \r\nz\r\n\" id=\"DejaVuSans-49\"/>\r\n       </defs>\r\n       <use xlink:href=\"#DejaVuSans-112\"/>\r\n       <use x=\"63.476562\" xlink:href=\"#DejaVuSans-97\"/>\r\n       <use x=\"124.755859\" xlink:href=\"#DejaVuSans-105\"/>\r\n       <use x=\"152.539062\" xlink:href=\"#DejaVuSans-114\"/>\r\n       <use x=\"193.652344\" xlink:href=\"#DejaVuSans-49\"/>\r\n      </g>\r\n     </g>\r\n    </g>\r\n    <g id=\"xtick_2\">\r\n     <g id=\"line2d_2\">\r\n      <g>\r\n       <use style=\"stroke:#000000;stroke-width:0.8;\" x=\"141.452841\" xlink:href=\"#m570e44f490\" y=\"239.758125\"/>\r\n      </g>\r\n     </g>\r\n     <g id=\"text_2\">\r\n      <!-- pair2 -->\r\n      <g transform=\"translate(128.588778 254.356562)scale(0.1 -0.1)\">\r\n       <defs>\r\n        <path d=\"M 19.1875 8.296875 \r\nL 53.609375 8.296875 \r\nL 53.609375 0 \r\nL 7.328125 0 \r\nL 7.328125 8.296875 \r\nQ 12.9375 14.109375 22.625 23.890625 \r\nQ 32.328125 33.6875 34.8125 36.53125 \r\nQ 39.546875 41.84375 41.421875 45.53125 \r\nQ 43.3125 49.21875 43.3125 52.78125 \r\nQ 43.3125 58.59375 39.234375 62.25 \r\nQ 35.15625 65.921875 28.609375 65.921875 \r\nQ 23.96875 65.921875 18.8125 64.3125 \r\nQ 13.671875 62.703125 7.8125 59.421875 \r\nL 7.8125 69.390625 \r\nQ 13.765625 71.78125 18.9375 73 \r\nQ 24.125 74.21875 28.421875 74.21875 \r\nQ 39.75 74.21875 46.484375 68.546875 \r\nQ 53.21875 62.890625 53.21875 53.421875 \r\nQ 53.21875 48.921875 51.53125 44.890625 \r\nQ 49.859375 40.875 45.40625 35.40625 \r\nQ 44.1875 33.984375 37.640625 27.21875 \r\nQ 31.109375 20.453125 19.1875 8.296875 \r\nz\r\n\" id=\"DejaVuSans-50\"/>\r\n       </defs>\r\n       <use xlink:href=\"#DejaVuSans-112\"/>\r\n       <use x=\"63.476562\" xlink:href=\"#DejaVuSans-97\"/>\r\n       <use x=\"124.755859\" xlink:href=\"#DejaVuSans-105\"/>\r\n       <use x=\"152.539062\" xlink:href=\"#DejaVuSans-114\"/>\r\n       <use x=\"193.652344\" xlink:href=\"#DejaVuSans-50\"/>\r\n      </g>\r\n     </g>\r\n    </g>\r\n    <g id=\"xtick_3\">\r\n     <g id=\"line2d_3\">\r\n      <g>\r\n       <use style=\"stroke:#000000;stroke-width:0.8;\" x=\"217.54375\" xlink:href=\"#m570e44f490\" y=\"239.758125\"/>\r\n      </g>\r\n     </g>\r\n     <g id=\"text_3\">\r\n      <!-- pair3 -->\r\n      <g transform=\"translate(204.679688 254.356562)scale(0.1 -0.1)\">\r\n       <defs>\r\n        <path d=\"M 40.578125 39.3125 \r\nQ 47.65625 37.796875 51.625 33 \r\nQ 55.609375 28.21875 55.609375 21.1875 \r\nQ 55.609375 10.40625 48.1875 4.484375 \r\nQ 40.765625 -1.421875 27.09375 -1.421875 \r\nQ 22.515625 -1.421875 17.65625 -0.515625 \r\nQ 12.796875 0.390625 7.625 2.203125 \r\nL 7.625 11.71875 \r\nQ 11.71875 9.328125 16.59375 8.109375 \r\nQ 21.484375 6.890625 26.8125 6.890625 \r\nQ 36.078125 6.890625 40.9375 10.546875 \r\nQ 45.796875 14.203125 45.796875 21.1875 \r\nQ 45.796875 27.640625 41.28125 31.265625 \r\nQ 36.765625 34.90625 28.71875 34.90625 \r\nL 20.21875 34.90625 \r\nL 20.21875 43.015625 \r\nL 29.109375 43.015625 \r\nQ 36.375 43.015625 40.234375 45.921875 \r\nQ 44.09375 48.828125 44.09375 54.296875 \r\nQ 44.09375 59.90625 40.109375 62.90625 \r\nQ 36.140625 65.921875 28.71875 65.921875 \r\nQ 24.65625 65.921875 20.015625 65.03125 \r\nQ 15.375 64.15625 9.8125 62.3125 \r\nL 9.8125 71.09375 \r\nQ 15.4375 72.65625 20.34375 73.4375 \r\nQ 25.25 74.21875 29.59375 74.21875 \r\nQ 40.828125 74.21875 47.359375 69.109375 \r\nQ 53.90625 64.015625 53.90625 55.328125 \r\nQ 53.90625 49.265625 50.4375 45.09375 \r\nQ 46.96875 40.921875 40.578125 39.3125 \r\nz\r\n\" id=\"DejaVuSans-51\"/>\r\n       </defs>\r\n       <use xlink:href=\"#DejaVuSans-112\"/>\r\n       <use x=\"63.476562\" xlink:href=\"#DejaVuSans-97\"/>\r\n       <use x=\"124.755859\" xlink:href=\"#DejaVuSans-105\"/>\r\n       <use x=\"152.539062\" xlink:href=\"#DejaVuSans-114\"/>\r\n       <use x=\"193.652344\" xlink:href=\"#DejaVuSans-51\"/>\r\n      </g>\r\n     </g>\r\n    </g>\r\n    <g id=\"xtick_4\">\r\n     <g id=\"line2d_4\">\r\n      <g>\r\n       <use style=\"stroke:#000000;stroke-width:0.8;\" x=\"293.634659\" xlink:href=\"#m570e44f490\" y=\"239.758125\"/>\r\n      </g>\r\n     </g>\r\n     <g id=\"text_4\">\r\n      <!-- pair4 -->\r\n      <g transform=\"translate(280.770597 254.356562)scale(0.1 -0.1)\">\r\n       <defs>\r\n        <path d=\"M 37.796875 64.3125 \r\nL 12.890625 25.390625 \r\nL 37.796875 25.390625 \r\nz\r\nM 35.203125 72.90625 \r\nL 47.609375 72.90625 \r\nL 47.609375 25.390625 \r\nL 58.015625 25.390625 \r\nL 58.015625 17.1875 \r\nL 47.609375 17.1875 \r\nL 47.609375 0 \r\nL 37.796875 0 \r\nL 37.796875 17.1875 \r\nL 4.890625 17.1875 \r\nL 4.890625 26.703125 \r\nz\r\n\" id=\"DejaVuSans-52\"/>\r\n       </defs>\r\n       <use xlink:href=\"#DejaVuSans-112\"/>\r\n       <use x=\"63.476562\" xlink:href=\"#DejaVuSans-97\"/>\r\n       <use x=\"124.755859\" xlink:href=\"#DejaVuSans-105\"/>\r\n       <use x=\"152.539062\" xlink:href=\"#DejaVuSans-114\"/>\r\n       <use x=\"193.652344\" xlink:href=\"#DejaVuSans-52\"/>\r\n      </g>\r\n     </g>\r\n    </g>\r\n    <g id=\"xtick_5\">\r\n     <g id=\"line2d_5\">\r\n      <g>\r\n       <use style=\"stroke:#000000;stroke-width:0.8;\" x=\"369.725568\" xlink:href=\"#m570e44f490\" y=\"239.758125\"/>\r\n      </g>\r\n     </g>\r\n     <g id=\"text_5\">\r\n      <!-- pair5 -->\r\n      <g transform=\"translate(356.861506 254.356562)scale(0.1 -0.1)\">\r\n       <defs>\r\n        <path d=\"M 10.796875 72.90625 \r\nL 49.515625 72.90625 \r\nL 49.515625 64.59375 \r\nL 19.828125 64.59375 \r\nL 19.828125 46.734375 \r\nQ 21.96875 47.46875 24.109375 47.828125 \r\nQ 26.265625 48.1875 28.421875 48.1875 \r\nQ 40.625 48.1875 47.75 41.5 \r\nQ 54.890625 34.8125 54.890625 23.390625 \r\nQ 54.890625 11.625 47.5625 5.09375 \r\nQ 40.234375 -1.421875 26.90625 -1.421875 \r\nQ 22.3125 -1.421875 17.546875 -0.640625 \r\nQ 12.796875 0.140625 7.71875 1.703125 \r\nL 7.71875 11.625 \r\nQ 12.109375 9.234375 16.796875 8.0625 \r\nQ 21.484375 6.890625 26.703125 6.890625 \r\nQ 35.15625 6.890625 40.078125 11.328125 \r\nQ 45.015625 15.765625 45.015625 23.390625 \r\nQ 45.015625 31 40.078125 35.4375 \r\nQ 35.15625 39.890625 26.703125 39.890625 \r\nQ 22.75 39.890625 18.8125 39.015625 \r\nQ 14.890625 38.140625 10.796875 36.28125 \r\nz\r\n\" id=\"DejaVuSans-53\"/>\r\n       </defs>\r\n       <use xlink:href=\"#DejaVuSans-112\"/>\r\n       <use x=\"63.476562\" xlink:href=\"#DejaVuSans-97\"/>\r\n       <use x=\"124.755859\" xlink:href=\"#DejaVuSans-105\"/>\r\n       <use x=\"152.539062\" xlink:href=\"#DejaVuSans-114\"/>\r\n       <use x=\"193.652344\" xlink:href=\"#DejaVuSans-53\"/>\r\n      </g>\r\n     </g>\r\n    </g>\r\n    <g id=\"text_6\">\r\n     <!-- Fine tuning words -->\r\n     <g transform=\"translate(173.292969 268.034687)scale(0.1 -0.1)\">\r\n      <defs>\r\n       <path d=\"M 9.8125 72.90625 \r\nL 51.703125 72.90625 \r\nL 51.703125 64.59375 \r\nL 19.671875 64.59375 \r\nL 19.671875 43.109375 \r\nL 48.578125 43.109375 \r\nL 48.578125 34.8125 \r\nL 19.671875 34.8125 \r\nL 19.671875 0 \r\nL 9.8125 0 \r\nz\r\n\" id=\"DejaVuSans-70\"/>\r\n       <path d=\"M 54.890625 33.015625 \r\nL 54.890625 0 \r\nL 45.90625 0 \r\nL 45.90625 32.71875 \r\nQ 45.90625 40.484375 42.875 44.328125 \r\nQ 39.84375 48.1875 33.796875 48.1875 \r\nQ 26.515625 48.1875 22.3125 43.546875 \r\nQ 18.109375 38.921875 18.109375 30.90625 \r\nL 18.109375 0 \r\nL 9.078125 0 \r\nL 9.078125 54.6875 \r\nL 18.109375 54.6875 \r\nL 18.109375 46.1875 \r\nQ 21.34375 51.125 25.703125 53.5625 \r\nQ 30.078125 56 35.796875 56 \r\nQ 45.21875 56 50.046875 50.171875 \r\nQ 54.890625 44.34375 54.890625 33.015625 \r\nz\r\n\" id=\"DejaVuSans-110\"/>\r\n       <path d=\"M 56.203125 29.59375 \r\nL 56.203125 25.203125 \r\nL 14.890625 25.203125 \r\nQ 15.484375 15.921875 20.484375 11.0625 \r\nQ 25.484375 6.203125 34.421875 6.203125 \r\nQ 39.59375 6.203125 44.453125 7.46875 \r\nQ 49.3125 8.734375 54.109375 11.28125 \r\nL 54.109375 2.78125 \r\nQ 49.265625 0.734375 44.1875 -0.34375 \r\nQ 39.109375 -1.421875 33.890625 -1.421875 \r\nQ 20.796875 -1.421875 13.15625 6.1875 \r\nQ 5.515625 13.8125 5.515625 26.8125 \r\nQ 5.515625 40.234375 12.765625 48.109375 \r\nQ 20.015625 56 32.328125 56 \r\nQ 43.359375 56 49.78125 48.890625 \r\nQ 56.203125 41.796875 56.203125 29.59375 \r\nz\r\nM 47.21875 32.234375 \r\nQ 47.125 39.59375 43.09375 43.984375 \r\nQ 39.0625 48.390625 32.421875 48.390625 \r\nQ 24.90625 48.390625 20.390625 44.140625 \r\nQ 15.875 39.890625 15.1875 32.171875 \r\nz\r\n\" id=\"DejaVuSans-101\"/>\r\n       <path id=\"DejaVuSans-32\"/>\r\n       <path d=\"M 18.3125 70.21875 \r\nL 18.3125 54.6875 \r\nL 36.8125 54.6875 \r\nL 36.8125 47.703125 \r\nL 18.3125 47.703125 \r\nL 18.3125 18.015625 \r\nQ 18.3125 11.328125 20.140625 9.421875 \r\nQ 21.96875 7.515625 27.59375 7.515625 \r\nL 36.8125 7.515625 \r\nL 36.8125 0 \r\nL 27.59375 0 \r\nQ 17.1875 0 13.234375 3.875 \r\nQ 9.28125 7.765625 9.28125 18.015625 \r\nL 9.28125 47.703125 \r\nL 2.6875 47.703125 \r\nL 2.6875 54.6875 \r\nL 9.28125 54.6875 \r\nL 9.28125 70.21875 \r\nz\r\n\" id=\"DejaVuSans-116\"/>\r\n       <path d=\"M 8.5 21.578125 \r\nL 8.5 54.6875 \r\nL 17.484375 54.6875 \r\nL 17.484375 21.921875 \r\nQ 17.484375 14.15625 20.5 10.265625 \r\nQ 23.53125 6.390625 29.59375 6.390625 \r\nQ 36.859375 6.390625 41.078125 11.03125 \r\nQ 45.3125 15.671875 45.3125 23.6875 \r\nL 45.3125 54.6875 \r\nL 54.296875 54.6875 \r\nL 54.296875 0 \r\nL 45.3125 0 \r\nL 45.3125 8.40625 \r\nQ 42.046875 3.421875 37.71875 1 \r\nQ 33.40625 -1.421875 27.6875 -1.421875 \r\nQ 18.265625 -1.421875 13.375 4.4375 \r\nQ 8.5 10.296875 8.5 21.578125 \r\nz\r\nM 31.109375 56 \r\nz\r\n\" id=\"DejaVuSans-117\"/>\r\n       <path d=\"M 45.40625 27.984375 \r\nQ 45.40625 37.75 41.375 43.109375 \r\nQ 37.359375 48.484375 30.078125 48.484375 \r\nQ 22.859375 48.484375 18.828125 43.109375 \r\nQ 14.796875 37.75 14.796875 27.984375 \r\nQ 14.796875 18.265625 18.828125 12.890625 \r\nQ 22.859375 7.515625 30.078125 7.515625 \r\nQ 37.359375 7.515625 41.375 12.890625 \r\nQ 45.40625 18.265625 45.40625 27.984375 \r\nz\r\nM 54.390625 6.78125 \r\nQ 54.390625 -7.171875 48.1875 -13.984375 \r\nQ 42 -20.796875 29.203125 -20.796875 \r\nQ 24.46875 -20.796875 20.265625 -20.09375 \r\nQ 16.0625 -19.390625 12.109375 -17.921875 \r\nL 12.109375 -9.1875 \r\nQ 16.0625 -11.328125 19.921875 -12.34375 \r\nQ 23.78125 -13.375 27.78125 -13.375 \r\nQ 36.625 -13.375 41.015625 -8.765625 \r\nQ 45.40625 -4.15625 45.40625 5.171875 \r\nL 45.40625 9.625 \r\nQ 42.625 4.78125 38.28125 2.390625 \r\nQ 33.9375 0 27.875 0 \r\nQ 17.828125 0 11.671875 7.65625 \r\nQ 5.515625 15.328125 5.515625 27.984375 \r\nQ 5.515625 40.671875 11.671875 48.328125 \r\nQ 17.828125 56 27.875 56 \r\nQ 33.9375 56 38.28125 53.609375 \r\nQ 42.625 51.21875 45.40625 46.390625 \r\nL 45.40625 54.6875 \r\nL 54.390625 54.6875 \r\nz\r\n\" id=\"DejaVuSans-103\"/>\r\n       <path d=\"M 4.203125 54.6875 \r\nL 13.1875 54.6875 \r\nL 24.421875 12.015625 \r\nL 35.59375 54.6875 \r\nL 46.1875 54.6875 \r\nL 57.421875 12.015625 \r\nL 68.609375 54.6875 \r\nL 77.59375 54.6875 \r\nL 63.28125 0 \r\nL 52.6875 0 \r\nL 40.921875 44.828125 \r\nL 29.109375 0 \r\nL 18.5 0 \r\nz\r\n\" id=\"DejaVuSans-119\"/>\r\n       <path d=\"M 30.609375 48.390625 \r\nQ 23.390625 48.390625 19.1875 42.75 \r\nQ 14.984375 37.109375 14.984375 27.296875 \r\nQ 14.984375 17.484375 19.15625 11.84375 \r\nQ 23.34375 6.203125 30.609375 6.203125 \r\nQ 37.796875 6.203125 41.984375 11.859375 \r\nQ 46.1875 17.53125 46.1875 27.296875 \r\nQ 46.1875 37.015625 41.984375 42.703125 \r\nQ 37.796875 48.390625 30.609375 48.390625 \r\nz\r\nM 30.609375 56 \r\nQ 42.328125 56 49.015625 48.375 \r\nQ 55.71875 40.765625 55.71875 27.296875 \r\nQ 55.71875 13.875 49.015625 6.21875 \r\nQ 42.328125 -1.421875 30.609375 -1.421875 \r\nQ 18.84375 -1.421875 12.171875 6.21875 \r\nQ 5.515625 13.875 5.515625 27.296875 \r\nQ 5.515625 40.765625 12.171875 48.375 \r\nQ 18.84375 56 30.609375 56 \r\nz\r\n\" id=\"DejaVuSans-111\"/>\r\n       <path d=\"M 45.40625 46.390625 \r\nL 45.40625 75.984375 \r\nL 54.390625 75.984375 \r\nL 54.390625 0 \r\nL 45.40625 0 \r\nL 45.40625 8.203125 \r\nQ 42.578125 3.328125 38.25 0.953125 \r\nQ 33.9375 -1.421875 27.875 -1.421875 \r\nQ 17.96875 -1.421875 11.734375 6.484375 \r\nQ 5.515625 14.40625 5.515625 27.296875 \r\nQ 5.515625 40.1875 11.734375 48.09375 \r\nQ 17.96875 56 27.875 56 \r\nQ 33.9375 56 38.25 53.625 \r\nQ 42.578125 51.265625 45.40625 46.390625 \r\nz\r\nM 14.796875 27.296875 \r\nQ 14.796875 17.390625 18.875 11.75 \r\nQ 22.953125 6.109375 30.078125 6.109375 \r\nQ 37.203125 6.109375 41.296875 11.75 \r\nQ 45.40625 17.390625 45.40625 27.296875 \r\nQ 45.40625 37.203125 41.296875 42.84375 \r\nQ 37.203125 48.484375 30.078125 48.484375 \r\nQ 22.953125 48.484375 18.875 42.84375 \r\nQ 14.796875 37.203125 14.796875 27.296875 \r\nz\r\n\" id=\"DejaVuSans-100\"/>\r\n       <path d=\"M 44.28125 53.078125 \r\nL 44.28125 44.578125 \r\nQ 40.484375 46.53125 36.375 47.5 \r\nQ 32.28125 48.484375 27.875 48.484375 \r\nQ 21.1875 48.484375 17.84375 46.4375 \r\nQ 14.5 44.390625 14.5 40.28125 \r\nQ 14.5 37.15625 16.890625 35.375 \r\nQ 19.28125 33.59375 26.515625 31.984375 \r\nL 29.59375 31.296875 \r\nQ 39.15625 29.25 43.1875 25.515625 \r\nQ 47.21875 21.78125 47.21875 15.09375 \r\nQ 47.21875 7.46875 41.1875 3.015625 \r\nQ 35.15625 -1.421875 24.609375 -1.421875 \r\nQ 20.21875 -1.421875 15.453125 -0.5625 \r\nQ 10.6875 0.296875 5.421875 2 \r\nL 5.421875 11.28125 \r\nQ 10.40625 8.6875 15.234375 7.390625 \r\nQ 20.0625 6.109375 24.8125 6.109375 \r\nQ 31.15625 6.109375 34.5625 8.28125 \r\nQ 37.984375 10.453125 37.984375 14.40625 \r\nQ 37.984375 18.0625 35.515625 20.015625 \r\nQ 33.0625 21.96875 24.703125 23.78125 \r\nL 21.578125 24.515625 \r\nQ 13.234375 26.265625 9.515625 29.90625 \r\nQ 5.8125 33.546875 5.8125 39.890625 \r\nQ 5.8125 47.609375 11.28125 51.796875 \r\nQ 16.75 56 26.8125 56 \r\nQ 31.78125 56 36.171875 55.265625 \r\nQ 40.578125 54.546875 44.28125 53.078125 \r\nz\r\n\" id=\"DejaVuSans-115\"/>\r\n      </defs>\r\n      <use xlink:href=\"#DejaVuSans-70\"/>\r\n      <use x=\"50.269531\" xlink:href=\"#DejaVuSans-105\"/>\r\n      <use x=\"78.052734\" xlink:href=\"#DejaVuSans-110\"/>\r\n      <use x=\"141.431641\" xlink:href=\"#DejaVuSans-101\"/>\r\n      <use x=\"202.955078\" xlink:href=\"#DejaVuSans-32\"/>\r\n      <use x=\"234.742188\" xlink:href=\"#DejaVuSans-116\"/>\r\n      <use x=\"273.951172\" xlink:href=\"#DejaVuSans-117\"/>\r\n      <use x=\"337.330078\" xlink:href=\"#DejaVuSans-110\"/>\r\n      <use x=\"400.708984\" xlink:href=\"#DejaVuSans-105\"/>\r\n      <use x=\"428.492188\" xlink:href=\"#DejaVuSans-110\"/>\r\n      <use x=\"491.871094\" xlink:href=\"#DejaVuSans-103\"/>\r\n      <use x=\"555.347656\" xlink:href=\"#DejaVuSans-32\"/>\r\n      <use x=\"587.134766\" xlink:href=\"#DejaVuSans-119\"/>\r\n      <use x=\"668.921875\" xlink:href=\"#DejaVuSans-111\"/>\r\n      <use x=\"730.103516\" xlink:href=\"#DejaVuSans-114\"/>\r\n      <use x=\"769.466797\" xlink:href=\"#DejaVuSans-100\"/>\r\n      <use x=\"832.943359\" xlink:href=\"#DejaVuSans-115\"/>\r\n     </g>\r\n    </g>\r\n   </g>\r\n   <g id=\"matplotlib.axis_2\">\r\n    <g id=\"ytick_1\">\r\n     <g id=\"line2d_6\">\r\n      <defs>\r\n       <path d=\"M 0 0 \r\nL -3.5 0 \r\n\" id=\"m8cddfa54f2\" style=\"stroke:#000000;stroke-width:0.8;\"/>\r\n      </defs>\r\n      <g>\r\n       <use style=\"stroke:#000000;stroke-width:0.8;\" x=\"50.14375\" xlink:href=\"#m8cddfa54f2\" y=\"203.195691\"/>\r\n      </g>\r\n     </g>\r\n     <g id=\"text_7\">\r\n      <!-- 0.70 -->\r\n      <g transform=\"translate(20.878125 206.99491)scale(0.1 -0.1)\">\r\n       <defs>\r\n        <path d=\"M 31.78125 66.40625 \r\nQ 24.171875 66.40625 20.328125 58.90625 \r\nQ 16.5 51.421875 16.5 36.375 \r\nQ 16.5 21.390625 20.328125 13.890625 \r\nQ 24.171875 6.390625 31.78125 6.390625 \r\nQ 39.453125 6.390625 43.28125 13.890625 \r\nQ 47.125 21.390625 47.125 36.375 \r\nQ 47.125 51.421875 43.28125 58.90625 \r\nQ 39.453125 66.40625 31.78125 66.40625 \r\nz\r\nM 31.78125 74.21875 \r\nQ 44.046875 74.21875 50.515625 64.515625 \r\nQ 56.984375 54.828125 56.984375 36.375 \r\nQ 56.984375 17.96875 50.515625 8.265625 \r\nQ 44.046875 -1.421875 31.78125 -1.421875 \r\nQ 19.53125 -1.421875 13.0625 8.265625 \r\nQ 6.59375 17.96875 6.59375 36.375 \r\nQ 6.59375 54.828125 13.0625 64.515625 \r\nQ 19.53125 74.21875 31.78125 74.21875 \r\nz\r\n\" id=\"DejaVuSans-48\"/>\r\n        <path d=\"M 10.6875 12.40625 \r\nL 21 12.40625 \r\nL 21 0 \r\nL 10.6875 0 \r\nz\r\n\" id=\"DejaVuSans-46\"/>\r\n        <path d=\"M 8.203125 72.90625 \r\nL 55.078125 72.90625 \r\nL 55.078125 68.703125 \r\nL 28.609375 0 \r\nL 18.3125 0 \r\nL 43.21875 64.59375 \r\nL 8.203125 64.59375 \r\nz\r\n\" id=\"DejaVuSans-55\"/>\r\n       </defs>\r\n       <use xlink:href=\"#DejaVuSans-48\"/>\r\n       <use x=\"63.623047\" xlink:href=\"#DejaVuSans-46\"/>\r\n       <use x=\"95.410156\" xlink:href=\"#DejaVuSans-55\"/>\r\n       <use x=\"159.033203\" xlink:href=\"#DejaVuSans-48\"/>\r\n      </g>\r\n     </g>\r\n    </g>\r\n    <g id=\"ytick_2\">\r\n     <g id=\"line2d_7\">\r\n      <g>\r\n       <use style=\"stroke:#000000;stroke-width:0.8;\" x=\"50.14375\" xlink:href=\"#m8cddfa54f2\" y=\"164.191601\"/>\r\n      </g>\r\n     </g>\r\n     <g id=\"text_8\">\r\n      <!-- 0.75 -->\r\n      <g transform=\"translate(20.878125 167.99082)scale(0.1 -0.1)\">\r\n       <use xlink:href=\"#DejaVuSans-48\"/>\r\n       <use x=\"63.623047\" xlink:href=\"#DejaVuSans-46\"/>\r\n       <use x=\"95.410156\" xlink:href=\"#DejaVuSans-55\"/>\r\n       <use x=\"159.033203\" xlink:href=\"#DejaVuSans-53\"/>\r\n      </g>\r\n     </g>\r\n    </g>\r\n    <g id=\"ytick_3\">\r\n     <g id=\"line2d_8\">\r\n      <g>\r\n       <use style=\"stroke:#000000;stroke-width:0.8;\" x=\"50.14375\" xlink:href=\"#m8cddfa54f2\" y=\"125.187512\"/>\r\n      </g>\r\n     </g>\r\n     <g id=\"text_9\">\r\n      <!-- 0.80 -->\r\n      <g transform=\"translate(20.878125 128.98673)scale(0.1 -0.1)\">\r\n       <defs>\r\n        <path d=\"M 31.78125 34.625 \r\nQ 24.75 34.625 20.71875 30.859375 \r\nQ 16.703125 27.09375 16.703125 20.515625 \r\nQ 16.703125 13.921875 20.71875 10.15625 \r\nQ 24.75 6.390625 31.78125 6.390625 \r\nQ 38.8125 6.390625 42.859375 10.171875 \r\nQ 46.921875 13.96875 46.921875 20.515625 \r\nQ 46.921875 27.09375 42.890625 30.859375 \r\nQ 38.875 34.625 31.78125 34.625 \r\nz\r\nM 21.921875 38.8125 \r\nQ 15.578125 40.375 12.03125 44.71875 \r\nQ 8.5 49.078125 8.5 55.328125 \r\nQ 8.5 64.0625 14.71875 69.140625 \r\nQ 20.953125 74.21875 31.78125 74.21875 \r\nQ 42.671875 74.21875 48.875 69.140625 \r\nQ 55.078125 64.0625 55.078125 55.328125 \r\nQ 55.078125 49.078125 51.53125 44.71875 \r\nQ 48 40.375 41.703125 38.8125 \r\nQ 48.828125 37.15625 52.796875 32.3125 \r\nQ 56.78125 27.484375 56.78125 20.515625 \r\nQ 56.78125 9.90625 50.3125 4.234375 \r\nQ 43.84375 -1.421875 31.78125 -1.421875 \r\nQ 19.734375 -1.421875 13.25 4.234375 \r\nQ 6.78125 9.90625 6.78125 20.515625 \r\nQ 6.78125 27.484375 10.78125 32.3125 \r\nQ 14.796875 37.15625 21.921875 38.8125 \r\nz\r\nM 18.3125 54.390625 \r\nQ 18.3125 48.734375 21.84375 45.5625 \r\nQ 25.390625 42.390625 31.78125 42.390625 \r\nQ 38.140625 42.390625 41.71875 45.5625 \r\nQ 45.3125 48.734375 45.3125 54.390625 \r\nQ 45.3125 60.0625 41.71875 63.234375 \r\nQ 38.140625 66.40625 31.78125 66.40625 \r\nQ 25.390625 66.40625 21.84375 63.234375 \r\nQ 18.3125 60.0625 18.3125 54.390625 \r\nz\r\n\" id=\"DejaVuSans-56\"/>\r\n       </defs>\r\n       <use xlink:href=\"#DejaVuSans-48\"/>\r\n       <use x=\"63.623047\" xlink:href=\"#DejaVuSans-46\"/>\r\n       <use x=\"95.410156\" xlink:href=\"#DejaVuSans-56\"/>\r\n       <use x=\"159.033203\" xlink:href=\"#DejaVuSans-48\"/>\r\n      </g>\r\n     </g>\r\n    </g>\r\n    <g id=\"ytick_4\">\r\n     <g id=\"line2d_9\">\r\n      <g>\r\n       <use style=\"stroke:#000000;stroke-width:0.8;\" x=\"50.14375\" xlink:href=\"#m8cddfa54f2\" y=\"86.183422\"/>\r\n      </g>\r\n     </g>\r\n     <g id=\"text_10\">\r\n      <!-- 0.85 -->\r\n      <g transform=\"translate(20.878125 89.98264)scale(0.1 -0.1)\">\r\n       <use xlink:href=\"#DejaVuSans-48\"/>\r\n       <use x=\"63.623047\" xlink:href=\"#DejaVuSans-46\"/>\r\n       <use x=\"95.410156\" xlink:href=\"#DejaVuSans-56\"/>\r\n       <use x=\"159.033203\" xlink:href=\"#DejaVuSans-53\"/>\r\n      </g>\r\n     </g>\r\n    </g>\r\n    <g id=\"ytick_5\">\r\n     <g id=\"line2d_10\">\r\n      <g>\r\n       <use style=\"stroke:#000000;stroke-width:0.8;\" x=\"50.14375\" xlink:href=\"#m8cddfa54f2\" y=\"47.179332\"/>\r\n      </g>\r\n     </g>\r\n     <g id=\"text_11\">\r\n      <!-- 0.90 -->\r\n      <g transform=\"translate(20.878125 50.978551)scale(0.1 -0.1)\">\r\n       <defs>\r\n        <path d=\"M 10.984375 1.515625 \r\nL 10.984375 10.5 \r\nQ 14.703125 8.734375 18.5 7.8125 \r\nQ 22.3125 6.890625 25.984375 6.890625 \r\nQ 35.75 6.890625 40.890625 13.453125 \r\nQ 46.046875 20.015625 46.78125 33.40625 \r\nQ 43.953125 29.203125 39.59375 26.953125 \r\nQ 35.25 24.703125 29.984375 24.703125 \r\nQ 19.046875 24.703125 12.671875 31.3125 \r\nQ 6.296875 37.9375 6.296875 49.421875 \r\nQ 6.296875 60.640625 12.9375 67.421875 \r\nQ 19.578125 74.21875 30.609375 74.21875 \r\nQ 43.265625 74.21875 49.921875 64.515625 \r\nQ 56.59375 54.828125 56.59375 36.375 \r\nQ 56.59375 19.140625 48.40625 8.859375 \r\nQ 40.234375 -1.421875 26.421875 -1.421875 \r\nQ 22.703125 -1.421875 18.890625 -0.6875 \r\nQ 15.09375 0.046875 10.984375 1.515625 \r\nz\r\nM 30.609375 32.421875 \r\nQ 37.25 32.421875 41.125 36.953125 \r\nQ 45.015625 41.5 45.015625 49.421875 \r\nQ 45.015625 57.28125 41.125 61.84375 \r\nQ 37.25 66.40625 30.609375 66.40625 \r\nQ 23.96875 66.40625 20.09375 61.84375 \r\nQ 16.21875 57.28125 16.21875 49.421875 \r\nQ 16.21875 41.5 20.09375 36.953125 \r\nQ 23.96875 32.421875 30.609375 32.421875 \r\nz\r\n\" id=\"DejaVuSans-57\"/>\r\n       </defs>\r\n       <use xlink:href=\"#DejaVuSans-48\"/>\r\n       <use x=\"63.623047\" xlink:href=\"#DejaVuSans-46\"/>\r\n       <use x=\"95.410156\" xlink:href=\"#DejaVuSans-57\"/>\r\n       <use x=\"159.033203\" xlink:href=\"#DejaVuSans-48\"/>\r\n      </g>\r\n     </g>\r\n    </g>\r\n    <g id=\"text_12\">\r\n     <!-- Error Rate -->\r\n     <g transform=\"translate(14.798438 156.274844)rotate(-90)scale(0.1 -0.1)\">\r\n      <defs>\r\n       <path d=\"M 9.8125 72.90625 \r\nL 55.90625 72.90625 \r\nL 55.90625 64.59375 \r\nL 19.671875 64.59375 \r\nL 19.671875 43.015625 \r\nL 54.390625 43.015625 \r\nL 54.390625 34.71875 \r\nL 19.671875 34.71875 \r\nL 19.671875 8.296875 \r\nL 56.78125 8.296875 \r\nL 56.78125 0 \r\nL 9.8125 0 \r\nz\r\n\" id=\"DejaVuSans-69\"/>\r\n       <path d=\"M 44.390625 34.1875 \r\nQ 47.5625 33.109375 50.5625 29.59375 \r\nQ 53.5625 26.078125 56.59375 19.921875 \r\nL 66.609375 0 \r\nL 56 0 \r\nL 46.6875 18.703125 \r\nQ 43.0625 26.03125 39.671875 28.421875 \r\nQ 36.28125 30.8125 30.421875 30.8125 \r\nL 19.671875 30.8125 \r\nL 19.671875 0 \r\nL 9.8125 0 \r\nL 9.8125 72.90625 \r\nL 32.078125 72.90625 \r\nQ 44.578125 72.90625 50.734375 67.671875 \r\nQ 56.890625 62.453125 56.890625 51.90625 \r\nQ 56.890625 45.015625 53.6875 40.46875 \r\nQ 50.484375 35.9375 44.390625 34.1875 \r\nz\r\nM 19.671875 64.796875 \r\nL 19.671875 38.921875 \r\nL 32.078125 38.921875 \r\nQ 39.203125 38.921875 42.84375 42.21875 \r\nQ 46.484375 45.515625 46.484375 51.90625 \r\nQ 46.484375 58.296875 42.84375 61.546875 \r\nQ 39.203125 64.796875 32.078125 64.796875 \r\nz\r\n\" id=\"DejaVuSans-82\"/>\r\n      </defs>\r\n      <use xlink:href=\"#DejaVuSans-69\"/>\r\n      <use x=\"63.183594\" xlink:href=\"#DejaVuSans-114\"/>\r\n      <use x=\"102.546875\" xlink:href=\"#DejaVuSans-114\"/>\r\n      <use x=\"141.410156\" xlink:href=\"#DejaVuSans-111\"/>\r\n      <use x=\"202.591797\" xlink:href=\"#DejaVuSans-114\"/>\r\n      <use x=\"243.705078\" xlink:href=\"#DejaVuSans-32\"/>\r\n      <use x=\"275.492188\" xlink:href=\"#DejaVuSans-82\"/>\r\n      <use x=\"342.724609\" xlink:href=\"#DejaVuSans-97\"/>\r\n      <use x=\"404.003906\" xlink:href=\"#DejaVuSans-116\"/>\r\n      <use x=\"443.212891\" xlink:href=\"#DejaVuSans-101\"/>\r\n     </g>\r\n    </g>\r\n   </g>\r\n   <g id=\"line2d_11\">\r\n    <path clip-path=\"url(#p879c3e67f9)\" d=\"M 65.361932 149.370047 \r\nL 141.452841 32.201761 \r\nL 217.54375 174.332665 \r\nL 293.634659 32.201761 \r\nL 369.725568 174.332665 \r\n\" style=\"fill:none;stroke:#1f77b4;stroke-linecap:square;stroke-width:1.5;\"/>\r\n   </g>\r\n   <g id=\"line2d_12\">\r\n    <path clip-path=\"url(#p879c3e67f9)\" d=\"M 65.361932 229.874489 \r\nL 141.452841 51.703806 \r\nL 217.54375 92.736109 \r\nL 293.634659 82.439029 \r\nL 369.725568 117.074661 \r\n\" style=\"fill:none;stroke:#ff7f0e;stroke-linecap:square;stroke-width:1.5;\"/>\r\n   </g>\r\n   <g id=\"patch_3\">\r\n    <path d=\"M 50.14375 239.758125 \r\nL 50.14375 22.318125 \r\n\" style=\"fill:none;stroke:#000000;stroke-linecap:square;stroke-linejoin:miter;stroke-width:0.8;\"/>\r\n   </g>\r\n   <g id=\"patch_4\">\r\n    <path d=\"M 384.94375 239.758125 \r\nL 384.94375 22.318125 \r\n\" style=\"fill:none;stroke:#000000;stroke-linecap:square;stroke-linejoin:miter;stroke-width:0.8;\"/>\r\n   </g>\r\n   <g id=\"patch_5\">\r\n    <path d=\"M 50.14375 239.758125 \r\nL 384.94375 239.758125 \r\n\" style=\"fill:none;stroke:#000000;stroke-linecap:square;stroke-linejoin:miter;stroke-width:0.8;\"/>\r\n   </g>\r\n   <g id=\"patch_6\">\r\n    <path d=\"M 50.14375 22.318125 \r\nL 384.94375 22.318125 \r\n\" style=\"fill:none;stroke:#000000;stroke-linecap:square;stroke-linejoin:miter;stroke-width:0.8;\"/>\r\n   </g>\r\n   <g id=\"text_13\">\r\n    <!-- Error Rate in Amazon dataset (Different distribution) -->\r\n    <g transform=\"translate(60.068125 16.318125)scale(0.12 -0.12)\">\r\n     <defs>\r\n      <path d=\"M 34.1875 63.1875 \r\nL 20.796875 26.90625 \r\nL 47.609375 26.90625 \r\nz\r\nM 28.609375 72.90625 \r\nL 39.796875 72.90625 \r\nL 67.578125 0 \r\nL 57.328125 0 \r\nL 50.6875 18.703125 \r\nL 17.828125 18.703125 \r\nL 11.1875 0 \r\nL 0.78125 0 \r\nz\r\n\" id=\"DejaVuSans-65\"/>\r\n      <path d=\"M 52 44.1875 \r\nQ 55.375 50.25 60.0625 53.125 \r\nQ 64.75 56 71.09375 56 \r\nQ 79.640625 56 84.28125 50.015625 \r\nQ 88.921875 44.046875 88.921875 33.015625 \r\nL 88.921875 0 \r\nL 79.890625 0 \r\nL 79.890625 32.71875 \r\nQ 79.890625 40.578125 77.09375 44.375 \r\nQ 74.3125 48.1875 68.609375 48.1875 \r\nQ 61.625 48.1875 57.5625 43.546875 \r\nQ 53.515625 38.921875 53.515625 30.90625 \r\nL 53.515625 0 \r\nL 44.484375 0 \r\nL 44.484375 32.71875 \r\nQ 44.484375 40.625 41.703125 44.40625 \r\nQ 38.921875 48.1875 33.109375 48.1875 \r\nQ 26.21875 48.1875 22.15625 43.53125 \r\nQ 18.109375 38.875 18.109375 30.90625 \r\nL 18.109375 0 \r\nL 9.078125 0 \r\nL 9.078125 54.6875 \r\nL 18.109375 54.6875 \r\nL 18.109375 46.1875 \r\nQ 21.1875 51.21875 25.484375 53.609375 \r\nQ 29.78125 56 35.6875 56 \r\nQ 41.65625 56 45.828125 52.96875 \r\nQ 50 49.953125 52 44.1875 \r\nz\r\n\" id=\"DejaVuSans-109\"/>\r\n      <path d=\"M 5.515625 54.6875 \r\nL 48.1875 54.6875 \r\nL 48.1875 46.484375 \r\nL 14.40625 7.171875 \r\nL 48.1875 7.171875 \r\nL 48.1875 0 \r\nL 4.296875 0 \r\nL 4.296875 8.203125 \r\nL 38.09375 47.515625 \r\nL 5.515625 47.515625 \r\nz\r\n\" id=\"DejaVuSans-122\"/>\r\n      <path d=\"M 31 75.875 \r\nQ 24.46875 64.65625 21.28125 53.65625 \r\nQ 18.109375 42.671875 18.109375 31.390625 \r\nQ 18.109375 20.125 21.3125 9.0625 \r\nQ 24.515625 -2 31 -13.1875 \r\nL 23.1875 -13.1875 \r\nQ 15.875 -1.703125 12.234375 9.375 \r\nQ 8.59375 20.453125 8.59375 31.390625 \r\nQ 8.59375 42.28125 12.203125 53.3125 \r\nQ 15.828125 64.359375 23.1875 75.875 \r\nz\r\n\" id=\"DejaVuSans-40\"/>\r\n      <path d=\"M 19.671875 64.796875 \r\nL 19.671875 8.109375 \r\nL 31.59375 8.109375 \r\nQ 46.6875 8.109375 53.6875 14.9375 \r\nQ 60.6875 21.78125 60.6875 36.53125 \r\nQ 60.6875 51.171875 53.6875 57.984375 \r\nQ 46.6875 64.796875 31.59375 64.796875 \r\nz\r\nM 9.8125 72.90625 \r\nL 30.078125 72.90625 \r\nQ 51.265625 72.90625 61.171875 64.09375 \r\nQ 71.09375 55.28125 71.09375 36.53125 \r\nQ 71.09375 17.671875 61.125 8.828125 \r\nQ 51.171875 0 30.078125 0 \r\nL 9.8125 0 \r\nz\r\n\" id=\"DejaVuSans-68\"/>\r\n      <path d=\"M 37.109375 75.984375 \r\nL 37.109375 68.5 \r\nL 28.515625 68.5 \r\nQ 23.6875 68.5 21.796875 66.546875 \r\nQ 19.921875 64.59375 19.921875 59.515625 \r\nL 19.921875 54.6875 \r\nL 34.71875 54.6875 \r\nL 34.71875 47.703125 \r\nL 19.921875 47.703125 \r\nL 19.921875 0 \r\nL 10.890625 0 \r\nL 10.890625 47.703125 \r\nL 2.296875 47.703125 \r\nL 2.296875 54.6875 \r\nL 10.890625 54.6875 \r\nL 10.890625 58.5 \r\nQ 10.890625 67.625 15.140625 71.796875 \r\nQ 19.390625 75.984375 28.609375 75.984375 \r\nz\r\n\" id=\"DejaVuSans-102\"/>\r\n      <path d=\"M 48.6875 27.296875 \r\nQ 48.6875 37.203125 44.609375 42.84375 \r\nQ 40.53125 48.484375 33.40625 48.484375 \r\nQ 26.265625 48.484375 22.1875 42.84375 \r\nQ 18.109375 37.203125 18.109375 27.296875 \r\nQ 18.109375 17.390625 22.1875 11.75 \r\nQ 26.265625 6.109375 33.40625 6.109375 \r\nQ 40.53125 6.109375 44.609375 11.75 \r\nQ 48.6875 17.390625 48.6875 27.296875 \r\nz\r\nM 18.109375 46.390625 \r\nQ 20.953125 51.265625 25.265625 53.625 \r\nQ 29.59375 56 35.59375 56 \r\nQ 45.5625 56 51.78125 48.09375 \r\nQ 58.015625 40.1875 58.015625 27.296875 \r\nQ 58.015625 14.40625 51.78125 6.484375 \r\nQ 45.5625 -1.421875 35.59375 -1.421875 \r\nQ 29.59375 -1.421875 25.265625 0.953125 \r\nQ 20.953125 3.328125 18.109375 8.203125 \r\nL 18.109375 0 \r\nL 9.078125 0 \r\nL 9.078125 75.984375 \r\nL 18.109375 75.984375 \r\nz\r\n\" id=\"DejaVuSans-98\"/>\r\n      <path d=\"M 8.015625 75.875 \r\nL 15.828125 75.875 \r\nQ 23.140625 64.359375 26.78125 53.3125 \r\nQ 30.421875 42.28125 30.421875 31.390625 \r\nQ 30.421875 20.453125 26.78125 9.375 \r\nQ 23.140625 -1.703125 15.828125 -13.1875 \r\nL 8.015625 -13.1875 \r\nQ 14.5 -2 17.703125 9.0625 \r\nQ 20.90625 20.125 20.90625 31.390625 \r\nQ 20.90625 42.671875 17.703125 53.65625 \r\nQ 14.5 64.65625 8.015625 75.875 \r\nz\r\n\" id=\"DejaVuSans-41\"/>\r\n     </defs>\r\n     <use xlink:href=\"#DejaVuSans-69\"/>\r\n     <use x=\"63.183594\" xlink:href=\"#DejaVuSans-114\"/>\r\n     <use x=\"102.546875\" xlink:href=\"#DejaVuSans-114\"/>\r\n     <use x=\"141.410156\" xlink:href=\"#DejaVuSans-111\"/>\r\n     <use x=\"202.591797\" xlink:href=\"#DejaVuSans-114\"/>\r\n     <use x=\"243.705078\" xlink:href=\"#DejaVuSans-32\"/>\r\n     <use x=\"275.492188\" xlink:href=\"#DejaVuSans-82\"/>\r\n     <use x=\"342.724609\" xlink:href=\"#DejaVuSans-97\"/>\r\n     <use x=\"404.003906\" xlink:href=\"#DejaVuSans-116\"/>\r\n     <use x=\"443.212891\" xlink:href=\"#DejaVuSans-101\"/>\r\n     <use x=\"504.736328\" xlink:href=\"#DejaVuSans-32\"/>\r\n     <use x=\"536.523438\" xlink:href=\"#DejaVuSans-105\"/>\r\n     <use x=\"564.306641\" xlink:href=\"#DejaVuSans-110\"/>\r\n     <use x=\"627.685547\" xlink:href=\"#DejaVuSans-32\"/>\r\n     <use x=\"659.472656\" xlink:href=\"#DejaVuSans-65\"/>\r\n     <use x=\"727.880859\" xlink:href=\"#DejaVuSans-109\"/>\r\n     <use x=\"825.292969\" xlink:href=\"#DejaVuSans-97\"/>\r\n     <use x=\"886.572266\" xlink:href=\"#DejaVuSans-122\"/>\r\n     <use x=\"939.0625\" xlink:href=\"#DejaVuSans-111\"/>\r\n     <use x=\"1000.244141\" xlink:href=\"#DejaVuSans-110\"/>\r\n     <use x=\"1063.623047\" xlink:href=\"#DejaVuSans-32\"/>\r\n     <use x=\"1095.410156\" xlink:href=\"#DejaVuSans-100\"/>\r\n     <use x=\"1158.886719\" xlink:href=\"#DejaVuSans-97\"/>\r\n     <use x=\"1220.166016\" xlink:href=\"#DejaVuSans-116\"/>\r\n     <use x=\"1259.375\" xlink:href=\"#DejaVuSans-97\"/>\r\n     <use x=\"1320.654297\" xlink:href=\"#DejaVuSans-115\"/>\r\n     <use x=\"1372.753906\" xlink:href=\"#DejaVuSans-101\"/>\r\n     <use x=\"1434.277344\" xlink:href=\"#DejaVuSans-116\"/>\r\n     <use x=\"1473.486328\" xlink:href=\"#DejaVuSans-32\"/>\r\n     <use x=\"1505.273438\" xlink:href=\"#DejaVuSans-40\"/>\r\n     <use x=\"1544.287109\" xlink:href=\"#DejaVuSans-68\"/>\r\n     <use x=\"1621.289062\" xlink:href=\"#DejaVuSans-105\"/>\r\n     <use x=\"1649.072266\" xlink:href=\"#DejaVuSans-102\"/>\r\n     <use x=\"1684.277344\" xlink:href=\"#DejaVuSans-102\"/>\r\n     <use x=\"1719.482422\" xlink:href=\"#DejaVuSans-101\"/>\r\n     <use x=\"1781.005859\" xlink:href=\"#DejaVuSans-114\"/>\r\n     <use x=\"1819.869141\" xlink:href=\"#DejaVuSans-101\"/>\r\n     <use x=\"1881.392578\" xlink:href=\"#DejaVuSans-110\"/>\r\n     <use x=\"1944.771484\" xlink:href=\"#DejaVuSans-116\"/>\r\n     <use x=\"1983.980469\" xlink:href=\"#DejaVuSans-32\"/>\r\n     <use x=\"2015.767578\" xlink:href=\"#DejaVuSans-100\"/>\r\n     <use x=\"2079.244141\" xlink:href=\"#DejaVuSans-105\"/>\r\n     <use x=\"2107.027344\" xlink:href=\"#DejaVuSans-115\"/>\r\n     <use x=\"2159.126953\" xlink:href=\"#DejaVuSans-116\"/>\r\n     <use x=\"2198.335938\" xlink:href=\"#DejaVuSans-114\"/>\r\n     <use x=\"2239.449219\" xlink:href=\"#DejaVuSans-105\"/>\r\n     <use x=\"2267.232422\" xlink:href=\"#DejaVuSans-98\"/>\r\n     <use x=\"2330.708984\" xlink:href=\"#DejaVuSans-117\"/>\r\n     <use x=\"2394.087891\" xlink:href=\"#DejaVuSans-116\"/>\r\n     <use x=\"2433.296875\" xlink:href=\"#DejaVuSans-105\"/>\r\n     <use x=\"2461.080078\" xlink:href=\"#DejaVuSans-111\"/>\r\n     <use x=\"2522.261719\" xlink:href=\"#DejaVuSans-110\"/>\r\n     <use x=\"2585.640625\" xlink:href=\"#DejaVuSans-41\"/>\r\n    </g>\r\n   </g>\r\n   <g id=\"legend_1\">\r\n    <g id=\"patch_7\">\r\n     <path d=\"M 221.709375 234.758125 \r\nL 377.94375 234.758125 \r\nQ 379.94375 234.758125 379.94375 232.758125 \r\nL 379.94375 204.401875 \r\nQ 379.94375 202.401875 377.94375 202.401875 \r\nL 221.709375 202.401875 \r\nQ 219.709375 202.401875 219.709375 204.401875 \r\nL 219.709375 232.758125 \r\nQ 219.709375 234.758125 221.709375 234.758125 \r\nz\r\n\" style=\"fill:#ffffff;opacity:0.8;stroke:#cccccc;stroke-linejoin:miter;\"/>\r\n    </g>\r\n    <g id=\"line2d_13\">\r\n     <path d=\"M 223.709375 210.500312 \r\nL 243.709375 210.500312 \r\n\" style=\"fill:none;stroke:#1f77b4;stroke-linecap:square;stroke-width:1.5;\"/>\r\n    </g>\r\n    <g id=\"line2d_14\"/>\r\n    <g id=\"text_14\">\r\n     <!-- learning without transfer -->\r\n     <g transform=\"translate(251.709375 214.000312)scale(0.1 -0.1)\">\r\n      <defs>\r\n       <path d=\"M 9.421875 75.984375 \r\nL 18.40625 75.984375 \r\nL 18.40625 0 \r\nL 9.421875 0 \r\nz\r\n\" id=\"DejaVuSans-108\"/>\r\n       <path d=\"M 54.890625 33.015625 \r\nL 54.890625 0 \r\nL 45.90625 0 \r\nL 45.90625 32.71875 \r\nQ 45.90625 40.484375 42.875 44.328125 \r\nQ 39.84375 48.1875 33.796875 48.1875 \r\nQ 26.515625 48.1875 22.3125 43.546875 \r\nQ 18.109375 38.921875 18.109375 30.90625 \r\nL 18.109375 0 \r\nL 9.078125 0 \r\nL 9.078125 75.984375 \r\nL 18.109375 75.984375 \r\nL 18.109375 46.1875 \r\nQ 21.34375 51.125 25.703125 53.5625 \r\nQ 30.078125 56 35.796875 56 \r\nQ 45.21875 56 50.046875 50.171875 \r\nQ 54.890625 44.34375 54.890625 33.015625 \r\nz\r\n\" id=\"DejaVuSans-104\"/>\r\n      </defs>\r\n      <use xlink:href=\"#DejaVuSans-108\"/>\r\n      <use x=\"27.783203\" xlink:href=\"#DejaVuSans-101\"/>\r\n      <use x=\"89.306641\" xlink:href=\"#DejaVuSans-97\"/>\r\n      <use x=\"150.585938\" xlink:href=\"#DejaVuSans-114\"/>\r\n      <use x=\"189.949219\" xlink:href=\"#DejaVuSans-110\"/>\r\n      <use x=\"253.328125\" xlink:href=\"#DejaVuSans-105\"/>\r\n      <use x=\"281.111328\" xlink:href=\"#DejaVuSans-110\"/>\r\n      <use x=\"344.490234\" xlink:href=\"#DejaVuSans-103\"/>\r\n      <use x=\"407.966797\" xlink:href=\"#DejaVuSans-32\"/>\r\n      <use x=\"439.753906\" xlink:href=\"#DejaVuSans-119\"/>\r\n      <use x=\"521.541016\" xlink:href=\"#DejaVuSans-105\"/>\r\n      <use x=\"549.324219\" xlink:href=\"#DejaVuSans-116\"/>\r\n      <use x=\"588.533203\" xlink:href=\"#DejaVuSans-104\"/>\r\n      <use x=\"651.912109\" xlink:href=\"#DejaVuSans-111\"/>\r\n      <use x=\"713.09375\" xlink:href=\"#DejaVuSans-117\"/>\r\n      <use x=\"776.472656\" xlink:href=\"#DejaVuSans-116\"/>\r\n      <use x=\"815.681641\" xlink:href=\"#DejaVuSans-32\"/>\r\n      <use x=\"847.46875\" xlink:href=\"#DejaVuSans-116\"/>\r\n      <use x=\"886.677734\" xlink:href=\"#DejaVuSans-114\"/>\r\n      <use x=\"927.791016\" xlink:href=\"#DejaVuSans-97\"/>\r\n      <use x=\"989.070312\" xlink:href=\"#DejaVuSans-110\"/>\r\n      <use x=\"1052.449219\" xlink:href=\"#DejaVuSans-115\"/>\r\n      <use x=\"1104.548828\" xlink:href=\"#DejaVuSans-102\"/>\r\n      <use x=\"1139.753906\" xlink:href=\"#DejaVuSans-101\"/>\r\n      <use x=\"1201.277344\" xlink:href=\"#DejaVuSans-114\"/>\r\n     </g>\r\n    </g>\r\n    <g id=\"line2d_15\">\r\n     <path d=\"M 223.709375 225.178437 \r\nL 243.709375 225.178437 \r\n\" style=\"fill:none;stroke:#ff7f0e;stroke-linecap:square;stroke-width:1.5;\"/>\r\n    </g>\r\n    <g id=\"line2d_16\"/>\r\n    <g id=\"text_15\">\r\n     <!-- learning with transfer -->\r\n     <g transform=\"translate(251.709375 228.678437)scale(0.1 -0.1)\">\r\n      <use xlink:href=\"#DejaVuSans-108\"/>\r\n      <use x=\"27.783203\" xlink:href=\"#DejaVuSans-101\"/>\r\n      <use x=\"89.306641\" xlink:href=\"#DejaVuSans-97\"/>\r\n      <use x=\"150.585938\" xlink:href=\"#DejaVuSans-114\"/>\r\n      <use x=\"189.949219\" xlink:href=\"#DejaVuSans-110\"/>\r\n      <use x=\"253.328125\" xlink:href=\"#DejaVuSans-105\"/>\r\n      <use x=\"281.111328\" xlink:href=\"#DejaVuSans-110\"/>\r\n      <use x=\"344.490234\" xlink:href=\"#DejaVuSans-103\"/>\r\n      <use x=\"407.966797\" xlink:href=\"#DejaVuSans-32\"/>\r\n      <use x=\"439.753906\" xlink:href=\"#DejaVuSans-119\"/>\r\n      <use x=\"521.541016\" xlink:href=\"#DejaVuSans-105\"/>\r\n      <use x=\"549.324219\" xlink:href=\"#DejaVuSans-116\"/>\r\n      <use x=\"588.533203\" xlink:href=\"#DejaVuSans-104\"/>\r\n      <use x=\"651.912109\" xlink:href=\"#DejaVuSans-32\"/>\r\n      <use x=\"683.699219\" xlink:href=\"#DejaVuSans-116\"/>\r\n      <use x=\"722.908203\" xlink:href=\"#DejaVuSans-114\"/>\r\n      <use x=\"764.021484\" xlink:href=\"#DejaVuSans-97\"/>\r\n      <use x=\"825.300781\" xlink:href=\"#DejaVuSans-110\"/>\r\n      <use x=\"888.679688\" xlink:href=\"#DejaVuSans-115\"/>\r\n      <use x=\"940.779297\" xlink:href=\"#DejaVuSans-102\"/>\r\n      <use x=\"975.984375\" xlink:href=\"#DejaVuSans-101\"/>\r\n      <use x=\"1037.507812\" xlink:href=\"#DejaVuSans-114\"/>\r\n     </g>\r\n    </g>\r\n   </g>\r\n  </g>\r\n </g>\r\n <defs>\r\n  <clipPath id=\"p879c3e67f9\">\r\n   <rect height=\"217.44\" width=\"334.8\" x=\"50.14375\" y=\"22.318125\"/>\r\n  </clipPath>\r\n </defs>\r\n</svg>\r\n",
      "image/png": "[encoded data removed]"
     },
     "metadata": {
      "needs_background": "light"
     }
    }
   ],
   "source": [
    "from matplotlib import pyplot as plt\n",
    "x_axis = ['pair1', 'pair2', 'pair3', 'pair4', 'pair5']\n",
    "plt.plot(x_axis, no_transfer, label='learning without transfer')\n",
    "plt.plot(x_axis, transfered, label='learning with transfer')\n",
    "\n",
    "plt.title('Error Rate in Amazon dataset (Different distribution)')\n",
    "plt.xlabel('Fine tuning words')\n",
    "plt.ylabel('Error Rate')\n",
    "plt.legend()\n",
    "plt.show()"
   ]
  },
  {
   "cell_type": "code",
   "execution_count": 1,
   "metadata": {},
   "outputs": [
    {
     "output_type": "stream",
     "name": "stdout",
     "text": [
      "Pre-model is built\n",
      "Target-model is built\n",
      "Retraining start...\n",
      "0.04733333333333334\n",
      "0.043333333333333335\n",
      "0.04800000000000004\n",
      "0.050000000000000044\n",
      "0.050000000000000044\n",
      "0.05266666666666664\n",
      "0.05666666666666664\n",
      "0.062000000000000055\n",
      "0.06266666666666665\n",
      "0.06066666666666665\n",
      "0.06066666666666665\n",
      "0.06000000000000005\n",
      "0.06399999999999995\n",
      "0.06799999999999995\n",
      "0.07266666666666666\n",
      "0.06333333333333335\n",
      "0.06333333333333335\n",
      "0.06466666666666665\n",
      "0.06599999999999995\n",
      "0.058666666666666645\n",
      "0.055333333333333345\n",
      "0.055333333333333345\n",
      "0.055333333333333345\n",
      "0.055333333333333345\n",
      "0.055333333333333345\n",
      "0.055333333333333345\n",
      "0.055333333333333345\n",
      "0.055333333333333345\n",
      "0.055333333333333345\n",
      "0.055333333333333345\n",
      "0.055333333333333345\n",
      "Retraining end...\n"
     ]
    }
   ],
   "source": [
    "from NB_Relevance_spam import NB_relevant_NB_retraining_v3_progress\n",
    "error_rate_list = NB_relevant_NB_retraining_v3_progress('task_a_labeled_train.tf', 4000, 0, 'task_a_labeled_tune.tf', 1000, 1500)"
   ]
  },
  {
   "cell_type": "code",
   "execution_count": 2,
   "metadata": {},
   "outputs": [
    {
     "output_type": "execute_result",
     "data": {
      "text/plain": [
       "[0.44733333333333336,\n",
       " 0.048666666666666636,\n",
       " 0.04733333333333334,\n",
       " 0.043333333333333335,\n",
       " 0.04800000000000004,\n",
       " 0.050000000000000044,\n",
       " 0.050000000000000044,\n",
       " 0.05266666666666664,\n",
       " 0.05666666666666664,\n",
       " 0.062000000000000055,\n",
       " 0.06266666666666665,\n",
       " 0.06066666666666665,\n",
       " 0.06066666666666665,\n",
       " 0.06000000000000005,\n",
       " 0.06399999999999995,\n",
       " 0.06799999999999995,\n",
       " 0.07266666666666666,\n",
       " 0.06333333333333335,\n",
       " 0.06333333333333335,\n",
       " 0.06466666666666665,\n",
       " 0.06599999999999995,\n",
       " 0.058666666666666645,\n",
       " 0.055333333333333345,\n",
       " 0.055333333333333345,\n",
       " 0.055333333333333345,\n",
       " 0.055333333333333345,\n",
       " 0.055333333333333345,\n",
       " 0.055333333333333345,\n",
       " 0.055333333333333345,\n",
       " 0.055333333333333345,\n",
       " 0.055333333333333345,\n",
       " 0.055333333333333345,\n",
       " 0.055333333333333345]"
      ]
     },
     "metadata": {},
     "execution_count": 2
    }
   ],
   "source": [
    "error_rate_list"
   ]
  },
  {
   "cell_type": "code",
   "execution_count": null,
   "metadata": {},
   "outputs": [],
   "source": []
  }
 ]
}