{
 "metadata": {
  "language_info": {
   "codemirror_mode": {
    "name": "ipython",
    "version": 3
   },
   "file_extension": ".py",
   "mimetype": "text/x-python",
   "name": "python",
   "nbconvert_exporter": "python",
   "pygments_lexer": "ipython3",
   "version": "3.8.6-final"
  },
  "orig_nbformat": 2,
  "kernelspec": {
   "name": "python3",
   "display_name": "Python 3"
  }
 },
 "nbformat": 4,
 "nbformat_minor": 2,
 "cells": [
  {
   "cell_type": "code",
   "execution_count": 2,
   "metadata": {},
   "outputs": [],
   "source": [
    "import os\n",
    "import json\n",
    "import gzip\n",
    "import re"
   ]
  },
  {
   "cell_type": "code",
   "execution_count": 3,
   "metadata": {},
   "outputs": [
    {
     "output_type": "stream",
     "name": "stdout",
     "text": [
      "8201231\n{'overall': 2.0, 'vote': '12', 'verified': False, 'reviewTime': '09 22, 2016', 'reviewerID': 'A1IDMI31WEANAF', 'asin': '0020232233', 'reviewerName': 'Mackenzie Kent', 'reviewText': \"When it comes to a DM's screen, the space on the screen itself is at an absolute premium. The fact that 50% of this space is wasted on art (and not terribly informative or needed art as well) makes it completely useless. The only reason that I gave it 2 stars and not 1 was that, technically speaking, it can at least still stand up to block your notes and dice rolls. Other than that, it drops the ball completely.\", 'summary': 'The fact that 50% of this space is wasted on art (and not terribly informative or needed art ...', 'unixReviewTime': 1474502400}\n"
     ]
    }
   ],
   "source": [
    "data = []\n",
    "with gzip.open('Toys_and_Games.json.gz') as f:\n",
    "    for l in f:\n",
    "        data.append(json.loads(l.strip()))\n",
    "    \n",
    "# total length of list, this number equals total number of products\n",
    "print(len(data))\n",
    "\n",
    "# first row of the list\n",
    "print(data[0])"
   ]
  },
  {
   "cell_type": "code",
   "execution_count": 1,
   "metadata": {},
   "outputs": [
    {
     "output_type": "error",
     "ename": "NameError",
     "evalue": "name 'data' is not defined",
     "traceback": [
      "\u001b[1;31m---------------------------------------------------------------------------\u001b[0m",
      "\u001b[1;31mNameError\u001b[0m                                 Traceback (most recent call last)",
      "\u001b[1;32m<ipython-input-1-49031c266f03>\u001b[0m in \u001b[0;36m<module>\u001b[1;34m\u001b[0m\n\u001b[1;32m----> 1\u001b[1;33m \u001b[0mdata\u001b[0m\u001b[1;33m[\u001b[0m\u001b[1;36m2\u001b[0m\u001b[1;33m]\u001b[0m\u001b[1;33m.\u001b[0m\u001b[0mkeys\u001b[0m\u001b[1;33m(\u001b[0m\u001b[1;33m)\u001b[0m\u001b[1;33m\u001b[0m\u001b[1;33m\u001b[0m\u001b[0m\n\u001b[0m",
      "\u001b[1;31mNameError\u001b[0m: name 'data' is not defined"
     ]
    }
   ],
   "source": [
    "data[2].keys()"
   ]
  },
  {
   "cell_type": "code",
   "execution_count": 2,
   "metadata": {},
   "outputs": [
    {
     "output_type": "stream",
     "name": "stdout",
     "text": [
      "Pre-model is built\n",
      "Target-model is built\n",
      "Retraining start...\n",
      "0.12160000000000004\n",
      "0.12139999999999995\n",
      "0.121\n",
      "0.121\n",
      "0.121\n",
      "0.12080000000000002\n",
      "0.12080000000000002\n",
      "0.12080000000000002\n",
      "Retraining end...\n"
     ]
    }
   ],
   "source": [
    "from NB_Relevance_amazon import NB_relevant_NB_retraining_v3_progress\n",
    "\n",
    "error_rate_list = NB_relevant_NB_retraining_v3_progress(10000, 0, 1000, 5000)"
   ]
  },
  {
   "cell_type": "code",
   "execution_count": 3,
   "metadata": {},
   "outputs": [
    {
     "output_type": "display_data",
     "data": {
      "text/plain": "<Figure size 432x288 with 1 Axes>",
      "image/svg+xml": "<?xml version=\"1.0\" encoding=\"utf-8\" standalone=\"no\"?>\r\n<!DOCTYPE svg PUBLIC \"-//W3C//DTD SVG 1.1//EN\"\r\n  \"http://www.w3.org/Graphics/SVG/1.1/DTD/svg11.dtd\">\r\n<!-- Created with matplotlib (https://matplotlib.org/) -->\r\n<svg height=\"277.314375pt\" version=\"1.1\" viewBox=\"0 0 392.14375 277.314375\" width=\"392.14375pt\" xmlns=\"http://www.w3.org/2000/svg\" xmlns:xlink=\"http://www.w3.org/1999/xlink\">\r\n <metadata>\r\n  <rdf:RDF xmlns:cc=\"http://creativecommons.org/ns#\" xmlns:dc=\"http://purl.org/dc/elements/1.1/\" xmlns:rdf=\"http://www.w3.org/1999/02/22-rdf-syntax-ns#\">\r\n   <cc:Work>\r\n    <dc:type rdf:resource=\"http://purl.org/dc/dcmitype/StillImage\"/>\r\n    <dc:date>2020-12-01T15:58:11.978633</dc:date>\r\n    <dc:format>image/svg+xml</dc:format>\r\n    <dc:creator>\r\n     <cc:Agent>\r\n      <dc:title>Matplotlib v3.3.2, https://matplotlib.org/</dc:title>\r\n     </cc:Agent>\r\n    </dc:creator>\r\n   </cc:Work>\r\n  </rdf:RDF>\r\n </metadata>\r\n <defs>\r\n  <style type=\"text/css\">*{stroke-linecap:butt;stroke-linejoin:round;}</style>\r\n </defs>\r\n <g id=\"figure_1\">\r\n  <g id=\"patch_1\">\r\n   <path d=\"M 0 277.314375 \r\nL 392.14375 277.314375 \r\nL 392.14375 0 \r\nL 0 0 \r\nz\r\n\" style=\"fill:none;\"/>\r\n  </g>\r\n  <g id=\"axes_1\">\r\n   <g id=\"patch_2\">\r\n    <path d=\"M 50.14375 239.758125 \r\nL 384.94375 239.758125 \r\nL 384.94375 22.318125 \r\nL 50.14375 22.318125 \r\nz\r\n\" style=\"fill:#ffffff;\"/>\r\n   </g>\r\n   <g id=\"matplotlib.axis_1\">\r\n    <g id=\"xtick_1\">\r\n     <g id=\"line2d_1\">\r\n      <defs>\r\n       <path d=\"M 0 0 \r\nL 0 3.5 \r\n\" id=\"mf6adafc1f9\" style=\"stroke:#000000;stroke-width:0.8;\"/>\r\n      </defs>\r\n      <g>\r\n       <use style=\"stroke:#000000;stroke-width:0.8;\" x=\"65.361932\" xlink:href=\"#mf6adafc1f9\" y=\"239.758125\"/>\r\n      </g>\r\n     </g>\r\n     <g id=\"text_1\">\r\n      <!-- 0 -->\r\n      <g transform=\"translate(62.180682 254.356562)scale(0.1 -0.1)\">\r\n       <defs>\r\n        <path d=\"M 31.78125 66.40625 \r\nQ 24.171875 66.40625 20.328125 58.90625 \r\nQ 16.5 51.421875 16.5 36.375 \r\nQ 16.5 21.390625 20.328125 13.890625 \r\nQ 24.171875 6.390625 31.78125 6.390625 \r\nQ 39.453125 6.390625 43.28125 13.890625 \r\nQ 47.125 21.390625 47.125 36.375 \r\nQ 47.125 51.421875 43.28125 58.90625 \r\nQ 39.453125 66.40625 31.78125 66.40625 \r\nz\r\nM 31.78125 74.21875 \r\nQ 44.046875 74.21875 50.515625 64.515625 \r\nQ 56.984375 54.828125 56.984375 36.375 \r\nQ 56.984375 17.96875 50.515625 8.265625 \r\nQ 44.046875 -1.421875 31.78125 -1.421875 \r\nQ 19.53125 -1.421875 13.0625 8.265625 \r\nQ 6.59375 17.96875 6.59375 36.375 \r\nQ 6.59375 54.828125 13.0625 64.515625 \r\nQ 19.53125 74.21875 31.78125 74.21875 \r\nz\r\n\" id=\"DejaVuSans-48\"/>\r\n       </defs>\r\n       <use xlink:href=\"#DejaVuSans-48\"/>\r\n      </g>\r\n     </g>\r\n    </g>\r\n    <g id=\"xtick_2\">\r\n     <g id=\"line2d_2\">\r\n      <g>\r\n       <use style=\"stroke:#000000;stroke-width:0.8;\" x=\"107.634659\" xlink:href=\"#mf6adafc1f9\" y=\"239.758125\"/>\r\n      </g>\r\n     </g>\r\n     <g id=\"text_2\">\r\n      <!-- 2500 -->\r\n      <g transform=\"translate(94.909659 254.356562)scale(0.1 -0.1)\">\r\n       <defs>\r\n        <path d=\"M 19.1875 8.296875 \r\nL 53.609375 8.296875 \r\nL 53.609375 0 \r\nL 7.328125 0 \r\nL 7.328125 8.296875 \r\nQ 12.9375 14.109375 22.625 23.890625 \r\nQ 32.328125 33.6875 34.8125 36.53125 \r\nQ 39.546875 41.84375 41.421875 45.53125 \r\nQ 43.3125 49.21875 43.3125 52.78125 \r\nQ 43.3125 58.59375 39.234375 62.25 \r\nQ 35.15625 65.921875 28.609375 65.921875 \r\nQ 23.96875 65.921875 18.8125 64.3125 \r\nQ 13.671875 62.703125 7.8125 59.421875 \r\nL 7.8125 69.390625 \r\nQ 13.765625 71.78125 18.9375 73 \r\nQ 24.125 74.21875 28.421875 74.21875 \r\nQ 39.75 74.21875 46.484375 68.546875 \r\nQ 53.21875 62.890625 53.21875 53.421875 \r\nQ 53.21875 48.921875 51.53125 44.890625 \r\nQ 49.859375 40.875 45.40625 35.40625 \r\nQ 44.1875 33.984375 37.640625 27.21875 \r\nQ 31.109375 20.453125 19.1875 8.296875 \r\nz\r\n\" id=\"DejaVuSans-50\"/>\r\n        <path d=\"M 10.796875 72.90625 \r\nL 49.515625 72.90625 \r\nL 49.515625 64.59375 \r\nL 19.828125 64.59375 \r\nL 19.828125 46.734375 \r\nQ 21.96875 47.46875 24.109375 47.828125 \r\nQ 26.265625 48.1875 28.421875 48.1875 \r\nQ 40.625 48.1875 47.75 41.5 \r\nQ 54.890625 34.8125 54.890625 23.390625 \r\nQ 54.890625 11.625 47.5625 5.09375 \r\nQ 40.234375 -1.421875 26.90625 -1.421875 \r\nQ 22.3125 -1.421875 17.546875 -0.640625 \r\nQ 12.796875 0.140625 7.71875 1.703125 \r\nL 7.71875 11.625 \r\nQ 12.109375 9.234375 16.796875 8.0625 \r\nQ 21.484375 6.890625 26.703125 6.890625 \r\nQ 35.15625 6.890625 40.078125 11.328125 \r\nQ 45.015625 15.765625 45.015625 23.390625 \r\nQ 45.015625 31 40.078125 35.4375 \r\nQ 35.15625 39.890625 26.703125 39.890625 \r\nQ 22.75 39.890625 18.8125 39.015625 \r\nQ 14.890625 38.140625 10.796875 36.28125 \r\nz\r\n\" id=\"DejaVuSans-53\"/>\r\n       </defs>\r\n       <use xlink:href=\"#DejaVuSans-50\"/>\r\n       <use x=\"63.623047\" xlink:href=\"#DejaVuSans-53\"/>\r\n       <use x=\"127.246094\" xlink:href=\"#DejaVuSans-48\"/>\r\n       <use x=\"190.869141\" xlink:href=\"#DejaVuSans-48\"/>\r\n      </g>\r\n     </g>\r\n    </g>\r\n    <g id=\"xtick_3\">\r\n     <g id=\"line2d_3\">\r\n      <g>\r\n       <use style=\"stroke:#000000;stroke-width:0.8;\" x=\"149.907386\" xlink:href=\"#mf6adafc1f9\" y=\"239.758125\"/>\r\n      </g>\r\n     </g>\r\n     <g id=\"text_3\">\r\n      <!-- 5000 -->\r\n      <g transform=\"translate(137.182386 254.356562)scale(0.1 -0.1)\">\r\n       <use xlink:href=\"#DejaVuSans-53\"/>\r\n       <use x=\"63.623047\" xlink:href=\"#DejaVuSans-48\"/>\r\n       <use x=\"127.246094\" xlink:href=\"#DejaVuSans-48\"/>\r\n       <use x=\"190.869141\" xlink:href=\"#DejaVuSans-48\"/>\r\n      </g>\r\n     </g>\r\n    </g>\r\n    <g id=\"xtick_4\">\r\n     <g id=\"line2d_4\">\r\n      <g>\r\n       <use style=\"stroke:#000000;stroke-width:0.8;\" x=\"192.180114\" xlink:href=\"#mf6adafc1f9\" y=\"239.758125\"/>\r\n      </g>\r\n     </g>\r\n     <g id=\"text_4\">\r\n      <!-- 7500 -->\r\n      <g transform=\"translate(179.455114 254.356562)scale(0.1 -0.1)\">\r\n       <defs>\r\n        <path d=\"M 8.203125 72.90625 \r\nL 55.078125 72.90625 \r\nL 55.078125 68.703125 \r\nL 28.609375 0 \r\nL 18.3125 0 \r\nL 43.21875 64.59375 \r\nL 8.203125 64.59375 \r\nz\r\n\" id=\"DejaVuSans-55\"/>\r\n       </defs>\r\n       <use xlink:href=\"#DejaVuSans-55\"/>\r\n       <use x=\"63.623047\" xlink:href=\"#DejaVuSans-53\"/>\r\n       <use x=\"127.246094\" xlink:href=\"#DejaVuSans-48\"/>\r\n       <use x=\"190.869141\" xlink:href=\"#DejaVuSans-48\"/>\r\n      </g>\r\n     </g>\r\n    </g>\r\n    <g id=\"xtick_5\">\r\n     <g id=\"line2d_5\">\r\n      <g>\r\n       <use style=\"stroke:#000000;stroke-width:0.8;\" x=\"234.452841\" xlink:href=\"#mf6adafc1f9\" y=\"239.758125\"/>\r\n      </g>\r\n     </g>\r\n     <g id=\"text_5\">\r\n      <!-- 10000 -->\r\n      <g transform=\"translate(218.546591 254.356562)scale(0.1 -0.1)\">\r\n       <defs>\r\n        <path d=\"M 12.40625 8.296875 \r\nL 28.515625 8.296875 \r\nL 28.515625 63.921875 \r\nL 10.984375 60.40625 \r\nL 10.984375 69.390625 \r\nL 28.421875 72.90625 \r\nL 38.28125 72.90625 \r\nL 38.28125 8.296875 \r\nL 54.390625 8.296875 \r\nL 54.390625 0 \r\nL 12.40625 0 \r\nz\r\n\" id=\"DejaVuSans-49\"/>\r\n       </defs>\r\n       <use xlink:href=\"#DejaVuSans-49\"/>\r\n       <use x=\"63.623047\" xlink:href=\"#DejaVuSans-48\"/>\r\n       <use x=\"127.246094\" xlink:href=\"#DejaVuSans-48\"/>\r\n       <use x=\"190.869141\" xlink:href=\"#DejaVuSans-48\"/>\r\n       <use x=\"254.492188\" xlink:href=\"#DejaVuSans-48\"/>\r\n      </g>\r\n     </g>\r\n    </g>\r\n    <g id=\"xtick_6\">\r\n     <g id=\"line2d_6\">\r\n      <g>\r\n       <use style=\"stroke:#000000;stroke-width:0.8;\" x=\"276.725568\" xlink:href=\"#mf6adafc1f9\" y=\"239.758125\"/>\r\n      </g>\r\n     </g>\r\n     <g id=\"text_6\">\r\n      <!-- 12500 -->\r\n      <g transform=\"translate(260.819318 254.356562)scale(0.1 -0.1)\">\r\n       <use xlink:href=\"#DejaVuSans-49\"/>\r\n       <use x=\"63.623047\" xlink:href=\"#DejaVuSans-50\"/>\r\n       <use x=\"127.246094\" xlink:href=\"#DejaVuSans-53\"/>\r\n       <use x=\"190.869141\" xlink:href=\"#DejaVuSans-48\"/>\r\n       <use x=\"254.492188\" xlink:href=\"#DejaVuSans-48\"/>\r\n      </g>\r\n     </g>\r\n    </g>\r\n    <g id=\"xtick_7\">\r\n     <g id=\"line2d_7\">\r\n      <g>\r\n       <use style=\"stroke:#000000;stroke-width:0.8;\" x=\"318.998295\" xlink:href=\"#mf6adafc1f9\" y=\"239.758125\"/>\r\n      </g>\r\n     </g>\r\n     <g id=\"text_7\">\r\n      <!-- 15000 -->\r\n      <g transform=\"translate(303.092045 254.356562)scale(0.1 -0.1)\">\r\n       <use xlink:href=\"#DejaVuSans-49\"/>\r\n       <use x=\"63.623047\" xlink:href=\"#DejaVuSans-53\"/>\r\n       <use x=\"127.246094\" xlink:href=\"#DejaVuSans-48\"/>\r\n       <use x=\"190.869141\" xlink:href=\"#DejaVuSans-48\"/>\r\n       <use x=\"254.492188\" xlink:href=\"#DejaVuSans-48\"/>\r\n      </g>\r\n     </g>\r\n    </g>\r\n    <g id=\"xtick_8\">\r\n     <g id=\"line2d_8\">\r\n      <g>\r\n       <use style=\"stroke:#000000;stroke-width:0.8;\" x=\"361.271023\" xlink:href=\"#mf6adafc1f9\" y=\"239.758125\"/>\r\n      </g>\r\n     </g>\r\n     <g id=\"text_8\">\r\n      <!-- 17500 -->\r\n      <g transform=\"translate(345.364773 254.356562)scale(0.1 -0.1)\">\r\n       <use xlink:href=\"#DejaVuSans-49\"/>\r\n       <use x=\"63.623047\" xlink:href=\"#DejaVuSans-55\"/>\r\n       <use x=\"127.246094\" xlink:href=\"#DejaVuSans-53\"/>\r\n       <use x=\"190.869141\" xlink:href=\"#DejaVuSans-48\"/>\r\n       <use x=\"254.492188\" xlink:href=\"#DejaVuSans-48\"/>\r\n      </g>\r\n     </g>\r\n    </g>\r\n    <g id=\"text_9\">\r\n     <!-- Fine tuning words -->\r\n     <g transform=\"translate(173.292969 268.034687)scale(0.1 -0.1)\">\r\n      <defs>\r\n       <path d=\"M 9.8125 72.90625 \r\nL 51.703125 72.90625 \r\nL 51.703125 64.59375 \r\nL 19.671875 64.59375 \r\nL 19.671875 43.109375 \r\nL 48.578125 43.109375 \r\nL 48.578125 34.8125 \r\nL 19.671875 34.8125 \r\nL 19.671875 0 \r\nL 9.8125 0 \r\nz\r\n\" id=\"DejaVuSans-70\"/>\r\n       <path d=\"M 9.421875 54.6875 \r\nL 18.40625 54.6875 \r\nL 18.40625 0 \r\nL 9.421875 0 \r\nz\r\nM 9.421875 75.984375 \r\nL 18.40625 75.984375 \r\nL 18.40625 64.59375 \r\nL 9.421875 64.59375 \r\nz\r\n\" id=\"DejaVuSans-105\"/>\r\n       <path d=\"M 54.890625 33.015625 \r\nL 54.890625 0 \r\nL 45.90625 0 \r\nL 45.90625 32.71875 \r\nQ 45.90625 40.484375 42.875 44.328125 \r\nQ 39.84375 48.1875 33.796875 48.1875 \r\nQ 26.515625 48.1875 22.3125 43.546875 \r\nQ 18.109375 38.921875 18.109375 30.90625 \r\nL 18.109375 0 \r\nL 9.078125 0 \r\nL 9.078125 54.6875 \r\nL 18.109375 54.6875 \r\nL 18.109375 46.1875 \r\nQ 21.34375 51.125 25.703125 53.5625 \r\nQ 30.078125 56 35.796875 56 \r\nQ 45.21875 56 50.046875 50.171875 \r\nQ 54.890625 44.34375 54.890625 33.015625 \r\nz\r\n\" id=\"DejaVuSans-110\"/>\r\n       <path d=\"M 56.203125 29.59375 \r\nL 56.203125 25.203125 \r\nL 14.890625 25.203125 \r\nQ 15.484375 15.921875 20.484375 11.0625 \r\nQ 25.484375 6.203125 34.421875 6.203125 \r\nQ 39.59375 6.203125 44.453125 7.46875 \r\nQ 49.3125 8.734375 54.109375 11.28125 \r\nL 54.109375 2.78125 \r\nQ 49.265625 0.734375 44.1875 -0.34375 \r\nQ 39.109375 -1.421875 33.890625 -1.421875 \r\nQ 20.796875 -1.421875 13.15625 6.1875 \r\nQ 5.515625 13.8125 5.515625 26.8125 \r\nQ 5.515625 40.234375 12.765625 48.109375 \r\nQ 20.015625 56 32.328125 56 \r\nQ 43.359375 56 49.78125 48.890625 \r\nQ 56.203125 41.796875 56.203125 29.59375 \r\nz\r\nM 47.21875 32.234375 \r\nQ 47.125 39.59375 43.09375 43.984375 \r\nQ 39.0625 48.390625 32.421875 48.390625 \r\nQ 24.90625 48.390625 20.390625 44.140625 \r\nQ 15.875 39.890625 15.1875 32.171875 \r\nz\r\n\" id=\"DejaVuSans-101\"/>\r\n       <path id=\"DejaVuSans-32\"/>\r\n       <path d=\"M 18.3125 70.21875 \r\nL 18.3125 54.6875 \r\nL 36.8125 54.6875 \r\nL 36.8125 47.703125 \r\nL 18.3125 47.703125 \r\nL 18.3125 18.015625 \r\nQ 18.3125 11.328125 20.140625 9.421875 \r\nQ 21.96875 7.515625 27.59375 7.515625 \r\nL 36.8125 7.515625 \r\nL 36.8125 0 \r\nL 27.59375 0 \r\nQ 17.1875 0 13.234375 3.875 \r\nQ 9.28125 7.765625 9.28125 18.015625 \r\nL 9.28125 47.703125 \r\nL 2.6875 47.703125 \r\nL 2.6875 54.6875 \r\nL 9.28125 54.6875 \r\nL 9.28125 70.21875 \r\nz\r\n\" id=\"DejaVuSans-116\"/>\r\n       <path d=\"M 8.5 21.578125 \r\nL 8.5 54.6875 \r\nL 17.484375 54.6875 \r\nL 17.484375 21.921875 \r\nQ 17.484375 14.15625 20.5 10.265625 \r\nQ 23.53125 6.390625 29.59375 6.390625 \r\nQ 36.859375 6.390625 41.078125 11.03125 \r\nQ 45.3125 15.671875 45.3125 23.6875 \r\nL 45.3125 54.6875 \r\nL 54.296875 54.6875 \r\nL 54.296875 0 \r\nL 45.3125 0 \r\nL 45.3125 8.40625 \r\nQ 42.046875 3.421875 37.71875 1 \r\nQ 33.40625 -1.421875 27.6875 -1.421875 \r\nQ 18.265625 -1.421875 13.375 4.4375 \r\nQ 8.5 10.296875 8.5 21.578125 \r\nz\r\nM 31.109375 56 \r\nz\r\n\" id=\"DejaVuSans-117\"/>\r\n       <path d=\"M 45.40625 27.984375 \r\nQ 45.40625 37.75 41.375 43.109375 \r\nQ 37.359375 48.484375 30.078125 48.484375 \r\nQ 22.859375 48.484375 18.828125 43.109375 \r\nQ 14.796875 37.75 14.796875 27.984375 \r\nQ 14.796875 18.265625 18.828125 12.890625 \r\nQ 22.859375 7.515625 30.078125 7.515625 \r\nQ 37.359375 7.515625 41.375 12.890625 \r\nQ 45.40625 18.265625 45.40625 27.984375 \r\nz\r\nM 54.390625 6.78125 \r\nQ 54.390625 -7.171875 48.1875 -13.984375 \r\nQ 42 -20.796875 29.203125 -20.796875 \r\nQ 24.46875 -20.796875 20.265625 -20.09375 \r\nQ 16.0625 -19.390625 12.109375 -17.921875 \r\nL 12.109375 -9.1875 \r\nQ 16.0625 -11.328125 19.921875 -12.34375 \r\nQ 23.78125 -13.375 27.78125 -13.375 \r\nQ 36.625 -13.375 41.015625 -8.765625 \r\nQ 45.40625 -4.15625 45.40625 5.171875 \r\nL 45.40625 9.625 \r\nQ 42.625 4.78125 38.28125 2.390625 \r\nQ 33.9375 0 27.875 0 \r\nQ 17.828125 0 11.671875 7.65625 \r\nQ 5.515625 15.328125 5.515625 27.984375 \r\nQ 5.515625 40.671875 11.671875 48.328125 \r\nQ 17.828125 56 27.875 56 \r\nQ 33.9375 56 38.28125 53.609375 \r\nQ 42.625 51.21875 45.40625 46.390625 \r\nL 45.40625 54.6875 \r\nL 54.390625 54.6875 \r\nz\r\n\" id=\"DejaVuSans-103\"/>\r\n       <path d=\"M 4.203125 54.6875 \r\nL 13.1875 54.6875 \r\nL 24.421875 12.015625 \r\nL 35.59375 54.6875 \r\nL 46.1875 54.6875 \r\nL 57.421875 12.015625 \r\nL 68.609375 54.6875 \r\nL 77.59375 54.6875 \r\nL 63.28125 0 \r\nL 52.6875 0 \r\nL 40.921875 44.828125 \r\nL 29.109375 0 \r\nL 18.5 0 \r\nz\r\n\" id=\"DejaVuSans-119\"/>\r\n       <path d=\"M 30.609375 48.390625 \r\nQ 23.390625 48.390625 19.1875 42.75 \r\nQ 14.984375 37.109375 14.984375 27.296875 \r\nQ 14.984375 17.484375 19.15625 11.84375 \r\nQ 23.34375 6.203125 30.609375 6.203125 \r\nQ 37.796875 6.203125 41.984375 11.859375 \r\nQ 46.1875 17.53125 46.1875 27.296875 \r\nQ 46.1875 37.015625 41.984375 42.703125 \r\nQ 37.796875 48.390625 30.609375 48.390625 \r\nz\r\nM 30.609375 56 \r\nQ 42.328125 56 49.015625 48.375 \r\nQ 55.71875 40.765625 55.71875 27.296875 \r\nQ 55.71875 13.875 49.015625 6.21875 \r\nQ 42.328125 -1.421875 30.609375 -1.421875 \r\nQ 18.84375 -1.421875 12.171875 6.21875 \r\nQ 5.515625 13.875 5.515625 27.296875 \r\nQ 5.515625 40.765625 12.171875 48.375 \r\nQ 18.84375 56 30.609375 56 \r\nz\r\n\" id=\"DejaVuSans-111\"/>\r\n       <path d=\"M 41.109375 46.296875 \r\nQ 39.59375 47.171875 37.8125 47.578125 \r\nQ 36.03125 48 33.890625 48 \r\nQ 26.265625 48 22.1875 43.046875 \r\nQ 18.109375 38.09375 18.109375 28.8125 \r\nL 18.109375 0 \r\nL 9.078125 0 \r\nL 9.078125 54.6875 \r\nL 18.109375 54.6875 \r\nL 18.109375 46.1875 \r\nQ 20.953125 51.171875 25.484375 53.578125 \r\nQ 30.03125 56 36.53125 56 \r\nQ 37.453125 56 38.578125 55.875 \r\nQ 39.703125 55.765625 41.0625 55.515625 \r\nz\r\n\" id=\"DejaVuSans-114\"/>\r\n       <path d=\"M 45.40625 46.390625 \r\nL 45.40625 75.984375 \r\nL 54.390625 75.984375 \r\nL 54.390625 0 \r\nL 45.40625 0 \r\nL 45.40625 8.203125 \r\nQ 42.578125 3.328125 38.25 0.953125 \r\nQ 33.9375 -1.421875 27.875 -1.421875 \r\nQ 17.96875 -1.421875 11.734375 6.484375 \r\nQ 5.515625 14.40625 5.515625 27.296875 \r\nQ 5.515625 40.1875 11.734375 48.09375 \r\nQ 17.96875 56 27.875 56 \r\nQ 33.9375 56 38.25 53.625 \r\nQ 42.578125 51.265625 45.40625 46.390625 \r\nz\r\nM 14.796875 27.296875 \r\nQ 14.796875 17.390625 18.875 11.75 \r\nQ 22.953125 6.109375 30.078125 6.109375 \r\nQ 37.203125 6.109375 41.296875 11.75 \r\nQ 45.40625 17.390625 45.40625 27.296875 \r\nQ 45.40625 37.203125 41.296875 42.84375 \r\nQ 37.203125 48.484375 30.078125 48.484375 \r\nQ 22.953125 48.484375 18.875 42.84375 \r\nQ 14.796875 37.203125 14.796875 27.296875 \r\nz\r\n\" id=\"DejaVuSans-100\"/>\r\n       <path d=\"M 44.28125 53.078125 \r\nL 44.28125 44.578125 \r\nQ 40.484375 46.53125 36.375 47.5 \r\nQ 32.28125 48.484375 27.875 48.484375 \r\nQ 21.1875 48.484375 17.84375 46.4375 \r\nQ 14.5 44.390625 14.5 40.28125 \r\nQ 14.5 37.15625 16.890625 35.375 \r\nQ 19.28125 33.59375 26.515625 31.984375 \r\nL 29.59375 31.296875 \r\nQ 39.15625 29.25 43.1875 25.515625 \r\nQ 47.21875 21.78125 47.21875 15.09375 \r\nQ 47.21875 7.46875 41.1875 3.015625 \r\nQ 35.15625 -1.421875 24.609375 -1.421875 \r\nQ 20.21875 -1.421875 15.453125 -0.5625 \r\nQ 10.6875 0.296875 5.421875 2 \r\nL 5.421875 11.28125 \r\nQ 10.40625 8.6875 15.234375 7.390625 \r\nQ 20.0625 6.109375 24.8125 6.109375 \r\nQ 31.15625 6.109375 34.5625 8.28125 \r\nQ 37.984375 10.453125 37.984375 14.40625 \r\nQ 37.984375 18.0625 35.515625 20.015625 \r\nQ 33.0625 21.96875 24.703125 23.78125 \r\nL 21.578125 24.515625 \r\nQ 13.234375 26.265625 9.515625 29.90625 \r\nQ 5.8125 33.546875 5.8125 39.890625 \r\nQ 5.8125 47.609375 11.28125 51.796875 \r\nQ 16.75 56 26.8125 56 \r\nQ 31.78125 56 36.171875 55.265625 \r\nQ 40.578125 54.546875 44.28125 53.078125 \r\nz\r\n\" id=\"DejaVuSans-115\"/>\r\n      </defs>\r\n      <use xlink:href=\"#DejaVuSans-70\"/>\r\n      <use x=\"50.269531\" xlink:href=\"#DejaVuSans-105\"/>\r\n      <use x=\"78.052734\" xlink:href=\"#DejaVuSans-110\"/>\r\n      <use x=\"141.431641\" xlink:href=\"#DejaVuSans-101\"/>\r\n      <use x=\"202.955078\" xlink:href=\"#DejaVuSans-32\"/>\r\n      <use x=\"234.742188\" xlink:href=\"#DejaVuSans-116\"/>\r\n      <use x=\"273.951172\" xlink:href=\"#DejaVuSans-117\"/>\r\n      <use x=\"337.330078\" xlink:href=\"#DejaVuSans-110\"/>\r\n      <use x=\"400.708984\" xlink:href=\"#DejaVuSans-105\"/>\r\n      <use x=\"428.492188\" xlink:href=\"#DejaVuSans-110\"/>\r\n      <use x=\"491.871094\" xlink:href=\"#DejaVuSans-103\"/>\r\n      <use x=\"555.347656\" xlink:href=\"#DejaVuSans-32\"/>\r\n      <use x=\"587.134766\" xlink:href=\"#DejaVuSans-119\"/>\r\n      <use x=\"668.921875\" xlink:href=\"#DejaVuSans-111\"/>\r\n      <use x=\"730.103516\" xlink:href=\"#DejaVuSans-114\"/>\r\n      <use x=\"769.466797\" xlink:href=\"#DejaVuSans-100\"/>\r\n      <use x=\"832.943359\" xlink:href=\"#DejaVuSans-115\"/>\r\n     </g>\r\n    </g>\r\n   </g>\r\n   <g id=\"matplotlib.axis_2\">\r\n    <g id=\"ytick_1\">\r\n     <g id=\"line2d_9\">\r\n      <defs>\r\n       <path d=\"M 0 0 \r\nL -3.5 0 \r\n\" id=\"m0b2daa0cf2\" style=\"stroke:#000000;stroke-width:0.8;\"/>\r\n      </defs>\r\n      <g>\r\n       <use style=\"stroke:#000000;stroke-width:0.8;\" x=\"50.14375\" xlink:href=\"#m0b2daa0cf2\" y=\"230.737688\"/>\r\n      </g>\r\n     </g>\r\n     <g id=\"text_10\">\r\n      <!-- 0.12 -->\r\n      <g transform=\"translate(20.878125 234.536907)scale(0.1 -0.1)\">\r\n       <defs>\r\n        <path d=\"M 10.6875 12.40625 \r\nL 21 12.40625 \r\nL 21 0 \r\nL 10.6875 0 \r\nz\r\n\" id=\"DejaVuSans-46\"/>\r\n       </defs>\r\n       <use xlink:href=\"#DejaVuSans-48\"/>\r\n       <use x=\"63.623047\" xlink:href=\"#DejaVuSans-46\"/>\r\n       <use x=\"95.410156\" xlink:href=\"#DejaVuSans-49\"/>\r\n       <use x=\"159.033203\" xlink:href=\"#DejaVuSans-50\"/>\r\n      </g>\r\n     </g>\r\n    </g>\r\n    <g id=\"ytick_2\">\r\n     <g id=\"line2d_10\">\r\n      <g>\r\n       <use style=\"stroke:#000000;stroke-width:0.8;\" x=\"50.14375\" xlink:href=\"#m0b2daa0cf2\" y=\"187.577704\"/>\r\n      </g>\r\n     </g>\r\n     <g id=\"text_11\">\r\n      <!-- 0.13 -->\r\n      <g transform=\"translate(20.878125 191.376923)scale(0.1 -0.1)\">\r\n       <defs>\r\n        <path d=\"M 40.578125 39.3125 \r\nQ 47.65625 37.796875 51.625 33 \r\nQ 55.609375 28.21875 55.609375 21.1875 \r\nQ 55.609375 10.40625 48.1875 4.484375 \r\nQ 40.765625 -1.421875 27.09375 -1.421875 \r\nQ 22.515625 -1.421875 17.65625 -0.515625 \r\nQ 12.796875 0.390625 7.625 2.203125 \r\nL 7.625 11.71875 \r\nQ 11.71875 9.328125 16.59375 8.109375 \r\nQ 21.484375 6.890625 26.8125 6.890625 \r\nQ 36.078125 6.890625 40.9375 10.546875 \r\nQ 45.796875 14.203125 45.796875 21.1875 \r\nQ 45.796875 27.640625 41.28125 31.265625 \r\nQ 36.765625 34.90625 28.71875 34.90625 \r\nL 20.21875 34.90625 \r\nL 20.21875 43.015625 \r\nL 29.109375 43.015625 \r\nQ 36.375 43.015625 40.234375 45.921875 \r\nQ 44.09375 48.828125 44.09375 54.296875 \r\nQ 44.09375 59.90625 40.109375 62.90625 \r\nQ 36.140625 65.921875 28.71875 65.921875 \r\nQ 24.65625 65.921875 20.015625 65.03125 \r\nQ 15.375 64.15625 9.8125 62.3125 \r\nL 9.8125 71.09375 \r\nQ 15.4375 72.65625 20.34375 73.4375 \r\nQ 25.25 74.21875 29.59375 74.21875 \r\nQ 40.828125 74.21875 47.359375 69.109375 \r\nQ 53.90625 64.015625 53.90625 55.328125 \r\nQ 53.90625 49.265625 50.4375 45.09375 \r\nQ 46.96875 40.921875 40.578125 39.3125 \r\nz\r\n\" id=\"DejaVuSans-51\"/>\r\n       </defs>\r\n       <use xlink:href=\"#DejaVuSans-48\"/>\r\n       <use x=\"63.623047\" xlink:href=\"#DejaVuSans-46\"/>\r\n       <use x=\"95.410156\" xlink:href=\"#DejaVuSans-49\"/>\r\n       <use x=\"159.033203\" xlink:href=\"#DejaVuSans-51\"/>\r\n      </g>\r\n     </g>\r\n    </g>\r\n    <g id=\"ytick_3\">\r\n     <g id=\"line2d_11\">\r\n      <g>\r\n       <use style=\"stroke:#000000;stroke-width:0.8;\" x=\"50.14375\" xlink:href=\"#m0b2daa0cf2\" y=\"144.41772\"/>\r\n      </g>\r\n     </g>\r\n     <g id=\"text_12\">\r\n      <!-- 0.14 -->\r\n      <g transform=\"translate(20.878125 148.216939)scale(0.1 -0.1)\">\r\n       <defs>\r\n        <path d=\"M 37.796875 64.3125 \r\nL 12.890625 25.390625 \r\nL 37.796875 25.390625 \r\nz\r\nM 35.203125 72.90625 \r\nL 47.609375 72.90625 \r\nL 47.609375 25.390625 \r\nL 58.015625 25.390625 \r\nL 58.015625 17.1875 \r\nL 47.609375 17.1875 \r\nL 47.609375 0 \r\nL 37.796875 0 \r\nL 37.796875 17.1875 \r\nL 4.890625 17.1875 \r\nL 4.890625 26.703125 \r\nz\r\n\" id=\"DejaVuSans-52\"/>\r\n       </defs>\r\n       <use xlink:href=\"#DejaVuSans-48\"/>\r\n       <use x=\"63.623047\" xlink:href=\"#DejaVuSans-46\"/>\r\n       <use x=\"95.410156\" xlink:href=\"#DejaVuSans-49\"/>\r\n       <use x=\"159.033203\" xlink:href=\"#DejaVuSans-52\"/>\r\n      </g>\r\n     </g>\r\n    </g>\r\n    <g id=\"ytick_4\">\r\n     <g id=\"line2d_12\">\r\n      <g>\r\n       <use style=\"stroke:#000000;stroke-width:0.8;\" x=\"50.14375\" xlink:href=\"#m0b2daa0cf2\" y=\"101.257736\"/>\r\n      </g>\r\n     </g>\r\n     <g id=\"text_13\">\r\n      <!-- 0.15 -->\r\n      <g transform=\"translate(20.878125 105.056955)scale(0.1 -0.1)\">\r\n       <use xlink:href=\"#DejaVuSans-48\"/>\r\n       <use x=\"63.623047\" xlink:href=\"#DejaVuSans-46\"/>\r\n       <use x=\"95.410156\" xlink:href=\"#DejaVuSans-49\"/>\r\n       <use x=\"159.033203\" xlink:href=\"#DejaVuSans-53\"/>\r\n      </g>\r\n     </g>\r\n    </g>\r\n    <g id=\"ytick_5\">\r\n     <g id=\"line2d_13\">\r\n      <g>\r\n       <use style=\"stroke:#000000;stroke-width:0.8;\" x=\"50.14375\" xlink:href=\"#m0b2daa0cf2\" y=\"58.097752\"/>\r\n      </g>\r\n     </g>\r\n     <g id=\"text_14\">\r\n      <!-- 0.16 -->\r\n      <g transform=\"translate(20.878125 61.896971)scale(0.1 -0.1)\">\r\n       <defs>\r\n        <path d=\"M 33.015625 40.375 \r\nQ 26.375 40.375 22.484375 35.828125 \r\nQ 18.609375 31.296875 18.609375 23.390625 \r\nQ 18.609375 15.53125 22.484375 10.953125 \r\nQ 26.375 6.390625 33.015625 6.390625 \r\nQ 39.65625 6.390625 43.53125 10.953125 \r\nQ 47.40625 15.53125 47.40625 23.390625 \r\nQ 47.40625 31.296875 43.53125 35.828125 \r\nQ 39.65625 40.375 33.015625 40.375 \r\nz\r\nM 52.59375 71.296875 \r\nL 52.59375 62.3125 \r\nQ 48.875 64.0625 45.09375 64.984375 \r\nQ 41.3125 65.921875 37.59375 65.921875 \r\nQ 27.828125 65.921875 22.671875 59.328125 \r\nQ 17.53125 52.734375 16.796875 39.40625 \r\nQ 19.671875 43.65625 24.015625 45.921875 \r\nQ 28.375 48.1875 33.59375 48.1875 \r\nQ 44.578125 48.1875 50.953125 41.515625 \r\nQ 57.328125 34.859375 57.328125 23.390625 \r\nQ 57.328125 12.15625 50.6875 5.359375 \r\nQ 44.046875 -1.421875 33.015625 -1.421875 \r\nQ 20.359375 -1.421875 13.671875 8.265625 \r\nQ 6.984375 17.96875 6.984375 36.375 \r\nQ 6.984375 53.65625 15.1875 63.9375 \r\nQ 23.390625 74.21875 37.203125 74.21875 \r\nQ 40.921875 74.21875 44.703125 73.484375 \r\nQ 48.484375 72.75 52.59375 71.296875 \r\nz\r\n\" id=\"DejaVuSans-54\"/>\r\n       </defs>\r\n       <use xlink:href=\"#DejaVuSans-48\"/>\r\n       <use x=\"63.623047\" xlink:href=\"#DejaVuSans-46\"/>\r\n       <use x=\"95.410156\" xlink:href=\"#DejaVuSans-49\"/>\r\n       <use x=\"159.033203\" xlink:href=\"#DejaVuSans-54\"/>\r\n      </g>\r\n     </g>\r\n    </g>\r\n    <g id=\"text_15\">\r\n     <!-- Error Rate -->\r\n     <g transform=\"translate(14.798438 156.274844)rotate(-90)scale(0.1 -0.1)\">\r\n      <defs>\r\n       <path d=\"M 9.8125 72.90625 \r\nL 55.90625 72.90625 \r\nL 55.90625 64.59375 \r\nL 19.671875 64.59375 \r\nL 19.671875 43.015625 \r\nL 54.390625 43.015625 \r\nL 54.390625 34.71875 \r\nL 19.671875 34.71875 \r\nL 19.671875 8.296875 \r\nL 56.78125 8.296875 \r\nL 56.78125 0 \r\nL 9.8125 0 \r\nz\r\n\" id=\"DejaVuSans-69\"/>\r\n       <path d=\"M 44.390625 34.1875 \r\nQ 47.5625 33.109375 50.5625 29.59375 \r\nQ 53.5625 26.078125 56.59375 19.921875 \r\nL 66.609375 0 \r\nL 56 0 \r\nL 46.6875 18.703125 \r\nQ 43.0625 26.03125 39.671875 28.421875 \r\nQ 36.28125 30.8125 30.421875 30.8125 \r\nL 19.671875 30.8125 \r\nL 19.671875 0 \r\nL 9.8125 0 \r\nL 9.8125 72.90625 \r\nL 32.078125 72.90625 \r\nQ 44.578125 72.90625 50.734375 67.671875 \r\nQ 56.890625 62.453125 56.890625 51.90625 \r\nQ 56.890625 45.015625 53.6875 40.46875 \r\nQ 50.484375 35.9375 44.390625 34.1875 \r\nz\r\nM 19.671875 64.796875 \r\nL 19.671875 38.921875 \r\nL 32.078125 38.921875 \r\nQ 39.203125 38.921875 42.84375 42.21875 \r\nQ 46.484375 45.515625 46.484375 51.90625 \r\nQ 46.484375 58.296875 42.84375 61.546875 \r\nQ 39.203125 64.796875 32.078125 64.796875 \r\nz\r\n\" id=\"DejaVuSans-82\"/>\r\n       <path d=\"M 34.28125 27.484375 \r\nQ 23.390625 27.484375 19.1875 25 \r\nQ 14.984375 22.515625 14.984375 16.5 \r\nQ 14.984375 11.71875 18.140625 8.90625 \r\nQ 21.296875 6.109375 26.703125 6.109375 \r\nQ 34.1875 6.109375 38.703125 11.40625 \r\nQ 43.21875 16.703125 43.21875 25.484375 \r\nL 43.21875 27.484375 \r\nz\r\nM 52.203125 31.203125 \r\nL 52.203125 0 \r\nL 43.21875 0 \r\nL 43.21875 8.296875 \r\nQ 40.140625 3.328125 35.546875 0.953125 \r\nQ 30.953125 -1.421875 24.3125 -1.421875 \r\nQ 15.921875 -1.421875 10.953125 3.296875 \r\nQ 6 8.015625 6 15.921875 \r\nQ 6 25.140625 12.171875 29.828125 \r\nQ 18.359375 34.515625 30.609375 34.515625 \r\nL 43.21875 34.515625 \r\nL 43.21875 35.40625 \r\nQ 43.21875 41.609375 39.140625 45 \r\nQ 35.0625 48.390625 27.6875 48.390625 \r\nQ 23 48.390625 18.546875 47.265625 \r\nQ 14.109375 46.140625 10.015625 43.890625 \r\nL 10.015625 52.203125 \r\nQ 14.9375 54.109375 19.578125 55.046875 \r\nQ 24.21875 56 28.609375 56 \r\nQ 40.484375 56 46.34375 49.84375 \r\nQ 52.203125 43.703125 52.203125 31.203125 \r\nz\r\n\" id=\"DejaVuSans-97\"/>\r\n      </defs>\r\n      <use xlink:href=\"#DejaVuSans-69\"/>\r\n      <use x=\"63.183594\" xlink:href=\"#DejaVuSans-114\"/>\r\n      <use x=\"102.546875\" xlink:href=\"#DejaVuSans-114\"/>\r\n      <use x=\"141.410156\" xlink:href=\"#DejaVuSans-111\"/>\r\n      <use x=\"202.591797\" xlink:href=\"#DejaVuSans-114\"/>\r\n      <use x=\"243.705078\" xlink:href=\"#DejaVuSans-32\"/>\r\n      <use x=\"275.492188\" xlink:href=\"#DejaVuSans-82\"/>\r\n      <use x=\"342.724609\" xlink:href=\"#DejaVuSans-97\"/>\r\n      <use x=\"404.003906\" xlink:href=\"#DejaVuSans-116\"/>\r\n      <use x=\"443.212891\" xlink:href=\"#DejaVuSans-101\"/>\r\n     </g>\r\n    </g>\r\n   </g>\r\n   <g id=\"line2d_14\">\r\n    <path clip-path=\"url(#peed8e179c7)\" d=\"M 65.361932 229.874489 \r\nL 99.180114 32.201761 \r\nL 132.998295 223.832091 \r\nL 166.816477 224.695291 \r\nL 200.634659 226.42169 \r\nL 234.452841 226.42169 \r\nL 268.271023 226.42169 \r\nL 302.089205 227.28489 \r\nL 335.907386 227.28489 \r\nL 369.725568 227.28489 \r\n\" style=\"fill:none;stroke:#1f77b4;stroke-linecap:square;stroke-width:1.5;\"/>\r\n   </g>\r\n   <g id=\"patch_3\">\r\n    <path d=\"M 50.14375 239.758125 \r\nL 50.14375 22.318125 \r\n\" style=\"fill:none;stroke:#000000;stroke-linecap:square;stroke-linejoin:miter;stroke-width:0.8;\"/>\r\n   </g>\r\n   <g id=\"patch_4\">\r\n    <path d=\"M 384.94375 239.758125 \r\nL 384.94375 22.318125 \r\n\" style=\"fill:none;stroke:#000000;stroke-linecap:square;stroke-linejoin:miter;stroke-width:0.8;\"/>\r\n   </g>\r\n   <g id=\"patch_5\">\r\n    <path d=\"M 50.14375 239.758125 \r\nL 384.94375 239.758125 \r\n\" style=\"fill:none;stroke:#000000;stroke-linecap:square;stroke-linejoin:miter;stroke-width:0.8;\"/>\r\n   </g>\r\n   <g id=\"patch_6\">\r\n    <path d=\"M 50.14375 22.318125 \r\nL 384.94375 22.318125 \r\n\" style=\"fill:none;stroke:#000000;stroke-linecap:square;stroke-linejoin:miter;stroke-width:0.8;\"/>\r\n   </g>\r\n   <g id=\"text_16\">\r\n    <!-- Error Rate in Amazon Reviews dataset -->\r\n    <g transform=\"translate(102.69625 16.318125)scale(0.12 -0.12)\">\r\n     <defs>\r\n      <path d=\"M 34.1875 63.1875 \r\nL 20.796875 26.90625 \r\nL 47.609375 26.90625 \r\nz\r\nM 28.609375 72.90625 \r\nL 39.796875 72.90625 \r\nL 67.578125 0 \r\nL 57.328125 0 \r\nL 50.6875 18.703125 \r\nL 17.828125 18.703125 \r\nL 11.1875 0 \r\nL 0.78125 0 \r\nz\r\n\" id=\"DejaVuSans-65\"/>\r\n      <path d=\"M 52 44.1875 \r\nQ 55.375 50.25 60.0625 53.125 \r\nQ 64.75 56 71.09375 56 \r\nQ 79.640625 56 84.28125 50.015625 \r\nQ 88.921875 44.046875 88.921875 33.015625 \r\nL 88.921875 0 \r\nL 79.890625 0 \r\nL 79.890625 32.71875 \r\nQ 79.890625 40.578125 77.09375 44.375 \r\nQ 74.3125 48.1875 68.609375 48.1875 \r\nQ 61.625 48.1875 57.5625 43.546875 \r\nQ 53.515625 38.921875 53.515625 30.90625 \r\nL 53.515625 0 \r\nL 44.484375 0 \r\nL 44.484375 32.71875 \r\nQ 44.484375 40.625 41.703125 44.40625 \r\nQ 38.921875 48.1875 33.109375 48.1875 \r\nQ 26.21875 48.1875 22.15625 43.53125 \r\nQ 18.109375 38.875 18.109375 30.90625 \r\nL 18.109375 0 \r\nL 9.078125 0 \r\nL 9.078125 54.6875 \r\nL 18.109375 54.6875 \r\nL 18.109375 46.1875 \r\nQ 21.1875 51.21875 25.484375 53.609375 \r\nQ 29.78125 56 35.6875 56 \r\nQ 41.65625 56 45.828125 52.96875 \r\nQ 50 49.953125 52 44.1875 \r\nz\r\n\" id=\"DejaVuSans-109\"/>\r\n      <path d=\"M 5.515625 54.6875 \r\nL 48.1875 54.6875 \r\nL 48.1875 46.484375 \r\nL 14.40625 7.171875 \r\nL 48.1875 7.171875 \r\nL 48.1875 0 \r\nL 4.296875 0 \r\nL 4.296875 8.203125 \r\nL 38.09375 47.515625 \r\nL 5.515625 47.515625 \r\nz\r\n\" id=\"DejaVuSans-122\"/>\r\n      <path d=\"M 2.984375 54.6875 \r\nL 12.5 54.6875 \r\nL 29.59375 8.796875 \r\nL 46.6875 54.6875 \r\nL 56.203125 54.6875 \r\nL 35.6875 0 \r\nL 23.484375 0 \r\nz\r\n\" id=\"DejaVuSans-118\"/>\r\n     </defs>\r\n     <use xlink:href=\"#DejaVuSans-69\"/>\r\n     <use x=\"63.183594\" xlink:href=\"#DejaVuSans-114\"/>\r\n     <use x=\"102.546875\" xlink:href=\"#DejaVuSans-114\"/>\r\n     <use x=\"141.410156\" xlink:href=\"#DejaVuSans-111\"/>\r\n     <use x=\"202.591797\" xlink:href=\"#DejaVuSans-114\"/>\r\n     <use x=\"243.705078\" xlink:href=\"#DejaVuSans-32\"/>\r\n     <use x=\"275.492188\" xlink:href=\"#DejaVuSans-82\"/>\r\n     <use x=\"342.724609\" xlink:href=\"#DejaVuSans-97\"/>\r\n     <use x=\"404.003906\" xlink:href=\"#DejaVuSans-116\"/>\r\n     <use x=\"443.212891\" xlink:href=\"#DejaVuSans-101\"/>\r\n     <use x=\"504.736328\" xlink:href=\"#DejaVuSans-32\"/>\r\n     <use x=\"536.523438\" xlink:href=\"#DejaVuSans-105\"/>\r\n     <use x=\"564.306641\" xlink:href=\"#DejaVuSans-110\"/>\r\n     <use x=\"627.685547\" xlink:href=\"#DejaVuSans-32\"/>\r\n     <use x=\"659.472656\" xlink:href=\"#DejaVuSans-65\"/>\r\n     <use x=\"727.880859\" xlink:href=\"#DejaVuSans-109\"/>\r\n     <use x=\"825.292969\" xlink:href=\"#DejaVuSans-97\"/>\r\n     <use x=\"886.572266\" xlink:href=\"#DejaVuSans-122\"/>\r\n     <use x=\"939.0625\" xlink:href=\"#DejaVuSans-111\"/>\r\n     <use x=\"1000.244141\" xlink:href=\"#DejaVuSans-110\"/>\r\n     <use x=\"1063.623047\" xlink:href=\"#DejaVuSans-32\"/>\r\n     <use x=\"1095.410156\" xlink:href=\"#DejaVuSans-82\"/>\r\n     <use x=\"1160.392578\" xlink:href=\"#DejaVuSans-101\"/>\r\n     <use x=\"1221.916016\" xlink:href=\"#DejaVuSans-118\"/>\r\n     <use x=\"1281.095703\" xlink:href=\"#DejaVuSans-105\"/>\r\n     <use x=\"1308.878906\" xlink:href=\"#DejaVuSans-101\"/>\r\n     <use x=\"1370.402344\" xlink:href=\"#DejaVuSans-119\"/>\r\n     <use x=\"1452.189453\" xlink:href=\"#DejaVuSans-115\"/>\r\n     <use x=\"1504.289062\" xlink:href=\"#DejaVuSans-32\"/>\r\n     <use x=\"1536.076172\" xlink:href=\"#DejaVuSans-100\"/>\r\n     <use x=\"1599.552734\" xlink:href=\"#DejaVuSans-97\"/>\r\n     <use x=\"1660.832031\" xlink:href=\"#DejaVuSans-116\"/>\r\n     <use x=\"1700.041016\" xlink:href=\"#DejaVuSans-97\"/>\r\n     <use x=\"1761.320312\" xlink:href=\"#DejaVuSans-115\"/>\r\n     <use x=\"1813.419922\" xlink:href=\"#DejaVuSans-101\"/>\r\n     <use x=\"1874.943359\" xlink:href=\"#DejaVuSans-116\"/>\r\n    </g>\r\n   </g>\r\n   <g id=\"legend_1\">\r\n    <g id=\"patch_7\">\r\n     <path d=\"M 278.339063 44.99625 \r\nL 377.94375 44.99625 \r\nQ 379.94375 44.99625 379.94375 42.99625 \r\nL 379.94375 29.318125 \r\nQ 379.94375 27.318125 377.94375 27.318125 \r\nL 278.339063 27.318125 \r\nQ 276.339063 27.318125 276.339063 29.318125 \r\nL 276.339063 42.99625 \r\nQ 276.339063 44.99625 278.339063 44.99625 \r\nz\r\n\" style=\"fill:#ffffff;opacity:0.8;stroke:#cccccc;stroke-linejoin:miter;\"/>\r\n    </g>\r\n    <g id=\"line2d_15\">\r\n     <path d=\"M 280.339063 35.416562 \r\nL 300.339063 35.416562 \r\n\" style=\"fill:none;stroke:#1f77b4;stroke-linecap:square;stroke-width:1.5;\"/>\r\n    </g>\r\n    <g id=\"line2d_16\"/>\r\n    <g id=\"text_17\">\r\n     <!-- toy to garden -->\r\n     <g transform=\"translate(308.339063 38.916562)scale(0.1 -0.1)\">\r\n      <defs>\r\n       <path d=\"M 32.171875 -5.078125 \r\nQ 28.375 -14.84375 24.75 -17.8125 \r\nQ 21.140625 -20.796875 15.09375 -20.796875 \r\nL 7.90625 -20.796875 \r\nL 7.90625 -13.28125 \r\nL 13.1875 -13.28125 \r\nQ 16.890625 -13.28125 18.9375 -11.515625 \r\nQ 21 -9.765625 23.484375 -3.21875 \r\nL 25.09375 0.875 \r\nL 2.984375 54.6875 \r\nL 12.5 54.6875 \r\nL 29.59375 11.921875 \r\nL 46.6875 54.6875 \r\nL 56.203125 54.6875 \r\nz\r\n\" id=\"DejaVuSans-121\"/>\r\n      </defs>\r\n      <use xlink:href=\"#DejaVuSans-116\"/>\r\n      <use x=\"39.208984\" xlink:href=\"#DejaVuSans-111\"/>\r\n      <use x=\"100.390625\" xlink:href=\"#DejaVuSans-121\"/>\r\n      <use x=\"159.570312\" xlink:href=\"#DejaVuSans-32\"/>\r\n      <use x=\"191.357422\" xlink:href=\"#DejaVuSans-116\"/>\r\n      <use x=\"230.566406\" xlink:href=\"#DejaVuSans-111\"/>\r\n      <use x=\"291.748047\" xlink:href=\"#DejaVuSans-32\"/>\r\n      <use x=\"323.535156\" xlink:href=\"#DejaVuSans-103\"/>\r\n      <use x=\"387.011719\" xlink:href=\"#DejaVuSans-97\"/>\r\n      <use x=\"448.291016\" xlink:href=\"#DejaVuSans-114\"/>\r\n      <use x=\"487.654297\" xlink:href=\"#DejaVuSans-100\"/>\r\n      <use x=\"551.130859\" xlink:href=\"#DejaVuSans-101\"/>\r\n      <use x=\"612.654297\" xlink:href=\"#DejaVuSans-110\"/>\r\n     </g>\r\n    </g>\r\n   </g>\r\n  </g>\r\n </g>\r\n <defs>\r\n  <clipPath id=\"peed8e179c7\">\r\n   <rect height=\"217.44\" width=\"334.8\" x=\"50.14375\" y=\"22.318125\"/>\r\n  </clipPath>\r\n </defs>\r\n</svg>\r\n",
      "image/png": "[encoded data removed]"
     },
     "metadata": {
      "needs_background": "light"
     }
    }
   ],
   "source": [
    "from matplotlib import pyplot as plt\n",
    "plt.plot(range(0, len(error_rate_list)*2000, 2000), error_rate_list, label='toy to garden')\n",
    "\n",
    "plt.title('Error Rate in Amazon Reviews dataset')\n",
    "plt.xlabel('Fine tuning words')\n",
    "plt.ylabel('Error Rate')\n",
    "plt.legend()\n",
    "plt.show()"
   ]
  },
  {
   "cell_type": "code",
   "execution_count": 12,
   "metadata": {
    "tags": []
   },
   "outputs": [
    {
     "output_type": "stream",
     "name": "stdout",
     "text": [
      "Pre-model is built\n",
      "Target-model is built\n",
      "4008\n",
      "9684\n",
      "accuracy(no_transfer):  0.281\n",
      "accuracy(directly_transfer):  0.811\n",
      "Retraining start...\n",
      "Retraining end...\n",
      "accuracy_relevant_transfer:  0.835\n"
     ]
    },
    {
     "output_type": "execute_result",
     "data": {
      "text/plain": [
       "(0.281, 0.811, 0.835)"
      ]
     },
     "metadata": {},
     "execution_count": 12
    }
   ],
   "source": [
    "from NB_Relevance_amazon import NB_relevant_NB_retraining_v3\n",
    "\n",
    "NB_relevant_NB_retraining_v3('Toys_and_Games.json.gz', 5000, 0, 'Patio_Lawn_and_Garden.json.gz', 500, 1000)"
   ]
  },
  {
   "cell_type": "code",
   "execution_count": 11,
   "metadata": {},
   "outputs": [
    {
     "output_type": "stream",
     "name": "stdout",
     "text": [
      "Pre-model is built\n",
      "Target-model is built\n",
      "4962\n",
      "9987\n",
      "accuracy(no_transfer):  0.288\n",
      "accuracy(directly_transfer):  0.815\n",
      "Retraining start...\n",
      "Retraining end...\n",
      "accuracy_relevant_transfer:  0.8345\n"
     ]
    },
    {
     "output_type": "execute_result",
     "data": {
      "text/plain": [
       "(0.288, 0.815, 0.8345)"
      ]
     },
     "metadata": {},
     "execution_count": 11
    }
   ],
   "source": [
    "from NB_Relevance_amazon import NB_relevant_NB_retraining_v3\n",
    "\n",
    "NB_relevant_NB_retraining_v3('Toys_and_Games.json.gz', 5000, 0, 'Patio_Lawn_and_Garden.json.gz', 1000, 2000)"
   ]
  },
  {
   "cell_type": "code",
   "execution_count": 1,
   "metadata": {
    "tags": []
   },
   "outputs": [
    {
     "output_type": "stream",
     "name": "stdout",
     "text": [
      "Pre-model is built\n",
      "Target-model is built\n",
      "4303\n",
      "12842\n",
      "accuracy(no_transfer):  0.323\n",
      "accuracy(directly_transfer):  0.656\n",
      "Retraining start...\n",
      "Retraining end...\n",
      "accuracy_relevant_transfer:  0.679\n"
     ]
    },
    {
     "output_type": "execute_result",
     "data": {
      "text/plain": [
       "(0.323, 0.656, 0.679)"
      ]
     },
     "metadata": {},
     "execution_count": 1
    }
   ],
   "source": [
    "from NB_Relevance_amazon import NB_relevant_NB_retraining_v3\n",
    "\n",
    "NB_relevant_NB_retraining_v3('Video_Games.json.gz', 5000, 0, 'Toys_and_Games.json.gz', 500, 1000)"
   ]
  },
  {
   "cell_type": "code",
   "execution_count": 2,
   "metadata": {},
   "outputs": [
    {
     "output_type": "stream",
     "name": "stdout",
     "text": [
      "Pre-model is built\n",
      "Target-model is built\n",
      "3092\n",
      "11789\n",
      "accuracy(no_transfer):  0.532\n",
      "accuracy(directly_transfer):  0.766\n",
      "Retraining start...\n",
      "Retraining end...\n",
      "accuracy_relevant_transfer:  0.791\n"
     ]
    },
    {
     "output_type": "execute_result",
     "data": {
      "text/plain": [
       "(0.532, 0.766, 0.791)"
      ]
     },
     "metadata": {},
     "execution_count": 2
    }
   ],
   "source": [
    "from NB_Relevance_amazon import NB_relevant_NB_retraining_v3\n",
    "\n",
    "NB_relevant_NB_retraining_v3('Electronics.json.gz', 5000, 0, 'Cell_Phones_and_Accessories.json.gz', 500, 1000)"
   ]
  },
  {
   "cell_type": "code",
   "execution_count": 3,
   "metadata": {},
   "outputs": [
    {
     "output_type": "stream",
     "name": "stdout",
     "text": [
      "Pre-model is built\n",
      "Target-model is built\n",
      "4276\n",
      "11415\n",
      "accuracy(no_transfer):  0.323\n",
      "accuracy(directly_transfer):  0.686\n",
      "Retraining start...\n",
      "Retraining end...\n",
      "accuracy_relevant_transfer:  0.696\n"
     ]
    },
    {
     "output_type": "execute_result",
     "data": {
      "text/plain": [
       "(0.323, 0.686, 0.696)"
      ]
     },
     "metadata": {},
     "execution_count": 3
    }
   ],
   "source": [
    "from NB_Relevance_amazon import NB_relevant_NB_retraining_v3\n",
    "\n",
    "NB_relevant_NB_retraining_v3('Electronics.json.gz', 5000, 0, 'Toys_and_Games.json.gz', 500, 1000)"
   ]
  },
  {
   "cell_type": "code",
   "execution_count": 4,
   "metadata": {},
   "outputs": [
    {
     "output_type": "error",
     "ename": "KeyboardInterrupt",
     "evalue": "",
     "traceback": [
      "\u001b[1;31m---------------------------------------------------------------------------\u001b[0m",
      "\u001b[1;31mKeyboardInterrupt\u001b[0m                         Traceback (most recent call last)",
      "\u001b[1;32m<ipython-input-4-4e1c789059d7>\u001b[0m in \u001b[0;36m<module>\u001b[1;34m\u001b[0m\n\u001b[0;32m      1\u001b[0m \u001b[1;32mfrom\u001b[0m \u001b[0mNB_Relevance_amazon\u001b[0m \u001b[1;32mimport\u001b[0m \u001b[0mNB_relevant_NB_retraining_v3\u001b[0m\u001b[1;33m\u001b[0m\u001b[1;33m\u001b[0m\u001b[0m\n\u001b[0;32m      2\u001b[0m \u001b[1;33m\u001b[0m\u001b[0m\n\u001b[1;32m----> 3\u001b[1;33m \u001b[0mNB_relevant_NB_retraining_v3\u001b[0m\u001b[1;33m(\u001b[0m\u001b[1;34m'Electronics.json.gz'\u001b[0m\u001b[1;33m,\u001b[0m \u001b[1;36m5000\u001b[0m\u001b[1;33m,\u001b[0m \u001b[1;36m0\u001b[0m\u001b[1;33m,\u001b[0m \u001b[1;34m'Patio_Lawn_and_Garden.json.gz'\u001b[0m\u001b[1;33m,\u001b[0m \u001b[1;36m500\u001b[0m\u001b[1;33m,\u001b[0m \u001b[1;36m1000\u001b[0m\u001b[1;33m)\u001b[0m\u001b[1;33m\u001b[0m\u001b[1;33m\u001b[0m\u001b[0m\n\u001b[0m",
      "\u001b[1;32mc:\\Users\\rando\\OneDrive\\Working\\transfer learning\\NB_Relevance_amazon.py\u001b[0m in \u001b[0;36mNB_relevant_NB_retraining_v3\u001b[1;34m(training_filename, training_size, testing_size, training_filename_transfer, training_size_transfer, testing_size_transfer)\u001b[0m\n\u001b[0;32m    513\u001b[0m \u001b[1;32mdef\u001b[0m \u001b[0mNB_relevant_NB_retraining_v3\u001b[0m\u001b[1;33m(\u001b[0m\u001b[0mtraining_filename\u001b[0m\u001b[1;33m,\u001b[0m \u001b[0mtraining_size\u001b[0m\u001b[1;33m,\u001b[0m \u001b[0mtesting_size\u001b[0m\u001b[1;33m,\u001b[0m \u001b[0mtraining_filename_transfer\u001b[0m\u001b[1;33m,\u001b[0m \u001b[0mtraining_size_transfer\u001b[0m\u001b[1;33m,\u001b[0m \u001b[0mtesting_size_transfer\u001b[0m\u001b[1;33m)\u001b[0m\u001b[1;33m:\u001b[0m\u001b[1;33m\u001b[0m\u001b[1;33m\u001b[0m\u001b[0m\n\u001b[0;32m    514\u001b[0m     \u001b[1;31m# pre-trained model\u001b[0m\u001b[1;33m\u001b[0m\u001b[1;33m\u001b[0m\u001b[1;33m\u001b[0m\u001b[0m\n\u001b[1;32m--> 515\u001b[1;33m     \u001b[0my1_prob\u001b[0m\u001b[1;33m,\u001b[0m \u001b[0my0_prob\u001b[0m\u001b[1;33m,\u001b[0m \u001b[0mprior_knowledge\u001b[0m\u001b[1;33m,\u001b[0m \u001b[0mtraining_data_table\u001b[0m\u001b[1;33m,\u001b[0m \u001b[0mtesting_data_table\u001b[0m \u001b[1;33m=\u001b[0m \u001b[0mcal_model\u001b[0m\u001b[1;33m(\u001b[0m\u001b[0mtraining_filename\u001b[0m\u001b[1;33m,\u001b[0m \u001b[0mtraining_size\u001b[0m\u001b[1;33m,\u001b[0m \u001b[0mtesting_size\u001b[0m\u001b[1;33m)\u001b[0m\u001b[1;33m\u001b[0m\u001b[1;33m\u001b[0m\u001b[0m\n\u001b[0m\u001b[0;32m    516\u001b[0m     \u001b[0mprint\u001b[0m\u001b[1;33m(\u001b[0m\u001b[1;34m'Pre-model is built'\u001b[0m\u001b[1;33m)\u001b[0m\u001b[1;33m\u001b[0m\u001b[1;33m\u001b[0m\u001b[0m\n\u001b[0;32m    517\u001b[0m \u001b[1;33m\u001b[0m\u001b[0m\n",
      "\u001b[1;32mc:\\Users\\rando\\OneDrive\\Working\\transfer learning\\NB_Relevance_amazon.py\u001b[0m in \u001b[0;36mcal_model\u001b[1;34m(file_name, training_size, testing_size)\u001b[0m\n\u001b[0;32m     86\u001b[0m \u001b[1;33m\u001b[0m\u001b[0m\n\u001b[0;32m     87\u001b[0m \u001b[1;32mdef\u001b[0m \u001b[0mcal_model\u001b[0m\u001b[1;33m(\u001b[0m\u001b[0mfile_name\u001b[0m\u001b[1;33m,\u001b[0m \u001b[0mtraining_size\u001b[0m\u001b[1;33m,\u001b[0m \u001b[0mtesting_size\u001b[0m\u001b[1;33m)\u001b[0m\u001b[1;33m:\u001b[0m\u001b[1;33m\u001b[0m\u001b[1;33m\u001b[0m\u001b[0m\n\u001b[1;32m---> 88\u001b[1;33m     \u001b[0mtraining_data_table\u001b[0m\u001b[1;33m,\u001b[0m \u001b[0mtesting_data_table\u001b[0m \u001b[1;33m=\u001b[0m \u001b[0mcreate_dataset\u001b[0m\u001b[1;33m(\u001b[0m\u001b[0mfile_name\u001b[0m\u001b[1;33m,\u001b[0m \u001b[0mtraining_size\u001b[0m\u001b[1;33m,\u001b[0m \u001b[0mtesting_size\u001b[0m\u001b[1;33m)\u001b[0m\u001b[1;33m\u001b[0m\u001b[1;33m\u001b[0m\u001b[0m\n\u001b[0m\u001b[0;32m     89\u001b[0m     \u001b[0my1_count\u001b[0m \u001b[1;33m=\u001b[0m \u001b[1;36m0\u001b[0m\u001b[1;33m\u001b[0m\u001b[1;33m\u001b[0m\u001b[0m\n\u001b[0;32m     90\u001b[0m     \u001b[0my0_count\u001b[0m \u001b[1;33m=\u001b[0m \u001b[1;36m0\u001b[0m\u001b[1;33m\u001b[0m\u001b[1;33m\u001b[0m\u001b[0m\n",
      "\u001b[1;32mc:\\Users\\rando\\OneDrive\\Working\\transfer learning\\parseData_amazon.py\u001b[0m in \u001b[0;36mcreate_dataset\u001b[1;34m(file_name, training_size, testing_size)\u001b[0m\n\u001b[0;32m     81\u001b[0m \u001b[1;32mdef\u001b[0m \u001b[0mcreate_dataset\u001b[0m\u001b[1;33m(\u001b[0m\u001b[0mfile_name\u001b[0m\u001b[1;33m,\u001b[0m \u001b[0mtraining_size\u001b[0m\u001b[1;33m,\u001b[0m \u001b[0mtesting_size\u001b[0m\u001b[1;33m)\u001b[0m\u001b[1;33m:\u001b[0m\u001b[1;33m\u001b[0m\u001b[1;33m\u001b[0m\u001b[0m\n\u001b[0;32m     82\u001b[0m     \u001b[0mbags_of_words\u001b[0m\u001b[1;33m,\u001b[0m \u001b[0mclass_labels\u001b[0m \u001b[1;33m=\u001b[0m \u001b[0mopen_file\u001b[0m\u001b[1;33m(\u001b[0m\u001b[0mfile_name\u001b[0m\u001b[1;33m,\u001b[0m \u001b[0mtraining_size\u001b[0m\u001b[1;33m+\u001b[0m\u001b[0mtesting_size\u001b[0m\u001b[1;33m)\u001b[0m\u001b[1;33m\u001b[0m\u001b[1;33m\u001b[0m\u001b[0m\n\u001b[1;32m---> 83\u001b[1;33m     \u001b[0mdata_table\u001b[0m \u001b[1;33m=\u001b[0m \u001b[0mcreate_data_table\u001b[0m\u001b[1;33m(\u001b[0m\u001b[0mbags_of_words\u001b[0m\u001b[1;33m,\u001b[0m \u001b[0mclass_labels\u001b[0m\u001b[1;33m)\u001b[0m\u001b[1;33m\u001b[0m\u001b[1;33m\u001b[0m\u001b[0m\n\u001b[0m\u001b[0;32m     84\u001b[0m     \u001b[0mtraining_data_table\u001b[0m \u001b[1;33m=\u001b[0m \u001b[1;33m[\u001b[0m\u001b[1;33m]\u001b[0m\u001b[1;33m\u001b[0m\u001b[1;33m\u001b[0m\u001b[0m\n\u001b[0;32m     85\u001b[0m     \u001b[0mtraining_data_table\u001b[0m\u001b[1;33m.\u001b[0m\u001b[0mappend\u001b[0m\u001b[1;33m(\u001b[0m\u001b[0mdata_table\u001b[0m\u001b[1;33m[\u001b[0m\u001b[1;36m0\u001b[0m\u001b[1;33m]\u001b[0m\u001b[1;33m)\u001b[0m\u001b[1;33m\u001b[0m\u001b[1;33m\u001b[0m\u001b[0m\n",
      "\u001b[1;32mc:\\Users\\rando\\OneDrive\\Working\\transfer learning\\parseData_amazon.py\u001b[0m in \u001b[0;36mcreate_data_table\u001b[1;34m(bags, class_labels)\u001b[0m\n\u001b[0;32m     73\u001b[0m                 \u001b[0mdata_table\u001b[0m\u001b[1;33m[\u001b[0m\u001b[1;36m0\u001b[0m\u001b[1;33m]\u001b[0m\u001b[1;33m.\u001b[0m\u001b[0mappend\u001b[0m\u001b[1;33m(\u001b[0m\u001b[0mword\u001b[0m\u001b[1;33m)\u001b[0m\u001b[1;33m\u001b[0m\u001b[1;33m\u001b[0m\u001b[0m\n\u001b[0;32m     74\u001b[0m                 \u001b[1;32mfor\u001b[0m \u001b[0mj\u001b[0m \u001b[1;32min\u001b[0m \u001b[0mrange\u001b[0m\u001b[1;33m(\u001b[0m\u001b[0mlen\u001b[0m\u001b[1;33m(\u001b[0m\u001b[0mbags\u001b[0m\u001b[1;33m)\u001b[0m\u001b[1;33m)\u001b[0m\u001b[1;33m:\u001b[0m\u001b[1;33m\u001b[0m\u001b[1;33m\u001b[0m\u001b[0m\n\u001b[1;32m---> 75\u001b[1;33m                     \u001b[0mdata_table\u001b[0m\u001b[1;33m[\u001b[0m\u001b[0mj\u001b[0m\u001b[1;33m+\u001b[0m\u001b[1;36m1\u001b[0m\u001b[1;33m]\u001b[0m\u001b[1;33m.\u001b[0m\u001b[0mappend\u001b[0m\u001b[1;33m(\u001b[0m\u001b[1;36m0\u001b[0m\u001b[1;33m)\u001b[0m\u001b[1;33m\u001b[0m\u001b[1;33m\u001b[0m\u001b[0m\n\u001b[0m\u001b[0;32m     76\u001b[0m                 \u001b[0mdata_table\u001b[0m\u001b[1;33m[\u001b[0m\u001b[0mi\u001b[0m\u001b[1;33m+\u001b[0m\u001b[1;36m1\u001b[0m\u001b[1;33m]\u001b[0m\u001b[1;33m[\u001b[0m\u001b[1;33m-\u001b[0m\u001b[1;36m1\u001b[0m\u001b[1;33m]\u001b[0m \u001b[1;33m+=\u001b[0m \u001b[1;36m1\u001b[0m\u001b[1;33m\u001b[0m\u001b[1;33m\u001b[0m\u001b[0m\n\u001b[0;32m     77\u001b[0m     \u001b[1;32mfor\u001b[0m \u001b[0mi\u001b[0m \u001b[1;32min\u001b[0m \u001b[0mrange\u001b[0m\u001b[1;33m(\u001b[0m\u001b[0mlen\u001b[0m\u001b[1;33m(\u001b[0m\u001b[0mbags\u001b[0m\u001b[1;33m)\u001b[0m\u001b[1;33m)\u001b[0m\u001b[1;33m:\u001b[0m\u001b[1;33m\u001b[0m\u001b[1;33m\u001b[0m\u001b[0m\n",
      "\u001b[1;31mKeyboardInterrupt\u001b[0m: "
     ]
    }
   ],
   "source": [
    "from NB_Relevance_amazon import NB_relevant_NB_retraining_v3\n",
    "\n",
    "NB_relevant_NB_retraining_v3('Electronics.json.gz', 5000, 0, 'Patio_Lawn_and_Garden.json.gz', 500, 1000)"
   ]
  },
  {
   "cell_type": "code",
   "execution_count": 11,
   "metadata": {},
   "outputs": [],
   "source": [
    "from NB_Relevance_amazon import cal_model\n",
    "y1_prob, y0_prob, prior_knowledge, training_data_table, testing_data_table = cal_model('Toys_and_Games.json.gz', 5000, 500)"
   ]
  },
  {
   "cell_type": "code",
   "execution_count": 12,
   "metadata": {},
   "outputs": [
    {
     "output_type": "execute_result",
     "data": {
      "text/plain": [
       "0.5"
      ]
     },
     "metadata": {},
     "execution_count": 12
    }
   ],
   "source": [
    "y1_prob"
   ]
  },
  {
   "cell_type": "code",
   "execution_count": 13,
   "metadata": {},
   "outputs": [
    {
     "output_type": "execute_result",
     "data": {
      "text/plain": [
       "0.5"
      ]
     },
     "metadata": {},
     "execution_count": 13
    }
   ],
   "source": [
    "y0_prob"
   ]
  },
  {
   "cell_type": "code",
   "execution_count": 16,
   "metadata": {},
   "outputs": [
    {
     "output_type": "execute_result",
     "data": {
      "text/plain": [
       "0060723, 0.000424639719737785],\n",
       " 'victim': [1.812634059393976e-05, 5.307996496722312e-06],\n",
       " 'sharlyn': [4.2294794719192776e-05, 5.307996496722312e-06],\n",
       " 'tate': [2.4168454125253013e-05, 5.307996496722312e-06],\n",
       " 'star': [0.0001933476330020241, 0.000254783831842671],\n",
       " 'many': [0.0010513277544485062, 0.0007590434990312906],\n",
       " 'several': [0.0003262741306909157, 0.0004034077337508957],\n",
       " 'were': [0.0014440651339838676, 0.0011359112502985747],\n",
       " 'best': [0.0007552641914141567, 0.0002760158178295602],\n",
       " 'sellers': [3.0210567656566267e-05, 3.7155975477056186e-05],\n",
       " 'trouble': [0.00015105283828283132, 0.00020170386687544785],\n",
       " 'bored': [1.2084227062626507e-05, 3.7155975477056186e-05],\n",
       " 'billionaire': [2.4168454125253013e-05, 5.307996496722312e-06],\n",
       " 'home': [0.0004229479471919277, 0.0003768677512672842],\n",
       " 'block': [4.8336908250506027e-05, 6.369595796066775e-05],\n",
       " 'whether': [0.00012084227062626507, 6.369595796066775e-05],\n",
       " 'realizes': [5.437902178181928e-05, 1.0615992993444625e-05],\n",
       " 'despite': [0.00014501072475151807, 7.431195095411237e-05],\n",
       " 'awareness': [2.4168454125253013e-05, 1.0615992993444625e-05],\n",
       " 'seedier': [1.2084227062626507e-05, 5.307996496722312e-06],\n",
       " 'side': [0.00038065315247273496, 0.0003184797898033387],\n",
       " 'life': [0.0022355820065859035, 0.0004034077337508957],\n",
       " 'waiting': [0.00013292649768889157, 0.00015393189840494706],\n",
       " 'taken': [0.0001691791788767711, 6.369595796066775e-05],\n",
       " 'enter': [4.2294794719192776e-05, 4.24639719737785e-05],\n",
       " 'pennbrook': [1.2084227062626507e-05, 5.307996496722312e-06],\n",
       " 'now': [0.0007733905320080964, 0.001411927068128135],\n",
       " '210': [3.0210567656566267e-05, 5.307996496722312e-06],\n",
       " 'iq': [4.2294794719192776e-05, 1.0615992993444625e-05],\n",
       " 'humility': [1.2084227062626507e-05, 5.307996496722312e-06],\n",
       " 'rating': [9.06317029696988e-05, 0.00011677592292789087],\n",
       " 'zero': [1.812634059393976e-05, 9.554393694100162e-05],\n",
       " 'superficially': [1.2084227062626507e-05, 5.307996496722312e-06],\n",
       " 'perfect': [0.0009969487326666868, 0.00014331590541150242],\n",
       " 'specimen': [1.2084227062626507e-05, 5.307996496722312e-06],\n",
       " 'puppet': [1.812634059393976e-05, 1.0615992993444625e-05],\n",
       " 'master': [9.667381650101205e-05, 1.0615992993444625e-05],\n",
       " 'calculating': [1.2084227062626507e-05, 5.307996496722312e-06],\n",
       " 'logic': [1.2084227062626507e-05, 2.123198598688925e-05],\n",
       " 'ambition': [1.812634059393976e-05, 5.307996496722312e-06],\n",
       " 'meat': [3.625268118787952e-05, 1.0615992993444625e-05],\n",
       " 'armchair': [1.2084227062626507e-05, 5.307996496722312e-06],\n",
       " 'sharp': [3.625268118787952e-05, 2.123198598688925e-05],\n",
       " 'cut': [7.250536237575904e-05, 0.00016454789139839167],\n",
       " 'shreds': [1.2084227062626507e-05, 5.307996496722312e-06],\n",
       " 'benchmark': [1.2084227062626507e-05, 5.307996496722312e-06],\n",
       " 'work': [0.001002990846198, 0.0037474455266859525],\n",
       " 'keenly': [1.2084227062626507e-05, 5.307996496722312e-06],\n",
       " 'wicked': [1.812634059393976e-05, 5.307996496722312e-06],\n",
       " 'wow': [7.854747590707229e-05, 6.900395445739005e-05],\n",
       " 'totally': [0.00013896861122020482, 0.0002123198598688925],\n",
       " 'blown': [2.4168454125253013e-05, 5.307996496722312e-06],\n",
       " 'thought': [0.0005860850125373856, 0.0005998036041296213],\n",
       " 'gotten': [6.0421135313132535e-05, 0.0001326999124180578],\n",
       " 'part': [0.0005437902178181928, 0.0002760158178295602],\n",
       " 'shocked': [1.2084227062626507e-05, 4.24639719737785e-05],\n",
       " 'twists': [0.00012084227062626507, 3.1847978980333874e-05],\n",
       " 'turns': [0.0001933476330020241, 0.00016454789139839167],\n",
       " 'anyone': [0.00047732696897374703, 0.0002653998248361156],\n",
       " 'favorite': [0.00022960031418990364, 5.307996496722312e-05],\n",
       " 'authors': [0.00015709495181414457, 4.24639719737785e-05],\n",
       " 'excellent': [0.0005921271260686988, 6.369595796066775e-05],\n",
       " 'stories': [0.0005921271260686988, 3.7155975477056186e-05],\n",
       " 'creates': [4.2294794719192776e-05, 4.24639719737785e-05],\n",
       " 'believable': [0.0001933476330020241, 5.307996496722312e-06],\n",
       " 'those': [0.0006223376937252651, 0.0003927917407574511],\n",
       " 'reasons': [4.2294794719192776e-05, 6.900395445739005e-05],\n",
       " 'hated': [3.625268118787952e-05, 2.653998248361156e-05],\n",
       " 'beginning': [0.00025376876831515664, 0.0001273919159213355],\n",
       " 'gripping': [4.8336908250506027e-05, 5.307996496722312e-06],\n",
       " 'longer': [0.0002054318600646506, 0.0003768677512672842],\n",
       " 'immoral': [1.812634059393976e-05, 5.307996496722312e-06],\n",
       " 'acts': [1.812634059393976e-05, 2.653998248361156e-05],\n",
       " 'committed': [1.2084227062626507e-05, 1.5923989490166937e-05],\n",
       " 'reach': [0.00010875804356363855, 3.7155975477056186e-05],\n",
       " 'left': [0.00027793722244040964, 0.00041402372674434034],\n",
       " 'hanging': [6.0421135313132535e-05, 1.0615992993444625e-05],\n",
       " 'wanted': [0.0005437902178181928, 0.00046179569521484113],\n",
       " 'rip': [1.2084227062626507e-05, 2.123198598688925e-05],\n",
       " 'into': [0.0016494969940485183, 0.0011942992117625203],\n",
       " 'pieces': [7.250536237575904e-05, 6.900395445739005e-05],\n",
       " 'disappointing': [4.8336908250506027e-05, 0.000169855887895114],\n",
       " 'ending': [0.0003383583577535422, 0.00010615992993444625],\n",
       " 'glad': [0.0002477266547838434, 9.02359404442793e-05],\n",
       " 'don': [0.0010211171867919398, 0.002245282518113538],\n",
       " 'truly': [0.00030210567656566265, 9.02359404442793e-05],\n",
       " 'horrible': [3.0210567656566267e-05, 0.0002972478038164495],\n",
       " '100': [0.00011480015709495182, 0.00018577987738528092],\n",
       " 'nothing': [0.0002718951089090964, 0.0007059635340640675],\n",
       " 'ever': [0.00040482160659798796, 0.000493643674195175],\n",
       " 'bought': [0.0007975589861333494, 0.0018949547493298654],\n",
       " 'quarter': [1.2084227062626507e-05, 2.123198598688925e-05],\n",
       " 'bad': [0.00041690583366061447, 0.0009766713553969054],\n",
       " 'reviews': [0.00018730551947071086, 0.0005626476286525651],\n",
       " 'cause': [4.2294794719192776e-05, 5.307996496722312e-05],\n",
       " 'see': [0.0008338116673212289, 0.0006688075585870114],\n",
       " 'myself': [0.00039273737953536146, 0.0002919398073197272],\n",
       " 'besides': [1.812634059393976e-05, 6.900395445739005e-05],\n",
       " 'usually': [0.00013292649768889157, 0.00011146792643116855],\n",
       " 'different': [0.0006042113531313253, 0.0005998036041296213],\n",
       " 'stuff': [9.06317029696988e-05, 0.00016454789139839167],\n",
       " 'anyway': [6.646324884444579e-05, 0.00015923989490166935],\n",
       " 'believe': [0.0001933476330020241, 0.00019639587037872556],\n",
       " 'same': [0.0005196217636929398, 0.0011306032538018526],\n",
       " 'wrote': [0.00010875804356363855, 7.961994745083468e-05],\n",
       " 'child': [0.00016313706534545785, 9.02359404442793e-05],\n",
       " 'god': [0.0015165704963596266, 0.00020170386687544785],\n",
       " '100th': [1.2084227062626507e-05, 5.307996496722312e-06],\n",
       " 'page': [0.00042899006072324097, 0.0006157275936197882],\n",
       " 'gets': [0.0002356424277212169, 0.000254783831842671],\n",
       " 'insanely': [2.4168454125253013e-05, 1.5923989490166937e-05],\n",
       " 'mean': [0.00011480015709495182, 8.4927943947557e-05],\n",
       " 'amazingly': [5.437902178181928e-05, 3.7155975477056186e-05],\n",
       " 'hang': [0.00011480015709495182, 3.1847978980333874e-05],\n",
       " 'terrible': [3.0210567656566267e-05, 0.0002600918283393933],\n",
       " 'miss': [0.00010875804356363855, 6.369595796066775e-05],\n",
       " 'penned': [1.2084227062626507e-05, 5.307996496722312e-06],\n",
       " 'bittersweet': [3.0210567656566267e-05, 5.307996496722312e-06],\n",
       " 'achievement': [1.812634059393976e-05, 5.307996496722312e-06],\n",
       " 'extreme': [4.2294794719192776e-05, 1.0615992993444625e-05],\n",
       " 'warning': [2.4168454125253013e-05, 7.431195095411237e-05],\n",
       " 'unless': [4.8336908250506027e-05, 0.00028132381432628256],\n",
       " 'computer': [0.00026585299537778314, 0.0006953475410706229],\n",
       " 'updated': [5.437902178181928e-05, 7.431195095411237e-05],\n",
       " 'norton': [1.2084227062626507e-05, 5.307996496722312e-06],\n",
       " 'anti': [1.812634059393976e-05, 1.0615992993444625e-05],\n",
       " 'virus': [1.2084227062626507e-05, 4.24639719737785e-05],\n",
       " 'protection': [7.250536237575904e-05, 5.8387961463945435e-05],\n",
       " 'comparable': [1.812634059393976e-05, 1.0615992993444625e-05],\n",
       " 'against': [9.667381650101205e-05, 0.00012208391942461318],\n",
       " 'covert': [1.812634059393976e-05, 5.307996496722312e-06],\n",
       " 'malicious': [1.2084227062626507e-05, 5.307996496722312e-06],\n",
       " 'software': [6.646324884444579e-05, 0.00045648769871811884],\n",
       " 'infects': [1.2084227062626507e-05, 5.307996496722312e-06],\n",
       " 'downloads': [1.2084227062626507e-05, 6.369595796066775e-05],\n",
       " 'spies': [1.2084227062626507e-05, 5.307996496722312e-06],\n",
       " 'access': [7.250536237575904e-05, 0.00040871573024761805],\n",
       " 'hype': [1.812634059393976e-05, 1.0615992993444625e-05],\n",
       " 'joke': [1.2084227062626507e-05, 6.900395445739005e-05],\n",
       " 'regarding': [4.2294794719192776e-05, 3.1847978980333874e-05],\n",
       " 'try': [0.00021147397359596386, 0.0005467236391623982],\n",
       " 'prudish': [1.2084227062626507e-05, 1.0615992993444625e-05],\n",
       " 'sensibilities': [1.2084227062626507e-05, 5.307996496722312e-06],\n",
       " 'offended': [1.2084227062626507e-05, 1.0615992993444625e-05],\n",
       " 'filth': [1.2084227062626507e-05, 5.307996496722312e-06],\n",
       " 'openly': [1.812634059393976e-05, 5.307996496722312e-06],\n",
       " 'self': [0.00019938974653333736, 0.00011677592292789087],\n",
       " 'serving': [1.2084227062626507e-05, 1.5923989490166937e-05],\n",
       " 'often': [0.00025376876831515664, 0.0002123198598688925],\n",
       " 'freakish': [1.2084227062626507e-05, 5.307996496722312e-06],\n",
       " 'explicit': [2.4168454125253013e-05, 3.7155975477056186e-05],\n",
       " 'serves': [3.0210567656566267e-05, 2.123198598688925e-05],\n",
       " 'function': [4.2294794719192776e-05, 9.554393694100162e-05],\n",
       " 'tna': [1.2084227062626507e-05, 5.307996496722312e-06],\n",
       " 'dna': [1.2084227062626507e-05, 1.0615992993444625e-05],\n",
       " 'pornography': [1.2084227062626507e-05, 5.307996496722312e-06],\n",
       " 'blue': [3.0210567656566267e-05, 0.00032378778630006105],\n",
       " 'language': [7.854747590707229e-05, 0.00024416783884922635],\n",
       " 'explitives': [1.2084227062626507e-05, 5.307996496722312e-06],\n",
       " 'expressions': [1.2084227062626507e-05, 5.307996496722312e-06],\n",
       " 'used': [0.0006344219207878916, 0.0010297513203641286],\n",
       " 'sake': [1.2084227062626507e-05, 1.5923989490166937e-05],\n",
       " 'selling': [4.2294794719192776e-05, 6.900395445739005e-05],\n",
       " 'smut': [1.812634059393976e-05, 5.307996496722312e-06],\n",
       " 'lonely': [2.4168454125253013e-05, 5.307996496722312e-06],\n",
       " 'sexually': [1.2084227062626507e-05, 1.0615992993444625e-05],\n",
       " 'unfulfilled': [1.812634059393976e-05, 1.0615992993444625e-05],\n",
       " 'mostly': [7.854747590707229e-05, 7.431195095411237e-05],\n",
       " 'middle': [0.00013292649768889157, 0.00014862390190822474],\n",
       " 'class': [0.00017522129240808435, 0.00023885984235250406],\n",
       " 'these': [0.0008881906891030482, 0.001157143236285464],\n",
       " 'terribly': [3.0210567656566267e-05, 2.123198598688925e-05],\n",
       " 'wanna': [2.4168454125253013e-05, 1.5923989490166937e-05],\n",
       " 'talentless': [1.2084227062626507e-05, 5.307996496722312e-06],\n",
       " 'writers': [8.458958943838555e-05, 3.7155975477056186e-05],\n",
       " 'few': [0.0005860850125373856, 0.0009288993869264046],\n",
       " 'talent': [6.646324884444579e-05, 4.24639719737785e-05],\n",
       " 'nonetheless': [4.2294794719192776e-05, 1.0615992993444625e-05],\n",
       " 'manipulative': [1.2084227062626507e-05, 5.307996496722312e-06],\n",
       " 'seekers': [1.2084227062626507e-05, 5.307996496722312e-06],\n",
       " 'mass': [2.4168454125253013e-05, 5.307996496722312e-06],\n",
       " 'market': [7.250536237575904e-05, 0.0002176278563656148],\n",
       " 'suckers': [1.812634059393976e-05, 5.307996496722312e-06],\n",
       " 'intrigued': [2.4168454125253013e-05, 5.307996496722312e-06],\n",
       " 'wide': [7.250536237575904e-05, 2.653998248361156e-05],\n",
       " 'disparity': [1.2084227062626507e-05, 5.307996496722312e-06],\n",
       " 'expressed': [1.812634059393976e-05, 1.0615992993444625e-05],\n",
       " 'decided': [0.00014501072475151807, 0.0002123198598688925],\n",
       " 'opinion': [0.00014501072475151807, 9.02359404442793e-05],\n",
       " 'yes': [0.0002235582006585904, 0.0001804718808885586],\n",
       " 'raunchy': [1.2084227062626507e-05, 5.307996496722312e-06],\n",
       " 'pimps': [1.812634059393976e-05, 5.307996496722312e-06],\n",
       " 'predators': [1.2084227062626507e-05, 5.307996496722312e-06],\n",
       " 'sociopaths': [1.2084227062626507e-05, 5.307996496722312e-06],\n",
       " 'manipulate': [1.812634059393976e-05, 1.0615992993444625e-05],\n",
       " 'degrade': [1.2084227062626507e-05, 5.307996496722312e-06],\n",
       " 'they': [0.001860970967644482, 0.004347249130815574],\n",
       " 'hate': [0.0001027159300323253, 0.00015923989490166935],\n",
       " 'protaganist': [1.2084227062626507e-05, 5.307996496722312e-06],\n",
       " 'sociopath': [1.812634059393976e-05, 5.307996496722312e-06],\n",
       " 'schoolers': [1.2084227062626507e-05, 5.307996496722312e-06],\n",
       " 'psychopath': [1.2084227062626507e-05, 5.307996496722312e-06],\n",
       " 'correspondingly': [1.2084227062626507e-05, 5.307996496722312e-06],\n",
       " 'door': [5.437902178181928e-05, 4.24639719737785e-05],\n",
       " 'charming': [6.646324884444579e-05, 1.5923989490166937e-05],\n",
       " 'high': [0.00036856892541010846, 0.0002600918283393933],\n",
       " 'help': [0.0007250536237575904, 0.0004777196847050081],\n",
       " 'fall': [0.00017522129240808435, 6.900395445739005e-05],\n",
       " 'under': [0.00014501072475151807, 0.00020170386687544785],\n",
       " 'spell': [1.812634059393976e-05, 3.1847978980333874e-05],\n",
       " 'pretty': [0.00033231624422222896, 0.0003768677512672842],\n",
       " 'boys': [7.250536237575904e-05, 5.307996496722312e-06],\n",
       " 'notorious': [1.812634059393976e-05, 5.307996496722312e-06],\n",
       " 'serial': [1.2084227062626507e-05, 4.24639719737785e-05],\n",
       " 'killer': [2.4168454125253013e-05, 1.5923989490166937e-05],\n",
       " 'ted': [1.2084227062626507e-05, 5.307996496722312e-06],\n",
       " 'bundy': [1.2084227062626507e-05, 5.307996496722312e-06],\n",
       " 'lesson': [6.646324884444579e-05, 3.1847978980333874e-05],\n",
       " 'learned': [0.00012688438415757832, 6.369595796066775e-05],\n",
       " 'plain': [4.2294794719192776e-05, 6.369595796066775e-05],\n",
       " 'men': [0.0001933476330020241, 4.24639719737785e-05],\n",
       " 'girl': [0.00039273737953536146, 5.8387961463945435e-05],\n",
       " 'lose': [7.250536237575904e-05, 8.4927943947557e-05],\n",
       " 'perhaps': [0.00015709495181414457, 0.00015393189840494706],\n",
       " 'someone': [0.00039273737953536146, 0.0003078637968098941],\n",
       " 'russell': [1.2084227062626507e-05, 5.307996496722312e-06],\n",
       " 'simmons': [1.2084227062626507e-05, 5.307996496722312e-06],\n",
       " 'might': [0.0003746110389414217, 0.0003874837442607288],\n",
       " 'lives': [0.00040482160659798796, 4.24639719737785e-05],\n",
       " 'appreciated': [3.625268118787952e-05, 2.123198598688925e-05],\n",
       " 'intelligence': [3.0210567656566267e-05, 1.5923989490166937e-05],\n",
       " 'slmf': [1.812634059393976e-05, 5.307996496722312e-06],\n",
       " 'particularly': [0.00013292649768889157, 7.431195095411237e-05],\n",
       " 'philosophical': [3.625268118787952e-05, 5.307996496722312e-06],\n",
       " 'theories': [1.2084227062626507e-05, 5.307996496722312e-06],\n",
       " 'quotes': [2.4168454125253013e-05, 1.0615992993444625e-05],\n",
       " 'appropriate': [6.0421135313132535e-05, 3.1847978980333874e-05],\n",
       " 'examples': [4.8336908250506027e-05, 3.1847978980333874e-05],\n",
       " 'less': [0.00024168454125253014, 0.00045648769871811884],\n",
       " 'implied': [1.2084227062626507e-05, 5.307996496722312e-06],\n",
       " 'perceived': [1.2084227062626507e-05, 5.307996496722312e-06],\n",
       " 'masterwork': [1.812634059393976e-05, 5.307996496722312e-06],\n",
       " 'selected': [2.4168454125253013e-05, 2.653998248361156e-05],\n",
       " 'sans': [1.2084227062626507e-05, 1.0615992993444625e-05],\n",
       " 'notes': [5.437902178181928e-05, 9.554393694100162e-05],\n",
       " '22': [4.2294794719192776e-05, 9.554393694100162e-05],\n",
       " 'year': [0.000453158514848494, 0.0005201836566787866],\n",
       " 'religious': [7.854747590707229e-05, 2.653998248361156e-05],\n",
       " 'daughter': [0.0003504425848161687, 0.00022824384935905942],\n",
       " 'need': [0.0007794326455394097, 0.000748427506037846],\n",
       " 'hear': [7.854747590707229e-05, 0.00011146792643116855],\n",
       " 'things': [0.0007552641914141567, 0.00041933172324106263],\n",
       " 'teaches': [2.4168454125253013e-05, 1.0615992993444625e-05],\n",
       " 'effective': [7.250536237575904e-05, 2.123198598688925e-05],\n",
       " 'straight': [7.854747590707229e-05, 5.8387961463945435e-05],\n",
       " 'chaser': [1.2084227062626507e-05, 5.307996496722312e-06],\n",
       " 'thanks': [0.00026585299537778314, 0.0001380079089147801],\n",
       " 'father': [0.0005075375366303133, 0.00010085193343772393],\n",
       " 'demonstrated': [1.2084227062626507e-05, 5.307996496722312e-06],\n",
       " 'command': [4.2294794719192776e-05, 1.0615992993444625e-05],\n",
       " 'word': [0.0001933476330020241, 0.000254783831842671],\n",
       " 'overall': [0.00024168454125253014, 0.0001273919159213355],\n",
       " 'parts': [0.00024168454125253014, 6.900395445739005e-05],\n",
       " 'borrow': [1.812634059393976e-05, 4.777196847050081e-05],\n",
       " 'term': [3.625268118787952e-05, 2.653998248361156e-05],\n",
       " 'reviewer': [3.625268118787952e-05, 5.8387961463945435e-05],\n",
       " 'closure': [3.0210567656566267e-05, 5.307996496722312e-06],\n",
       " 'matters': [3.625268118787952e-05, 4.24639719737785e-05],\n",
       " 'resolved': [2.4168454125253013e-05, 5.8387961463945435e-05],\n",
       " 'okaay': [1.2084227062626507e-05, 5.307996496722312e-06],\n",
       " 're': [0.0003987794930666747, 0.0005201836566787866],\n",
       " 'usual': [6.0421135313132535e-05, 3.1847978980333874e-05],\n",
       " 'sistah': [3.0210567656566267e-05, 1.5923989490166937e-05],\n",
       " 'find': [0.0012205069333252772, 0.0006953475410706229],\n",
       " 'great': [0.004042173952448567, 0.001019135327370684],\n",
       " 'talents': [1.812634059393976e-05, 5.307996496722312e-06],\n",
       " 'since': [0.0005135796501616266, 0.0008015074710050692],\n",
       " 'day': [0.00040482160659798796, 0.0007378115130444013],\n",
       " 'leary': [1.812634059393976e-05, 5.307996496722312e-06],\n",
       " 'unlike': [4.8336908250506027e-05, 5.8387961463945435e-05],\n",
       " 'generally': [2.4168454125253013e-05, 4.777196847050081e-05],\n",
       " 'chapter': [0.00034440047128485546, 0.0001380079089147801],\n",
       " 'too': [0.0010694540950424458, 0.0014596990365986359],\n",
       " 'guess': [8.458958943838555e-05, 0.0003609437617771172],\n",
       " 'needed': [0.0006223376937252651, 0.00028663181082300485],\n",
       " 'solid': [0.0001933476330020241, 3.7155975477056186e-05],\n",
       " 'understanding': [7.250536237575904e-05, 3.1847978980333874e-05],\n",
       " 'though': [0.0006102534666626386, 0.0005467236391623982],\n",
       " 'others': [0.0003262741306909157, 0.000254783831842671],\n",
       " 'along': [0.0003383583577535422, 7.961994745083468e-05],\n",
       " 'turner': [9.667381650101205e-05, 1.5923989490166937e-05],\n",
       " 'amazed': [7.250536237575904e-05, 1.0615992993444625e-05],\n",
       " 'flip': [2.4168454125253013e-05, 2.653998248361156e-05],\n",
       " 'entire': [8.458958943838555e-05, 0.00014862390190822474],\n",
       " 'script': [3.0210567656566267e-05, 1.5923989490166937e-05],\n",
       " 'invent': [1.2084227062626507e-05, 5.307996496722312e-06],\n",
       " 'add': [0.00017522129240808435, 0.000169855887895114],\n",
       " 'paper': [9.667381650101205e-05, 9.02359404442793e-05],\n",
       " 'serious': [0.00010875804356363855, 6.369595796066775e-05],\n",
       " 'damn': [3.0210567656566267e-05, 1.5923989490166937e-05],\n",
       " 'near': [0.0001027159300323253, 0.00010085193343772393],\n",
       " 'anything': [0.0002598108818464699, 0.0007112715305607898],\n",
       " 'interested': [0.00013292649768889157, 7.961994745083468e-05],\n",
       " 'skills': [5.437902178181928e-05, 1.5923989490166937e-05],\n",
       " 'leads': [5.437902178181928e-05, 5.307996496722312e-06],\n",
       " 'bigger': [6.646324884444579e-05, 7.961994745083468e-05],\n",
       " 'go': [0.0005317059907555663, 0.0008280474534886807],\n",
       " 'consider': [4.2294794719192776e-05, 0.0001273919159213355],\n",
       " 'following': [7.250536237575904e-05, 5.8387961463945435e-05],\n",
       " 'release': [3.0210567656566267e-05, 3.7155975477056186e-05],\n",
       " 'haven': [0.00015709495181414457, 0.00015393189840494706],\n",
       " 'understand': [0.0002356424277212169, 0.00022824384935905942],\n",
       " 'released': [4.2294794719192776e-05, 4.24639719737785e-05],\n",
       " 'wouldn': [0.00011480015709495182, 0.0005361076461689535],\n",
       " 'hesitate': [4.8336908250506027e-05, 1.0615992993444625e-05],\n",
       " 'buy': [0.0006404640343192049, 0.002176278563656148],\n",
       " 'slipped': [1.812634059393976e-05, 1.5923989490166937e-05],\n",
       " 'fact': [0.00022960031418990364, 0.0003025558003131718],\n",
       " 'library': [4.8336908250506027e-05, 0.0004034077337508957],\n",
       " 'case': [0.0004108637201293012, 0.000493643674195175],\n",
       " 'went': [0.0002718951089090964, 0.0006422675761033998],\n",
       " 'labeling': [6.042113531313253e-06, 1.5923989490166937e-05],\n",
       " 'off': [0.0005619165584121326, 0.0015021630085724144],\n",
       " 'stickers': [1.2084227062626507e-05, 1.5923989490166937e-05],\n",
       " 'theme': [0.00013292649768889157, 2.653998248361156e-05],\n",
       " 'extremely': [0.00016313706534545785, 0.0002760158178295602],\n",
       " 'nature': [4.8336908250506027e-05, 3.7155975477056186e-05],\n",
       " 'behavior': [2.4168454125253013e-05, 3.7155975477056186e-05],\n",
       " 'sickening': [6.042113531313253e-06, 1.0615992993444625e-05],\n",
       " 'understood': [3.0210567656566267e-05, 2.653998248361156e-05],\n",
       " 'why': [0.0002718951089090964, 0.0006104195971230659],\n",
       " 'cruel': [1.812634059393976e-05, 2.653998248361156e-05],\n",
       " 'disagree': [3.0210567656566267e-05, 1.0615992993444625e-05],\n",
       " ...}"
      ]
     },
     "metadata": {},
     "execution_count": 16
    }
   ],
   "source": [
    "prior_knowledge"
   ]
  },
  {
   "cell_type": "code",
   "execution_count": 1,
   "metadata": {},
   "outputs": [
    {
     "output_type": "stream",
     "name": "stdout",
     "text": [
      "Pre-model is built\n",
      "Target-model is built\n",
      "Retraining start...\n",
      "0.16800000000000004\n",
      "0.16649999999999998\n",
      "0.16549999999999998\n",
      "0.16500000000000004\n",
      "0.16449999999999998\n",
      "0.16549999999999998\n",
      "0.16549999999999998\n",
      "Retraining end...\n",
      "Pre-model is built\n",
      "Target-model is built\n",
      "Retraining start...\n",
      "0.33199999999999996\n",
      "0.33599999999999997\n",
      "0.33299999999999996\n",
      "0.3335\n",
      "0.33299999999999996\n",
      "0.3315\n",
      "0.33199999999999996\n",
      "0.33299999999999996\n",
      "0.33299999999999996\n",
      "Retraining end...\n",
      "Pre-model is built\n",
      "Target-model is built\n",
      "Retraining start...\n",
      "0.24450000000000005\n",
      "0.244\n",
      "0.23299999999999998\n",
      "0.23050000000000004\n",
      "0.23050000000000004\n",
      "0.22899999999999998\n",
      "0.22899999999999998\n",
      "Retraining end...\n",
      "Pre-model is built\n",
      "Target-model is built\n",
      "Retraining start...\n",
      "0.29100000000000004\n",
      "0.29100000000000004\n",
      "0.29700000000000004\n",
      "0.29600000000000004\n",
      "0.29500000000000004\n"
     ]
    },
    {
     "output_type": "error",
     "ename": "KeyboardInterrupt",
     "evalue": "",
     "traceback": [
      "\u001b[1;31m---------------------------------------------------------------------------\u001b[0m",
      "\u001b[1;31mKeyboardInterrupt\u001b[0m                         Traceback (most recent call last)",
      "\u001b[1;32m<ipython-input-1-a67a0fbab23b>\u001b[0m in \u001b[0;36m<module>\u001b[1;34m\u001b[0m\n\u001b[0;32m      3\u001b[0m \u001b[0merror_rate_list2\u001b[0m \u001b[1;33m=\u001b[0m \u001b[0mNB_relevant_NB_retraining_v3_progress\u001b[0m\u001b[1;33m(\u001b[0m\u001b[1;34m'Video_Games.json.gz'\u001b[0m\u001b[1;33m,\u001b[0m \u001b[1;36m5000\u001b[0m\u001b[1;33m,\u001b[0m \u001b[1;36m0\u001b[0m\u001b[1;33m,\u001b[0m \u001b[1;34m'Toys_and_Games.json.gz'\u001b[0m\u001b[1;33m,\u001b[0m \u001b[1;36m1000\u001b[0m\u001b[1;33m,\u001b[0m \u001b[1;36m2000\u001b[0m\u001b[1;33m)\u001b[0m\u001b[1;33m\u001b[0m\u001b[1;33m\u001b[0m\u001b[0m\n\u001b[0;32m      4\u001b[0m \u001b[0merror_rate_list3\u001b[0m \u001b[1;33m=\u001b[0m \u001b[0mNB_relevant_NB_retraining_v3_progress\u001b[0m\u001b[1;33m(\u001b[0m\u001b[1;34m'Electronics.json.gz'\u001b[0m\u001b[1;33m,\u001b[0m \u001b[1;36m5000\u001b[0m\u001b[1;33m,\u001b[0m \u001b[1;36m0\u001b[0m\u001b[1;33m,\u001b[0m \u001b[1;34m'Cell_Phones_and_Accessories.json.gz'\u001b[0m\u001b[1;33m,\u001b[0m \u001b[1;36m1000\u001b[0m\u001b[1;33m,\u001b[0m \u001b[1;36m2000\u001b[0m\u001b[1;33m)\u001b[0m\u001b[1;33m\u001b[0m\u001b[1;33m\u001b[0m\u001b[0m\n\u001b[1;32m----> 5\u001b[1;33m \u001b[0merror_rate_list4\u001b[0m \u001b[1;33m=\u001b[0m \u001b[0mNB_relevant_NB_retraining_v3_progress\u001b[0m\u001b[1;33m(\u001b[0m\u001b[1;34m'Electronics.json.gz'\u001b[0m\u001b[1;33m,\u001b[0m \u001b[1;36m5000\u001b[0m\u001b[1;33m,\u001b[0m \u001b[1;36m0\u001b[0m\u001b[1;33m,\u001b[0m \u001b[1;34m'Toys_and_Games.json.gz'\u001b[0m\u001b[1;33m,\u001b[0m \u001b[1;36m1000\u001b[0m\u001b[1;33m,\u001b[0m \u001b[1;36m2000\u001b[0m\u001b[1;33m)\u001b[0m\u001b[1;33m\u001b[0m\u001b[1;33m\u001b[0m\u001b[0m\n\u001b[0m\u001b[0;32m      6\u001b[0m \u001b[0merror_rate_list5\u001b[0m \u001b[1;33m=\u001b[0m \u001b[0mNB_relevant_NB_retraining_v3_progress\u001b[0m\u001b[1;33m(\u001b[0m\u001b[1;34m'Electronics.json.gz'\u001b[0m\u001b[1;33m,\u001b[0m \u001b[1;36m5000\u001b[0m\u001b[1;33m,\u001b[0m \u001b[1;36m0\u001b[0m\u001b[1;33m,\u001b[0m \u001b[1;34m'Patio_Lawn_and_Garden.json.gz'\u001b[0m\u001b[1;33m,\u001b[0m \u001b[1;36m1000\u001b[0m\u001b[1;33m,\u001b[0m \u001b[1;36m2000\u001b[0m\u001b[1;33m)\u001b[0m\u001b[1;33m\u001b[0m\u001b[1;33m\u001b[0m\u001b[0m\n",
      "\u001b[1;32mc:\\Users\\rando\\OneDrive\\Working\\transfer learning\\NB_Relevance_amazon.py\u001b[0m in \u001b[0;36mNB_relevant_NB_retraining_v3_progress\u001b[1;34m(training_filename, training_size, testing_size, training_filename_transfer, training_size_transfer, testing_size_transfer)\u001b[0m\n\u001b[0;32m    615\u001b[0m             \u001b[0mprior_knowledge\u001b[0m\u001b[1;33m[\u001b[0m\u001b[0mword\u001b[0m\u001b[1;33m]\u001b[0m \u001b[1;33m=\u001b[0m \u001b[1;33m[\u001b[0m\u001b[0mprobX_Y1\u001b[0m \u001b[1;33m*\u001b[0m \u001b[1;36m0.9\u001b[0m\u001b[1;33m,\u001b[0m \u001b[0mprobX_Y0\u001b[0m \u001b[1;33m*\u001b[0m \u001b[1;36m0.9\u001b[0m\u001b[1;33m]\u001b[0m\u001b[1;33m\u001b[0m\u001b[1;33m\u001b[0m\u001b[0m\n\u001b[0;32m    616\u001b[0m         \u001b[1;32mif\u001b[0m \u001b[0mcount\u001b[0m \u001b[1;33m%\u001b[0m \u001b[1;36m2000\u001b[0m \u001b[1;33m==\u001b[0m \u001b[1;36m0\u001b[0m\u001b[1;33m:\u001b[0m\u001b[1;33m\u001b[0m\u001b[1;33m\u001b[0m\u001b[0m\n\u001b[1;32m--> 617\u001b[1;33m             \u001b[0maccuracy_relevant_transfer\u001b[0m \u001b[1;33m=\u001b[0m \u001b[0mcal_direct_accuracy\u001b[0m\u001b[1;33m(\u001b[0m\u001b[0mtesting_data_table_transfer\u001b[0m\u001b[1;33m,\u001b[0m \u001b[0my1_prob_transfer\u001b[0m\u001b[1;33m,\u001b[0m \u001b[0my0_prob_transfer\u001b[0m\u001b[1;33m,\u001b[0m \u001b[0mprior_knowledge\u001b[0m\u001b[1;33m)\u001b[0m\u001b[1;33m\u001b[0m\u001b[1;33m\u001b[0m\u001b[0m\n\u001b[0m\u001b[0;32m    618\u001b[0m             \u001b[0merror_rate_list\u001b[0m\u001b[1;33m.\u001b[0m\u001b[0mappend\u001b[0m\u001b[1;33m(\u001b[0m\u001b[1;36m1\u001b[0m\u001b[1;33m-\u001b[0m\u001b[0maccuracy_relevant_transfer\u001b[0m\u001b[1;33m)\u001b[0m\u001b[1;33m\u001b[0m\u001b[1;33m\u001b[0m\u001b[0m\n\u001b[0;32m    619\u001b[0m             \u001b[0mcount\u001b[0m \u001b[1;33m=\u001b[0m \u001b[1;36m0\u001b[0m\u001b[1;33m\u001b[0m\u001b[1;33m\u001b[0m\u001b[0m\n",
      "\u001b[1;32mc:\\Users\\rando\\OneDrive\\Working\\transfer learning\\NB_Relevance_amazon.py\u001b[0m in \u001b[0;36mcal_direct_accuracy\u001b[1;34m(testing_data_table_transfer, y1_prob, y0_prob, prior_knowledge)\u001b[0m\n\u001b[0;32m    128\u001b[0m             \u001b[1;32mif\u001b[0m \u001b[0mtesting_data_table_transfer\u001b[0m\u001b[1;33m[\u001b[0m\u001b[1;36m0\u001b[0m\u001b[1;33m]\u001b[0m\u001b[1;33m[\u001b[0m\u001b[0mj\u001b[0m\u001b[1;33m]\u001b[0m \u001b[1;32min\u001b[0m \u001b[0mprior_knowledge\u001b[0m\u001b[1;33m.\u001b[0m\u001b[0mkeys\u001b[0m\u001b[1;33m(\u001b[0m\u001b[1;33m)\u001b[0m\u001b[1;33m:\u001b[0m\u001b[1;33m\u001b[0m\u001b[1;33m\u001b[0m\u001b[0m\n\u001b[0;32m    129\u001b[0m                 \u001b[1;33m[\u001b[0m\u001b[0mprobX_Y1\u001b[0m\u001b[1;33m,\u001b[0m \u001b[0mprobX_Y0\u001b[0m\u001b[1;33m]\u001b[0m \u001b[1;33m=\u001b[0m \u001b[0mprior_knowledge\u001b[0m\u001b[1;33m[\u001b[0m\u001b[0mtesting_data_table_transfer\u001b[0m\u001b[1;33m[\u001b[0m\u001b[1;36m0\u001b[0m\u001b[1;33m]\u001b[0m\u001b[1;33m[\u001b[0m\u001b[0mj\u001b[0m\u001b[1;33m]\u001b[0m\u001b[1;33m]\u001b[0m\u001b[1;33m\u001b[0m\u001b[1;33m\u001b[0m\u001b[0m\n\u001b[1;32m--> 130\u001b[1;33m                 \u001b[0mprob_Y1\u001b[0m \u001b[1;33m+=\u001b[0m \u001b[0mnp\u001b[0m\u001b[1;33m.\u001b[0m\u001b[0mlog\u001b[0m\u001b[1;33m(\u001b[0m\u001b[0mprobX_Y1\u001b[0m\u001b[1;33m)\u001b[0m \u001b[1;33m*\u001b[0m \u001b[0mtesting_data_table_transfer\u001b[0m\u001b[1;33m[\u001b[0m\u001b[0mi\u001b[0m\u001b[1;33m]\u001b[0m\u001b[1;33m[\u001b[0m\u001b[0mj\u001b[0m\u001b[1;33m]\u001b[0m\u001b[1;33m\u001b[0m\u001b[1;33m\u001b[0m\u001b[0m\n\u001b[0m\u001b[0;32m    131\u001b[0m                 \u001b[0mprob_Y0\u001b[0m \u001b[1;33m+=\u001b[0m \u001b[0mnp\u001b[0m\u001b[1;33m.\u001b[0m\u001b[0mlog\u001b[0m\u001b[1;33m(\u001b[0m\u001b[0mprobX_Y0\u001b[0m\u001b[1;33m)\u001b[0m \u001b[1;33m*\u001b[0m \u001b[0mtesting_data_table_transfer\u001b[0m\u001b[1;33m[\u001b[0m\u001b[0mi\u001b[0m\u001b[1;33m]\u001b[0m\u001b[1;33m[\u001b[0m\u001b[0mj\u001b[0m\u001b[1;33m]\u001b[0m\u001b[1;33m\u001b[0m\u001b[1;33m\u001b[0m\u001b[0m\n\u001b[0;32m    132\u001b[0m         \u001b[0mpredicted_class_label\u001b[0m \u001b[1;33m=\u001b[0m \u001b[1;36m1\u001b[0m \u001b[1;32mif\u001b[0m \u001b[0mprob_Y1\u001b[0m \u001b[1;33m>=\u001b[0m \u001b[0mprob_Y0\u001b[0m \u001b[1;32melse\u001b[0m \u001b[1;36m0\u001b[0m\u001b[1;33m\u001b[0m\u001b[1;33m\u001b[0m\u001b[0m\n",
      "\u001b[1;31mKeyboardInterrupt\u001b[0m: "
     ]
    }
   ],
   "source": [
    "from NB_Relevance_amazon import NB_relevant_NB_retraining_v3_progress\n",
    "error_rate_list1 = NB_relevant_NB_retraining_v3_progress('Toys_and_Games.json.gz', 5000, 0, 'Patio_Lawn_and_Garden.json.gz', 1000, 2000)\n",
    "error_rate_list2 = NB_relevant_NB_retraining_v3_progress('Video_Games.json.gz', 5000, 0, 'Toys_and_Games.json.gz', 1000, 2000)\n",
    "error_rate_list3 = NB_relevant_NB_retraining_v3_progress('Electronics.json.gz', 5000, 0, 'Cell_Phones_and_Accessories.json.gz', 1000, 2000)\n",
    "error_rate_list4 = NB_relevant_NB_retraining_v3_progress('Electronics.json.gz', 5000, 0, 'Toys_and_Games.json.gz', 1000, 2000)\n",
    "error_rate_list5 = NB_relevant_NB_retraining_v3_progress('Electronics.json.gz', 5000, 0, 'Patio_Lawn_and_Garden.json.gz', 1000, 2000)"
   ]
  },
  {
   "cell_type": "code",
   "execution_count": null,
   "metadata": {},
   "outputs": [],
   "source": [
    "from matplotlib import pyplot as plt\n",
    "plt.plot(range(0, len(error_rate_list2)*2000, 2000), error_rate_list1, label='dataset pair 1')\n",
    "plt.plot(range(0, len(error_rate_list2)*2000, 2000), error_rate_list2, label='dataset pair 2')\n",
    "plt.plot(range(0, len(error_rate_list3)*2000, 2000), error_rate_list3, label='dataset pair 3')\n",
    "plt.plot(range(0, len(error_rate_list4)*2000, 2000), error_rate_list4, label='dataset pair 4')\n",
    "plt.plot(range(0, len(error_rate_list5)*2000, 2000), error_rate_list5, label='dataset pair 5')\n",
    "\n",
    "plt.title('Error Rate in Amazon dataset (Different distribution)')\n",
    "plt.xlabel('Fine tuning words')\n",
    "plt.ylabel('Error Rate')\n",
    "plt.legend()\n",
    "plt.show()"
   ]
  },
  {
   "cell_type": "code",
   "execution_count": null,
   "metadata": {},
   "outputs": [],
   "source": []
  }
 ]
}